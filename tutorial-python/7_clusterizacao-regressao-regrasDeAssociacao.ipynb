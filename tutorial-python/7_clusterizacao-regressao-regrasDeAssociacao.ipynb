{
 "cells": [
  {
   "cell_type": "code",
   "execution_count": 6,
   "metadata": {},
   "outputs": [],
   "source": [
    "# Biblioteca para ML \n",
    "import pycaret"
   ]
  },
  {
   "cell_type": "markdown",
   "metadata": {},
   "source": [
    "## Clusterização\n",
    "-----------------------------------------------------------"
   ]
  },
  {
   "cell_type": "code",
   "execution_count": 7,
   "metadata": {},
   "outputs": [
    {
     "data": {
      "text/html": [
       "<div>\n",
       "<style scoped>\n",
       "    .dataframe tbody tr th:only-of-type {\n",
       "        vertical-align: middle;\n",
       "    }\n",
       "\n",
       "    .dataframe tbody tr th {\n",
       "        vertical-align: top;\n",
       "    }\n",
       "\n",
       "    .dataframe thead th {\n",
       "        text-align: right;\n",
       "    }\n",
       "</style>\n",
       "<table border=\"1\" class=\"dataframe\">\n",
       "  <thead>\n",
       "    <tr style=\"text-align: right;\">\n",
       "      <th></th>\n",
       "      <th>Country Name</th>\n",
       "      <th>1995</th>\n",
       "      <th>1996</th>\n",
       "      <th>1997</th>\n",
       "      <th>1998</th>\n",
       "      <th>1999</th>\n",
       "      <th>2000</th>\n",
       "      <th>2001</th>\n",
       "      <th>2002</th>\n",
       "      <th>2003</th>\n",
       "      <th>...</th>\n",
       "      <th>2005</th>\n",
       "      <th>2006</th>\n",
       "      <th>2007</th>\n",
       "      <th>2008</th>\n",
       "      <th>2009</th>\n",
       "      <th>2010</th>\n",
       "      <th>2011</th>\n",
       "      <th>2012</th>\n",
       "      <th>2013</th>\n",
       "      <th>2014</th>\n",
       "    </tr>\n",
       "  </thead>\n",
       "  <tbody>\n",
       "    <tr>\n",
       "      <th>0</th>\n",
       "      <td>Arab World</td>\n",
       "      <td>2.004868</td>\n",
       "      <td>2.014602</td>\n",
       "      <td>2.071309</td>\n",
       "      <td>2.177712</td>\n",
       "      <td>2.331000</td>\n",
       "      <td>2.333596</td>\n",
       "      <td>2.588751</td>\n",
       "      <td>2.540238</td>\n",
       "      <td>2.450415</td>\n",
       "      <td>...</td>\n",
       "      <td>2.134281</td>\n",
       "      <td>2.133038</td>\n",
       "      <td>2.166872</td>\n",
       "      <td>2.101233</td>\n",
       "      <td>2.830067</td>\n",
       "      <td>2.489631</td>\n",
       "      <td>2.539570</td>\n",
       "      <td>2.711262</td>\n",
       "      <td>2.895427</td>\n",
       "      <td>3.073161</td>\n",
       "    </tr>\n",
       "    <tr>\n",
       "      <th>1</th>\n",
       "      <td>Caribbean small states</td>\n",
       "      <td>2.801518</td>\n",
       "      <td>2.856684</td>\n",
       "      <td>2.997157</td>\n",
       "      <td>2.989451</td>\n",
       "      <td>2.767858</td>\n",
       "      <td>2.826752</td>\n",
       "      <td>2.679969</td>\n",
       "      <td>2.888693</td>\n",
       "      <td>2.740593</td>\n",
       "      <td>...</td>\n",
       "      <td>2.629580</td>\n",
       "      <td>2.650900</td>\n",
       "      <td>2.790665</td>\n",
       "      <td>2.822913</td>\n",
       "      <td>3.408651</td>\n",
       "      <td>3.264064</td>\n",
       "      <td>3.087653</td>\n",
       "      <td>3.314303</td>\n",
       "      <td>3.318432</td>\n",
       "      <td>3.260012</td>\n",
       "    </tr>\n",
       "    <tr>\n",
       "      <th>2</th>\n",
       "      <td>Central Europe and the Baltics</td>\n",
       "      <td>4.678528</td>\n",
       "      <td>4.753209</td>\n",
       "      <td>4.604574</td>\n",
       "      <td>4.499988</td>\n",
       "      <td>4.679082</td>\n",
       "      <td>4.539711</td>\n",
       "      <td>4.666272</td>\n",
       "      <td>4.900196</td>\n",
       "      <td>5.100249</td>\n",
       "      <td>...</td>\n",
       "      <td>4.970861</td>\n",
       "      <td>4.841450</td>\n",
       "      <td>4.809057</td>\n",
       "      <td>5.054785</td>\n",
       "      <td>5.394921</td>\n",
       "      <td>5.284380</td>\n",
       "      <td>5.096212</td>\n",
       "      <td>5.041317</td>\n",
       "      <td>5.029266</td>\n",
       "      <td>5.017717</td>\n",
       "    </tr>\n",
       "    <tr>\n",
       "      <th>3</th>\n",
       "      <td>Early-demographic dividend</td>\n",
       "      <td>2.203164</td>\n",
       "      <td>2.156632</td>\n",
       "      <td>2.227311</td>\n",
       "      <td>2.364100</td>\n",
       "      <td>2.454394</td>\n",
       "      <td>2.450555</td>\n",
       "      <td>2.527081</td>\n",
       "      <td>2.347702</td>\n",
       "      <td>2.363263</td>\n",
       "      <td>...</td>\n",
       "      <td>2.337347</td>\n",
       "      <td>2.369884</td>\n",
       "      <td>2.385251</td>\n",
       "      <td>2.405126</td>\n",
       "      <td>2.701260</td>\n",
       "      <td>2.507131</td>\n",
       "      <td>2.495491</td>\n",
       "      <td>2.497340</td>\n",
       "      <td>2.586701</td>\n",
       "      <td>2.665603</td>\n",
       "    </tr>\n",
       "    <tr>\n",
       "      <th>4</th>\n",
       "      <td>East Asia &amp; Pacific</td>\n",
       "      <td>4.429090</td>\n",
       "      <td>4.203152</td>\n",
       "      <td>4.244351</td>\n",
       "      <td>4.453984</td>\n",
       "      <td>4.626920</td>\n",
       "      <td>4.688849</td>\n",
       "      <td>4.684790</td>\n",
       "      <td>4.613537</td>\n",
       "      <td>4.635098</td>\n",
       "      <td>...</td>\n",
       "      <td>4.566215</td>\n",
       "      <td>4.367146</td>\n",
       "      <td>4.297394</td>\n",
       "      <td>4.434848</td>\n",
       "      <td>4.865241</td>\n",
       "      <td>4.775817</td>\n",
       "      <td>4.871727</td>\n",
       "      <td>4.866869</td>\n",
       "      <td>4.643221</td>\n",
       "      <td>4.571448</td>\n",
       "    </tr>\n",
       "  </tbody>\n",
       "</table>\n",
       "<p>5 rows × 21 columns</p>\n",
       "</div>"
      ],
      "text/plain": [
       "                     Country Name      1995      1996      1997      1998  \\\n",
       "0                      Arab World  2.004868  2.014602  2.071309  2.177712   \n",
       "1          Caribbean small states  2.801518  2.856684  2.997157  2.989451   \n",
       "2  Central Europe and the Baltics  4.678528  4.753209  4.604574  4.499988   \n",
       "3      Early-demographic dividend  2.203164  2.156632  2.227311  2.364100   \n",
       "4             East Asia & Pacific  4.429090  4.203152  4.244351  4.453984   \n",
       "\n",
       "       1999      2000      2001      2002      2003  ...      2005      2006  \\\n",
       "0  2.331000  2.333596  2.588751  2.540238  2.450415  ...  2.134281  2.133038   \n",
       "1  2.767858  2.826752  2.679969  2.888693  2.740593  ...  2.629580  2.650900   \n",
       "2  4.679082  4.539711  4.666272  4.900196  5.100249  ...  4.970861  4.841450   \n",
       "3  2.454394  2.450555  2.527081  2.347702  2.363263  ...  2.337347  2.369884   \n",
       "4  4.626920  4.688849  4.684790  4.613537  4.635098  ...  4.566215  4.367146   \n",
       "\n",
       "       2007      2008      2009      2010      2011      2012      2013  \\\n",
       "0  2.166872  2.101233  2.830067  2.489631  2.539570  2.711262  2.895427   \n",
       "1  2.790665  2.822913  3.408651  3.264064  3.087653  3.314303  3.318432   \n",
       "2  4.809057  5.054785  5.394921  5.284380  5.096212  5.041317  5.029266   \n",
       "3  2.385251  2.405126  2.701260  2.507131  2.495491  2.497340  2.586701   \n",
       "4  4.297394  4.434848  4.865241  4.775817  4.871727  4.866869  4.643221   \n",
       "\n",
       "       2014  \n",
       "0  3.073161  \n",
       "1  3.260012  \n",
       "2  5.017717  \n",
       "3  2.665603  \n",
       "4  4.571448  \n",
       "\n",
       "[5 rows x 21 columns]"
      ]
     },
     "metadata": {},
     "output_type": "display_data"
    }
   ],
   "source": [
    "from pycaret.datasets import get_data\n",
    "\n",
    "# Baixa um ds de public_health do próprio pycaret\n",
    "data = get_data('public_health')"
   ]
  },
  {
   "cell_type": "code",
   "execution_count": 8,
   "metadata": {},
   "outputs": [
    {
     "data": {
      "text/html": [
       "<div>\n",
       "<style scoped>\n",
       "    .dataframe tbody tr th:only-of-type {\n",
       "        vertical-align: middle;\n",
       "    }\n",
       "\n",
       "    .dataframe tbody tr th {\n",
       "        vertical-align: top;\n",
       "    }\n",
       "\n",
       "    .dataframe thead th {\n",
       "        text-align: right;\n",
       "    }\n",
       "</style>\n",
       "<table border=\"1\" class=\"dataframe\">\n",
       "  <thead>\n",
       "    <tr style=\"text-align: right;\">\n",
       "      <th></th>\n",
       "      <th>1995</th>\n",
       "      <th>1996</th>\n",
       "      <th>1997</th>\n",
       "      <th>1998</th>\n",
       "      <th>1999</th>\n",
       "      <th>2000</th>\n",
       "      <th>2001</th>\n",
       "      <th>2002</th>\n",
       "      <th>2003</th>\n",
       "      <th>2004</th>\n",
       "      <th>2005</th>\n",
       "      <th>2006</th>\n",
       "      <th>2007</th>\n",
       "      <th>2008</th>\n",
       "      <th>2009</th>\n",
       "      <th>2010</th>\n",
       "      <th>2011</th>\n",
       "      <th>2012</th>\n",
       "      <th>2013</th>\n",
       "      <th>2014</th>\n",
       "    </tr>\n",
       "  </thead>\n",
       "  <tbody>\n",
       "    <tr>\n",
       "      <th>count</th>\n",
       "      <td>224.000000</td>\n",
       "      <td>224.000000</td>\n",
       "      <td>224.000000</td>\n",
       "      <td>224.000000</td>\n",
       "      <td>224.000000</td>\n",
       "      <td>224.000000</td>\n",
       "      <td>224.000000</td>\n",
       "      <td>224.000000</td>\n",
       "      <td>224.000000</td>\n",
       "      <td>224.000000</td>\n",
       "      <td>224.000000</td>\n",
       "      <td>224.000000</td>\n",
       "      <td>224.000000</td>\n",
       "      <td>224.000000</td>\n",
       "      <td>224.000000</td>\n",
       "      <td>224.000000</td>\n",
       "      <td>224.000000</td>\n",
       "      <td>224.000000</td>\n",
       "      <td>224.000000</td>\n",
       "      <td>224.000000</td>\n",
       "    </tr>\n",
       "    <tr>\n",
       "      <th>mean</th>\n",
       "      <td>3.366093</td>\n",
       "      <td>3.333223</td>\n",
       "      <td>3.354050</td>\n",
       "      <td>3.386629</td>\n",
       "      <td>3.394366</td>\n",
       "      <td>3.415675</td>\n",
       "      <td>3.513417</td>\n",
       "      <td>3.582596</td>\n",
       "      <td>3.681815</td>\n",
       "      <td>3.667701</td>\n",
       "      <td>3.732787</td>\n",
       "      <td>3.754352</td>\n",
       "      <td>3.767873</td>\n",
       "      <td>3.840537</td>\n",
       "      <td>4.159877</td>\n",
       "      <td>4.101972</td>\n",
       "      <td>4.052971</td>\n",
       "      <td>4.072532</td>\n",
       "      <td>4.150511</td>\n",
       "      <td>4.183353</td>\n",
       "    </tr>\n",
       "    <tr>\n",
       "      <th>std</th>\n",
       "      <td>2.529899</td>\n",
       "      <td>2.155386</td>\n",
       "      <td>2.099006</td>\n",
       "      <td>2.030651</td>\n",
       "      <td>2.062486</td>\n",
       "      <td>2.291148</td>\n",
       "      <td>2.284428</td>\n",
       "      <td>2.269874</td>\n",
       "      <td>2.463742</td>\n",
       "      <td>2.313592</td>\n",
       "      <td>2.431560</td>\n",
       "      <td>2.472647</td>\n",
       "      <td>2.567857</td>\n",
       "      <td>2.502536</td>\n",
       "      <td>2.476281</td>\n",
       "      <td>2.475519</td>\n",
       "      <td>2.476871</td>\n",
       "      <td>2.372375</td>\n",
       "      <td>2.473319</td>\n",
       "      <td>2.497428</td>\n",
       "    </tr>\n",
       "    <tr>\n",
       "      <th>min</th>\n",
       "      <td>0.151470</td>\n",
       "      <td>0.113020</td>\n",
       "      <td>0.204868</td>\n",
       "      <td>0.168293</td>\n",
       "      <td>0.170964</td>\n",
       "      <td>0.044704</td>\n",
       "      <td>0.144180</td>\n",
       "      <td>0.160080</td>\n",
       "      <td>0.243335</td>\n",
       "      <td>0.266962</td>\n",
       "      <td>0.164974</td>\n",
       "      <td>0.256312</td>\n",
       "      <td>0.198195</td>\n",
       "      <td>0.207555</td>\n",
       "      <td>0.232554</td>\n",
       "      <td>0.299252</td>\n",
       "      <td>0.297625</td>\n",
       "      <td>0.792246</td>\n",
       "      <td>0.810324</td>\n",
       "      <td>0.786533</td>\n",
       "    </tr>\n",
       "    <tr>\n",
       "      <th>25%</th>\n",
       "      <td>1.776006</td>\n",
       "      <td>1.760224</td>\n",
       "      <td>1.893248</td>\n",
       "      <td>1.950959</td>\n",
       "      <td>1.908917</td>\n",
       "      <td>1.907166</td>\n",
       "      <td>2.029429</td>\n",
       "      <td>2.066975</td>\n",
       "      <td>2.115813</td>\n",
       "      <td>2.233702</td>\n",
       "      <td>2.133298</td>\n",
       "      <td>2.168538</td>\n",
       "      <td>2.128252</td>\n",
       "      <td>2.160195</td>\n",
       "      <td>2.419389</td>\n",
       "      <td>2.472278</td>\n",
       "      <td>2.484720</td>\n",
       "      <td>2.399955</td>\n",
       "      <td>2.443901</td>\n",
       "      <td>2.405443</td>\n",
       "    </tr>\n",
       "    <tr>\n",
       "      <th>50%</th>\n",
       "      <td>2.748095</td>\n",
       "      <td>2.741761</td>\n",
       "      <td>2.848783</td>\n",
       "      <td>2.934248</td>\n",
       "      <td>2.907300</td>\n",
       "      <td>2.897654</td>\n",
       "      <td>2.922715</td>\n",
       "      <td>2.960852</td>\n",
       "      <td>2.966316</td>\n",
       "      <td>2.998432</td>\n",
       "      <td>3.001069</td>\n",
       "      <td>3.155371</td>\n",
       "      <td>3.069324</td>\n",
       "      <td>3.111428</td>\n",
       "      <td>3.438377</td>\n",
       "      <td>3.446951</td>\n",
       "      <td>3.334200</td>\n",
       "      <td>3.380712</td>\n",
       "      <td>3.498170</td>\n",
       "      <td>3.578261</td>\n",
       "    </tr>\n",
       "    <tr>\n",
       "      <th>75%</th>\n",
       "      <td>4.494899</td>\n",
       "      <td>4.647893</td>\n",
       "      <td>4.825100</td>\n",
       "      <td>4.595718</td>\n",
       "      <td>4.608066</td>\n",
       "      <td>4.545336</td>\n",
       "      <td>4.686224</td>\n",
       "      <td>4.796802</td>\n",
       "      <td>4.874136</td>\n",
       "      <td>4.909960</td>\n",
       "      <td>4.983831</td>\n",
       "      <td>4.850275</td>\n",
       "      <td>4.705052</td>\n",
       "      <td>5.191627</td>\n",
       "      <td>5.363238</td>\n",
       "      <td>5.276172</td>\n",
       "      <td>5.154147</td>\n",
       "      <td>5.263542</td>\n",
       "      <td>5.230649</td>\n",
       "      <td>5.317276</td>\n",
       "    </tr>\n",
       "    <tr>\n",
       "      <th>max</th>\n",
       "      <td>28.049785</td>\n",
       "      <td>16.678893</td>\n",
       "      <td>17.168133</td>\n",
       "      <td>15.645230</td>\n",
       "      <td>15.427423</td>\n",
       "      <td>19.240433</td>\n",
       "      <td>17.269231</td>\n",
       "      <td>14.835146</td>\n",
       "      <td>21.654094</td>\n",
       "      <td>16.748972</td>\n",
       "      <td>18.234377</td>\n",
       "      <td>19.256752</td>\n",
       "      <td>18.102824</td>\n",
       "      <td>16.481699</td>\n",
       "      <td>16.028947</td>\n",
       "      <td>16.628571</td>\n",
       "      <td>16.842105</td>\n",
       "      <td>13.906522</td>\n",
       "      <td>16.475000</td>\n",
       "      <td>16.404762</td>\n",
       "    </tr>\n",
       "  </tbody>\n",
       "</table>\n",
       "</div>"
      ],
      "text/plain": [
       "             1995        1996        1997        1998        1999        2000  \\\n",
       "count  224.000000  224.000000  224.000000  224.000000  224.000000  224.000000   \n",
       "mean     3.366093    3.333223    3.354050    3.386629    3.394366    3.415675   \n",
       "std      2.529899    2.155386    2.099006    2.030651    2.062486    2.291148   \n",
       "min      0.151470    0.113020    0.204868    0.168293    0.170964    0.044704   \n",
       "25%      1.776006    1.760224    1.893248    1.950959    1.908917    1.907166   \n",
       "50%      2.748095    2.741761    2.848783    2.934248    2.907300    2.897654   \n",
       "75%      4.494899    4.647893    4.825100    4.595718    4.608066    4.545336   \n",
       "max     28.049785   16.678893   17.168133   15.645230   15.427423   19.240433   \n",
       "\n",
       "             2001        2002        2003        2004        2005        2006  \\\n",
       "count  224.000000  224.000000  224.000000  224.000000  224.000000  224.000000   \n",
       "mean     3.513417    3.582596    3.681815    3.667701    3.732787    3.754352   \n",
       "std      2.284428    2.269874    2.463742    2.313592    2.431560    2.472647   \n",
       "min      0.144180    0.160080    0.243335    0.266962    0.164974    0.256312   \n",
       "25%      2.029429    2.066975    2.115813    2.233702    2.133298    2.168538   \n",
       "50%      2.922715    2.960852    2.966316    2.998432    3.001069    3.155371   \n",
       "75%      4.686224    4.796802    4.874136    4.909960    4.983831    4.850275   \n",
       "max     17.269231   14.835146   21.654094   16.748972   18.234377   19.256752   \n",
       "\n",
       "             2007        2008        2009        2010        2011        2012  \\\n",
       "count  224.000000  224.000000  224.000000  224.000000  224.000000  224.000000   \n",
       "mean     3.767873    3.840537    4.159877    4.101972    4.052971    4.072532   \n",
       "std      2.567857    2.502536    2.476281    2.475519    2.476871    2.372375   \n",
       "min      0.198195    0.207555    0.232554    0.299252    0.297625    0.792246   \n",
       "25%      2.128252    2.160195    2.419389    2.472278    2.484720    2.399955   \n",
       "50%      3.069324    3.111428    3.438377    3.446951    3.334200    3.380712   \n",
       "75%      4.705052    5.191627    5.363238    5.276172    5.154147    5.263542   \n",
       "max     18.102824   16.481699   16.028947   16.628571   16.842105   13.906522   \n",
       "\n",
       "             2013        2014  \n",
       "count  224.000000  224.000000  \n",
       "mean     4.150511    4.183353  \n",
       "std      2.473319    2.497428  \n",
       "min      0.810324    0.786533  \n",
       "25%      2.443901    2.405443  \n",
       "50%      3.498170    3.578261  \n",
       "75%      5.230649    5.317276  \n",
       "max     16.475000   16.404762  "
      ]
     },
     "execution_count": 8,
     "metadata": {},
     "output_type": "execute_result"
    }
   ],
   "source": [
    "data.describe()"
   ]
  },
  {
   "cell_type": "code",
   "execution_count": 9,
   "metadata": {},
   "outputs": [
    {
     "data": {
      "text/plain": [
       "Index(['Country Name', '1995', '1996', '1997', '1998', '1999', '2000', '2001',\n",
       "       '2002', '2003', '2004', '2005', '2006', '2007', '2008', '2009', '2010',\n",
       "       '2011', '2012', '2013', '2014'],\n",
       "      dtype='object')"
      ]
     },
     "execution_count": 9,
     "metadata": {},
     "output_type": "execute_result"
    }
   ],
   "source": [
    "data.columns"
   ]
  },
  {
   "cell_type": "markdown",
   "metadata": {},
   "source": [
    "### Iniciando setup do pycaret para clusterização\n",
    "##### Vamos utilizar a clusterização para identificar os países que estão próximo (características similares) nos anos anotados\n",
    "- Casos não supervisionados\n",
    "- Não possuem target"
   ]
  },
  {
   "cell_type": "code",
   "execution_count": 10,
   "metadata": {},
   "outputs": [
    {
     "data": {
      "text/html": [
       "<style  type=\"text/css\" >\n",
       "#T_dabf3539_74a2_11eb_a4e5_5cc9d3aa8974row11_col1{\n",
       "            background-color:  lightgreen;\n",
       "        }</style><table id=\"T_dabf3539_74a2_11eb_a4e5_5cc9d3aa8974\" ><thead>    <tr>        <th class=\"blank level0\" ></th>        <th class=\"col_heading level0 col0\" >Description</th>        <th class=\"col_heading level0 col1\" >Value</th>    </tr></thead><tbody>\n",
       "                <tr>\n",
       "                        <th id=\"T_dabf3539_74a2_11eb_a4e5_5cc9d3aa8974level0_row0\" class=\"row_heading level0 row0\" >0</th>\n",
       "                        <td id=\"T_dabf3539_74a2_11eb_a4e5_5cc9d3aa8974row0_col0\" class=\"data row0 col0\" >session_id</td>\n",
       "                        <td id=\"T_dabf3539_74a2_11eb_a4e5_5cc9d3aa8974row0_col1\" class=\"data row0 col1\" >123</td>\n",
       "            </tr>\n",
       "            <tr>\n",
       "                        <th id=\"T_dabf3539_74a2_11eb_a4e5_5cc9d3aa8974level0_row1\" class=\"row_heading level0 row1\" >1</th>\n",
       "                        <td id=\"T_dabf3539_74a2_11eb_a4e5_5cc9d3aa8974row1_col0\" class=\"data row1 col0\" >Original Data</td>\n",
       "                        <td id=\"T_dabf3539_74a2_11eb_a4e5_5cc9d3aa8974row1_col1\" class=\"data row1 col1\" >(224, 21)</td>\n",
       "            </tr>\n",
       "            <tr>\n",
       "                        <th id=\"T_dabf3539_74a2_11eb_a4e5_5cc9d3aa8974level0_row2\" class=\"row_heading level0 row2\" >2</th>\n",
       "                        <td id=\"T_dabf3539_74a2_11eb_a4e5_5cc9d3aa8974row2_col0\" class=\"data row2 col0\" >Missing Values</td>\n",
       "                        <td id=\"T_dabf3539_74a2_11eb_a4e5_5cc9d3aa8974row2_col1\" class=\"data row2 col1\" >False</td>\n",
       "            </tr>\n",
       "            <tr>\n",
       "                        <th id=\"T_dabf3539_74a2_11eb_a4e5_5cc9d3aa8974level0_row3\" class=\"row_heading level0 row3\" >3</th>\n",
       "                        <td id=\"T_dabf3539_74a2_11eb_a4e5_5cc9d3aa8974row3_col0\" class=\"data row3 col0\" >Numeric Features</td>\n",
       "                        <td id=\"T_dabf3539_74a2_11eb_a4e5_5cc9d3aa8974row3_col1\" class=\"data row3 col1\" >20</td>\n",
       "            </tr>\n",
       "            <tr>\n",
       "                        <th id=\"T_dabf3539_74a2_11eb_a4e5_5cc9d3aa8974level0_row4\" class=\"row_heading level0 row4\" >4</th>\n",
       "                        <td id=\"T_dabf3539_74a2_11eb_a4e5_5cc9d3aa8974row4_col0\" class=\"data row4 col0\" >Categorical Features</td>\n",
       "                        <td id=\"T_dabf3539_74a2_11eb_a4e5_5cc9d3aa8974row4_col1\" class=\"data row4 col1\" >0</td>\n",
       "            </tr>\n",
       "            <tr>\n",
       "                        <th id=\"T_dabf3539_74a2_11eb_a4e5_5cc9d3aa8974level0_row5\" class=\"row_heading level0 row5\" >5</th>\n",
       "                        <td id=\"T_dabf3539_74a2_11eb_a4e5_5cc9d3aa8974row5_col0\" class=\"data row5 col0\" >Ordinal Features</td>\n",
       "                        <td id=\"T_dabf3539_74a2_11eb_a4e5_5cc9d3aa8974row5_col1\" class=\"data row5 col1\" >False</td>\n",
       "            </tr>\n",
       "            <tr>\n",
       "                        <th id=\"T_dabf3539_74a2_11eb_a4e5_5cc9d3aa8974level0_row6\" class=\"row_heading level0 row6\" >6</th>\n",
       "                        <td id=\"T_dabf3539_74a2_11eb_a4e5_5cc9d3aa8974row6_col0\" class=\"data row6 col0\" >High Cardinality Features</td>\n",
       "                        <td id=\"T_dabf3539_74a2_11eb_a4e5_5cc9d3aa8974row6_col1\" class=\"data row6 col1\" >False</td>\n",
       "            </tr>\n",
       "            <tr>\n",
       "                        <th id=\"T_dabf3539_74a2_11eb_a4e5_5cc9d3aa8974level0_row7\" class=\"row_heading level0 row7\" >7</th>\n",
       "                        <td id=\"T_dabf3539_74a2_11eb_a4e5_5cc9d3aa8974row7_col0\" class=\"data row7 col0\" >High Cardinality Method</td>\n",
       "                        <td id=\"T_dabf3539_74a2_11eb_a4e5_5cc9d3aa8974row7_col1\" class=\"data row7 col1\" >None</td>\n",
       "            </tr>\n",
       "            <tr>\n",
       "                        <th id=\"T_dabf3539_74a2_11eb_a4e5_5cc9d3aa8974level0_row8\" class=\"row_heading level0 row8\" >8</th>\n",
       "                        <td id=\"T_dabf3539_74a2_11eb_a4e5_5cc9d3aa8974row8_col0\" class=\"data row8 col0\" >Transformed Data</td>\n",
       "                        <td id=\"T_dabf3539_74a2_11eb_a4e5_5cc9d3aa8974row8_col1\" class=\"data row8 col1\" >(224, 20)</td>\n",
       "            </tr>\n",
       "            <tr>\n",
       "                        <th id=\"T_dabf3539_74a2_11eb_a4e5_5cc9d3aa8974level0_row9\" class=\"row_heading level0 row9\" >9</th>\n",
       "                        <td id=\"T_dabf3539_74a2_11eb_a4e5_5cc9d3aa8974row9_col0\" class=\"data row9 col0\" >CPU Jobs</td>\n",
       "                        <td id=\"T_dabf3539_74a2_11eb_a4e5_5cc9d3aa8974row9_col1\" class=\"data row9 col1\" >-1</td>\n",
       "            </tr>\n",
       "            <tr>\n",
       "                        <th id=\"T_dabf3539_74a2_11eb_a4e5_5cc9d3aa8974level0_row10\" class=\"row_heading level0 row10\" >10</th>\n",
       "                        <td id=\"T_dabf3539_74a2_11eb_a4e5_5cc9d3aa8974row10_col0\" class=\"data row10 col0\" >Use GPU</td>\n",
       "                        <td id=\"T_dabf3539_74a2_11eb_a4e5_5cc9d3aa8974row10_col1\" class=\"data row10 col1\" >False</td>\n",
       "            </tr>\n",
       "            <tr>\n",
       "                        <th id=\"T_dabf3539_74a2_11eb_a4e5_5cc9d3aa8974level0_row11\" class=\"row_heading level0 row11\" >11</th>\n",
       "                        <td id=\"T_dabf3539_74a2_11eb_a4e5_5cc9d3aa8974row11_col0\" class=\"data row11 col0\" >Log Experiment</td>\n",
       "                        <td id=\"T_dabf3539_74a2_11eb_a4e5_5cc9d3aa8974row11_col1\" class=\"data row11 col1\" >True</td>\n",
       "            </tr>\n",
       "            <tr>\n",
       "                        <th id=\"T_dabf3539_74a2_11eb_a4e5_5cc9d3aa8974level0_row12\" class=\"row_heading level0 row12\" >12</th>\n",
       "                        <td id=\"T_dabf3539_74a2_11eb_a4e5_5cc9d3aa8974row12_col0\" class=\"data row12 col0\" >Experiment Name</td>\n",
       "                        <td id=\"T_dabf3539_74a2_11eb_a4e5_5cc9d3aa8974row12_col1\" class=\"data row12 col1\" >helath1</td>\n",
       "            </tr>\n",
       "            <tr>\n",
       "                        <th id=\"T_dabf3539_74a2_11eb_a4e5_5cc9d3aa8974level0_row13\" class=\"row_heading level0 row13\" >13</th>\n",
       "                        <td id=\"T_dabf3539_74a2_11eb_a4e5_5cc9d3aa8974row13_col0\" class=\"data row13 col0\" >USI</td>\n",
       "                        <td id=\"T_dabf3539_74a2_11eb_a4e5_5cc9d3aa8974row13_col1\" class=\"data row13 col1\" >a4f7</td>\n",
       "            </tr>\n",
       "            <tr>\n",
       "                        <th id=\"T_dabf3539_74a2_11eb_a4e5_5cc9d3aa8974level0_row14\" class=\"row_heading level0 row14\" >14</th>\n",
       "                        <td id=\"T_dabf3539_74a2_11eb_a4e5_5cc9d3aa8974row14_col0\" class=\"data row14 col0\" >Imputation Type</td>\n",
       "                        <td id=\"T_dabf3539_74a2_11eb_a4e5_5cc9d3aa8974row14_col1\" class=\"data row14 col1\" >simple</td>\n",
       "            </tr>\n",
       "            <tr>\n",
       "                        <th id=\"T_dabf3539_74a2_11eb_a4e5_5cc9d3aa8974level0_row15\" class=\"row_heading level0 row15\" >15</th>\n",
       "                        <td id=\"T_dabf3539_74a2_11eb_a4e5_5cc9d3aa8974row15_col0\" class=\"data row15 col0\" >Iterative Imputation Iteration</td>\n",
       "                        <td id=\"T_dabf3539_74a2_11eb_a4e5_5cc9d3aa8974row15_col1\" class=\"data row15 col1\" >None</td>\n",
       "            </tr>\n",
       "            <tr>\n",
       "                        <th id=\"T_dabf3539_74a2_11eb_a4e5_5cc9d3aa8974level0_row16\" class=\"row_heading level0 row16\" >16</th>\n",
       "                        <td id=\"T_dabf3539_74a2_11eb_a4e5_5cc9d3aa8974row16_col0\" class=\"data row16 col0\" >Numeric Imputer</td>\n",
       "                        <td id=\"T_dabf3539_74a2_11eb_a4e5_5cc9d3aa8974row16_col1\" class=\"data row16 col1\" >mean</td>\n",
       "            </tr>\n",
       "            <tr>\n",
       "                        <th id=\"T_dabf3539_74a2_11eb_a4e5_5cc9d3aa8974level0_row17\" class=\"row_heading level0 row17\" >17</th>\n",
       "                        <td id=\"T_dabf3539_74a2_11eb_a4e5_5cc9d3aa8974row17_col0\" class=\"data row17 col0\" >Iterative Imputation Numeric Model</td>\n",
       "                        <td id=\"T_dabf3539_74a2_11eb_a4e5_5cc9d3aa8974row17_col1\" class=\"data row17 col1\" >None</td>\n",
       "            </tr>\n",
       "            <tr>\n",
       "                        <th id=\"T_dabf3539_74a2_11eb_a4e5_5cc9d3aa8974level0_row18\" class=\"row_heading level0 row18\" >18</th>\n",
       "                        <td id=\"T_dabf3539_74a2_11eb_a4e5_5cc9d3aa8974row18_col0\" class=\"data row18 col0\" >Categorical Imputer</td>\n",
       "                        <td id=\"T_dabf3539_74a2_11eb_a4e5_5cc9d3aa8974row18_col1\" class=\"data row18 col1\" >mode</td>\n",
       "            </tr>\n",
       "            <tr>\n",
       "                        <th id=\"T_dabf3539_74a2_11eb_a4e5_5cc9d3aa8974level0_row19\" class=\"row_heading level0 row19\" >19</th>\n",
       "                        <td id=\"T_dabf3539_74a2_11eb_a4e5_5cc9d3aa8974row19_col0\" class=\"data row19 col0\" >Iterative Imputation Categorical Model</td>\n",
       "                        <td id=\"T_dabf3539_74a2_11eb_a4e5_5cc9d3aa8974row19_col1\" class=\"data row19 col1\" >None</td>\n",
       "            </tr>\n",
       "            <tr>\n",
       "                        <th id=\"T_dabf3539_74a2_11eb_a4e5_5cc9d3aa8974level0_row20\" class=\"row_heading level0 row20\" >20</th>\n",
       "                        <td id=\"T_dabf3539_74a2_11eb_a4e5_5cc9d3aa8974row20_col0\" class=\"data row20 col0\" >Unknown Categoricals Handling</td>\n",
       "                        <td id=\"T_dabf3539_74a2_11eb_a4e5_5cc9d3aa8974row20_col1\" class=\"data row20 col1\" >least_frequent</td>\n",
       "            </tr>\n",
       "            <tr>\n",
       "                        <th id=\"T_dabf3539_74a2_11eb_a4e5_5cc9d3aa8974level0_row21\" class=\"row_heading level0 row21\" >21</th>\n",
       "                        <td id=\"T_dabf3539_74a2_11eb_a4e5_5cc9d3aa8974row21_col0\" class=\"data row21 col0\" >Normalize</td>\n",
       "                        <td id=\"T_dabf3539_74a2_11eb_a4e5_5cc9d3aa8974row21_col1\" class=\"data row21 col1\" >False</td>\n",
       "            </tr>\n",
       "            <tr>\n",
       "                        <th id=\"T_dabf3539_74a2_11eb_a4e5_5cc9d3aa8974level0_row22\" class=\"row_heading level0 row22\" >22</th>\n",
       "                        <td id=\"T_dabf3539_74a2_11eb_a4e5_5cc9d3aa8974row22_col0\" class=\"data row22 col0\" >Normalize Method</td>\n",
       "                        <td id=\"T_dabf3539_74a2_11eb_a4e5_5cc9d3aa8974row22_col1\" class=\"data row22 col1\" >None</td>\n",
       "            </tr>\n",
       "            <tr>\n",
       "                        <th id=\"T_dabf3539_74a2_11eb_a4e5_5cc9d3aa8974level0_row23\" class=\"row_heading level0 row23\" >23</th>\n",
       "                        <td id=\"T_dabf3539_74a2_11eb_a4e5_5cc9d3aa8974row23_col0\" class=\"data row23 col0\" >Transformation</td>\n",
       "                        <td id=\"T_dabf3539_74a2_11eb_a4e5_5cc9d3aa8974row23_col1\" class=\"data row23 col1\" >False</td>\n",
       "            </tr>\n",
       "            <tr>\n",
       "                        <th id=\"T_dabf3539_74a2_11eb_a4e5_5cc9d3aa8974level0_row24\" class=\"row_heading level0 row24\" >24</th>\n",
       "                        <td id=\"T_dabf3539_74a2_11eb_a4e5_5cc9d3aa8974row24_col0\" class=\"data row24 col0\" >Transformation Method</td>\n",
       "                        <td id=\"T_dabf3539_74a2_11eb_a4e5_5cc9d3aa8974row24_col1\" class=\"data row24 col1\" >None</td>\n",
       "            </tr>\n",
       "            <tr>\n",
       "                        <th id=\"T_dabf3539_74a2_11eb_a4e5_5cc9d3aa8974level0_row25\" class=\"row_heading level0 row25\" >25</th>\n",
       "                        <td id=\"T_dabf3539_74a2_11eb_a4e5_5cc9d3aa8974row25_col0\" class=\"data row25 col0\" >PCA</td>\n",
       "                        <td id=\"T_dabf3539_74a2_11eb_a4e5_5cc9d3aa8974row25_col1\" class=\"data row25 col1\" >False</td>\n",
       "            </tr>\n",
       "            <tr>\n",
       "                        <th id=\"T_dabf3539_74a2_11eb_a4e5_5cc9d3aa8974level0_row26\" class=\"row_heading level0 row26\" >26</th>\n",
       "                        <td id=\"T_dabf3539_74a2_11eb_a4e5_5cc9d3aa8974row26_col0\" class=\"data row26 col0\" >PCA Method</td>\n",
       "                        <td id=\"T_dabf3539_74a2_11eb_a4e5_5cc9d3aa8974row26_col1\" class=\"data row26 col1\" >None</td>\n",
       "            </tr>\n",
       "            <tr>\n",
       "                        <th id=\"T_dabf3539_74a2_11eb_a4e5_5cc9d3aa8974level0_row27\" class=\"row_heading level0 row27\" >27</th>\n",
       "                        <td id=\"T_dabf3539_74a2_11eb_a4e5_5cc9d3aa8974row27_col0\" class=\"data row27 col0\" >PCA Components</td>\n",
       "                        <td id=\"T_dabf3539_74a2_11eb_a4e5_5cc9d3aa8974row27_col1\" class=\"data row27 col1\" >None</td>\n",
       "            </tr>\n",
       "            <tr>\n",
       "                        <th id=\"T_dabf3539_74a2_11eb_a4e5_5cc9d3aa8974level0_row28\" class=\"row_heading level0 row28\" >28</th>\n",
       "                        <td id=\"T_dabf3539_74a2_11eb_a4e5_5cc9d3aa8974row28_col0\" class=\"data row28 col0\" >Ignore Low Variance</td>\n",
       "                        <td id=\"T_dabf3539_74a2_11eb_a4e5_5cc9d3aa8974row28_col1\" class=\"data row28 col1\" >False</td>\n",
       "            </tr>\n",
       "            <tr>\n",
       "                        <th id=\"T_dabf3539_74a2_11eb_a4e5_5cc9d3aa8974level0_row29\" class=\"row_heading level0 row29\" >29</th>\n",
       "                        <td id=\"T_dabf3539_74a2_11eb_a4e5_5cc9d3aa8974row29_col0\" class=\"data row29 col0\" >Combine Rare Levels</td>\n",
       "                        <td id=\"T_dabf3539_74a2_11eb_a4e5_5cc9d3aa8974row29_col1\" class=\"data row29 col1\" >False</td>\n",
       "            </tr>\n",
       "            <tr>\n",
       "                        <th id=\"T_dabf3539_74a2_11eb_a4e5_5cc9d3aa8974level0_row30\" class=\"row_heading level0 row30\" >30</th>\n",
       "                        <td id=\"T_dabf3539_74a2_11eb_a4e5_5cc9d3aa8974row30_col0\" class=\"data row30 col0\" >Rare Level Threshold</td>\n",
       "                        <td id=\"T_dabf3539_74a2_11eb_a4e5_5cc9d3aa8974row30_col1\" class=\"data row30 col1\" >None</td>\n",
       "            </tr>\n",
       "            <tr>\n",
       "                        <th id=\"T_dabf3539_74a2_11eb_a4e5_5cc9d3aa8974level0_row31\" class=\"row_heading level0 row31\" >31</th>\n",
       "                        <td id=\"T_dabf3539_74a2_11eb_a4e5_5cc9d3aa8974row31_col0\" class=\"data row31 col0\" >Numeric Binning</td>\n",
       "                        <td id=\"T_dabf3539_74a2_11eb_a4e5_5cc9d3aa8974row31_col1\" class=\"data row31 col1\" >False</td>\n",
       "            </tr>\n",
       "            <tr>\n",
       "                        <th id=\"T_dabf3539_74a2_11eb_a4e5_5cc9d3aa8974level0_row32\" class=\"row_heading level0 row32\" >32</th>\n",
       "                        <td id=\"T_dabf3539_74a2_11eb_a4e5_5cc9d3aa8974row32_col0\" class=\"data row32 col0\" >Remove Outliers</td>\n",
       "                        <td id=\"T_dabf3539_74a2_11eb_a4e5_5cc9d3aa8974row32_col1\" class=\"data row32 col1\" >False</td>\n",
       "            </tr>\n",
       "            <tr>\n",
       "                        <th id=\"T_dabf3539_74a2_11eb_a4e5_5cc9d3aa8974level0_row33\" class=\"row_heading level0 row33\" >33</th>\n",
       "                        <td id=\"T_dabf3539_74a2_11eb_a4e5_5cc9d3aa8974row33_col0\" class=\"data row33 col0\" >Outliers Threshold</td>\n",
       "                        <td id=\"T_dabf3539_74a2_11eb_a4e5_5cc9d3aa8974row33_col1\" class=\"data row33 col1\" >None</td>\n",
       "            </tr>\n",
       "            <tr>\n",
       "                        <th id=\"T_dabf3539_74a2_11eb_a4e5_5cc9d3aa8974level0_row34\" class=\"row_heading level0 row34\" >34</th>\n",
       "                        <td id=\"T_dabf3539_74a2_11eb_a4e5_5cc9d3aa8974row34_col0\" class=\"data row34 col0\" >Remove Multicollinearity</td>\n",
       "                        <td id=\"T_dabf3539_74a2_11eb_a4e5_5cc9d3aa8974row34_col1\" class=\"data row34 col1\" >False</td>\n",
       "            </tr>\n",
       "            <tr>\n",
       "                        <th id=\"T_dabf3539_74a2_11eb_a4e5_5cc9d3aa8974level0_row35\" class=\"row_heading level0 row35\" >35</th>\n",
       "                        <td id=\"T_dabf3539_74a2_11eb_a4e5_5cc9d3aa8974row35_col0\" class=\"data row35 col0\" >Multicollinearity Threshold</td>\n",
       "                        <td id=\"T_dabf3539_74a2_11eb_a4e5_5cc9d3aa8974row35_col1\" class=\"data row35 col1\" >None</td>\n",
       "            </tr>\n",
       "            <tr>\n",
       "                        <th id=\"T_dabf3539_74a2_11eb_a4e5_5cc9d3aa8974level0_row36\" class=\"row_heading level0 row36\" >36</th>\n",
       "                        <td id=\"T_dabf3539_74a2_11eb_a4e5_5cc9d3aa8974row36_col0\" class=\"data row36 col0\" >Clustering</td>\n",
       "                        <td id=\"T_dabf3539_74a2_11eb_a4e5_5cc9d3aa8974row36_col1\" class=\"data row36 col1\" >False</td>\n",
       "            </tr>\n",
       "            <tr>\n",
       "                        <th id=\"T_dabf3539_74a2_11eb_a4e5_5cc9d3aa8974level0_row37\" class=\"row_heading level0 row37\" >37</th>\n",
       "                        <td id=\"T_dabf3539_74a2_11eb_a4e5_5cc9d3aa8974row37_col0\" class=\"data row37 col0\" >Clustering Iteration</td>\n",
       "                        <td id=\"T_dabf3539_74a2_11eb_a4e5_5cc9d3aa8974row37_col1\" class=\"data row37 col1\" >None</td>\n",
       "            </tr>\n",
       "            <tr>\n",
       "                        <th id=\"T_dabf3539_74a2_11eb_a4e5_5cc9d3aa8974level0_row38\" class=\"row_heading level0 row38\" >38</th>\n",
       "                        <td id=\"T_dabf3539_74a2_11eb_a4e5_5cc9d3aa8974row38_col0\" class=\"data row38 col0\" >Polynomial Features</td>\n",
       "                        <td id=\"T_dabf3539_74a2_11eb_a4e5_5cc9d3aa8974row38_col1\" class=\"data row38 col1\" >False</td>\n",
       "            </tr>\n",
       "            <tr>\n",
       "                        <th id=\"T_dabf3539_74a2_11eb_a4e5_5cc9d3aa8974level0_row39\" class=\"row_heading level0 row39\" >39</th>\n",
       "                        <td id=\"T_dabf3539_74a2_11eb_a4e5_5cc9d3aa8974row39_col0\" class=\"data row39 col0\" >Polynomial Degree</td>\n",
       "                        <td id=\"T_dabf3539_74a2_11eb_a4e5_5cc9d3aa8974row39_col1\" class=\"data row39 col1\" >None</td>\n",
       "            </tr>\n",
       "            <tr>\n",
       "                        <th id=\"T_dabf3539_74a2_11eb_a4e5_5cc9d3aa8974level0_row40\" class=\"row_heading level0 row40\" >40</th>\n",
       "                        <td id=\"T_dabf3539_74a2_11eb_a4e5_5cc9d3aa8974row40_col0\" class=\"data row40 col0\" >Trignometry Features</td>\n",
       "                        <td id=\"T_dabf3539_74a2_11eb_a4e5_5cc9d3aa8974row40_col1\" class=\"data row40 col1\" >False</td>\n",
       "            </tr>\n",
       "            <tr>\n",
       "                        <th id=\"T_dabf3539_74a2_11eb_a4e5_5cc9d3aa8974level0_row41\" class=\"row_heading level0 row41\" >41</th>\n",
       "                        <td id=\"T_dabf3539_74a2_11eb_a4e5_5cc9d3aa8974row41_col0\" class=\"data row41 col0\" >Polynomial Threshold</td>\n",
       "                        <td id=\"T_dabf3539_74a2_11eb_a4e5_5cc9d3aa8974row41_col1\" class=\"data row41 col1\" >None</td>\n",
       "            </tr>\n",
       "            <tr>\n",
       "                        <th id=\"T_dabf3539_74a2_11eb_a4e5_5cc9d3aa8974level0_row42\" class=\"row_heading level0 row42\" >42</th>\n",
       "                        <td id=\"T_dabf3539_74a2_11eb_a4e5_5cc9d3aa8974row42_col0\" class=\"data row42 col0\" >Group Features</td>\n",
       "                        <td id=\"T_dabf3539_74a2_11eb_a4e5_5cc9d3aa8974row42_col1\" class=\"data row42 col1\" >False</td>\n",
       "            </tr>\n",
       "            <tr>\n",
       "                        <th id=\"T_dabf3539_74a2_11eb_a4e5_5cc9d3aa8974level0_row43\" class=\"row_heading level0 row43\" >43</th>\n",
       "                        <td id=\"T_dabf3539_74a2_11eb_a4e5_5cc9d3aa8974row43_col0\" class=\"data row43 col0\" >Feature Selection</td>\n",
       "                        <td id=\"T_dabf3539_74a2_11eb_a4e5_5cc9d3aa8974row43_col1\" class=\"data row43 col1\" >False</td>\n",
       "            </tr>\n",
       "            <tr>\n",
       "                        <th id=\"T_dabf3539_74a2_11eb_a4e5_5cc9d3aa8974level0_row44\" class=\"row_heading level0 row44\" >44</th>\n",
       "                        <td id=\"T_dabf3539_74a2_11eb_a4e5_5cc9d3aa8974row44_col0\" class=\"data row44 col0\" >Feature Selection Method</td>\n",
       "                        <td id=\"T_dabf3539_74a2_11eb_a4e5_5cc9d3aa8974row44_col1\" class=\"data row44 col1\" >classic</td>\n",
       "            </tr>\n",
       "            <tr>\n",
       "                        <th id=\"T_dabf3539_74a2_11eb_a4e5_5cc9d3aa8974level0_row45\" class=\"row_heading level0 row45\" >45</th>\n",
       "                        <td id=\"T_dabf3539_74a2_11eb_a4e5_5cc9d3aa8974row45_col0\" class=\"data row45 col0\" >Features Selection Threshold</td>\n",
       "                        <td id=\"T_dabf3539_74a2_11eb_a4e5_5cc9d3aa8974row45_col1\" class=\"data row45 col1\" >None</td>\n",
       "            </tr>\n",
       "            <tr>\n",
       "                        <th id=\"T_dabf3539_74a2_11eb_a4e5_5cc9d3aa8974level0_row46\" class=\"row_heading level0 row46\" >46</th>\n",
       "                        <td id=\"T_dabf3539_74a2_11eb_a4e5_5cc9d3aa8974row46_col0\" class=\"data row46 col0\" >Feature Interaction</td>\n",
       "                        <td id=\"T_dabf3539_74a2_11eb_a4e5_5cc9d3aa8974row46_col1\" class=\"data row46 col1\" >False</td>\n",
       "            </tr>\n",
       "            <tr>\n",
       "                        <th id=\"T_dabf3539_74a2_11eb_a4e5_5cc9d3aa8974level0_row47\" class=\"row_heading level0 row47\" >47</th>\n",
       "                        <td id=\"T_dabf3539_74a2_11eb_a4e5_5cc9d3aa8974row47_col0\" class=\"data row47 col0\" >Feature Ratio</td>\n",
       "                        <td id=\"T_dabf3539_74a2_11eb_a4e5_5cc9d3aa8974row47_col1\" class=\"data row47 col1\" >False</td>\n",
       "            </tr>\n",
       "            <tr>\n",
       "                        <th id=\"T_dabf3539_74a2_11eb_a4e5_5cc9d3aa8974level0_row48\" class=\"row_heading level0 row48\" >48</th>\n",
       "                        <td id=\"T_dabf3539_74a2_11eb_a4e5_5cc9d3aa8974row48_col0\" class=\"data row48 col0\" >Interaction Threshold</td>\n",
       "                        <td id=\"T_dabf3539_74a2_11eb_a4e5_5cc9d3aa8974row48_col1\" class=\"data row48 col1\" >None</td>\n",
       "            </tr>\n",
       "    </tbody></table>"
      ],
      "text/plain": [
       "<pandas.io.formats.style.Styler at 0x1f4bd7fd250>"
      ]
     },
     "metadata": {},
     "output_type": "display_data"
    }
   ],
   "source": [
    "from pycaret.clustering import *\n",
    "\n",
    "# session_id: id da sessão\n",
    "# log_experiment: para armazenar em log as informações\n",
    "# log_plots: para armazenar em log os gráficos\n",
    "cluster1 = setup(data, ignore_features=['Country Name'], session_id=123, log_experiment=True, log_plots=True, experiment_name='helath1')"
   ]
  },
  {
   "cell_type": "code",
   "execution_count": 12,
   "metadata": {},
   "outputs": [
    {
     "data": {
      "text/html": [
       "<div>\n",
       "<style scoped>\n",
       "    .dataframe tbody tr th:only-of-type {\n",
       "        vertical-align: middle;\n",
       "    }\n",
       "\n",
       "    .dataframe tbody tr th {\n",
       "        vertical-align: top;\n",
       "    }\n",
       "\n",
       "    .dataframe thead th {\n",
       "        text-align: right;\n",
       "    }\n",
       "</style>\n",
       "<table border=\"1\" class=\"dataframe\">\n",
       "  <thead>\n",
       "    <tr style=\"text-align: right;\">\n",
       "      <th></th>\n",
       "      <th>Name</th>\n",
       "      <th>Reference</th>\n",
       "    </tr>\n",
       "    <tr>\n",
       "      <th>ID</th>\n",
       "      <th></th>\n",
       "      <th></th>\n",
       "    </tr>\n",
       "  </thead>\n",
       "  <tbody>\n",
       "    <tr>\n",
       "      <th>kmeans</th>\n",
       "      <td>K-Means Clustering</td>\n",
       "      <td>sklearn.cluster._kmeans.KMeans</td>\n",
       "    </tr>\n",
       "    <tr>\n",
       "      <th>ap</th>\n",
       "      <td>Affinity Propagation</td>\n",
       "      <td>sklearn.cluster._affinity_propagation.Affinity...</td>\n",
       "    </tr>\n",
       "    <tr>\n",
       "      <th>meanshift</th>\n",
       "      <td>Mean Shift Clustering</td>\n",
       "      <td>sklearn.cluster._mean_shift.MeanShift</td>\n",
       "    </tr>\n",
       "    <tr>\n",
       "      <th>sc</th>\n",
       "      <td>Spectral Clustering</td>\n",
       "      <td>sklearn.cluster._spectral.SpectralClustering</td>\n",
       "    </tr>\n",
       "    <tr>\n",
       "      <th>hclust</th>\n",
       "      <td>Agglomerative Clustering</td>\n",
       "      <td>sklearn.cluster._agglomerative.AgglomerativeCl...</td>\n",
       "    </tr>\n",
       "    <tr>\n",
       "      <th>dbscan</th>\n",
       "      <td>Density-Based Spatial Clustering</td>\n",
       "      <td>sklearn.cluster._dbscan.DBSCAN</td>\n",
       "    </tr>\n",
       "    <tr>\n",
       "      <th>optics</th>\n",
       "      <td>OPTICS Clustering</td>\n",
       "      <td>sklearn.cluster._optics.OPTICS</td>\n",
       "    </tr>\n",
       "    <tr>\n",
       "      <th>birch</th>\n",
       "      <td>Birch Clustering</td>\n",
       "      <td>sklearn.cluster._birch.Birch</td>\n",
       "    </tr>\n",
       "    <tr>\n",
       "      <th>kmodes</th>\n",
       "      <td>K-Modes Clustering</td>\n",
       "      <td>kmodes.kmodes.KModes</td>\n",
       "    </tr>\n",
       "  </tbody>\n",
       "</table>\n",
       "</div>"
      ],
      "text/plain": [
       "                                       Name  \\\n",
       "ID                                            \n",
       "kmeans                   K-Means Clustering   \n",
       "ap                     Affinity Propagation   \n",
       "meanshift             Mean Shift Clustering   \n",
       "sc                      Spectral Clustering   \n",
       "hclust             Agglomerative Clustering   \n",
       "dbscan     Density-Based Spatial Clustering   \n",
       "optics                    OPTICS Clustering   \n",
       "birch                      Birch Clustering   \n",
       "kmodes                   K-Modes Clustering   \n",
       "\n",
       "                                                   Reference  \n",
       "ID                                                            \n",
       "kmeans                        sklearn.cluster._kmeans.KMeans  \n",
       "ap         sklearn.cluster._affinity_propagation.Affinity...  \n",
       "meanshift              sklearn.cluster._mean_shift.MeanShift  \n",
       "sc              sklearn.cluster._spectral.SpectralClustering  \n",
       "hclust     sklearn.cluster._agglomerative.AgglomerativeCl...  \n",
       "dbscan                        sklearn.cluster._dbscan.DBSCAN  \n",
       "optics                        sklearn.cluster._optics.OPTICS  \n",
       "birch                           sklearn.cluster._birch.Birch  \n",
       "kmodes                                  kmodes.kmodes.KModes  "
      ]
     },
     "execution_count": 12,
     "metadata": {},
     "output_type": "execute_result"
    }
   ],
   "source": [
    "# Apresentar modelos de clusterização disponíveis\n",
    "models()"
   ]
  },
  {
   "cell_type": "code",
   "execution_count": 13,
   "metadata": {},
   "outputs": [
    {
     "data": {
      "text/html": [
       "<div>\n",
       "<style scoped>\n",
       "    .dataframe tbody tr th:only-of-type {\n",
       "        vertical-align: middle;\n",
       "    }\n",
       "\n",
       "    .dataframe tbody tr th {\n",
       "        vertical-align: top;\n",
       "    }\n",
       "\n",
       "    .dataframe thead th {\n",
       "        text-align: right;\n",
       "    }\n",
       "</style>\n",
       "<table border=\"1\" class=\"dataframe\">\n",
       "  <thead>\n",
       "    <tr style=\"text-align: right;\">\n",
       "      <th></th>\n",
       "      <th>Silhouette</th>\n",
       "      <th>Calinski-Harabasz</th>\n",
       "      <th>Davies-Bouldin</th>\n",
       "      <th>Homogeneity</th>\n",
       "      <th>Rand Index</th>\n",
       "      <th>Completeness</th>\n",
       "    </tr>\n",
       "  </thead>\n",
       "  <tbody>\n",
       "    <tr>\n",
       "      <th>0</th>\n",
       "      <td>0.4335</td>\n",
       "      <td>322.9575</td>\n",
       "      <td>0.7471</td>\n",
       "      <td>0</td>\n",
       "      <td>0</td>\n",
       "      <td>0</td>\n",
       "    </tr>\n",
       "  </tbody>\n",
       "</table>\n",
       "</div>"
      ],
      "text/plain": [
       "   Silhouette  Calinski-Harabasz  Davies-Bouldin  Homogeneity  Rand Index  \\\n",
       "0      0.4335           322.9575          0.7471            0           0   \n",
       "\n",
       "   Completeness  \n",
       "0             0  "
      ]
     },
     "metadata": {},
     "output_type": "display_data"
    }
   ],
   "source": [
    "# Cria 4 clusters do tipo kmeans\n",
    "kmeans = create_model('kmeans', num_clusters = 4)"
   ]
  },
  {
   "cell_type": "code",
   "execution_count": 14,
   "metadata": {},
   "outputs": [
    {
     "data": {
      "text/html": [
       "<div>\n",
       "<style scoped>\n",
       "    .dataframe tbody tr th:only-of-type {\n",
       "        vertical-align: middle;\n",
       "    }\n",
       "\n",
       "    .dataframe tbody tr th {\n",
       "        vertical-align: top;\n",
       "    }\n",
       "\n",
       "    .dataframe thead th {\n",
       "        text-align: right;\n",
       "    }\n",
       "</style>\n",
       "<table border=\"1\" class=\"dataframe\">\n",
       "  <thead>\n",
       "    <tr style=\"text-align: right;\">\n",
       "      <th></th>\n",
       "      <th>Silhouette</th>\n",
       "      <th>Calinski-Harabasz</th>\n",
       "      <th>Davies-Bouldin</th>\n",
       "      <th>Homogeneity</th>\n",
       "      <th>Rand Index</th>\n",
       "      <th>Completeness</th>\n",
       "    </tr>\n",
       "  </thead>\n",
       "  <tbody>\n",
       "    <tr>\n",
       "      <th>0</th>\n",
       "      <td>-0.3632</td>\n",
       "      <td>1.2468</td>\n",
       "      <td>1.2297</td>\n",
       "      <td>0</td>\n",
       "      <td>0</td>\n",
       "      <td>0</td>\n",
       "    </tr>\n",
       "  </tbody>\n",
       "</table>\n",
       "</div>"
      ],
      "text/plain": [
       "   Silhouette  Calinski-Harabasz  Davies-Bouldin  Homogeneity  Rand Index  \\\n",
       "0     -0.3632             1.2468          1.2297            0           0   \n",
       "\n",
       "   Completeness  \n",
       "0             0  "
      ]
     },
     "metadata": {},
     "output_type": "display_data"
    }
   ],
   "source": [
    "# Cria 4 clusters do tipo kmmodes\n",
    "kmmodes = create_model('kmodes', num_clusters=4)"
   ]
  },
  {
   "cell_type": "code",
   "execution_count": 15,
   "metadata": {},
   "outputs": [
    {
     "data": {
      "text/html": [
       "<div>\n",
       "<style scoped>\n",
       "    .dataframe tbody tr th:only-of-type {\n",
       "        vertical-align: middle;\n",
       "    }\n",
       "\n",
       "    .dataframe tbody tr th {\n",
       "        vertical-align: top;\n",
       "    }\n",
       "\n",
       "    .dataframe thead th {\n",
       "        text-align: right;\n",
       "    }\n",
       "</style>\n",
       "<table border=\"1\" class=\"dataframe\">\n",
       "  <thead>\n",
       "    <tr style=\"text-align: right;\">\n",
       "      <th></th>\n",
       "      <th>Country Name</th>\n",
       "      <th>1995</th>\n",
       "      <th>1996</th>\n",
       "      <th>1997</th>\n",
       "      <th>1998</th>\n",
       "      <th>1999</th>\n",
       "      <th>2000</th>\n",
       "      <th>2001</th>\n",
       "      <th>2002</th>\n",
       "      <th>2003</th>\n",
       "      <th>...</th>\n",
       "      <th>2006</th>\n",
       "      <th>2007</th>\n",
       "      <th>2008</th>\n",
       "      <th>2009</th>\n",
       "      <th>2010</th>\n",
       "      <th>2011</th>\n",
       "      <th>2012</th>\n",
       "      <th>2013</th>\n",
       "      <th>2014</th>\n",
       "      <th>Cluster</th>\n",
       "    </tr>\n",
       "  </thead>\n",
       "  <tbody>\n",
       "    <tr>\n",
       "      <th>0</th>\n",
       "      <td>Arab World</td>\n",
       "      <td>2.004868</td>\n",
       "      <td>2.014602</td>\n",
       "      <td>2.071309</td>\n",
       "      <td>2.177712</td>\n",
       "      <td>2.331000</td>\n",
       "      <td>2.333596</td>\n",
       "      <td>2.588751</td>\n",
       "      <td>2.540238</td>\n",
       "      <td>2.450415</td>\n",
       "      <td>...</td>\n",
       "      <td>2.133038</td>\n",
       "      <td>2.166872</td>\n",
       "      <td>2.101233</td>\n",
       "      <td>2.830067</td>\n",
       "      <td>2.489631</td>\n",
       "      <td>2.539570</td>\n",
       "      <td>2.711262</td>\n",
       "      <td>2.895427</td>\n",
       "      <td>3.073161</td>\n",
       "      <td>Cluster 2</td>\n",
       "    </tr>\n",
       "    <tr>\n",
       "      <th>1</th>\n",
       "      <td>Caribbean small states</td>\n",
       "      <td>2.801518</td>\n",
       "      <td>2.856684</td>\n",
       "      <td>2.997157</td>\n",
       "      <td>2.989451</td>\n",
       "      <td>2.767858</td>\n",
       "      <td>2.826752</td>\n",
       "      <td>2.679969</td>\n",
       "      <td>2.888693</td>\n",
       "      <td>2.740593</td>\n",
       "      <td>...</td>\n",
       "      <td>2.650900</td>\n",
       "      <td>2.790665</td>\n",
       "      <td>2.822913</td>\n",
       "      <td>3.408651</td>\n",
       "      <td>3.264064</td>\n",
       "      <td>3.087653</td>\n",
       "      <td>3.314303</td>\n",
       "      <td>3.318432</td>\n",
       "      <td>3.260012</td>\n",
       "      <td>Cluster 2</td>\n",
       "    </tr>\n",
       "    <tr>\n",
       "      <th>2</th>\n",
       "      <td>Central Europe and the Baltics</td>\n",
       "      <td>4.678528</td>\n",
       "      <td>4.753209</td>\n",
       "      <td>4.604574</td>\n",
       "      <td>4.499988</td>\n",
       "      <td>4.679082</td>\n",
       "      <td>4.539711</td>\n",
       "      <td>4.666272</td>\n",
       "      <td>4.900196</td>\n",
       "      <td>5.100249</td>\n",
       "      <td>...</td>\n",
       "      <td>4.841450</td>\n",
       "      <td>4.809057</td>\n",
       "      <td>5.054785</td>\n",
       "      <td>5.394921</td>\n",
       "      <td>5.284380</td>\n",
       "      <td>5.096212</td>\n",
       "      <td>5.041317</td>\n",
       "      <td>5.029266</td>\n",
       "      <td>5.017717</td>\n",
       "      <td>Cluster 0</td>\n",
       "    </tr>\n",
       "    <tr>\n",
       "      <th>3</th>\n",
       "      <td>Early-demographic dividend</td>\n",
       "      <td>2.203164</td>\n",
       "      <td>2.156632</td>\n",
       "      <td>2.227311</td>\n",
       "      <td>2.364100</td>\n",
       "      <td>2.454394</td>\n",
       "      <td>2.450555</td>\n",
       "      <td>2.527081</td>\n",
       "      <td>2.347702</td>\n",
       "      <td>2.363263</td>\n",
       "      <td>...</td>\n",
       "      <td>2.369884</td>\n",
       "      <td>2.385251</td>\n",
       "      <td>2.405126</td>\n",
       "      <td>2.701260</td>\n",
       "      <td>2.507131</td>\n",
       "      <td>2.495491</td>\n",
       "      <td>2.497340</td>\n",
       "      <td>2.586701</td>\n",
       "      <td>2.665603</td>\n",
       "      <td>Cluster 2</td>\n",
       "    </tr>\n",
       "    <tr>\n",
       "      <th>4</th>\n",
       "      <td>East Asia &amp; Pacific</td>\n",
       "      <td>4.429090</td>\n",
       "      <td>4.203152</td>\n",
       "      <td>4.244351</td>\n",
       "      <td>4.453984</td>\n",
       "      <td>4.626920</td>\n",
       "      <td>4.688849</td>\n",
       "      <td>4.684790</td>\n",
       "      <td>4.613537</td>\n",
       "      <td>4.635098</td>\n",
       "      <td>...</td>\n",
       "      <td>4.367146</td>\n",
       "      <td>4.297394</td>\n",
       "      <td>4.434848</td>\n",
       "      <td>4.865241</td>\n",
       "      <td>4.775817</td>\n",
       "      <td>4.871727</td>\n",
       "      <td>4.866869</td>\n",
       "      <td>4.643221</td>\n",
       "      <td>4.571448</td>\n",
       "      <td>Cluster 0</td>\n",
       "    </tr>\n",
       "  </tbody>\n",
       "</table>\n",
       "<p>5 rows × 22 columns</p>\n",
       "</div>"
      ],
      "text/plain": [
       "                     Country Name      1995      1996      1997      1998  \\\n",
       "0                      Arab World  2.004868  2.014602  2.071309  2.177712   \n",
       "1          Caribbean small states  2.801518  2.856684  2.997157  2.989451   \n",
       "2  Central Europe and the Baltics  4.678528  4.753209  4.604574  4.499988   \n",
       "3      Early-demographic dividend  2.203164  2.156632  2.227311  2.364100   \n",
       "4             East Asia & Pacific  4.429090  4.203152  4.244351  4.453984   \n",
       "\n",
       "       1999      2000      2001      2002      2003  ...      2006      2007  \\\n",
       "0  2.331000  2.333596  2.588751  2.540238  2.450415  ...  2.133038  2.166872   \n",
       "1  2.767858  2.826752  2.679969  2.888693  2.740593  ...  2.650900  2.790665   \n",
       "2  4.679082  4.539711  4.666272  4.900196  5.100249  ...  4.841450  4.809057   \n",
       "3  2.454394  2.450555  2.527081  2.347702  2.363263  ...  2.369884  2.385251   \n",
       "4  4.626920  4.688849  4.684790  4.613537  4.635098  ...  4.367146  4.297394   \n",
       "\n",
       "       2008      2009      2010      2011      2012      2013      2014  \\\n",
       "0  2.101233  2.830067  2.489631  2.539570  2.711262  2.895427  3.073161   \n",
       "1  2.822913  3.408651  3.264064  3.087653  3.314303  3.318432  3.260012   \n",
       "2  5.054785  5.394921  5.284380  5.096212  5.041317  5.029266  5.017717   \n",
       "3  2.405126  2.701260  2.507131  2.495491  2.497340  2.586701  2.665603   \n",
       "4  4.434848  4.865241  4.775817  4.871727  4.866869  4.643221  4.571448   \n",
       "\n",
       "     Cluster  \n",
       "0  Cluster 2  \n",
       "1  Cluster 2  \n",
       "2  Cluster 0  \n",
       "3  Cluster 2  \n",
       "4  Cluster 0  \n",
       "\n",
       "[5 rows x 22 columns]"
      ]
     },
     "execution_count": 15,
     "metadata": {},
     "output_type": "execute_result"
    }
   ],
   "source": [
    "# Apresentar os resultados com a adição da coluna 'cluster' após assinar modelo de clusterização (assign_model(kmeans))\n",
    "kmeans_results = assign_model(kmeans)\n",
    "kmeans_results.head()"
   ]
  },
  {
   "cell_type": "code",
   "execution_count": 17,
   "metadata": {},
   "outputs": [
    {
     "data": {
      "application/vnd.plotly.v1+json": {
       "config": {
        "plotlyServerURL": "https://plot.ly"
       },
       "data": [
        {
         "customdata": [
          [
           "Honduras"
          ],
          [
           "Dominica"
          ],
          [
           "Djibouti"
          ],
          [
           "Samoa"
          ],
          [
           "San Marino"
          ],
          [
           "Sao Tome and Principe"
          ],
          [
           "Colombia"
          ],
          [
           "Chile"
          ],
          [
           "Cabo Verde"
          ],
          [
           "Solomon Islands"
          ],
          [
           "Bulgaria"
          ],
          [
           "South Africa"
          ],
          [
           "Brazil"
          ],
          [
           "Botswana"
          ],
          [
           "Bolivia"
          ],
          [
           "Bhutan"
          ],
          [
           "Belarus"
          ],
          [
           "Barbados"
          ],
          [
           "St. Lucia"
          ],
          [
           "St. Vincent and the Grenadines"
          ],
          [
           "Russian Federation"
          ],
          [
           "Suriname"
          ],
          [
           "Romania"
          ],
          [
           "Estonia"
          ],
          [
           "Moldova"
          ],
          [
           "Malawi"
          ],
          [
           "Monaco"
          ],
          [
           "Macedonia, FYR"
          ],
          [
           "Lithuania"
          ],
          [
           "Lebanon"
          ],
          [
           "Latvia"
          ],
          [
           "Montenegro"
          ],
          [
           "Mozambique"
          ],
          [
           "Namibia"
          ],
          [
           "Jordan"
          ],
          [
           "Israel"
          ],
          [
           "Nicaragua"
          ],
          [
           "Hungary"
          ],
          [
           "Guyana"
          ],
          [
           "Grenada"
          ],
          [
           "Panama"
          ],
          [
           "Papua New Guinea"
          ],
          [
           "Poland"
          ],
          [
           "El Salvador"
          ],
          [
           "Argentina"
          ],
          [
           "Seychelles"
          ],
          [
           "Swaziland"
          ],
          [
           "Small states"
          ],
          [
           "Tonga"
          ],
          [
           "Vanuatu"
          ],
          [
           "Pacific island small states"
          ],
          [
           "Other small states"
          ],
          [
           "Tunisia"
          ],
          [
           "East Asia & Pacific"
          ],
          [
           "Turkey"
          ],
          [
           "Ukraine"
          ],
          [
           "Antigua and Barbuda"
          ],
          [
           "Europe & Central Asia (IDA & IBRD countries)"
          ],
          [
           "Latin America & the Caribbean (IDA & IBRD countries)"
          ],
          [
           "Latin America & Caribbean (excluding high income)"
          ],
          [
           "Latin America & Caribbean"
          ],
          [
           "Europe & Central Asia (excluding high income)"
          ],
          [
           "Thailand"
          ],
          [
           "Uruguay"
          ],
          [
           "Central Europe and the Baltics"
          ],
          [
           "Algeria"
          ],
          [
           "Andorra"
          ]
         ],
         "hovertemplate": "Cluster=Cluster 0<br>PCA1=%{x}<br>PCA2=%{y}<br>Feature=%{customdata[0]}<extra></extra>",
         "legendgroup": "Cluster 0",
         "marker": {
          "color": "#636efa",
          "opacity": 0.5,
          "symbol": "circle"
         },
         "mode": "markers",
         "name": "Cluster 0",
         "orientation": "v",
         "showlegend": true,
         "textposition": "top center",
         "type": "scatter",
         "x": [
          0.052380312234163284,
          -0.6963157653808594,
          3.496361255645752,
          2.2391796112060547,
          2.9965412616729736,
          -1.9828801155090332,
          5.269248008728027,
          -2.982483386993408,
          -0.5993186831474304,
          6.3231096267700195,
          0.9043235182762146,
          -0.4167488217353821,
          -1.8325717449188232,
          -1.6869667768478394,
          -0.8536620736122131,
          2.884625196456909,
          3.0973126888275146,
          0.5412713289260864,
          -1.7848087549209595,
          -0.5138119459152222,
          -0.36390888690948486,
          0.04058874025940895,
          0.7748401761054993,
          3.711914300918579,
          4.882709980010986,
          3.421102523803711,
          -2.0118885040283203,
          4.811800956726074,
          3.3977115154266357,
          -1.0594871044158936,
          -0.15053337812423706,
          5.521666526794434,
          -1.5422449111938477,
          2.4751229286193848,
          6.379361152648926,
          4.232366561889648,
          -0.4234587252140045,
          6.877430438995361,
          2.7628514766693115,
          -2.7100777626037598,
          6.182901382446289,
          1.7357721328735352,
          2.8915646076202393,
          0.40673500299453735,
          1.654990315437317,
          -0.6367149949073792,
          3.4778380393981934,
          -2.8033478260040283,
          0.6882246136665344,
          -2.679774045944214,
          2.521125078201294,
          -2.678081512451172,
          -2.2604012489318848,
          3.732182502746582,
          -0.43741050362586975,
          0.6817191243171692,
          -2.7904253005981445,
          0.188274085521698,
          -2.3345165252685547,
          -2.0788607597351074,
          -2.0866143703460693,
          -0.5707467794418335,
          -0.13082735240459442,
          3.753183364868164,
          5.196532249450684,
          -2.5644454956054688,
          4.883439064025879
         ],
         "xaxis": "x",
         "y": [
          -1.0061924457550049,
          1.5305681228637695,
          -3.001685619354248,
          -1.6875356435775757,
          -0.2740308344364166,
          1.7913404703140259,
          1.3359862565994263,
          0.16091637313365936,
          2.2543301582336426,
          -1.54741632938385,
          0.5730457305908203,
          0.1135559156537056,
          -0.4294280707836151,
          -0.4538283348083496,
          -0.5170664191246033,
          3.8566198348999023,
          3.148695468902588,
          -0.568386435508728,
          0.03129860758781433,
          -0.06757436692714691,
          1.6575145721435547,
          4.734168529510498,
          -1.2385449409484863,
          1.264359712600708,
          0.2592613101005554,
          -6.448805332183838,
          -0.4154592752456665,
          3.387338876724243,
          0.9531862735748291,
          2.9931223392486572,
          0.800338864326477,
          4.121262073516846,
          1.9141126871109009,
          0.5760181546211243,
          0.7145205736160278,
          1.7004237174987793,
          -1.0957752466201782,
          2.506866693496704,
          2.1863934993743896,
          1.923387885093689,
          0.6587187647819519,
          1.3772412538528442,
          0.2418413609266281,
          -0.5631596446037292,
          3.973971128463745,
          3.1425907611846924,
          -5.131260871887207,
          1.5032145977020264,
          0.23043306171894073,
          -0.9892386198043823,
          0.519385039806366,
          1.7809406518936157,
          -0.8410242199897766,
          0.9928283095359802,
          -1.8311728239059448,
          1.1596542596817017,
          -0.6084591150283813,
          0.7463733553886414,
          0.13891078531742096,
          0.12929804623126984,
          0.09429434686899185,
          0.6820850372314453,
          -3.706589698791504,
          -4.153106212615967,
          0.7126587629318237,
          -2.129668712615967,
          -2.433941125869751
         ],
         "yaxis": "y"
        },
        {
         "customdata": [
          [
           "Micronesia, Fed. Sts."
          ],
          [
           "Kiribati"
          ],
          [
           "Finland"
          ],
          [
           "France"
          ],
          [
           "United Kingdom"
          ],
          [
           "Germany"
          ],
          [
           "Malta"
          ],
          [
           "Greece"
          ],
          [
           "Portugal"
          ],
          [
           "Austria"
          ],
          [
           "European Union"
          ],
          [
           "Japan"
          ],
          [
           "Australia"
          ],
          [
           "Norway"
          ],
          [
           "Netherlands"
          ],
          [
           "United States"
          ],
          [
           "Iceland"
          ],
          [
           "Italy"
          ],
          [
           "High income"
          ],
          [
           "New Zealand"
          ],
          [
           "Palau"
          ],
          [
           "World"
          ],
          [
           "Sweden"
          ],
          [
           "Cuba"
          ],
          [
           "Switzerland"
          ],
          [
           "Slovak Republic"
          ],
          [
           "Post-demographic dividend"
          ],
          [
           "Serbia"
          ],
          [
           "Spain"
          ],
          [
           "Lesotho"
          ],
          [
           "Europe & Central Asia"
          ],
          [
           "Maldives"
          ],
          [
           "Costa Rica"
          ],
          [
           "Canada"
          ],
          [
           "OECD members"
          ],
          [
           "Croatia"
          ],
          [
           "Ireland"
          ],
          [
           "North America"
          ],
          [
           "Czech Republic"
          ],
          [
           "Denmark"
          ],
          [
           "Euro area"
          ],
          [
           "Belgium"
          ],
          [
           "Slovenia"
          ],
          [
           "Bosnia and Herzegovina"
          ],
          [
           "Luxembourg"
          ]
         ],
         "hovertemplate": "Cluster=Cluster 1<br>PCA1=%{x}<br>PCA2=%{y}<br>Feature=%{customdata[0]}<extra></extra>",
         "legendgroup": "Cluster 1",
         "marker": {
          "color": "#EF553B",
          "opacity": 0.5,
          "symbol": "circle"
         },
         "mode": "markers",
         "name": "Cluster 1",
         "orientation": "v",
         "showlegend": true,
         "textposition": "top center",
         "type": "scatter",
         "x": [
          28.026268005371094,
          23.42092514038086,
          10.726723670959473,
          20.274410247802734,
          12.929593086242676,
          19.694843292236328,
          7.314090728759766,
          7.18647575378418,
          11.141193389892578,
          18.36734390258789,
          14.94324016571045,
          13.813253402709961,
          8.67522144317627,
          16.671663284301758,
          14.383610725402832,
          14.058969497680664,
          15.946917533874512,
          11.481680870056152,
          13.13821792602539,
          15.48218059539795,
          13.858868598937988,
          8.629456520080566,
          18.387208938598633,
          16.809452056884766,
          11.693985939025879,
          7.348233222961426,
          13.808130264282227,
          7.647161960601807,
          10.043413162231445,
          7.060527801513672,
          13.23408317565918,
          7.4728803634643555,
          10.217764854431152,
          13.954540252685547,
          13.11438274383545,
          10.475305557250977,
          7.1713643074035645,
          14.032322883605957,
          10.210283279418945,
          20.070951461791992,
          15.823768615722656,
          14.600980758666992,
          11.318079948425293,
          7.014340877532959,
          10.74665355682373
         ],
         "xaxis": "x",
         "y": [
          -6.041880130767822,
          1.8232674598693848,
          -1.0307502746582031,
          0.5893162488937378,
          -2.2661397457122803,
          1.242645263671875,
          -1.6944079399108887,
          -1.3613539934158325,
          -0.3178442716598511,
          0.21312302350997925,
          -0.4116886556148529,
          -2.686579704284668,
          -0.36967992782592773,
          0.4446496367454529,
          -6.075818061828613,
          -2.128293752670288,
          2.1692214012145996,
          -1.2206807136535645,
          -1.1393778324127197,
          -4.743207931518555,
          3.442453384399414,
          0.3946133852005005,
          -2.200695276260376,
          -6.478084087371826,
          -1.83393132686615,
          0.6291037201881409,
          -1.4098869562149048,
          -1.4623485803604126,
          -0.9687381386756897,
          -6.859660625457764,
          0.2641634941101074,
          -4.919417381286621,
          -1.1138185262680054,
          -0.6679686903953552,
          -1.2698160409927368,
          0.35135331749916077,
          -0.255852609872818,
          -2.0055649280548096,
          0.9972887635231018,
          -2.057593822479248,
          -0.14470961689949036,
          -1.8679611682891846,
          0.43991732597351074,
          -3.51885724067688,
          0.6763545870780945
         ],
         "yaxis": "y"
        },
        {
         "customdata": [
          [
           "Vietnam"
          ],
          [
           "Morocco"
          ],
          [
           "Nepal"
          ],
          [
           "Myanmar"
          ],
          [
           "Venezuela, RB"
          ],
          [
           "Mongolia"
          ],
          [
           "Uzbekistan"
          ],
          [
           "United Arab Emirates"
          ],
          [
           "Nigeria"
          ],
          [
           "Sudan"
          ],
          [
           "St. Kitts and Nevis"
          ],
          [
           "Sri Lanka"
          ],
          [
           "Syrian Arab Republic"
          ],
          [
           "Tajikistan"
          ],
          [
           "Tanzania"
          ],
          [
           "Togo"
          ],
          [
           "Singapore"
          ],
          [
           "Sierra Leone"
          ],
          [
           "Mexico"
          ],
          [
           "Niger"
          ],
          [
           "Senegal"
          ],
          [
           "Trinidad and Tobago"
          ],
          [
           "Rwanda"
          ],
          [
           "Turkmenistan"
          ],
          [
           "Uganda"
          ],
          [
           "Qatar"
          ],
          [
           "Philippines"
          ],
          [
           "Peru"
          ],
          [
           "Paraguay"
          ],
          [
           "Pakistan"
          ],
          [
           "Oman"
          ],
          [
           "Saudi Arabia"
          ],
          [
           "Mauritius"
          ],
          [
           "Arab World"
          ],
          [
           "Chad"
          ],
          [
           "Upper middle income"
          ],
          [
           "Albania"
          ],
          [
           "Angola"
          ],
          [
           "Armenia"
          ],
          [
           "Azerbaijan"
          ],
          [
           "Bahamas, The"
          ],
          [
           "Bahrain"
          ],
          [
           "Bangladesh"
          ],
          [
           "Belize"
          ],
          [
           "Benin"
          ],
          [
           "Brunei Darussalam"
          ],
          [
           "Burkina Faso"
          ],
          [
           "Burundi"
          ],
          [
           "Cambodia"
          ],
          [
           "Cameroon"
          ],
          [
           "Sub-Saharan Africa (IDA & IBRD countries)"
          ],
          [
           "Sub-Saharan Africa (excluding high income)"
          ],
          [
           "Sub-Saharan Africa"
          ],
          [
           "South Asia (IDA & IBRD)"
          ],
          [
           "Caribbean small states"
          ],
          [
           "Early-demographic dividend"
          ],
          [
           "East Asia & Pacific (excluding high income)"
          ],
          [
           "East Asia & Pacific (IDA & IBRD countries)"
          ],
          [
           "Heavily indebted poor countries (HIPC)"
          ],
          [
           "Late-demographic dividend"
          ],
          [
           "Least developed countries: UN classification"
          ],
          [
           "Central African Republic"
          ],
          [
           "Low & middle income"
          ],
          [
           "Lower middle income"
          ],
          [
           "Middle East & North Africa"
          ],
          [
           "Middle East & North Africa (excluding high income)"
          ],
          [
           "Middle East & North Africa (IDA & IBRD countries)"
          ],
          [
           "Middle income"
          ],
          [
           "Pre-demographic dividend"
          ],
          [
           "South Asia"
          ],
          [
           "Low income"
          ],
          [
           "Mauritania"
          ],
          [
           "Zambia"
          ],
          [
           "Comoros"
          ],
          [
           "Yemen, Rep."
          ],
          [
           "India"
          ],
          [
           "Indonesia"
          ],
          [
           "Iran, Islamic Rep."
          ],
          [
           "Jamaica"
          ],
          [
           "Kazakhstan"
          ],
          [
           "Kenya"
          ],
          [
           "Korea, Rep."
          ],
          [
           "Kuwait"
          ],
          [
           "Kyrgyz Republic"
          ],
          [
           "Lao PDR"
          ],
          [
           "Libya"
          ],
          [
           "Madagascar"
          ],
          [
           "Malaysia"
          ],
          [
           "Mali"
          ],
          [
           "China"
          ],
          [
           "Guinea-Bissau"
          ],
          [
           "Haiti"
          ],
          [
           "Guatemala"
          ],
          [
           "Congo, Dem. Rep."
          ],
          [
           "Congo, Rep."
          ],
          [
           "Cote d'Ivoire"
          ],
          [
           "Cyprus"
          ],
          [
           "Dominican Republic"
          ],
          [
           "Ecuador"
          ],
          [
           "Egypt, Arab Rep."
          ],
          [
           "Equatorial Guinea"
          ],
          [
           "Eritrea"
          ],
          [
           "Ethiopia"
          ],
          [
           "Fiji"
          ],
          [
           "Gabon"
          ],
          [
           "Gambia, The"
          ],
          [
           "Georgia"
          ],
          [
           "Ghana"
          ],
          [
           "Guinea"
          ]
         ],
         "hovertemplate": "Cluster=Cluster 2<br>PCA1=%{x}<br>PCA2=%{y}<br>Feature=%{customdata[0]}<extra></extra>",
         "legendgroup": "Cluster 2",
         "marker": {
          "color": "#00cc96",
          "opacity": 0.5,
          "symbol": "circle"
         },
         "mode": "markers",
         "name": "Cluster 2",
         "orientation": "v",
         "showlegend": true,
         "textposition": "top center",
         "type": "scatter",
         "x": [
          -6.8381266593933105,
          -9.484298706054688,
          -7.4815354347229,
          -15.115267753601074,
          -8.009969711303711,
          -3.7099454402923584,
          -4.343996047973633,
          -7.527413845062256,
          -12.093504905700684,
          -10.187896728515625,
          -5.982303142547607,
          -9.033280372619629,
          -8.349933624267578,
          -10.740166664123535,
          -6.704511642456055,
          -8.637772560119629,
          -10.783146858215332,
          -6.071122169494629,
          -4.862788200378418,
          -6.897018909454346,
          -7.128722190856934,
          -5.193397521972656,
          -4.536766529083252,
          -7.808117866516113,
          -7.410105228424072,
          -7.287595272064209,
          -10.375983238220215,
          -4.701430797576904,
          -3.3258793354034424,
          -13.27417278289795,
          -5.783050537109375,
          -5.28060245513916,
          -7.183761119842529,
          -5.978132724761963,
          -8.739667892456055,
          -3.556546211242676,
          -5.6659698486328125,
          -6.175836086273193,
          -8.887700080871582,
          -11.990190505981445,
          -3.472736358642578,
          -5.140449047088623,
          -12.279272079467773,
          -3.678234577178955,
          -6.759047985076904,
          -5.553746700286865,
          -3.5927114486694336,
          -3.911463499069214,
          -9.835626602172852,
          -11.816549301147461,
          -5.726459980010986,
          -5.733958721160889,
          -5.726459980010986,
          -11.717745780944824,
          -3.5335493087768555,
          -5.874887466430664,
          -7.338890552520752,
          -7.338891983032227,
          -6.779114246368408,
          -3.486583948135376,
          -8.473370552062988,
          -8.32892894744873,
          -5.029770851135254,
          -10.122086524963379,
          -4.754617214202881,
          -5.6689372062683105,
          -5.6689372062683105,
          -5.002990245819092,
          -8.803685188293457,
          -11.717745780944824,
          -6.935488224029541,
          -8.209722518920898,
          -3.718336343765259,
          -7.131632328033447,
          -9.084057807922363,
          -11.649965286254883,
          -12.538193702697754,
          -6.2949347496032715,
          -4.276338577270508,
          -6.102006912231445,
          -7.505875110626221,
          -3.842271566390991,
          -5.756710529327393,
          -3.4829516410827637,
          -11.157061576843262,
          -6.851592540740967,
          -6.318006992340088,
          -7.845047950744629,
          -4.999397277832031,
          -7.0859694480896,
          -10.528329849243164,
          -9.335433959960938,
          -7.279535293579102,
          -12.749903678894043,
          -8.321722030639648,
          -9.491377830505371,
          -4.343444347381592,
          -7.780851364135742,
          -7.790555477142334,
          -7.622395992279053,
          -6.338708400726318,
          -9.859074592590332,
          -5.80487060546875,
          -4.139888286590576,
          -9.644116401672363,
          -5.068431854248047,
          -10.269096374511719,
          -5.329249382019043,
          -10.945541381835938
         ],
         "xaxis": "x",
         "y": [
          -2.1054229736328125,
          -0.6743403077125549,
          -0.8377730250358582,
          -0.02833937108516693,
          0.822855532169342,
          2.5255253314971924,
          1.2898781299591064,
          -0.36883077025413513,
          0.31707772612571716,
          -1.5314699411392212,
          2.123293876647949,
          0.9368368983268738,
          1.9279965162277222,
          -0.3564603328704834,
          -1.2122210264205933,
          -0.47962480783462524,
          0.3453403413295746,
          2.0535695552825928,
          -0.6462077498435974,
          -0.8646860122680664,
          -0.48744428157806396,
          -0.14709506928920746,
          -0.50392085313797,
          3.6314570903778076,
          -0.09849534183740616,
          1.7017608880996704,
          0.689446210861206,
          0.41004180908203125,
          -1.7654683589935303,
          0.15195535123348236,
          1.8771063089370728,
          -0.005354142282158136,
          0.2696138024330139,
          0.06008841469883919,
          2.006734848022461,
          0.014294168911874294,
          -0.2991490364074707,
          1.048399806022644,
          0.23380312323570251,
          0.6302441954612732,
          -0.4216976463794708,
          1.019181489944458,
          0.9292944073677063,
          -1.553841471672058,
          0.27221763134002686,
          2.0371992588043213,
          -1.1581422090530396,
          -4.799630641937256,
          1.3203701972961426,
          0.4203891158103943,
          0.8552923798561096,
          0.850249707698822,
          0.8552923798561096,
          0.3996824026107788,
          0.4273160398006439,
          0.5811585187911987,
          -0.9944974780082703,
          -0.9944961071014404,
          -0.5068843364715576,
          0.03421942889690399,
          -0.09237464517354965,
          0.5463135838508606,
          0.05559265613555908,
          0.4750605821609497,
          0.44875994324684143,
          -0.38263025879859924,
          -0.38263025879859924,
          0.06441929936408997,
          -0.17604610323905945,
          0.3996824026107788,
          -0.5257810950279236,
          2.001793622970581,
          2.1178934574127197,
          1.2418291568756104,
          1.9725457429885864,
          0.43878406286239624,
          0.1599363535642624,
          -0.42991188168525696,
          0.8183038830757141,
          1.4083210229873657,
          -0.6464163661003113,
          -2.521862268447876,
          1.97816801071167,
          -1.33468759059906,
          1.9136967658996582,
          -0.8158917427062988,
          0.8693103194236755,
          0.02881024032831192,
          1.4976149797439575,
          -1.058559536933899,
          1.029265284538269,
          2.0096092224121094,
          -0.01012346800416708,
          -1.7875198125839233,
          -1.1761044263839722,
          0.896887481212616,
          -1.129575490951538,
          -0.7418308854103088,
          -1.999563455581665,
          0.8432788848876953,
          -0.05447254702448845,
          1.4370535612106323,
          -1.606729507446289,
          0.8117642402648926,
          -0.92183917760849,
          -4.230260372161865,
          -0.28895190358161926,
          -1.7584589719772339,
          -1.1451208591461182
         ],
         "yaxis": "y"
        },
        {
         "customdata": [
          [
           "Nauru"
          ],
          [
           "Tuvalu"
          ],
          [
           "Marshall Islands"
          ]
         ],
         "hovertemplate": "Cluster=Cluster 3<br>PCA1=%{x}<br>PCA2=%{y}<br>Feature=%{customdata[0]}<extra></extra>",
         "legendgroup": "Cluster 3",
         "marker": {
          "color": "#ab63fa",
          "opacity": 0.5,
          "symbol": "circle"
         },
         "mode": "markers",
         "name": "Cluster 3",
         "orientation": "v",
         "showlegend": true,
         "textposition": "top center",
         "type": "scatter",
         "x": [
          32.54296112060547,
          49.136138916015625,
          55.908084869384766
         ],
         "xaxis": "x",
         "y": [
          14.525511741638184,
          -4.779350280761719,
          11.190154075622559
         ],
         "yaxis": "y"
        }
       ],
       "layout": {
        "height": 600,
        "legend": {
         "title": {
          "text": "Cluster"
         },
         "tracegroupgap": 0
        },
        "margin": {
         "t": 60
        },
        "plot_bgcolor": "rgb(240,240,240)",
        "template": {
         "data": {
          "bar": [
           {
            "error_x": {
             "color": "#2a3f5f"
            },
            "error_y": {
             "color": "#2a3f5f"
            },
            "marker": {
             "line": {
              "color": "#E5ECF6",
              "width": 0.5
             }
            },
            "type": "bar"
           }
          ],
          "barpolar": [
           {
            "marker": {
             "line": {
              "color": "#E5ECF6",
              "width": 0.5
             }
            },
            "type": "barpolar"
           }
          ],
          "carpet": [
           {
            "aaxis": {
             "endlinecolor": "#2a3f5f",
             "gridcolor": "white",
             "linecolor": "white",
             "minorgridcolor": "white",
             "startlinecolor": "#2a3f5f"
            },
            "baxis": {
             "endlinecolor": "#2a3f5f",
             "gridcolor": "white",
             "linecolor": "white",
             "minorgridcolor": "white",
             "startlinecolor": "#2a3f5f"
            },
            "type": "carpet"
           }
          ],
          "choropleth": [
           {
            "colorbar": {
             "outlinewidth": 0,
             "ticks": ""
            },
            "type": "choropleth"
           }
          ],
          "contour": [
           {
            "colorbar": {
             "outlinewidth": 0,
             "ticks": ""
            },
            "colorscale": [
             [
              0,
              "#0d0887"
             ],
             [
              0.1111111111111111,
              "#46039f"
             ],
             [
              0.2222222222222222,
              "#7201a8"
             ],
             [
              0.3333333333333333,
              "#9c179e"
             ],
             [
              0.4444444444444444,
              "#bd3786"
             ],
             [
              0.5555555555555556,
              "#d8576b"
             ],
             [
              0.6666666666666666,
              "#ed7953"
             ],
             [
              0.7777777777777778,
              "#fb9f3a"
             ],
             [
              0.8888888888888888,
              "#fdca26"
             ],
             [
              1,
              "#f0f921"
             ]
            ],
            "type": "contour"
           }
          ],
          "contourcarpet": [
           {
            "colorbar": {
             "outlinewidth": 0,
             "ticks": ""
            },
            "type": "contourcarpet"
           }
          ],
          "heatmap": [
           {
            "colorbar": {
             "outlinewidth": 0,
             "ticks": ""
            },
            "colorscale": [
             [
              0,
              "#0d0887"
             ],
             [
              0.1111111111111111,
              "#46039f"
             ],
             [
              0.2222222222222222,
              "#7201a8"
             ],
             [
              0.3333333333333333,
              "#9c179e"
             ],
             [
              0.4444444444444444,
              "#bd3786"
             ],
             [
              0.5555555555555556,
              "#d8576b"
             ],
             [
              0.6666666666666666,
              "#ed7953"
             ],
             [
              0.7777777777777778,
              "#fb9f3a"
             ],
             [
              0.8888888888888888,
              "#fdca26"
             ],
             [
              1,
              "#f0f921"
             ]
            ],
            "type": "heatmap"
           }
          ],
          "heatmapgl": [
           {
            "colorbar": {
             "outlinewidth": 0,
             "ticks": ""
            },
            "colorscale": [
             [
              0,
              "#0d0887"
             ],
             [
              0.1111111111111111,
              "#46039f"
             ],
             [
              0.2222222222222222,
              "#7201a8"
             ],
             [
              0.3333333333333333,
              "#9c179e"
             ],
             [
              0.4444444444444444,
              "#bd3786"
             ],
             [
              0.5555555555555556,
              "#d8576b"
             ],
             [
              0.6666666666666666,
              "#ed7953"
             ],
             [
              0.7777777777777778,
              "#fb9f3a"
             ],
             [
              0.8888888888888888,
              "#fdca26"
             ],
             [
              1,
              "#f0f921"
             ]
            ],
            "type": "heatmapgl"
           }
          ],
          "histogram": [
           {
            "marker": {
             "colorbar": {
              "outlinewidth": 0,
              "ticks": ""
             }
            },
            "type": "histogram"
           }
          ],
          "histogram2d": [
           {
            "colorbar": {
             "outlinewidth": 0,
             "ticks": ""
            },
            "colorscale": [
             [
              0,
              "#0d0887"
             ],
             [
              0.1111111111111111,
              "#46039f"
             ],
             [
              0.2222222222222222,
              "#7201a8"
             ],
             [
              0.3333333333333333,
              "#9c179e"
             ],
             [
              0.4444444444444444,
              "#bd3786"
             ],
             [
              0.5555555555555556,
              "#d8576b"
             ],
             [
              0.6666666666666666,
              "#ed7953"
             ],
             [
              0.7777777777777778,
              "#fb9f3a"
             ],
             [
              0.8888888888888888,
              "#fdca26"
             ],
             [
              1,
              "#f0f921"
             ]
            ],
            "type": "histogram2d"
           }
          ],
          "histogram2dcontour": [
           {
            "colorbar": {
             "outlinewidth": 0,
             "ticks": ""
            },
            "colorscale": [
             [
              0,
              "#0d0887"
             ],
             [
              0.1111111111111111,
              "#46039f"
             ],
             [
              0.2222222222222222,
              "#7201a8"
             ],
             [
              0.3333333333333333,
              "#9c179e"
             ],
             [
              0.4444444444444444,
              "#bd3786"
             ],
             [
              0.5555555555555556,
              "#d8576b"
             ],
             [
              0.6666666666666666,
              "#ed7953"
             ],
             [
              0.7777777777777778,
              "#fb9f3a"
             ],
             [
              0.8888888888888888,
              "#fdca26"
             ],
             [
              1,
              "#f0f921"
             ]
            ],
            "type": "histogram2dcontour"
           }
          ],
          "mesh3d": [
           {
            "colorbar": {
             "outlinewidth": 0,
             "ticks": ""
            },
            "type": "mesh3d"
           }
          ],
          "parcoords": [
           {
            "line": {
             "colorbar": {
              "outlinewidth": 0,
              "ticks": ""
             }
            },
            "type": "parcoords"
           }
          ],
          "pie": [
           {
            "automargin": true,
            "type": "pie"
           }
          ],
          "scatter": [
           {
            "marker": {
             "colorbar": {
              "outlinewidth": 0,
              "ticks": ""
             }
            },
            "type": "scatter"
           }
          ],
          "scatter3d": [
           {
            "line": {
             "colorbar": {
              "outlinewidth": 0,
              "ticks": ""
             }
            },
            "marker": {
             "colorbar": {
              "outlinewidth": 0,
              "ticks": ""
             }
            },
            "type": "scatter3d"
           }
          ],
          "scattercarpet": [
           {
            "marker": {
             "colorbar": {
              "outlinewidth": 0,
              "ticks": ""
             }
            },
            "type": "scattercarpet"
           }
          ],
          "scattergeo": [
           {
            "marker": {
             "colorbar": {
              "outlinewidth": 0,
              "ticks": ""
             }
            },
            "type": "scattergeo"
           }
          ],
          "scattergl": [
           {
            "marker": {
             "colorbar": {
              "outlinewidth": 0,
              "ticks": ""
             }
            },
            "type": "scattergl"
           }
          ],
          "scattermapbox": [
           {
            "marker": {
             "colorbar": {
              "outlinewidth": 0,
              "ticks": ""
             }
            },
            "type": "scattermapbox"
           }
          ],
          "scatterpolar": [
           {
            "marker": {
             "colorbar": {
              "outlinewidth": 0,
              "ticks": ""
             }
            },
            "type": "scatterpolar"
           }
          ],
          "scatterpolargl": [
           {
            "marker": {
             "colorbar": {
              "outlinewidth": 0,
              "ticks": ""
             }
            },
            "type": "scatterpolargl"
           }
          ],
          "scatterternary": [
           {
            "marker": {
             "colorbar": {
              "outlinewidth": 0,
              "ticks": ""
             }
            },
            "type": "scatterternary"
           }
          ],
          "surface": [
           {
            "colorbar": {
             "outlinewidth": 0,
             "ticks": ""
            },
            "colorscale": [
             [
              0,
              "#0d0887"
             ],
             [
              0.1111111111111111,
              "#46039f"
             ],
             [
              0.2222222222222222,
              "#7201a8"
             ],
             [
              0.3333333333333333,
              "#9c179e"
             ],
             [
              0.4444444444444444,
              "#bd3786"
             ],
             [
              0.5555555555555556,
              "#d8576b"
             ],
             [
              0.6666666666666666,
              "#ed7953"
             ],
             [
              0.7777777777777778,
              "#fb9f3a"
             ],
             [
              0.8888888888888888,
              "#fdca26"
             ],
             [
              1,
              "#f0f921"
             ]
            ],
            "type": "surface"
           }
          ],
          "table": [
           {
            "cells": {
             "fill": {
              "color": "#EBF0F8"
             },
             "line": {
              "color": "white"
             }
            },
            "header": {
             "fill": {
              "color": "#C8D4E3"
             },
             "line": {
              "color": "white"
             }
            },
            "type": "table"
           }
          ]
         },
         "layout": {
          "annotationdefaults": {
           "arrowcolor": "#2a3f5f",
           "arrowhead": 0,
           "arrowwidth": 1
          },
          "autotypenumbers": "strict",
          "coloraxis": {
           "colorbar": {
            "outlinewidth": 0,
            "ticks": ""
           }
          },
          "colorscale": {
           "diverging": [
            [
             0,
             "#8e0152"
            ],
            [
             0.1,
             "#c51b7d"
            ],
            [
             0.2,
             "#de77ae"
            ],
            [
             0.3,
             "#f1b6da"
            ],
            [
             0.4,
             "#fde0ef"
            ],
            [
             0.5,
             "#f7f7f7"
            ],
            [
             0.6,
             "#e6f5d0"
            ],
            [
             0.7,
             "#b8e186"
            ],
            [
             0.8,
             "#7fbc41"
            ],
            [
             0.9,
             "#4d9221"
            ],
            [
             1,
             "#276419"
            ]
           ],
           "sequential": [
            [
             0,
             "#0d0887"
            ],
            [
             0.1111111111111111,
             "#46039f"
            ],
            [
             0.2222222222222222,
             "#7201a8"
            ],
            [
             0.3333333333333333,
             "#9c179e"
            ],
            [
             0.4444444444444444,
             "#bd3786"
            ],
            [
             0.5555555555555556,
             "#d8576b"
            ],
            [
             0.6666666666666666,
             "#ed7953"
            ],
            [
             0.7777777777777778,
             "#fb9f3a"
            ],
            [
             0.8888888888888888,
             "#fdca26"
            ],
            [
             1,
             "#f0f921"
            ]
           ],
           "sequentialminus": [
            [
             0,
             "#0d0887"
            ],
            [
             0.1111111111111111,
             "#46039f"
            ],
            [
             0.2222222222222222,
             "#7201a8"
            ],
            [
             0.3333333333333333,
             "#9c179e"
            ],
            [
             0.4444444444444444,
             "#bd3786"
            ],
            [
             0.5555555555555556,
             "#d8576b"
            ],
            [
             0.6666666666666666,
             "#ed7953"
            ],
            [
             0.7777777777777778,
             "#fb9f3a"
            ],
            [
             0.8888888888888888,
             "#fdca26"
            ],
            [
             1,
             "#f0f921"
            ]
           ]
          },
          "colorway": [
           "#636efa",
           "#EF553B",
           "#00cc96",
           "#ab63fa",
           "#FFA15A",
           "#19d3f3",
           "#FF6692",
           "#B6E880",
           "#FF97FF",
           "#FECB52"
          ],
          "font": {
           "color": "#2a3f5f"
          },
          "geo": {
           "bgcolor": "white",
           "lakecolor": "white",
           "landcolor": "#E5ECF6",
           "showlakes": true,
           "showland": true,
           "subunitcolor": "white"
          },
          "hoverlabel": {
           "align": "left"
          },
          "hovermode": "closest",
          "mapbox": {
           "style": "light"
          },
          "paper_bgcolor": "white",
          "plot_bgcolor": "#E5ECF6",
          "polar": {
           "angularaxis": {
            "gridcolor": "white",
            "linecolor": "white",
            "ticks": ""
           },
           "bgcolor": "#E5ECF6",
           "radialaxis": {
            "gridcolor": "white",
            "linecolor": "white",
            "ticks": ""
           }
          },
          "scene": {
           "xaxis": {
            "backgroundcolor": "#E5ECF6",
            "gridcolor": "white",
            "gridwidth": 2,
            "linecolor": "white",
            "showbackground": true,
            "ticks": "",
            "zerolinecolor": "white"
           },
           "yaxis": {
            "backgroundcolor": "#E5ECF6",
            "gridcolor": "white",
            "gridwidth": 2,
            "linecolor": "white",
            "showbackground": true,
            "ticks": "",
            "zerolinecolor": "white"
           },
           "zaxis": {
            "backgroundcolor": "#E5ECF6",
            "gridcolor": "white",
            "gridwidth": 2,
            "linecolor": "white",
            "showbackground": true,
            "ticks": "",
            "zerolinecolor": "white"
           }
          },
          "shapedefaults": {
           "line": {
            "color": "#2a3f5f"
           }
          },
          "ternary": {
           "aaxis": {
            "gridcolor": "white",
            "linecolor": "white",
            "ticks": ""
           },
           "baxis": {
            "gridcolor": "white",
            "linecolor": "white",
            "ticks": ""
           },
           "bgcolor": "#E5ECF6",
           "caxis": {
            "gridcolor": "white",
            "linecolor": "white",
            "ticks": ""
           }
          },
          "title": {
           "x": 0.05
          },
          "xaxis": {
           "automargin": true,
           "gridcolor": "white",
           "linecolor": "white",
           "ticks": "",
           "title": {
            "standoff": 15
           },
           "zerolinecolor": "white",
           "zerolinewidth": 2
          },
          "yaxis": {
           "automargin": true,
           "gridcolor": "white",
           "linecolor": "white",
           "ticks": "",
           "title": {
            "standoff": 15
           },
           "zerolinecolor": "white",
           "zerolinewidth": 2
          }
         }
        },
        "title": {
         "text": "2D Cluster PCA Plot"
        },
        "xaxis": {
         "anchor": "y",
         "domain": [
          0,
          1
         ],
         "title": {
          "text": "PCA1"
         }
        },
        "yaxis": {
         "anchor": "x",
         "domain": [
          0,
          1
         ],
         "title": {
          "text": "PCA2"
         }
        }
       }
      },
      "text/html": [
       "<div>                            <div id=\"28e4248f-ea1d-4e23-b22c-5011966a3bd3\" class=\"plotly-graph-div\" style=\"height:600px; width:100%;\"></div>            <script type=\"text/javascript\">                require([\"plotly\"], function(Plotly) {                    window.PLOTLYENV=window.PLOTLYENV || {};                                    if (document.getElementById(\"28e4248f-ea1d-4e23-b22c-5011966a3bd3\")) {                    Plotly.newPlot(                        \"28e4248f-ea1d-4e23-b22c-5011966a3bd3\",                        [{\"customdata\": [[\"Honduras\"], [\"Dominica\"], [\"Djibouti\"], [\"Samoa\"], [\"San Marino\"], [\"Sao Tome and Principe\"], [\"Colombia\"], [\"Chile\"], [\"Cabo Verde\"], [\"Solomon Islands\"], [\"Bulgaria\"], [\"South Africa\"], [\"Brazil\"], [\"Botswana\"], [\"Bolivia\"], [\"Bhutan\"], [\"Belarus\"], [\"Barbados\"], [\"St. Lucia\"], [\"St. Vincent and the Grenadines\"], [\"Russian Federation\"], [\"Suriname\"], [\"Romania\"], [\"Estonia\"], [\"Moldova\"], [\"Malawi\"], [\"Monaco\"], [\"Macedonia, FYR\"], [\"Lithuania\"], [\"Lebanon\"], [\"Latvia\"], [\"Montenegro\"], [\"Mozambique\"], [\"Namibia\"], [\"Jordan\"], [\"Israel\"], [\"Nicaragua\"], [\"Hungary\"], [\"Guyana\"], [\"Grenada\"], [\"Panama\"], [\"Papua New Guinea\"], [\"Poland\"], [\"El Salvador\"], [\"Argentina\"], [\"Seychelles\"], [\"Swaziland\"], [\"Small states\"], [\"Tonga\"], [\"Vanuatu\"], [\"Pacific island small states\"], [\"Other small states\"], [\"Tunisia\"], [\"East Asia & Pacific\"], [\"Turkey\"], [\"Ukraine\"], [\"Antigua and Barbuda\"], [\"Europe & Central Asia (IDA & IBRD countries)\"], [\"Latin America & the Caribbean (IDA & IBRD countries)\"], [\"Latin America & Caribbean (excluding high income)\"], [\"Latin America & Caribbean\"], [\"Europe & Central Asia (excluding high income)\"], [\"Thailand\"], [\"Uruguay\"], [\"Central Europe and the Baltics\"], [\"Algeria\"], [\"Andorra\"]], \"hovertemplate\": \"Cluster=Cluster 0<br>PCA1=%{x}<br>PCA2=%{y}<br>Feature=%{customdata[0]}<extra></extra>\", \"legendgroup\": \"Cluster 0\", \"marker\": {\"color\": \"#636efa\", \"opacity\": 0.5, \"symbol\": \"circle\"}, \"mode\": \"markers\", \"name\": \"Cluster 0\", \"orientation\": \"v\", \"showlegend\": true, \"textposition\": \"top center\", \"type\": \"scatter\", \"x\": [0.052380312234163284, -0.6963157653808594, 3.496361255645752, 2.2391796112060547, 2.9965412616729736, -1.9828801155090332, 5.269248008728027, -2.982483386993408, -0.5993186831474304, 6.3231096267700195, 0.9043235182762146, -0.4167488217353821, -1.8325717449188232, -1.6869667768478394, -0.8536620736122131, 2.884625196456909, 3.0973126888275146, 0.5412713289260864, -1.7848087549209595, -0.5138119459152222, -0.36390888690948486, 0.04058874025940895, 0.7748401761054993, 3.711914300918579, 4.882709980010986, 3.421102523803711, -2.0118885040283203, 4.811800956726074, 3.3977115154266357, -1.0594871044158936, -0.15053337812423706, 5.521666526794434, -1.5422449111938477, 2.4751229286193848, 6.379361152648926, 4.232366561889648, -0.4234587252140045, 6.877430438995361, 2.7628514766693115, -2.7100777626037598, 6.182901382446289, 1.7357721328735352, 2.8915646076202393, 0.40673500299453735, 1.654990315437317, -0.6367149949073792, 3.4778380393981934, -2.8033478260040283, 0.6882246136665344, -2.679774045944214, 2.521125078201294, -2.678081512451172, -2.2604012489318848, 3.732182502746582, -0.43741050362586975, 0.6817191243171692, -2.7904253005981445, 0.188274085521698, -2.3345165252685547, -2.0788607597351074, -2.0866143703460693, -0.5707467794418335, -0.13082735240459442, 3.753183364868164, 5.196532249450684, -2.5644454956054688, 4.883439064025879], \"xaxis\": \"x\", \"y\": [-1.0061924457550049, 1.5305681228637695, -3.001685619354248, -1.6875356435775757, -0.2740308344364166, 1.7913404703140259, 1.3359862565994263, 0.16091637313365936, 2.2543301582336426, -1.54741632938385, 0.5730457305908203, 0.1135559156537056, -0.4294280707836151, -0.4538283348083496, -0.5170664191246033, 3.8566198348999023, 3.148695468902588, -0.568386435508728, 0.03129860758781433, -0.06757436692714691, 1.6575145721435547, 4.734168529510498, -1.2385449409484863, 1.264359712600708, 0.2592613101005554, -6.448805332183838, -0.4154592752456665, 3.387338876724243, 0.9531862735748291, 2.9931223392486572, 0.800338864326477, 4.121262073516846, 1.9141126871109009, 0.5760181546211243, 0.7145205736160278, 1.7004237174987793, -1.0957752466201782, 2.506866693496704, 2.1863934993743896, 1.923387885093689, 0.6587187647819519, 1.3772412538528442, 0.2418413609266281, -0.5631596446037292, 3.973971128463745, 3.1425907611846924, -5.131260871887207, 1.5032145977020264, 0.23043306171894073, -0.9892386198043823, 0.519385039806366, 1.7809406518936157, -0.8410242199897766, 0.9928283095359802, -1.8311728239059448, 1.1596542596817017, -0.6084591150283813, 0.7463733553886414, 0.13891078531742096, 0.12929804623126984, 0.09429434686899185, 0.6820850372314453, -3.706589698791504, -4.153106212615967, 0.7126587629318237, -2.129668712615967, -2.433941125869751], \"yaxis\": \"y\"}, {\"customdata\": [[\"Micronesia, Fed. Sts.\"], [\"Kiribati\"], [\"Finland\"], [\"France\"], [\"United Kingdom\"], [\"Germany\"], [\"Malta\"], [\"Greece\"], [\"Portugal\"], [\"Austria\"], [\"European Union\"], [\"Japan\"], [\"Australia\"], [\"Norway\"], [\"Netherlands\"], [\"United States\"], [\"Iceland\"], [\"Italy\"], [\"High income\"], [\"New Zealand\"], [\"Palau\"], [\"World\"], [\"Sweden\"], [\"Cuba\"], [\"Switzerland\"], [\"Slovak Republic\"], [\"Post-demographic dividend\"], [\"Serbia\"], [\"Spain\"], [\"Lesotho\"], [\"Europe & Central Asia\"], [\"Maldives\"], [\"Costa Rica\"], [\"Canada\"], [\"OECD members\"], [\"Croatia\"], [\"Ireland\"], [\"North America\"], [\"Czech Republic\"], [\"Denmark\"], [\"Euro area\"], [\"Belgium\"], [\"Slovenia\"], [\"Bosnia and Herzegovina\"], [\"Luxembourg\"]], \"hovertemplate\": \"Cluster=Cluster 1<br>PCA1=%{x}<br>PCA2=%{y}<br>Feature=%{customdata[0]}<extra></extra>\", \"legendgroup\": \"Cluster 1\", \"marker\": {\"color\": \"#EF553B\", \"opacity\": 0.5, \"symbol\": \"circle\"}, \"mode\": \"markers\", \"name\": \"Cluster 1\", \"orientation\": \"v\", \"showlegend\": true, \"textposition\": \"top center\", \"type\": \"scatter\", \"x\": [28.026268005371094, 23.42092514038086, 10.726723670959473, 20.274410247802734, 12.929593086242676, 19.694843292236328, 7.314090728759766, 7.18647575378418, 11.141193389892578, 18.36734390258789, 14.94324016571045, 13.813253402709961, 8.67522144317627, 16.671663284301758, 14.383610725402832, 14.058969497680664, 15.946917533874512, 11.481680870056152, 13.13821792602539, 15.48218059539795, 13.858868598937988, 8.629456520080566, 18.387208938598633, 16.809452056884766, 11.693985939025879, 7.348233222961426, 13.808130264282227, 7.647161960601807, 10.043413162231445, 7.060527801513672, 13.23408317565918, 7.4728803634643555, 10.217764854431152, 13.954540252685547, 13.11438274383545, 10.475305557250977, 7.1713643074035645, 14.032322883605957, 10.210283279418945, 20.070951461791992, 15.823768615722656, 14.600980758666992, 11.318079948425293, 7.014340877532959, 10.74665355682373], \"xaxis\": \"x\", \"y\": [-6.041880130767822, 1.8232674598693848, -1.0307502746582031, 0.5893162488937378, -2.2661397457122803, 1.242645263671875, -1.6944079399108887, -1.3613539934158325, -0.3178442716598511, 0.21312302350997925, -0.4116886556148529, -2.686579704284668, -0.36967992782592773, 0.4446496367454529, -6.075818061828613, -2.128293752670288, 2.1692214012145996, -1.2206807136535645, -1.1393778324127197, -4.743207931518555, 3.442453384399414, 0.3946133852005005, -2.200695276260376, -6.478084087371826, -1.83393132686615, 0.6291037201881409, -1.4098869562149048, -1.4623485803604126, -0.9687381386756897, -6.859660625457764, 0.2641634941101074, -4.919417381286621, -1.1138185262680054, -0.6679686903953552, -1.2698160409927368, 0.35135331749916077, -0.255852609872818, -2.0055649280548096, 0.9972887635231018, -2.057593822479248, -0.14470961689949036, -1.8679611682891846, 0.43991732597351074, -3.51885724067688, 0.6763545870780945], \"yaxis\": \"y\"}, {\"customdata\": [[\"Vietnam\"], [\"Morocco\"], [\"Nepal\"], [\"Myanmar\"], [\"Venezuela, RB\"], [\"Mongolia\"], [\"Uzbekistan\"], [\"United Arab Emirates\"], [\"Nigeria\"], [\"Sudan\"], [\"St. Kitts and Nevis\"], [\"Sri Lanka\"], [\"Syrian Arab Republic\"], [\"Tajikistan\"], [\"Tanzania\"], [\"Togo\"], [\"Singapore\"], [\"Sierra Leone\"], [\"Mexico\"], [\"Niger\"], [\"Senegal\"], [\"Trinidad and Tobago\"], [\"Rwanda\"], [\"Turkmenistan\"], [\"Uganda\"], [\"Qatar\"], [\"Philippines\"], [\"Peru\"], [\"Paraguay\"], [\"Pakistan\"], [\"Oman\"], [\"Saudi Arabia\"], [\"Mauritius\"], [\"Arab World\"], [\"Chad\"], [\"Upper middle income\"], [\"Albania\"], [\"Angola\"], [\"Armenia\"], [\"Azerbaijan\"], [\"Bahamas, The\"], [\"Bahrain\"], [\"Bangladesh\"], [\"Belize\"], [\"Benin\"], [\"Brunei Darussalam\"], [\"Burkina Faso\"], [\"Burundi\"], [\"Cambodia\"], [\"Cameroon\"], [\"Sub-Saharan Africa (IDA & IBRD countries)\"], [\"Sub-Saharan Africa (excluding high income)\"], [\"Sub-Saharan Africa\"], [\"South Asia (IDA & IBRD)\"], [\"Caribbean small states\"], [\"Early-demographic dividend\"], [\"East Asia & Pacific (excluding high income)\"], [\"East Asia & Pacific (IDA & IBRD countries)\"], [\"Heavily indebted poor countries (HIPC)\"], [\"Late-demographic dividend\"], [\"Least developed countries: UN classification\"], [\"Central African Republic\"], [\"Low & middle income\"], [\"Lower middle income\"], [\"Middle East & North Africa\"], [\"Middle East & North Africa (excluding high income)\"], [\"Middle East & North Africa (IDA & IBRD countries)\"], [\"Middle income\"], [\"Pre-demographic dividend\"], [\"South Asia\"], [\"Low income\"], [\"Mauritania\"], [\"Zambia\"], [\"Comoros\"], [\"Yemen, Rep.\"], [\"India\"], [\"Indonesia\"], [\"Iran, Islamic Rep.\"], [\"Jamaica\"], [\"Kazakhstan\"], [\"Kenya\"], [\"Korea, Rep.\"], [\"Kuwait\"], [\"Kyrgyz Republic\"], [\"Lao PDR\"], [\"Libya\"], [\"Madagascar\"], [\"Malaysia\"], [\"Mali\"], [\"China\"], [\"Guinea-Bissau\"], [\"Haiti\"], [\"Guatemala\"], [\"Congo, Dem. Rep.\"], [\"Congo, Rep.\"], [\"Cote d'Ivoire\"], [\"Cyprus\"], [\"Dominican Republic\"], [\"Ecuador\"], [\"Egypt, Arab Rep.\"], [\"Equatorial Guinea\"], [\"Eritrea\"], [\"Ethiopia\"], [\"Fiji\"], [\"Gabon\"], [\"Gambia, The\"], [\"Georgia\"], [\"Ghana\"], [\"Guinea\"]], \"hovertemplate\": \"Cluster=Cluster 2<br>PCA1=%{x}<br>PCA2=%{y}<br>Feature=%{customdata[0]}<extra></extra>\", \"legendgroup\": \"Cluster 2\", \"marker\": {\"color\": \"#00cc96\", \"opacity\": 0.5, \"symbol\": \"circle\"}, \"mode\": \"markers\", \"name\": \"Cluster 2\", \"orientation\": \"v\", \"showlegend\": true, \"textposition\": \"top center\", \"type\": \"scatter\", \"x\": [-6.8381266593933105, -9.484298706054688, -7.4815354347229, -15.115267753601074, -8.009969711303711, -3.7099454402923584, -4.343996047973633, -7.527413845062256, -12.093504905700684, -10.187896728515625, -5.982303142547607, -9.033280372619629, -8.349933624267578, -10.740166664123535, -6.704511642456055, -8.637772560119629, -10.783146858215332, -6.071122169494629, -4.862788200378418, -6.897018909454346, -7.128722190856934, -5.193397521972656, -4.536766529083252, -7.808117866516113, -7.410105228424072, -7.287595272064209, -10.375983238220215, -4.701430797576904, -3.3258793354034424, -13.27417278289795, -5.783050537109375, -5.28060245513916, -7.183761119842529, -5.978132724761963, -8.739667892456055, -3.556546211242676, -5.6659698486328125, -6.175836086273193, -8.887700080871582, -11.990190505981445, -3.472736358642578, -5.140449047088623, -12.279272079467773, -3.678234577178955, -6.759047985076904, -5.553746700286865, -3.5927114486694336, -3.911463499069214, -9.835626602172852, -11.816549301147461, -5.726459980010986, -5.733958721160889, -5.726459980010986, -11.717745780944824, -3.5335493087768555, -5.874887466430664, -7.338890552520752, -7.338891983032227, -6.779114246368408, -3.486583948135376, -8.473370552062988, -8.32892894744873, -5.029770851135254, -10.122086524963379, -4.754617214202881, -5.6689372062683105, -5.6689372062683105, -5.002990245819092, -8.803685188293457, -11.717745780944824, -6.935488224029541, -8.209722518920898, -3.718336343765259, -7.131632328033447, -9.084057807922363, -11.649965286254883, -12.538193702697754, -6.2949347496032715, -4.276338577270508, -6.102006912231445, -7.505875110626221, -3.842271566390991, -5.756710529327393, -3.4829516410827637, -11.157061576843262, -6.851592540740967, -6.318006992340088, -7.845047950744629, -4.999397277832031, -7.0859694480896, -10.528329849243164, -9.335433959960938, -7.279535293579102, -12.749903678894043, -8.321722030639648, -9.491377830505371, -4.343444347381592, -7.780851364135742, -7.790555477142334, -7.622395992279053, -6.338708400726318, -9.859074592590332, -5.80487060546875, -4.139888286590576, -9.644116401672363, -5.068431854248047, -10.269096374511719, -5.329249382019043, -10.945541381835938], \"xaxis\": \"x\", \"y\": [-2.1054229736328125, -0.6743403077125549, -0.8377730250358582, -0.02833937108516693, 0.822855532169342, 2.5255253314971924, 1.2898781299591064, -0.36883077025413513, 0.31707772612571716, -1.5314699411392212, 2.123293876647949, 0.9368368983268738, 1.9279965162277222, -0.3564603328704834, -1.2122210264205933, -0.47962480783462524, 0.3453403413295746, 2.0535695552825928, -0.6462077498435974, -0.8646860122680664, -0.48744428157806396, -0.14709506928920746, -0.50392085313797, 3.6314570903778076, -0.09849534183740616, 1.7017608880996704, 0.689446210861206, 0.41004180908203125, -1.7654683589935303, 0.15195535123348236, 1.8771063089370728, -0.005354142282158136, 0.2696138024330139, 0.06008841469883919, 2.006734848022461, 0.014294168911874294, -0.2991490364074707, 1.048399806022644, 0.23380312323570251, 0.6302441954612732, -0.4216976463794708, 1.019181489944458, 0.9292944073677063, -1.553841471672058, 0.27221763134002686, 2.0371992588043213, -1.1581422090530396, -4.799630641937256, 1.3203701972961426, 0.4203891158103943, 0.8552923798561096, 0.850249707698822, 0.8552923798561096, 0.3996824026107788, 0.4273160398006439, 0.5811585187911987, -0.9944974780082703, -0.9944961071014404, -0.5068843364715576, 0.03421942889690399, -0.09237464517354965, 0.5463135838508606, 0.05559265613555908, 0.4750605821609497, 0.44875994324684143, -0.38263025879859924, -0.38263025879859924, 0.06441929936408997, -0.17604610323905945, 0.3996824026107788, -0.5257810950279236, 2.001793622970581, 2.1178934574127197, 1.2418291568756104, 1.9725457429885864, 0.43878406286239624, 0.1599363535642624, -0.42991188168525696, 0.8183038830757141, 1.4083210229873657, -0.6464163661003113, -2.521862268447876, 1.97816801071167, -1.33468759059906, 1.9136967658996582, -0.8158917427062988, 0.8693103194236755, 0.02881024032831192, 1.4976149797439575, -1.058559536933899, 1.029265284538269, 2.0096092224121094, -0.01012346800416708, -1.7875198125839233, -1.1761044263839722, 0.896887481212616, -1.129575490951538, -0.7418308854103088, -1.999563455581665, 0.8432788848876953, -0.05447254702448845, 1.4370535612106323, -1.606729507446289, 0.8117642402648926, -0.92183917760849, -4.230260372161865, -0.28895190358161926, -1.7584589719772339, -1.1451208591461182], \"yaxis\": \"y\"}, {\"customdata\": [[\"Nauru\"], [\"Tuvalu\"], [\"Marshall Islands\"]], \"hovertemplate\": \"Cluster=Cluster 3<br>PCA1=%{x}<br>PCA2=%{y}<br>Feature=%{customdata[0]}<extra></extra>\", \"legendgroup\": \"Cluster 3\", \"marker\": {\"color\": \"#ab63fa\", \"opacity\": 0.5, \"symbol\": \"circle\"}, \"mode\": \"markers\", \"name\": \"Cluster 3\", \"orientation\": \"v\", \"showlegend\": true, \"textposition\": \"top center\", \"type\": \"scatter\", \"x\": [32.54296112060547, 49.136138916015625, 55.908084869384766], \"xaxis\": \"x\", \"y\": [14.525511741638184, -4.779350280761719, 11.190154075622559], \"yaxis\": \"y\"}],                        {\"height\": 600, \"legend\": {\"title\": {\"text\": \"Cluster\"}, \"tracegroupgap\": 0}, \"margin\": {\"t\": 60}, \"plot_bgcolor\": \"rgb(240,240,240)\", \"template\": {\"data\": {\"bar\": [{\"error_x\": {\"color\": \"#2a3f5f\"}, \"error_y\": {\"color\": \"#2a3f5f\"}, \"marker\": {\"line\": {\"color\": \"#E5ECF6\", \"width\": 0.5}}, \"type\": \"bar\"}], \"barpolar\": [{\"marker\": {\"line\": {\"color\": \"#E5ECF6\", \"width\": 0.5}}, \"type\": \"barpolar\"}], \"carpet\": [{\"aaxis\": {\"endlinecolor\": \"#2a3f5f\", \"gridcolor\": \"white\", \"linecolor\": \"white\", \"minorgridcolor\": \"white\", \"startlinecolor\": \"#2a3f5f\"}, \"baxis\": {\"endlinecolor\": \"#2a3f5f\", \"gridcolor\": \"white\", \"linecolor\": \"white\", \"minorgridcolor\": \"white\", \"startlinecolor\": \"#2a3f5f\"}, \"type\": \"carpet\"}], \"choropleth\": [{\"colorbar\": {\"outlinewidth\": 0, \"ticks\": \"\"}, \"type\": \"choropleth\"}], \"contour\": [{\"colorbar\": {\"outlinewidth\": 0, \"ticks\": \"\"}, \"colorscale\": [[0.0, \"#0d0887\"], [0.1111111111111111, \"#46039f\"], [0.2222222222222222, \"#7201a8\"], [0.3333333333333333, \"#9c179e\"], [0.4444444444444444, \"#bd3786\"], [0.5555555555555556, \"#d8576b\"], [0.6666666666666666, \"#ed7953\"], [0.7777777777777778, \"#fb9f3a\"], [0.8888888888888888, \"#fdca26\"], [1.0, \"#f0f921\"]], \"type\": \"contour\"}], \"contourcarpet\": [{\"colorbar\": {\"outlinewidth\": 0, \"ticks\": \"\"}, \"type\": \"contourcarpet\"}], \"heatmap\": [{\"colorbar\": {\"outlinewidth\": 0, \"ticks\": \"\"}, \"colorscale\": [[0.0, \"#0d0887\"], [0.1111111111111111, \"#46039f\"], [0.2222222222222222, \"#7201a8\"], [0.3333333333333333, \"#9c179e\"], [0.4444444444444444, \"#bd3786\"], [0.5555555555555556, \"#d8576b\"], [0.6666666666666666, \"#ed7953\"], [0.7777777777777778, \"#fb9f3a\"], [0.8888888888888888, \"#fdca26\"], [1.0, \"#f0f921\"]], \"type\": \"heatmap\"}], \"heatmapgl\": [{\"colorbar\": {\"outlinewidth\": 0, \"ticks\": \"\"}, \"colorscale\": [[0.0, \"#0d0887\"], [0.1111111111111111, \"#46039f\"], [0.2222222222222222, \"#7201a8\"], [0.3333333333333333, \"#9c179e\"], [0.4444444444444444, \"#bd3786\"], [0.5555555555555556, \"#d8576b\"], [0.6666666666666666, \"#ed7953\"], [0.7777777777777778, \"#fb9f3a\"], [0.8888888888888888, \"#fdca26\"], [1.0, \"#f0f921\"]], \"type\": \"heatmapgl\"}], \"histogram\": [{\"marker\": {\"colorbar\": {\"outlinewidth\": 0, \"ticks\": \"\"}}, \"type\": \"histogram\"}], \"histogram2d\": [{\"colorbar\": {\"outlinewidth\": 0, \"ticks\": \"\"}, \"colorscale\": [[0.0, \"#0d0887\"], [0.1111111111111111, \"#46039f\"], [0.2222222222222222, \"#7201a8\"], [0.3333333333333333, \"#9c179e\"], [0.4444444444444444, \"#bd3786\"], [0.5555555555555556, \"#d8576b\"], [0.6666666666666666, \"#ed7953\"], [0.7777777777777778, \"#fb9f3a\"], [0.8888888888888888, \"#fdca26\"], [1.0, \"#f0f921\"]], \"type\": \"histogram2d\"}], \"histogram2dcontour\": [{\"colorbar\": {\"outlinewidth\": 0, \"ticks\": \"\"}, \"colorscale\": [[0.0, \"#0d0887\"], [0.1111111111111111, \"#46039f\"], [0.2222222222222222, \"#7201a8\"], [0.3333333333333333, \"#9c179e\"], [0.4444444444444444, \"#bd3786\"], [0.5555555555555556, \"#d8576b\"], [0.6666666666666666, \"#ed7953\"], [0.7777777777777778, \"#fb9f3a\"], [0.8888888888888888, \"#fdca26\"], [1.0, \"#f0f921\"]], \"type\": \"histogram2dcontour\"}], \"mesh3d\": [{\"colorbar\": {\"outlinewidth\": 0, \"ticks\": \"\"}, \"type\": \"mesh3d\"}], \"parcoords\": [{\"line\": {\"colorbar\": {\"outlinewidth\": 0, \"ticks\": \"\"}}, \"type\": \"parcoords\"}], \"pie\": [{\"automargin\": true, \"type\": \"pie\"}], \"scatter\": [{\"marker\": {\"colorbar\": {\"outlinewidth\": 0, \"ticks\": \"\"}}, \"type\": \"scatter\"}], \"scatter3d\": [{\"line\": {\"colorbar\": {\"outlinewidth\": 0, \"ticks\": \"\"}}, \"marker\": {\"colorbar\": {\"outlinewidth\": 0, \"ticks\": \"\"}}, \"type\": \"scatter3d\"}], \"scattercarpet\": [{\"marker\": {\"colorbar\": {\"outlinewidth\": 0, \"ticks\": \"\"}}, \"type\": \"scattercarpet\"}], \"scattergeo\": [{\"marker\": {\"colorbar\": {\"outlinewidth\": 0, \"ticks\": \"\"}}, \"type\": \"scattergeo\"}], \"scattergl\": [{\"marker\": {\"colorbar\": {\"outlinewidth\": 0, \"ticks\": \"\"}}, \"type\": \"scattergl\"}], \"scattermapbox\": [{\"marker\": {\"colorbar\": {\"outlinewidth\": 0, \"ticks\": \"\"}}, \"type\": \"scattermapbox\"}], \"scatterpolar\": [{\"marker\": {\"colorbar\": {\"outlinewidth\": 0, \"ticks\": \"\"}}, \"type\": \"scatterpolar\"}], \"scatterpolargl\": [{\"marker\": {\"colorbar\": {\"outlinewidth\": 0, \"ticks\": \"\"}}, \"type\": \"scatterpolargl\"}], \"scatterternary\": [{\"marker\": {\"colorbar\": {\"outlinewidth\": 0, \"ticks\": \"\"}}, \"type\": \"scatterternary\"}], \"surface\": [{\"colorbar\": {\"outlinewidth\": 0, \"ticks\": \"\"}, \"colorscale\": [[0.0, \"#0d0887\"], [0.1111111111111111, \"#46039f\"], [0.2222222222222222, \"#7201a8\"], [0.3333333333333333, \"#9c179e\"], [0.4444444444444444, \"#bd3786\"], [0.5555555555555556, \"#d8576b\"], [0.6666666666666666, \"#ed7953\"], [0.7777777777777778, \"#fb9f3a\"], [0.8888888888888888, \"#fdca26\"], [1.0, \"#f0f921\"]], \"type\": \"surface\"}], \"table\": [{\"cells\": {\"fill\": {\"color\": \"#EBF0F8\"}, \"line\": {\"color\": \"white\"}}, \"header\": {\"fill\": {\"color\": \"#C8D4E3\"}, \"line\": {\"color\": \"white\"}}, \"type\": \"table\"}]}, \"layout\": {\"annotationdefaults\": {\"arrowcolor\": \"#2a3f5f\", \"arrowhead\": 0, \"arrowwidth\": 1}, \"autotypenumbers\": \"strict\", \"coloraxis\": {\"colorbar\": {\"outlinewidth\": 0, \"ticks\": \"\"}}, \"colorscale\": {\"diverging\": [[0, \"#8e0152\"], [0.1, \"#c51b7d\"], [0.2, \"#de77ae\"], [0.3, \"#f1b6da\"], [0.4, \"#fde0ef\"], [0.5, \"#f7f7f7\"], [0.6, \"#e6f5d0\"], [0.7, \"#b8e186\"], [0.8, \"#7fbc41\"], [0.9, \"#4d9221\"], [1, \"#276419\"]], \"sequential\": [[0.0, \"#0d0887\"], [0.1111111111111111, \"#46039f\"], [0.2222222222222222, \"#7201a8\"], [0.3333333333333333, \"#9c179e\"], [0.4444444444444444, \"#bd3786\"], [0.5555555555555556, \"#d8576b\"], [0.6666666666666666, \"#ed7953\"], [0.7777777777777778, \"#fb9f3a\"], [0.8888888888888888, \"#fdca26\"], [1.0, \"#f0f921\"]], \"sequentialminus\": [[0.0, \"#0d0887\"], [0.1111111111111111, \"#46039f\"], [0.2222222222222222, \"#7201a8\"], [0.3333333333333333, \"#9c179e\"], [0.4444444444444444, \"#bd3786\"], [0.5555555555555556, \"#d8576b\"], [0.6666666666666666, \"#ed7953\"], [0.7777777777777778, \"#fb9f3a\"], [0.8888888888888888, \"#fdca26\"], [1.0, \"#f0f921\"]]}, \"colorway\": [\"#636efa\", \"#EF553B\", \"#00cc96\", \"#ab63fa\", \"#FFA15A\", \"#19d3f3\", \"#FF6692\", \"#B6E880\", \"#FF97FF\", \"#FECB52\"], \"font\": {\"color\": \"#2a3f5f\"}, \"geo\": {\"bgcolor\": \"white\", \"lakecolor\": \"white\", \"landcolor\": \"#E5ECF6\", \"showlakes\": true, \"showland\": true, \"subunitcolor\": \"white\"}, \"hoverlabel\": {\"align\": \"left\"}, \"hovermode\": \"closest\", \"mapbox\": {\"style\": \"light\"}, \"paper_bgcolor\": \"white\", \"plot_bgcolor\": \"#E5ECF6\", \"polar\": {\"angularaxis\": {\"gridcolor\": \"white\", \"linecolor\": \"white\", \"ticks\": \"\"}, \"bgcolor\": \"#E5ECF6\", \"radialaxis\": {\"gridcolor\": \"white\", \"linecolor\": \"white\", \"ticks\": \"\"}}, \"scene\": {\"xaxis\": {\"backgroundcolor\": \"#E5ECF6\", \"gridcolor\": \"white\", \"gridwidth\": 2, \"linecolor\": \"white\", \"showbackground\": true, \"ticks\": \"\", \"zerolinecolor\": \"white\"}, \"yaxis\": {\"backgroundcolor\": \"#E5ECF6\", \"gridcolor\": \"white\", \"gridwidth\": 2, \"linecolor\": \"white\", \"showbackground\": true, \"ticks\": \"\", \"zerolinecolor\": \"white\"}, \"zaxis\": {\"backgroundcolor\": \"#E5ECF6\", \"gridcolor\": \"white\", \"gridwidth\": 2, \"linecolor\": \"white\", \"showbackground\": true, \"ticks\": \"\", \"zerolinecolor\": \"white\"}}, \"shapedefaults\": {\"line\": {\"color\": \"#2a3f5f\"}}, \"ternary\": {\"aaxis\": {\"gridcolor\": \"white\", \"linecolor\": \"white\", \"ticks\": \"\"}, \"baxis\": {\"gridcolor\": \"white\", \"linecolor\": \"white\", \"ticks\": \"\"}, \"bgcolor\": \"#E5ECF6\", \"caxis\": {\"gridcolor\": \"white\", \"linecolor\": \"white\", \"ticks\": \"\"}}, \"title\": {\"x\": 0.05}, \"xaxis\": {\"automargin\": true, \"gridcolor\": \"white\", \"linecolor\": \"white\", \"ticks\": \"\", \"title\": {\"standoff\": 15}, \"zerolinecolor\": \"white\", \"zerolinewidth\": 2}, \"yaxis\": {\"automargin\": true, \"gridcolor\": \"white\", \"linecolor\": \"white\", \"ticks\": \"\", \"title\": {\"standoff\": 15}, \"zerolinecolor\": \"white\", \"zerolinewidth\": 2}}}, \"title\": {\"text\": \"2D Cluster PCA Plot\"}, \"xaxis\": {\"anchor\": \"y\", \"domain\": [0.0, 1.0], \"title\": {\"text\": \"PCA1\"}}, \"yaxis\": {\"anchor\": \"x\", \"domain\": [0.0, 1.0], \"title\": {\"text\": \"PCA2\"}}},                        {\"responsive\": true}                    ).then(function(){\n",
       "                            \n",
       "var gd = document.getElementById('28e4248f-ea1d-4e23-b22c-5011966a3bd3');\n",
       "var x = new MutationObserver(function (mutations, observer) {{\n",
       "        var display = window.getComputedStyle(gd).display;\n",
       "        if (!display || display === 'none') {{\n",
       "            console.log([gd, 'removed!']);\n",
       "            Plotly.purge(gd);\n",
       "            observer.disconnect();\n",
       "        }}\n",
       "}});\n",
       "\n",
       "// Listen for the removal of the full notebook cells\n",
       "var notebookContainer = gd.closest('#notebook-container');\n",
       "if (notebookContainer) {{\n",
       "    x.observe(notebookContainer, {childList: true});\n",
       "}}\n",
       "\n",
       "// Listen for the clearing of the current output cell\n",
       "var outputEl = gd.closest('.output');\n",
       "if (outputEl) {{\n",
       "    x.observe(outputEl, {childList: true});\n",
       "}}\n",
       "\n",
       "                        })                };                });            </script>        </div>"
      ]
     },
     "metadata": {},
     "output_type": "display_data"
    }
   ],
   "source": [
    "# Ilustra modelo\n",
    "plot_model(kmeans)"
   ]
  },
  {
   "cell_type": "code",
   "execution_count": 19,
   "metadata": {},
   "outputs": [
    {
     "data": {
      "application/vnd.plotly.v1+json": {
       "config": {
        "plotlyServerURL": "https://plot.ly"
       },
       "data": [
        {
         "hovertemplate": "Cluster=Cluster 0<br>PCA1=%{x}<br>PCA2=%{y}<br>Label=%{text}<extra></extra>",
         "legendgroup": "Cluster 0",
         "marker": {
          "color": "#636efa",
          "opacity": 0.5,
          "symbol": "circle"
         },
         "mode": "markers+text",
         "name": "Cluster 0",
         "orientation": "v",
         "showlegend": true,
         "text": [
          "Honduras",
          "Dominica",
          "Djibouti",
          "Samoa",
          "San Marino",
          "Sao Tome and Principe",
          "Colombia",
          "Chile",
          "Cabo Verde",
          "Solomon Islands",
          "Bulgaria",
          "South Africa",
          "Brazil",
          "Botswana",
          "Bolivia",
          "Bhutan",
          "Belarus",
          "Barbados",
          "St. Lucia",
          "St. Vincent and the Grenadines",
          "Russian Federation",
          "Suriname",
          "Romania",
          "Estonia",
          "Moldova",
          "Malawi",
          "Monaco",
          "Macedonia, FYR",
          "Lithuania",
          "Lebanon",
          "Latvia",
          "Montenegro",
          "Mozambique",
          "Namibia",
          "Jordan",
          "Israel",
          "Nicaragua",
          "Hungary",
          "Guyana",
          "Grenada",
          "Panama",
          "Papua New Guinea",
          "Poland",
          "El Salvador",
          "Argentina",
          "Seychelles",
          "Swaziland",
          "Small states",
          "Tonga",
          "Vanuatu",
          "Pacific island small states",
          "Other small states",
          "Tunisia",
          "East Asia & Pacific",
          "Turkey",
          "Ukraine",
          "Antigua and Barbuda",
          "Europe & Central Asia (IDA & IBRD countries)",
          "Latin America & the Caribbean (IDA & IBRD countries)",
          "Latin America & Caribbean (excluding high income)",
          "Latin America & Caribbean",
          "Europe & Central Asia (excluding high income)",
          "Thailand",
          "Uruguay",
          "Central Europe and the Baltics",
          "Algeria",
          "Andorra"
         ],
         "textposition": "top center",
         "type": "scatter",
         "x": [
          0.052380312234163284,
          -0.6963157653808594,
          3.496361255645752,
          2.2391796112060547,
          2.9965412616729736,
          -1.9828801155090332,
          5.269248008728027,
          -2.982483386993408,
          -0.5993186831474304,
          6.3231096267700195,
          0.9043235182762146,
          -0.4167488217353821,
          -1.8325717449188232,
          -1.6869667768478394,
          -0.8536620736122131,
          2.884625196456909,
          3.0973126888275146,
          0.5412713289260864,
          -1.7848087549209595,
          -0.5138119459152222,
          -0.36390888690948486,
          0.04058874025940895,
          0.7748401761054993,
          3.711914300918579,
          4.882709980010986,
          3.421102523803711,
          -2.0118885040283203,
          4.811800956726074,
          3.3977115154266357,
          -1.0594871044158936,
          -0.15053337812423706,
          5.521666526794434,
          -1.5422449111938477,
          2.4751229286193848,
          6.379361152648926,
          4.232366561889648,
          -0.4234587252140045,
          6.877430438995361,
          2.7628514766693115,
          -2.7100777626037598,
          6.182901382446289,
          1.7357721328735352,
          2.8915646076202393,
          0.40673500299453735,
          1.654990315437317,
          -0.6367149949073792,
          3.4778380393981934,
          -2.8033478260040283,
          0.6882246136665344,
          -2.679774045944214,
          2.521125078201294,
          -2.678081512451172,
          -2.2604012489318848,
          3.732182502746582,
          -0.43741050362586975,
          0.6817191243171692,
          -2.7904253005981445,
          0.188274085521698,
          -2.3345165252685547,
          -2.0788607597351074,
          -2.0866143703460693,
          -0.5707467794418335,
          -0.13082735240459442,
          3.753183364868164,
          5.196532249450684,
          -2.5644454956054688,
          4.883439064025879
         ],
         "xaxis": "x",
         "y": [
          -1.0061924457550049,
          1.5305681228637695,
          -3.001685619354248,
          -1.6875356435775757,
          -0.2740308344364166,
          1.7913404703140259,
          1.3359862565994263,
          0.16091637313365936,
          2.2543301582336426,
          -1.54741632938385,
          0.5730457305908203,
          0.1135559156537056,
          -0.4294280707836151,
          -0.4538283348083496,
          -0.5170664191246033,
          3.8566198348999023,
          3.148695468902588,
          -0.568386435508728,
          0.03129860758781433,
          -0.06757436692714691,
          1.6575145721435547,
          4.734168529510498,
          -1.2385449409484863,
          1.264359712600708,
          0.2592613101005554,
          -6.448805332183838,
          -0.4154592752456665,
          3.387338876724243,
          0.9531862735748291,
          2.9931223392486572,
          0.800338864326477,
          4.121262073516846,
          1.9141126871109009,
          0.5760181546211243,
          0.7145205736160278,
          1.7004237174987793,
          -1.0957752466201782,
          2.506866693496704,
          2.1863934993743896,
          1.923387885093689,
          0.6587187647819519,
          1.3772412538528442,
          0.2418413609266281,
          -0.5631596446037292,
          3.973971128463745,
          3.1425907611846924,
          -5.131260871887207,
          1.5032145977020264,
          0.23043306171894073,
          -0.9892386198043823,
          0.519385039806366,
          1.7809406518936157,
          -0.8410242199897766,
          0.9928283095359802,
          -1.8311728239059448,
          1.1596542596817017,
          -0.6084591150283813,
          0.7463733553886414,
          0.13891078531742096,
          0.12929804623126984,
          0.09429434686899185,
          0.6820850372314453,
          -3.706589698791504,
          -4.153106212615967,
          0.7126587629318237,
          -2.129668712615967,
          -2.433941125869751
         ],
         "yaxis": "y"
        },
        {
         "hovertemplate": "Cluster=Cluster 1<br>PCA1=%{x}<br>PCA2=%{y}<br>Label=%{text}<extra></extra>",
         "legendgroup": "Cluster 1",
         "marker": {
          "color": "#EF553B",
          "opacity": 0.5,
          "symbol": "circle"
         },
         "mode": "markers+text",
         "name": "Cluster 1",
         "orientation": "v",
         "showlegend": true,
         "text": [
          "Micronesia, Fed. Sts.",
          "Kiribati",
          "Finland",
          "France",
          "United Kingdom",
          "Germany",
          "Malta",
          "Greece",
          "Portugal",
          "Austria",
          "European Union",
          "Japan",
          "Australia",
          "Norway",
          "Netherlands",
          "United States",
          "Iceland",
          "Italy",
          "High income",
          "New Zealand",
          "Palau",
          "World",
          "Sweden",
          "Cuba",
          "Switzerland",
          "Slovak Republic",
          "Post-demographic dividend",
          "Serbia",
          "Spain",
          "Lesotho",
          "Europe & Central Asia",
          "Maldives",
          "Costa Rica",
          "Canada",
          "OECD members",
          "Croatia",
          "Ireland",
          "North America",
          "Czech Republic",
          "Denmark",
          "Euro area",
          "Belgium",
          "Slovenia",
          "Bosnia and Herzegovina",
          "Luxembourg"
         ],
         "textposition": "top center",
         "type": "scatter",
         "x": [
          28.026268005371094,
          23.42092514038086,
          10.726723670959473,
          20.274410247802734,
          12.929593086242676,
          19.694843292236328,
          7.314090728759766,
          7.18647575378418,
          11.141193389892578,
          18.36734390258789,
          14.94324016571045,
          13.813253402709961,
          8.67522144317627,
          16.671663284301758,
          14.383610725402832,
          14.058969497680664,
          15.946917533874512,
          11.481680870056152,
          13.13821792602539,
          15.48218059539795,
          13.858868598937988,
          8.629456520080566,
          18.387208938598633,
          16.809452056884766,
          11.693985939025879,
          7.348233222961426,
          13.808130264282227,
          7.647161960601807,
          10.043413162231445,
          7.060527801513672,
          13.23408317565918,
          7.4728803634643555,
          10.217764854431152,
          13.954540252685547,
          13.11438274383545,
          10.475305557250977,
          7.1713643074035645,
          14.032322883605957,
          10.210283279418945,
          20.070951461791992,
          15.823768615722656,
          14.600980758666992,
          11.318079948425293,
          7.014340877532959,
          10.74665355682373
         ],
         "xaxis": "x",
         "y": [
          -6.041880130767822,
          1.8232674598693848,
          -1.0307502746582031,
          0.5893162488937378,
          -2.2661397457122803,
          1.242645263671875,
          -1.6944079399108887,
          -1.3613539934158325,
          -0.3178442716598511,
          0.21312302350997925,
          -0.4116886556148529,
          -2.686579704284668,
          -0.36967992782592773,
          0.4446496367454529,
          -6.075818061828613,
          -2.128293752670288,
          2.1692214012145996,
          -1.2206807136535645,
          -1.1393778324127197,
          -4.743207931518555,
          3.442453384399414,
          0.3946133852005005,
          -2.200695276260376,
          -6.478084087371826,
          -1.83393132686615,
          0.6291037201881409,
          -1.4098869562149048,
          -1.4623485803604126,
          -0.9687381386756897,
          -6.859660625457764,
          0.2641634941101074,
          -4.919417381286621,
          -1.1138185262680054,
          -0.6679686903953552,
          -1.2698160409927368,
          0.35135331749916077,
          -0.255852609872818,
          -2.0055649280548096,
          0.9972887635231018,
          -2.057593822479248,
          -0.14470961689949036,
          -1.8679611682891846,
          0.43991732597351074,
          -3.51885724067688,
          0.6763545870780945
         ],
         "yaxis": "y"
        },
        {
         "hovertemplate": "Cluster=Cluster 2<br>PCA1=%{x}<br>PCA2=%{y}<br>Label=%{text}<extra></extra>",
         "legendgroup": "Cluster 2",
         "marker": {
          "color": "#00cc96",
          "opacity": 0.5,
          "symbol": "circle"
         },
         "mode": "markers+text",
         "name": "Cluster 2",
         "orientation": "v",
         "showlegend": true,
         "text": [
          "Vietnam",
          "Morocco",
          "Nepal",
          "Myanmar",
          "Venezuela, RB",
          "Mongolia",
          "Uzbekistan",
          "United Arab Emirates",
          "Nigeria",
          "Sudan",
          "St. Kitts and Nevis",
          "Sri Lanka",
          "Syrian Arab Republic",
          "Tajikistan",
          "Tanzania",
          "Togo",
          "Singapore",
          "Sierra Leone",
          "Mexico",
          "Niger",
          "Senegal",
          "Trinidad and Tobago",
          "Rwanda",
          "Turkmenistan",
          "Uganda",
          "Qatar",
          "Philippines",
          "Peru",
          "Paraguay",
          "Pakistan",
          "Oman",
          "Saudi Arabia",
          "Mauritius",
          "Arab World",
          "Chad",
          "Upper middle income",
          "Albania",
          "Angola",
          "Armenia",
          "Azerbaijan",
          "Bahamas, The",
          "Bahrain",
          "Bangladesh",
          "Belize",
          "Benin",
          "Brunei Darussalam",
          "Burkina Faso",
          "Burundi",
          "Cambodia",
          "Cameroon",
          "Sub-Saharan Africa (IDA & IBRD countries)",
          "Sub-Saharan Africa (excluding high income)",
          "Sub-Saharan Africa",
          "South Asia (IDA & IBRD)",
          "Caribbean small states",
          "Early-demographic dividend",
          "East Asia & Pacific (excluding high income)",
          "East Asia & Pacific (IDA & IBRD countries)",
          "Heavily indebted poor countries (HIPC)",
          "Late-demographic dividend",
          "Least developed countries: UN classification",
          "Central African Republic",
          "Low & middle income",
          "Lower middle income",
          "Middle East & North Africa",
          "Middle East & North Africa (excluding high income)",
          "Middle East & North Africa (IDA & IBRD countries)",
          "Middle income",
          "Pre-demographic dividend",
          "South Asia",
          "Low income",
          "Mauritania",
          "Zambia",
          "Comoros",
          "Yemen, Rep.",
          "India",
          "Indonesia",
          "Iran, Islamic Rep.",
          "Jamaica",
          "Kazakhstan",
          "Kenya",
          "Korea, Rep.",
          "Kuwait",
          "Kyrgyz Republic",
          "Lao PDR",
          "Libya",
          "Madagascar",
          "Malaysia",
          "Mali",
          "China",
          "Guinea-Bissau",
          "Haiti",
          "Guatemala",
          "Congo, Dem. Rep.",
          "Congo, Rep.",
          "Cote d'Ivoire",
          "Cyprus",
          "Dominican Republic",
          "Ecuador",
          "Egypt, Arab Rep.",
          "Equatorial Guinea",
          "Eritrea",
          "Ethiopia",
          "Fiji",
          "Gabon",
          "Gambia, The",
          "Georgia",
          "Ghana",
          "Guinea"
         ],
         "textposition": "top center",
         "type": "scatter",
         "x": [
          -6.8381266593933105,
          -9.484298706054688,
          -7.4815354347229,
          -15.115267753601074,
          -8.009969711303711,
          -3.7099454402923584,
          -4.343996047973633,
          -7.527413845062256,
          -12.093504905700684,
          -10.187896728515625,
          -5.982303142547607,
          -9.033280372619629,
          -8.349933624267578,
          -10.740166664123535,
          -6.704511642456055,
          -8.637772560119629,
          -10.783146858215332,
          -6.071122169494629,
          -4.862788200378418,
          -6.897018909454346,
          -7.128722190856934,
          -5.193397521972656,
          -4.536766529083252,
          -7.808117866516113,
          -7.410105228424072,
          -7.287595272064209,
          -10.375983238220215,
          -4.701430797576904,
          -3.3258793354034424,
          -13.27417278289795,
          -5.783050537109375,
          -5.28060245513916,
          -7.183761119842529,
          -5.978132724761963,
          -8.739667892456055,
          -3.556546211242676,
          -5.6659698486328125,
          -6.175836086273193,
          -8.887700080871582,
          -11.990190505981445,
          -3.472736358642578,
          -5.140449047088623,
          -12.279272079467773,
          -3.678234577178955,
          -6.759047985076904,
          -5.553746700286865,
          -3.5927114486694336,
          -3.911463499069214,
          -9.835626602172852,
          -11.816549301147461,
          -5.726459980010986,
          -5.733958721160889,
          -5.726459980010986,
          -11.717745780944824,
          -3.5335493087768555,
          -5.874887466430664,
          -7.338890552520752,
          -7.338891983032227,
          -6.779114246368408,
          -3.486583948135376,
          -8.473370552062988,
          -8.32892894744873,
          -5.029770851135254,
          -10.122086524963379,
          -4.754617214202881,
          -5.6689372062683105,
          -5.6689372062683105,
          -5.002990245819092,
          -8.803685188293457,
          -11.717745780944824,
          -6.935488224029541,
          -8.209722518920898,
          -3.718336343765259,
          -7.131632328033447,
          -9.084057807922363,
          -11.649965286254883,
          -12.538193702697754,
          -6.2949347496032715,
          -4.276338577270508,
          -6.102006912231445,
          -7.505875110626221,
          -3.842271566390991,
          -5.756710529327393,
          -3.4829516410827637,
          -11.157061576843262,
          -6.851592540740967,
          -6.318006992340088,
          -7.845047950744629,
          -4.999397277832031,
          -7.0859694480896,
          -10.528329849243164,
          -9.335433959960938,
          -7.279535293579102,
          -12.749903678894043,
          -8.321722030639648,
          -9.491377830505371,
          -4.343444347381592,
          -7.780851364135742,
          -7.790555477142334,
          -7.622395992279053,
          -6.338708400726318,
          -9.859074592590332,
          -5.80487060546875,
          -4.139888286590576,
          -9.644116401672363,
          -5.068431854248047,
          -10.269096374511719,
          -5.329249382019043,
          -10.945541381835938
         ],
         "xaxis": "x",
         "y": [
          -2.1054229736328125,
          -0.6743403077125549,
          -0.8377730250358582,
          -0.02833937108516693,
          0.822855532169342,
          2.5255253314971924,
          1.2898781299591064,
          -0.36883077025413513,
          0.31707772612571716,
          -1.5314699411392212,
          2.123293876647949,
          0.9368368983268738,
          1.9279965162277222,
          -0.3564603328704834,
          -1.2122210264205933,
          -0.47962480783462524,
          0.3453403413295746,
          2.0535695552825928,
          -0.6462077498435974,
          -0.8646860122680664,
          -0.48744428157806396,
          -0.14709506928920746,
          -0.50392085313797,
          3.6314570903778076,
          -0.09849534183740616,
          1.7017608880996704,
          0.689446210861206,
          0.41004180908203125,
          -1.7654683589935303,
          0.15195535123348236,
          1.8771063089370728,
          -0.005354142282158136,
          0.2696138024330139,
          0.06008841469883919,
          2.006734848022461,
          0.014294168911874294,
          -0.2991490364074707,
          1.048399806022644,
          0.23380312323570251,
          0.6302441954612732,
          -0.4216976463794708,
          1.019181489944458,
          0.9292944073677063,
          -1.553841471672058,
          0.27221763134002686,
          2.0371992588043213,
          -1.1581422090530396,
          -4.799630641937256,
          1.3203701972961426,
          0.4203891158103943,
          0.8552923798561096,
          0.850249707698822,
          0.8552923798561096,
          0.3996824026107788,
          0.4273160398006439,
          0.5811585187911987,
          -0.9944974780082703,
          -0.9944961071014404,
          -0.5068843364715576,
          0.03421942889690399,
          -0.09237464517354965,
          0.5463135838508606,
          0.05559265613555908,
          0.4750605821609497,
          0.44875994324684143,
          -0.38263025879859924,
          -0.38263025879859924,
          0.06441929936408997,
          -0.17604610323905945,
          0.3996824026107788,
          -0.5257810950279236,
          2.001793622970581,
          2.1178934574127197,
          1.2418291568756104,
          1.9725457429885864,
          0.43878406286239624,
          0.1599363535642624,
          -0.42991188168525696,
          0.8183038830757141,
          1.4083210229873657,
          -0.6464163661003113,
          -2.521862268447876,
          1.97816801071167,
          -1.33468759059906,
          1.9136967658996582,
          -0.8158917427062988,
          0.8693103194236755,
          0.02881024032831192,
          1.4976149797439575,
          -1.058559536933899,
          1.029265284538269,
          2.0096092224121094,
          -0.01012346800416708,
          -1.7875198125839233,
          -1.1761044263839722,
          0.896887481212616,
          -1.129575490951538,
          -0.7418308854103088,
          -1.999563455581665,
          0.8432788848876953,
          -0.05447254702448845,
          1.4370535612106323,
          -1.606729507446289,
          0.8117642402648926,
          -0.92183917760849,
          -4.230260372161865,
          -0.28895190358161926,
          -1.7584589719772339,
          -1.1451208591461182
         ],
         "yaxis": "y"
        },
        {
         "hovertemplate": "Cluster=Cluster 3<br>PCA1=%{x}<br>PCA2=%{y}<br>Label=%{text}<extra></extra>",
         "legendgroup": "Cluster 3",
         "marker": {
          "color": "#ab63fa",
          "opacity": 0.5,
          "symbol": "circle"
         },
         "mode": "markers+text",
         "name": "Cluster 3",
         "orientation": "v",
         "showlegend": true,
         "text": [
          "Nauru",
          "Tuvalu",
          "Marshall Islands"
         ],
         "textposition": "top center",
         "type": "scatter",
         "x": [
          32.54296112060547,
          49.136138916015625,
          55.908084869384766
         ],
         "xaxis": "x",
         "y": [
          14.525511741638184,
          -4.779350280761719,
          11.190154075622559
         ],
         "yaxis": "y"
        }
       ],
       "layout": {
        "height": 600,
        "legend": {
         "title": {
          "text": "Cluster"
         },
         "tracegroupgap": 0
        },
        "margin": {
         "t": 60
        },
        "plot_bgcolor": "rgb(240,240,240)",
        "template": {
         "data": {
          "bar": [
           {
            "error_x": {
             "color": "#2a3f5f"
            },
            "error_y": {
             "color": "#2a3f5f"
            },
            "marker": {
             "line": {
              "color": "#E5ECF6",
              "width": 0.5
             }
            },
            "type": "bar"
           }
          ],
          "barpolar": [
           {
            "marker": {
             "line": {
              "color": "#E5ECF6",
              "width": 0.5
             }
            },
            "type": "barpolar"
           }
          ],
          "carpet": [
           {
            "aaxis": {
             "endlinecolor": "#2a3f5f",
             "gridcolor": "white",
             "linecolor": "white",
             "minorgridcolor": "white",
             "startlinecolor": "#2a3f5f"
            },
            "baxis": {
             "endlinecolor": "#2a3f5f",
             "gridcolor": "white",
             "linecolor": "white",
             "minorgridcolor": "white",
             "startlinecolor": "#2a3f5f"
            },
            "type": "carpet"
           }
          ],
          "choropleth": [
           {
            "colorbar": {
             "outlinewidth": 0,
             "ticks": ""
            },
            "type": "choropleth"
           }
          ],
          "contour": [
           {
            "colorbar": {
             "outlinewidth": 0,
             "ticks": ""
            },
            "colorscale": [
             [
              0,
              "#0d0887"
             ],
             [
              0.1111111111111111,
              "#46039f"
             ],
             [
              0.2222222222222222,
              "#7201a8"
             ],
             [
              0.3333333333333333,
              "#9c179e"
             ],
             [
              0.4444444444444444,
              "#bd3786"
             ],
             [
              0.5555555555555556,
              "#d8576b"
             ],
             [
              0.6666666666666666,
              "#ed7953"
             ],
             [
              0.7777777777777778,
              "#fb9f3a"
             ],
             [
              0.8888888888888888,
              "#fdca26"
             ],
             [
              1,
              "#f0f921"
             ]
            ],
            "type": "contour"
           }
          ],
          "contourcarpet": [
           {
            "colorbar": {
             "outlinewidth": 0,
             "ticks": ""
            },
            "type": "contourcarpet"
           }
          ],
          "heatmap": [
           {
            "colorbar": {
             "outlinewidth": 0,
             "ticks": ""
            },
            "colorscale": [
             [
              0,
              "#0d0887"
             ],
             [
              0.1111111111111111,
              "#46039f"
             ],
             [
              0.2222222222222222,
              "#7201a8"
             ],
             [
              0.3333333333333333,
              "#9c179e"
             ],
             [
              0.4444444444444444,
              "#bd3786"
             ],
             [
              0.5555555555555556,
              "#d8576b"
             ],
             [
              0.6666666666666666,
              "#ed7953"
             ],
             [
              0.7777777777777778,
              "#fb9f3a"
             ],
             [
              0.8888888888888888,
              "#fdca26"
             ],
             [
              1,
              "#f0f921"
             ]
            ],
            "type": "heatmap"
           }
          ],
          "heatmapgl": [
           {
            "colorbar": {
             "outlinewidth": 0,
             "ticks": ""
            },
            "colorscale": [
             [
              0,
              "#0d0887"
             ],
             [
              0.1111111111111111,
              "#46039f"
             ],
             [
              0.2222222222222222,
              "#7201a8"
             ],
             [
              0.3333333333333333,
              "#9c179e"
             ],
             [
              0.4444444444444444,
              "#bd3786"
             ],
             [
              0.5555555555555556,
              "#d8576b"
             ],
             [
              0.6666666666666666,
              "#ed7953"
             ],
             [
              0.7777777777777778,
              "#fb9f3a"
             ],
             [
              0.8888888888888888,
              "#fdca26"
             ],
             [
              1,
              "#f0f921"
             ]
            ],
            "type": "heatmapgl"
           }
          ],
          "histogram": [
           {
            "marker": {
             "colorbar": {
              "outlinewidth": 0,
              "ticks": ""
             }
            },
            "type": "histogram"
           }
          ],
          "histogram2d": [
           {
            "colorbar": {
             "outlinewidth": 0,
             "ticks": ""
            },
            "colorscale": [
             [
              0,
              "#0d0887"
             ],
             [
              0.1111111111111111,
              "#46039f"
             ],
             [
              0.2222222222222222,
              "#7201a8"
             ],
             [
              0.3333333333333333,
              "#9c179e"
             ],
             [
              0.4444444444444444,
              "#bd3786"
             ],
             [
              0.5555555555555556,
              "#d8576b"
             ],
             [
              0.6666666666666666,
              "#ed7953"
             ],
             [
              0.7777777777777778,
              "#fb9f3a"
             ],
             [
              0.8888888888888888,
              "#fdca26"
             ],
             [
              1,
              "#f0f921"
             ]
            ],
            "type": "histogram2d"
           }
          ],
          "histogram2dcontour": [
           {
            "colorbar": {
             "outlinewidth": 0,
             "ticks": ""
            },
            "colorscale": [
             [
              0,
              "#0d0887"
             ],
             [
              0.1111111111111111,
              "#46039f"
             ],
             [
              0.2222222222222222,
              "#7201a8"
             ],
             [
              0.3333333333333333,
              "#9c179e"
             ],
             [
              0.4444444444444444,
              "#bd3786"
             ],
             [
              0.5555555555555556,
              "#d8576b"
             ],
             [
              0.6666666666666666,
              "#ed7953"
             ],
             [
              0.7777777777777778,
              "#fb9f3a"
             ],
             [
              0.8888888888888888,
              "#fdca26"
             ],
             [
              1,
              "#f0f921"
             ]
            ],
            "type": "histogram2dcontour"
           }
          ],
          "mesh3d": [
           {
            "colorbar": {
             "outlinewidth": 0,
             "ticks": ""
            },
            "type": "mesh3d"
           }
          ],
          "parcoords": [
           {
            "line": {
             "colorbar": {
              "outlinewidth": 0,
              "ticks": ""
             }
            },
            "type": "parcoords"
           }
          ],
          "pie": [
           {
            "automargin": true,
            "type": "pie"
           }
          ],
          "scatter": [
           {
            "marker": {
             "colorbar": {
              "outlinewidth": 0,
              "ticks": ""
             }
            },
            "type": "scatter"
           }
          ],
          "scatter3d": [
           {
            "line": {
             "colorbar": {
              "outlinewidth": 0,
              "ticks": ""
             }
            },
            "marker": {
             "colorbar": {
              "outlinewidth": 0,
              "ticks": ""
             }
            },
            "type": "scatter3d"
           }
          ],
          "scattercarpet": [
           {
            "marker": {
             "colorbar": {
              "outlinewidth": 0,
              "ticks": ""
             }
            },
            "type": "scattercarpet"
           }
          ],
          "scattergeo": [
           {
            "marker": {
             "colorbar": {
              "outlinewidth": 0,
              "ticks": ""
             }
            },
            "type": "scattergeo"
           }
          ],
          "scattergl": [
           {
            "marker": {
             "colorbar": {
              "outlinewidth": 0,
              "ticks": ""
             }
            },
            "type": "scattergl"
           }
          ],
          "scattermapbox": [
           {
            "marker": {
             "colorbar": {
              "outlinewidth": 0,
              "ticks": ""
             }
            },
            "type": "scattermapbox"
           }
          ],
          "scatterpolar": [
           {
            "marker": {
             "colorbar": {
              "outlinewidth": 0,
              "ticks": ""
             }
            },
            "type": "scatterpolar"
           }
          ],
          "scatterpolargl": [
           {
            "marker": {
             "colorbar": {
              "outlinewidth": 0,
              "ticks": ""
             }
            },
            "type": "scatterpolargl"
           }
          ],
          "scatterternary": [
           {
            "marker": {
             "colorbar": {
              "outlinewidth": 0,
              "ticks": ""
             }
            },
            "type": "scatterternary"
           }
          ],
          "surface": [
           {
            "colorbar": {
             "outlinewidth": 0,
             "ticks": ""
            },
            "colorscale": [
             [
              0,
              "#0d0887"
             ],
             [
              0.1111111111111111,
              "#46039f"
             ],
             [
              0.2222222222222222,
              "#7201a8"
             ],
             [
              0.3333333333333333,
              "#9c179e"
             ],
             [
              0.4444444444444444,
              "#bd3786"
             ],
             [
              0.5555555555555556,
              "#d8576b"
             ],
             [
              0.6666666666666666,
              "#ed7953"
             ],
             [
              0.7777777777777778,
              "#fb9f3a"
             ],
             [
              0.8888888888888888,
              "#fdca26"
             ],
             [
              1,
              "#f0f921"
             ]
            ],
            "type": "surface"
           }
          ],
          "table": [
           {
            "cells": {
             "fill": {
              "color": "#EBF0F8"
             },
             "line": {
              "color": "white"
             }
            },
            "header": {
             "fill": {
              "color": "#C8D4E3"
             },
             "line": {
              "color": "white"
             }
            },
            "type": "table"
           }
          ]
         },
         "layout": {
          "annotationdefaults": {
           "arrowcolor": "#2a3f5f",
           "arrowhead": 0,
           "arrowwidth": 1
          },
          "autotypenumbers": "strict",
          "coloraxis": {
           "colorbar": {
            "outlinewidth": 0,
            "ticks": ""
           }
          },
          "colorscale": {
           "diverging": [
            [
             0,
             "#8e0152"
            ],
            [
             0.1,
             "#c51b7d"
            ],
            [
             0.2,
             "#de77ae"
            ],
            [
             0.3,
             "#f1b6da"
            ],
            [
             0.4,
             "#fde0ef"
            ],
            [
             0.5,
             "#f7f7f7"
            ],
            [
             0.6,
             "#e6f5d0"
            ],
            [
             0.7,
             "#b8e186"
            ],
            [
             0.8,
             "#7fbc41"
            ],
            [
             0.9,
             "#4d9221"
            ],
            [
             1,
             "#276419"
            ]
           ],
           "sequential": [
            [
             0,
             "#0d0887"
            ],
            [
             0.1111111111111111,
             "#46039f"
            ],
            [
             0.2222222222222222,
             "#7201a8"
            ],
            [
             0.3333333333333333,
             "#9c179e"
            ],
            [
             0.4444444444444444,
             "#bd3786"
            ],
            [
             0.5555555555555556,
             "#d8576b"
            ],
            [
             0.6666666666666666,
             "#ed7953"
            ],
            [
             0.7777777777777778,
             "#fb9f3a"
            ],
            [
             0.8888888888888888,
             "#fdca26"
            ],
            [
             1,
             "#f0f921"
            ]
           ],
           "sequentialminus": [
            [
             0,
             "#0d0887"
            ],
            [
             0.1111111111111111,
             "#46039f"
            ],
            [
             0.2222222222222222,
             "#7201a8"
            ],
            [
             0.3333333333333333,
             "#9c179e"
            ],
            [
             0.4444444444444444,
             "#bd3786"
            ],
            [
             0.5555555555555556,
             "#d8576b"
            ],
            [
             0.6666666666666666,
             "#ed7953"
            ],
            [
             0.7777777777777778,
             "#fb9f3a"
            ],
            [
             0.8888888888888888,
             "#fdca26"
            ],
            [
             1,
             "#f0f921"
            ]
           ]
          },
          "colorway": [
           "#636efa",
           "#EF553B",
           "#00cc96",
           "#ab63fa",
           "#FFA15A",
           "#19d3f3",
           "#FF6692",
           "#B6E880",
           "#FF97FF",
           "#FECB52"
          ],
          "font": {
           "color": "#2a3f5f"
          },
          "geo": {
           "bgcolor": "white",
           "lakecolor": "white",
           "landcolor": "#E5ECF6",
           "showlakes": true,
           "showland": true,
           "subunitcolor": "white"
          },
          "hoverlabel": {
           "align": "left"
          },
          "hovermode": "closest",
          "mapbox": {
           "style": "light"
          },
          "paper_bgcolor": "white",
          "plot_bgcolor": "#E5ECF6",
          "polar": {
           "angularaxis": {
            "gridcolor": "white",
            "linecolor": "white",
            "ticks": ""
           },
           "bgcolor": "#E5ECF6",
           "radialaxis": {
            "gridcolor": "white",
            "linecolor": "white",
            "ticks": ""
           }
          },
          "scene": {
           "xaxis": {
            "backgroundcolor": "#E5ECF6",
            "gridcolor": "white",
            "gridwidth": 2,
            "linecolor": "white",
            "showbackground": true,
            "ticks": "",
            "zerolinecolor": "white"
           },
           "yaxis": {
            "backgroundcolor": "#E5ECF6",
            "gridcolor": "white",
            "gridwidth": 2,
            "linecolor": "white",
            "showbackground": true,
            "ticks": "",
            "zerolinecolor": "white"
           },
           "zaxis": {
            "backgroundcolor": "#E5ECF6",
            "gridcolor": "white",
            "gridwidth": 2,
            "linecolor": "white",
            "showbackground": true,
            "ticks": "",
            "zerolinecolor": "white"
           }
          },
          "shapedefaults": {
           "line": {
            "color": "#2a3f5f"
           }
          },
          "ternary": {
           "aaxis": {
            "gridcolor": "white",
            "linecolor": "white",
            "ticks": ""
           },
           "baxis": {
            "gridcolor": "white",
            "linecolor": "white",
            "ticks": ""
           },
           "bgcolor": "#E5ECF6",
           "caxis": {
            "gridcolor": "white",
            "linecolor": "white",
            "ticks": ""
           }
          },
          "title": {
           "x": 0.05
          },
          "xaxis": {
           "automargin": true,
           "gridcolor": "white",
           "linecolor": "white",
           "ticks": "",
           "title": {
            "standoff": 15
           },
           "zerolinecolor": "white",
           "zerolinewidth": 2
          },
          "yaxis": {
           "automargin": true,
           "gridcolor": "white",
           "linecolor": "white",
           "ticks": "",
           "title": {
            "standoff": 15
           },
           "zerolinecolor": "white",
           "zerolinewidth": 2
          }
         }
        },
        "title": {
         "text": "2D Cluster PCA Plot"
        },
        "xaxis": {
         "anchor": "y",
         "domain": [
          0,
          1
         ],
         "title": {
          "text": "PCA1"
         }
        },
        "yaxis": {
         "anchor": "x",
         "domain": [
          0,
          1
         ],
         "title": {
          "text": "PCA2"
         }
        }
       }
      },
      "text/html": [
       "<div>                            <div id=\"f038ab62-5654-46d6-90db-84725de78418\" class=\"plotly-graph-div\" style=\"height:600px; width:100%;\"></div>            <script type=\"text/javascript\">                require([\"plotly\"], function(Plotly) {                    window.PLOTLYENV=window.PLOTLYENV || {};                                    if (document.getElementById(\"f038ab62-5654-46d6-90db-84725de78418\")) {                    Plotly.newPlot(                        \"f038ab62-5654-46d6-90db-84725de78418\",                        [{\"hovertemplate\": \"Cluster=Cluster 0<br>PCA1=%{x}<br>PCA2=%{y}<br>Label=%{text}<extra></extra>\", \"legendgroup\": \"Cluster 0\", \"marker\": {\"color\": \"#636efa\", \"opacity\": 0.5, \"symbol\": \"circle\"}, \"mode\": \"markers+text\", \"name\": \"Cluster 0\", \"orientation\": \"v\", \"showlegend\": true, \"text\": [\"Honduras\", \"Dominica\", \"Djibouti\", \"Samoa\", \"San Marino\", \"Sao Tome and Principe\", \"Colombia\", \"Chile\", \"Cabo Verde\", \"Solomon Islands\", \"Bulgaria\", \"South Africa\", \"Brazil\", \"Botswana\", \"Bolivia\", \"Bhutan\", \"Belarus\", \"Barbados\", \"St. Lucia\", \"St. Vincent and the Grenadines\", \"Russian Federation\", \"Suriname\", \"Romania\", \"Estonia\", \"Moldova\", \"Malawi\", \"Monaco\", \"Macedonia, FYR\", \"Lithuania\", \"Lebanon\", \"Latvia\", \"Montenegro\", \"Mozambique\", \"Namibia\", \"Jordan\", \"Israel\", \"Nicaragua\", \"Hungary\", \"Guyana\", \"Grenada\", \"Panama\", \"Papua New Guinea\", \"Poland\", \"El Salvador\", \"Argentina\", \"Seychelles\", \"Swaziland\", \"Small states\", \"Tonga\", \"Vanuatu\", \"Pacific island small states\", \"Other small states\", \"Tunisia\", \"East Asia & Pacific\", \"Turkey\", \"Ukraine\", \"Antigua and Barbuda\", \"Europe & Central Asia (IDA & IBRD countries)\", \"Latin America & the Caribbean (IDA & IBRD countries)\", \"Latin America & Caribbean (excluding high income)\", \"Latin America & Caribbean\", \"Europe & Central Asia (excluding high income)\", \"Thailand\", \"Uruguay\", \"Central Europe and the Baltics\", \"Algeria\", \"Andorra\"], \"textposition\": \"top center\", \"type\": \"scatter\", \"x\": [0.052380312234163284, -0.6963157653808594, 3.496361255645752, 2.2391796112060547, 2.9965412616729736, -1.9828801155090332, 5.269248008728027, -2.982483386993408, -0.5993186831474304, 6.3231096267700195, 0.9043235182762146, -0.4167488217353821, -1.8325717449188232, -1.6869667768478394, -0.8536620736122131, 2.884625196456909, 3.0973126888275146, 0.5412713289260864, -1.7848087549209595, -0.5138119459152222, -0.36390888690948486, 0.04058874025940895, 0.7748401761054993, 3.711914300918579, 4.882709980010986, 3.421102523803711, -2.0118885040283203, 4.811800956726074, 3.3977115154266357, -1.0594871044158936, -0.15053337812423706, 5.521666526794434, -1.5422449111938477, 2.4751229286193848, 6.379361152648926, 4.232366561889648, -0.4234587252140045, 6.877430438995361, 2.7628514766693115, -2.7100777626037598, 6.182901382446289, 1.7357721328735352, 2.8915646076202393, 0.40673500299453735, 1.654990315437317, -0.6367149949073792, 3.4778380393981934, -2.8033478260040283, 0.6882246136665344, -2.679774045944214, 2.521125078201294, -2.678081512451172, -2.2604012489318848, 3.732182502746582, -0.43741050362586975, 0.6817191243171692, -2.7904253005981445, 0.188274085521698, -2.3345165252685547, -2.0788607597351074, -2.0866143703460693, -0.5707467794418335, -0.13082735240459442, 3.753183364868164, 5.196532249450684, -2.5644454956054688, 4.883439064025879], \"xaxis\": \"x\", \"y\": [-1.0061924457550049, 1.5305681228637695, -3.001685619354248, -1.6875356435775757, -0.2740308344364166, 1.7913404703140259, 1.3359862565994263, 0.16091637313365936, 2.2543301582336426, -1.54741632938385, 0.5730457305908203, 0.1135559156537056, -0.4294280707836151, -0.4538283348083496, -0.5170664191246033, 3.8566198348999023, 3.148695468902588, -0.568386435508728, 0.03129860758781433, -0.06757436692714691, 1.6575145721435547, 4.734168529510498, -1.2385449409484863, 1.264359712600708, 0.2592613101005554, -6.448805332183838, -0.4154592752456665, 3.387338876724243, 0.9531862735748291, 2.9931223392486572, 0.800338864326477, 4.121262073516846, 1.9141126871109009, 0.5760181546211243, 0.7145205736160278, 1.7004237174987793, -1.0957752466201782, 2.506866693496704, 2.1863934993743896, 1.923387885093689, 0.6587187647819519, 1.3772412538528442, 0.2418413609266281, -0.5631596446037292, 3.973971128463745, 3.1425907611846924, -5.131260871887207, 1.5032145977020264, 0.23043306171894073, -0.9892386198043823, 0.519385039806366, 1.7809406518936157, -0.8410242199897766, 0.9928283095359802, -1.8311728239059448, 1.1596542596817017, -0.6084591150283813, 0.7463733553886414, 0.13891078531742096, 0.12929804623126984, 0.09429434686899185, 0.6820850372314453, -3.706589698791504, -4.153106212615967, 0.7126587629318237, -2.129668712615967, -2.433941125869751], \"yaxis\": \"y\"}, {\"hovertemplate\": \"Cluster=Cluster 1<br>PCA1=%{x}<br>PCA2=%{y}<br>Label=%{text}<extra></extra>\", \"legendgroup\": \"Cluster 1\", \"marker\": {\"color\": \"#EF553B\", \"opacity\": 0.5, \"symbol\": \"circle\"}, \"mode\": \"markers+text\", \"name\": \"Cluster 1\", \"orientation\": \"v\", \"showlegend\": true, \"text\": [\"Micronesia, Fed. Sts.\", \"Kiribati\", \"Finland\", \"France\", \"United Kingdom\", \"Germany\", \"Malta\", \"Greece\", \"Portugal\", \"Austria\", \"European Union\", \"Japan\", \"Australia\", \"Norway\", \"Netherlands\", \"United States\", \"Iceland\", \"Italy\", \"High income\", \"New Zealand\", \"Palau\", \"World\", \"Sweden\", \"Cuba\", \"Switzerland\", \"Slovak Republic\", \"Post-demographic dividend\", \"Serbia\", \"Spain\", \"Lesotho\", \"Europe & Central Asia\", \"Maldives\", \"Costa Rica\", \"Canada\", \"OECD members\", \"Croatia\", \"Ireland\", \"North America\", \"Czech Republic\", \"Denmark\", \"Euro area\", \"Belgium\", \"Slovenia\", \"Bosnia and Herzegovina\", \"Luxembourg\"], \"textposition\": \"top center\", \"type\": \"scatter\", \"x\": [28.026268005371094, 23.42092514038086, 10.726723670959473, 20.274410247802734, 12.929593086242676, 19.694843292236328, 7.314090728759766, 7.18647575378418, 11.141193389892578, 18.36734390258789, 14.94324016571045, 13.813253402709961, 8.67522144317627, 16.671663284301758, 14.383610725402832, 14.058969497680664, 15.946917533874512, 11.481680870056152, 13.13821792602539, 15.48218059539795, 13.858868598937988, 8.629456520080566, 18.387208938598633, 16.809452056884766, 11.693985939025879, 7.348233222961426, 13.808130264282227, 7.647161960601807, 10.043413162231445, 7.060527801513672, 13.23408317565918, 7.4728803634643555, 10.217764854431152, 13.954540252685547, 13.11438274383545, 10.475305557250977, 7.1713643074035645, 14.032322883605957, 10.210283279418945, 20.070951461791992, 15.823768615722656, 14.600980758666992, 11.318079948425293, 7.014340877532959, 10.74665355682373], \"xaxis\": \"x\", \"y\": [-6.041880130767822, 1.8232674598693848, -1.0307502746582031, 0.5893162488937378, -2.2661397457122803, 1.242645263671875, -1.6944079399108887, -1.3613539934158325, -0.3178442716598511, 0.21312302350997925, -0.4116886556148529, -2.686579704284668, -0.36967992782592773, 0.4446496367454529, -6.075818061828613, -2.128293752670288, 2.1692214012145996, -1.2206807136535645, -1.1393778324127197, -4.743207931518555, 3.442453384399414, 0.3946133852005005, -2.200695276260376, -6.478084087371826, -1.83393132686615, 0.6291037201881409, -1.4098869562149048, -1.4623485803604126, -0.9687381386756897, -6.859660625457764, 0.2641634941101074, -4.919417381286621, -1.1138185262680054, -0.6679686903953552, -1.2698160409927368, 0.35135331749916077, -0.255852609872818, -2.0055649280548096, 0.9972887635231018, -2.057593822479248, -0.14470961689949036, -1.8679611682891846, 0.43991732597351074, -3.51885724067688, 0.6763545870780945], \"yaxis\": \"y\"}, {\"hovertemplate\": \"Cluster=Cluster 2<br>PCA1=%{x}<br>PCA2=%{y}<br>Label=%{text}<extra></extra>\", \"legendgroup\": \"Cluster 2\", \"marker\": {\"color\": \"#00cc96\", \"opacity\": 0.5, \"symbol\": \"circle\"}, \"mode\": \"markers+text\", \"name\": \"Cluster 2\", \"orientation\": \"v\", \"showlegend\": true, \"text\": [\"Vietnam\", \"Morocco\", \"Nepal\", \"Myanmar\", \"Venezuela, RB\", \"Mongolia\", \"Uzbekistan\", \"United Arab Emirates\", \"Nigeria\", \"Sudan\", \"St. Kitts and Nevis\", \"Sri Lanka\", \"Syrian Arab Republic\", \"Tajikistan\", \"Tanzania\", \"Togo\", \"Singapore\", \"Sierra Leone\", \"Mexico\", \"Niger\", \"Senegal\", \"Trinidad and Tobago\", \"Rwanda\", \"Turkmenistan\", \"Uganda\", \"Qatar\", \"Philippines\", \"Peru\", \"Paraguay\", \"Pakistan\", \"Oman\", \"Saudi Arabia\", \"Mauritius\", \"Arab World\", \"Chad\", \"Upper middle income\", \"Albania\", \"Angola\", \"Armenia\", \"Azerbaijan\", \"Bahamas, The\", \"Bahrain\", \"Bangladesh\", \"Belize\", \"Benin\", \"Brunei Darussalam\", \"Burkina Faso\", \"Burundi\", \"Cambodia\", \"Cameroon\", \"Sub-Saharan Africa (IDA & IBRD countries)\", \"Sub-Saharan Africa (excluding high income)\", \"Sub-Saharan Africa\", \"South Asia (IDA & IBRD)\", \"Caribbean small states\", \"Early-demographic dividend\", \"East Asia & Pacific (excluding high income)\", \"East Asia & Pacific (IDA & IBRD countries)\", \"Heavily indebted poor countries (HIPC)\", \"Late-demographic dividend\", \"Least developed countries: UN classification\", \"Central African Republic\", \"Low & middle income\", \"Lower middle income\", \"Middle East & North Africa\", \"Middle East & North Africa (excluding high income)\", \"Middle East & North Africa (IDA & IBRD countries)\", \"Middle income\", \"Pre-demographic dividend\", \"South Asia\", \"Low income\", \"Mauritania\", \"Zambia\", \"Comoros\", \"Yemen, Rep.\", \"India\", \"Indonesia\", \"Iran, Islamic Rep.\", \"Jamaica\", \"Kazakhstan\", \"Kenya\", \"Korea, Rep.\", \"Kuwait\", \"Kyrgyz Republic\", \"Lao PDR\", \"Libya\", \"Madagascar\", \"Malaysia\", \"Mali\", \"China\", \"Guinea-Bissau\", \"Haiti\", \"Guatemala\", \"Congo, Dem. Rep.\", \"Congo, Rep.\", \"Cote d'Ivoire\", \"Cyprus\", \"Dominican Republic\", \"Ecuador\", \"Egypt, Arab Rep.\", \"Equatorial Guinea\", \"Eritrea\", \"Ethiopia\", \"Fiji\", \"Gabon\", \"Gambia, The\", \"Georgia\", \"Ghana\", \"Guinea\"], \"textposition\": \"top center\", \"type\": \"scatter\", \"x\": [-6.8381266593933105, -9.484298706054688, -7.4815354347229, -15.115267753601074, -8.009969711303711, -3.7099454402923584, -4.343996047973633, -7.527413845062256, -12.093504905700684, -10.187896728515625, -5.982303142547607, -9.033280372619629, -8.349933624267578, -10.740166664123535, -6.704511642456055, -8.637772560119629, -10.783146858215332, -6.071122169494629, -4.862788200378418, -6.897018909454346, -7.128722190856934, -5.193397521972656, -4.536766529083252, -7.808117866516113, -7.410105228424072, -7.287595272064209, -10.375983238220215, -4.701430797576904, -3.3258793354034424, -13.27417278289795, -5.783050537109375, -5.28060245513916, -7.183761119842529, -5.978132724761963, -8.739667892456055, -3.556546211242676, -5.6659698486328125, -6.175836086273193, -8.887700080871582, -11.990190505981445, -3.472736358642578, -5.140449047088623, -12.279272079467773, -3.678234577178955, -6.759047985076904, -5.553746700286865, -3.5927114486694336, -3.911463499069214, -9.835626602172852, -11.816549301147461, -5.726459980010986, -5.733958721160889, -5.726459980010986, -11.717745780944824, -3.5335493087768555, -5.874887466430664, -7.338890552520752, -7.338891983032227, -6.779114246368408, -3.486583948135376, -8.473370552062988, -8.32892894744873, -5.029770851135254, -10.122086524963379, -4.754617214202881, -5.6689372062683105, -5.6689372062683105, -5.002990245819092, -8.803685188293457, -11.717745780944824, -6.935488224029541, -8.209722518920898, -3.718336343765259, -7.131632328033447, -9.084057807922363, -11.649965286254883, -12.538193702697754, -6.2949347496032715, -4.276338577270508, -6.102006912231445, -7.505875110626221, -3.842271566390991, -5.756710529327393, -3.4829516410827637, -11.157061576843262, -6.851592540740967, -6.318006992340088, -7.845047950744629, -4.999397277832031, -7.0859694480896, -10.528329849243164, -9.335433959960938, -7.279535293579102, -12.749903678894043, -8.321722030639648, -9.491377830505371, -4.343444347381592, -7.780851364135742, -7.790555477142334, -7.622395992279053, -6.338708400726318, -9.859074592590332, -5.80487060546875, -4.139888286590576, -9.644116401672363, -5.068431854248047, -10.269096374511719, -5.329249382019043, -10.945541381835938], \"xaxis\": \"x\", \"y\": [-2.1054229736328125, -0.6743403077125549, -0.8377730250358582, -0.02833937108516693, 0.822855532169342, 2.5255253314971924, 1.2898781299591064, -0.36883077025413513, 0.31707772612571716, -1.5314699411392212, 2.123293876647949, 0.9368368983268738, 1.9279965162277222, -0.3564603328704834, -1.2122210264205933, -0.47962480783462524, 0.3453403413295746, 2.0535695552825928, -0.6462077498435974, -0.8646860122680664, -0.48744428157806396, -0.14709506928920746, -0.50392085313797, 3.6314570903778076, -0.09849534183740616, 1.7017608880996704, 0.689446210861206, 0.41004180908203125, -1.7654683589935303, 0.15195535123348236, 1.8771063089370728, -0.005354142282158136, 0.2696138024330139, 0.06008841469883919, 2.006734848022461, 0.014294168911874294, -0.2991490364074707, 1.048399806022644, 0.23380312323570251, 0.6302441954612732, -0.4216976463794708, 1.019181489944458, 0.9292944073677063, -1.553841471672058, 0.27221763134002686, 2.0371992588043213, -1.1581422090530396, -4.799630641937256, 1.3203701972961426, 0.4203891158103943, 0.8552923798561096, 0.850249707698822, 0.8552923798561096, 0.3996824026107788, 0.4273160398006439, 0.5811585187911987, -0.9944974780082703, -0.9944961071014404, -0.5068843364715576, 0.03421942889690399, -0.09237464517354965, 0.5463135838508606, 0.05559265613555908, 0.4750605821609497, 0.44875994324684143, -0.38263025879859924, -0.38263025879859924, 0.06441929936408997, -0.17604610323905945, 0.3996824026107788, -0.5257810950279236, 2.001793622970581, 2.1178934574127197, 1.2418291568756104, 1.9725457429885864, 0.43878406286239624, 0.1599363535642624, -0.42991188168525696, 0.8183038830757141, 1.4083210229873657, -0.6464163661003113, -2.521862268447876, 1.97816801071167, -1.33468759059906, 1.9136967658996582, -0.8158917427062988, 0.8693103194236755, 0.02881024032831192, 1.4976149797439575, -1.058559536933899, 1.029265284538269, 2.0096092224121094, -0.01012346800416708, -1.7875198125839233, -1.1761044263839722, 0.896887481212616, -1.129575490951538, -0.7418308854103088, -1.999563455581665, 0.8432788848876953, -0.05447254702448845, 1.4370535612106323, -1.606729507446289, 0.8117642402648926, -0.92183917760849, -4.230260372161865, -0.28895190358161926, -1.7584589719772339, -1.1451208591461182], \"yaxis\": \"y\"}, {\"hovertemplate\": \"Cluster=Cluster 3<br>PCA1=%{x}<br>PCA2=%{y}<br>Label=%{text}<extra></extra>\", \"legendgroup\": \"Cluster 3\", \"marker\": {\"color\": \"#ab63fa\", \"opacity\": 0.5, \"symbol\": \"circle\"}, \"mode\": \"markers+text\", \"name\": \"Cluster 3\", \"orientation\": \"v\", \"showlegend\": true, \"text\": [\"Nauru\", \"Tuvalu\", \"Marshall Islands\"], \"textposition\": \"top center\", \"type\": \"scatter\", \"x\": [32.54296112060547, 49.136138916015625, 55.908084869384766], \"xaxis\": \"x\", \"y\": [14.525511741638184, -4.779350280761719, 11.190154075622559], \"yaxis\": \"y\"}],                        {\"height\": 600, \"legend\": {\"title\": {\"text\": \"Cluster\"}, \"tracegroupgap\": 0}, \"margin\": {\"t\": 60}, \"plot_bgcolor\": \"rgb(240,240,240)\", \"template\": {\"data\": {\"bar\": [{\"error_x\": {\"color\": \"#2a3f5f\"}, \"error_y\": {\"color\": \"#2a3f5f\"}, \"marker\": {\"line\": {\"color\": \"#E5ECF6\", \"width\": 0.5}}, \"type\": \"bar\"}], \"barpolar\": [{\"marker\": {\"line\": {\"color\": \"#E5ECF6\", \"width\": 0.5}}, \"type\": \"barpolar\"}], \"carpet\": [{\"aaxis\": {\"endlinecolor\": \"#2a3f5f\", \"gridcolor\": \"white\", \"linecolor\": \"white\", \"minorgridcolor\": \"white\", \"startlinecolor\": \"#2a3f5f\"}, \"baxis\": {\"endlinecolor\": \"#2a3f5f\", \"gridcolor\": \"white\", \"linecolor\": \"white\", \"minorgridcolor\": \"white\", \"startlinecolor\": \"#2a3f5f\"}, \"type\": \"carpet\"}], \"choropleth\": [{\"colorbar\": {\"outlinewidth\": 0, \"ticks\": \"\"}, \"type\": \"choropleth\"}], \"contour\": [{\"colorbar\": {\"outlinewidth\": 0, \"ticks\": \"\"}, \"colorscale\": [[0.0, \"#0d0887\"], [0.1111111111111111, \"#46039f\"], [0.2222222222222222, \"#7201a8\"], [0.3333333333333333, \"#9c179e\"], [0.4444444444444444, \"#bd3786\"], [0.5555555555555556, \"#d8576b\"], [0.6666666666666666, \"#ed7953\"], [0.7777777777777778, \"#fb9f3a\"], [0.8888888888888888, \"#fdca26\"], [1.0, \"#f0f921\"]], \"type\": \"contour\"}], \"contourcarpet\": [{\"colorbar\": {\"outlinewidth\": 0, \"ticks\": \"\"}, \"type\": \"contourcarpet\"}], \"heatmap\": [{\"colorbar\": {\"outlinewidth\": 0, \"ticks\": \"\"}, \"colorscale\": [[0.0, \"#0d0887\"], [0.1111111111111111, \"#46039f\"], [0.2222222222222222, \"#7201a8\"], [0.3333333333333333, \"#9c179e\"], [0.4444444444444444, \"#bd3786\"], [0.5555555555555556, \"#d8576b\"], [0.6666666666666666, \"#ed7953\"], [0.7777777777777778, \"#fb9f3a\"], [0.8888888888888888, \"#fdca26\"], [1.0, \"#f0f921\"]], \"type\": \"heatmap\"}], \"heatmapgl\": [{\"colorbar\": {\"outlinewidth\": 0, \"ticks\": \"\"}, \"colorscale\": [[0.0, \"#0d0887\"], [0.1111111111111111, \"#46039f\"], [0.2222222222222222, \"#7201a8\"], [0.3333333333333333, \"#9c179e\"], [0.4444444444444444, \"#bd3786\"], [0.5555555555555556, \"#d8576b\"], [0.6666666666666666, \"#ed7953\"], [0.7777777777777778, \"#fb9f3a\"], [0.8888888888888888, \"#fdca26\"], [1.0, \"#f0f921\"]], \"type\": \"heatmapgl\"}], \"histogram\": [{\"marker\": {\"colorbar\": {\"outlinewidth\": 0, \"ticks\": \"\"}}, \"type\": \"histogram\"}], \"histogram2d\": [{\"colorbar\": {\"outlinewidth\": 0, \"ticks\": \"\"}, \"colorscale\": [[0.0, \"#0d0887\"], [0.1111111111111111, \"#46039f\"], [0.2222222222222222, \"#7201a8\"], [0.3333333333333333, \"#9c179e\"], [0.4444444444444444, \"#bd3786\"], [0.5555555555555556, \"#d8576b\"], [0.6666666666666666, \"#ed7953\"], [0.7777777777777778, \"#fb9f3a\"], [0.8888888888888888, \"#fdca26\"], [1.0, \"#f0f921\"]], \"type\": \"histogram2d\"}], \"histogram2dcontour\": [{\"colorbar\": {\"outlinewidth\": 0, \"ticks\": \"\"}, \"colorscale\": [[0.0, \"#0d0887\"], [0.1111111111111111, \"#46039f\"], [0.2222222222222222, \"#7201a8\"], [0.3333333333333333, \"#9c179e\"], [0.4444444444444444, \"#bd3786\"], [0.5555555555555556, \"#d8576b\"], [0.6666666666666666, \"#ed7953\"], [0.7777777777777778, \"#fb9f3a\"], [0.8888888888888888, \"#fdca26\"], [1.0, \"#f0f921\"]], \"type\": \"histogram2dcontour\"}], \"mesh3d\": [{\"colorbar\": {\"outlinewidth\": 0, \"ticks\": \"\"}, \"type\": \"mesh3d\"}], \"parcoords\": [{\"line\": {\"colorbar\": {\"outlinewidth\": 0, \"ticks\": \"\"}}, \"type\": \"parcoords\"}], \"pie\": [{\"automargin\": true, \"type\": \"pie\"}], \"scatter\": [{\"marker\": {\"colorbar\": {\"outlinewidth\": 0, \"ticks\": \"\"}}, \"type\": \"scatter\"}], \"scatter3d\": [{\"line\": {\"colorbar\": {\"outlinewidth\": 0, \"ticks\": \"\"}}, \"marker\": {\"colorbar\": {\"outlinewidth\": 0, \"ticks\": \"\"}}, \"type\": \"scatter3d\"}], \"scattercarpet\": [{\"marker\": {\"colorbar\": {\"outlinewidth\": 0, \"ticks\": \"\"}}, \"type\": \"scattercarpet\"}], \"scattergeo\": [{\"marker\": {\"colorbar\": {\"outlinewidth\": 0, \"ticks\": \"\"}}, \"type\": \"scattergeo\"}], \"scattergl\": [{\"marker\": {\"colorbar\": {\"outlinewidth\": 0, \"ticks\": \"\"}}, \"type\": \"scattergl\"}], \"scattermapbox\": [{\"marker\": {\"colorbar\": {\"outlinewidth\": 0, \"ticks\": \"\"}}, \"type\": \"scattermapbox\"}], \"scatterpolar\": [{\"marker\": {\"colorbar\": {\"outlinewidth\": 0, \"ticks\": \"\"}}, \"type\": \"scatterpolar\"}], \"scatterpolargl\": [{\"marker\": {\"colorbar\": {\"outlinewidth\": 0, \"ticks\": \"\"}}, \"type\": \"scatterpolargl\"}], \"scatterternary\": [{\"marker\": {\"colorbar\": {\"outlinewidth\": 0, \"ticks\": \"\"}}, \"type\": \"scatterternary\"}], \"surface\": [{\"colorbar\": {\"outlinewidth\": 0, \"ticks\": \"\"}, \"colorscale\": [[0.0, \"#0d0887\"], [0.1111111111111111, \"#46039f\"], [0.2222222222222222, \"#7201a8\"], [0.3333333333333333, \"#9c179e\"], [0.4444444444444444, \"#bd3786\"], [0.5555555555555556, \"#d8576b\"], [0.6666666666666666, \"#ed7953\"], [0.7777777777777778, \"#fb9f3a\"], [0.8888888888888888, \"#fdca26\"], [1.0, \"#f0f921\"]], \"type\": \"surface\"}], \"table\": [{\"cells\": {\"fill\": {\"color\": \"#EBF0F8\"}, \"line\": {\"color\": \"white\"}}, \"header\": {\"fill\": {\"color\": \"#C8D4E3\"}, \"line\": {\"color\": \"white\"}}, \"type\": \"table\"}]}, \"layout\": {\"annotationdefaults\": {\"arrowcolor\": \"#2a3f5f\", \"arrowhead\": 0, \"arrowwidth\": 1}, \"autotypenumbers\": \"strict\", \"coloraxis\": {\"colorbar\": {\"outlinewidth\": 0, \"ticks\": \"\"}}, \"colorscale\": {\"diverging\": [[0, \"#8e0152\"], [0.1, \"#c51b7d\"], [0.2, \"#de77ae\"], [0.3, \"#f1b6da\"], [0.4, \"#fde0ef\"], [0.5, \"#f7f7f7\"], [0.6, \"#e6f5d0\"], [0.7, \"#b8e186\"], [0.8, \"#7fbc41\"], [0.9, \"#4d9221\"], [1, \"#276419\"]], \"sequential\": [[0.0, \"#0d0887\"], [0.1111111111111111, \"#46039f\"], [0.2222222222222222, \"#7201a8\"], [0.3333333333333333, \"#9c179e\"], [0.4444444444444444, \"#bd3786\"], [0.5555555555555556, \"#d8576b\"], [0.6666666666666666, \"#ed7953\"], [0.7777777777777778, \"#fb9f3a\"], [0.8888888888888888, \"#fdca26\"], [1.0, \"#f0f921\"]], \"sequentialminus\": [[0.0, \"#0d0887\"], [0.1111111111111111, \"#46039f\"], [0.2222222222222222, \"#7201a8\"], [0.3333333333333333, \"#9c179e\"], [0.4444444444444444, \"#bd3786\"], [0.5555555555555556, \"#d8576b\"], [0.6666666666666666, \"#ed7953\"], [0.7777777777777778, \"#fb9f3a\"], [0.8888888888888888, \"#fdca26\"], [1.0, \"#f0f921\"]]}, \"colorway\": [\"#636efa\", \"#EF553B\", \"#00cc96\", \"#ab63fa\", \"#FFA15A\", \"#19d3f3\", \"#FF6692\", \"#B6E880\", \"#FF97FF\", \"#FECB52\"], \"font\": {\"color\": \"#2a3f5f\"}, \"geo\": {\"bgcolor\": \"white\", \"lakecolor\": \"white\", \"landcolor\": \"#E5ECF6\", \"showlakes\": true, \"showland\": true, \"subunitcolor\": \"white\"}, \"hoverlabel\": {\"align\": \"left\"}, \"hovermode\": \"closest\", \"mapbox\": {\"style\": \"light\"}, \"paper_bgcolor\": \"white\", \"plot_bgcolor\": \"#E5ECF6\", \"polar\": {\"angularaxis\": {\"gridcolor\": \"white\", \"linecolor\": \"white\", \"ticks\": \"\"}, \"bgcolor\": \"#E5ECF6\", \"radialaxis\": {\"gridcolor\": \"white\", \"linecolor\": \"white\", \"ticks\": \"\"}}, \"scene\": {\"xaxis\": {\"backgroundcolor\": \"#E5ECF6\", \"gridcolor\": \"white\", \"gridwidth\": 2, \"linecolor\": \"white\", \"showbackground\": true, \"ticks\": \"\", \"zerolinecolor\": \"white\"}, \"yaxis\": {\"backgroundcolor\": \"#E5ECF6\", \"gridcolor\": \"white\", \"gridwidth\": 2, \"linecolor\": \"white\", \"showbackground\": true, \"ticks\": \"\", \"zerolinecolor\": \"white\"}, \"zaxis\": {\"backgroundcolor\": \"#E5ECF6\", \"gridcolor\": \"white\", \"gridwidth\": 2, \"linecolor\": \"white\", \"showbackground\": true, \"ticks\": \"\", \"zerolinecolor\": \"white\"}}, \"shapedefaults\": {\"line\": {\"color\": \"#2a3f5f\"}}, \"ternary\": {\"aaxis\": {\"gridcolor\": \"white\", \"linecolor\": \"white\", \"ticks\": \"\"}, \"baxis\": {\"gridcolor\": \"white\", \"linecolor\": \"white\", \"ticks\": \"\"}, \"bgcolor\": \"#E5ECF6\", \"caxis\": {\"gridcolor\": \"white\", \"linecolor\": \"white\", \"ticks\": \"\"}}, \"title\": {\"x\": 0.05}, \"xaxis\": {\"automargin\": true, \"gridcolor\": \"white\", \"linecolor\": \"white\", \"ticks\": \"\", \"title\": {\"standoff\": 15}, \"zerolinecolor\": \"white\", \"zerolinewidth\": 2}, \"yaxis\": {\"automargin\": true, \"gridcolor\": \"white\", \"linecolor\": \"white\", \"ticks\": \"\", \"title\": {\"standoff\": 15}, \"zerolinecolor\": \"white\", \"zerolinewidth\": 2}}}, \"title\": {\"text\": \"2D Cluster PCA Plot\"}, \"xaxis\": {\"anchor\": \"y\", \"domain\": [0.0, 1.0], \"title\": {\"text\": \"PCA1\"}}, \"yaxis\": {\"anchor\": \"x\", \"domain\": [0.0, 1.0], \"title\": {\"text\": \"PCA2\"}}},                        {\"responsive\": true}                    ).then(function(){\n",
       "                            \n",
       "var gd = document.getElementById('f038ab62-5654-46d6-90db-84725de78418');\n",
       "var x = new MutationObserver(function (mutations, observer) {{\n",
       "        var display = window.getComputedStyle(gd).display;\n",
       "        if (!display || display === 'none') {{\n",
       "            console.log([gd, 'removed!']);\n",
       "            Plotly.purge(gd);\n",
       "            observer.disconnect();\n",
       "        }}\n",
       "}});\n",
       "\n",
       "// Listen for the removal of the full notebook cells\n",
       "var notebookContainer = gd.closest('#notebook-container');\n",
       "if (notebookContainer) {{\n",
       "    x.observe(notebookContainer, {childList: true});\n",
       "}}\n",
       "\n",
       "// Listen for the clearing of the current output cell\n",
       "var outputEl = gd.closest('.output');\n",
       "if (outputEl) {{\n",
       "    x.observe(outputEl, {childList: true});\n",
       "}}\n",
       "\n",
       "                        })                };                });            </script>        </div>"
      ]
     },
     "metadata": {},
     "output_type": "display_data"
    }
   ],
   "source": [
    "# Ilustra modelo imprimindo o nome da feature 'Country Name'\n",
    "plot_model(kmeans, feature='Country Name', label = True)"
   ]
  },
  {
   "cell_type": "code",
   "execution_count": 20,
   "metadata": {},
   "outputs": [
    {
     "data": {
      "image/png": "[encoded data removed]",
      "text/plain": [
       "<Figure size 576x396 with 1 Axes>"
      ]
     },
     "metadata": {},
     "output_type": "display_data"
    }
   ],
   "source": [
    "# Plottar o elbow para identificar o melhor ponto de quantidade de clusters\n",
    "plot_model(kmeans, plot='elbow')"
   ]
  },
  {
   "cell_type": "code",
   "execution_count": 21,
   "metadata": {},
   "outputs": [
    {
     "data": {
      "image/png": "[encoded data removed]",
      "text/plain": [
       "<Figure size 576x396 with 2 Axes>"
      ]
     },
     "metadata": {},
     "output_type": "display_data"
    }
   ],
   "source": [
    "# Plottar o 'distance' para exibir a distância entre os clusters\n",
    "plot_model(kmeans,plot='distance')"
   ]
  },
  {
   "cell_type": "code",
   "execution_count": 23,
   "metadata": {},
   "outputs": [
    {
     "data": {
      "text/html": [
       "<div>\n",
       "<style scoped>\n",
       "    .dataframe tbody tr th:only-of-type {\n",
       "        vertical-align: middle;\n",
       "    }\n",
       "\n",
       "    .dataframe tbody tr th {\n",
       "        vertical-align: top;\n",
       "    }\n",
       "\n",
       "    .dataframe thead th {\n",
       "        text-align: right;\n",
       "    }\n",
       "</style>\n",
       "<table border=\"1\" class=\"dataframe\">\n",
       "  <thead>\n",
       "    <tr style=\"text-align: right;\">\n",
       "      <th></th>\n",
       "      <th>Country Name</th>\n",
       "      <th>1995</th>\n",
       "      <th>1996</th>\n",
       "      <th>1997</th>\n",
       "      <th>1998</th>\n",
       "      <th>1999</th>\n",
       "      <th>2000</th>\n",
       "      <th>2001</th>\n",
       "      <th>2002</th>\n",
       "      <th>2003</th>\n",
       "      <th>...</th>\n",
       "      <th>2006</th>\n",
       "      <th>2007</th>\n",
       "      <th>2008</th>\n",
       "      <th>2009</th>\n",
       "      <th>2010</th>\n",
       "      <th>2011</th>\n",
       "      <th>2012</th>\n",
       "      <th>2013</th>\n",
       "      <th>2014</th>\n",
       "      <th>Cluster</th>\n",
       "    </tr>\n",
       "  </thead>\n",
       "  <tbody>\n",
       "    <tr>\n",
       "      <th>0</th>\n",
       "      <td>Arab World</td>\n",
       "      <td>2.004868</td>\n",
       "      <td>2.014602</td>\n",
       "      <td>2.071309</td>\n",
       "      <td>2.177712</td>\n",
       "      <td>2.331000</td>\n",
       "      <td>2.333596</td>\n",
       "      <td>2.588751</td>\n",
       "      <td>2.540238</td>\n",
       "      <td>2.450415</td>\n",
       "      <td>...</td>\n",
       "      <td>2.133038</td>\n",
       "      <td>2.166872</td>\n",
       "      <td>2.101233</td>\n",
       "      <td>2.830067</td>\n",
       "      <td>2.489631</td>\n",
       "      <td>2.539570</td>\n",
       "      <td>2.711262</td>\n",
       "      <td>2.895427</td>\n",
       "      <td>3.073161</td>\n",
       "      <td>Cluster 2</td>\n",
       "    </tr>\n",
       "    <tr>\n",
       "      <th>1</th>\n",
       "      <td>Caribbean small states</td>\n",
       "      <td>2.801518</td>\n",
       "      <td>2.856684</td>\n",
       "      <td>2.997157</td>\n",
       "      <td>2.989451</td>\n",
       "      <td>2.767858</td>\n",
       "      <td>2.826752</td>\n",
       "      <td>2.679969</td>\n",
       "      <td>2.888693</td>\n",
       "      <td>2.740593</td>\n",
       "      <td>...</td>\n",
       "      <td>2.650900</td>\n",
       "      <td>2.790665</td>\n",
       "      <td>2.822913</td>\n",
       "      <td>3.408651</td>\n",
       "      <td>3.264064</td>\n",
       "      <td>3.087653</td>\n",
       "      <td>3.314303</td>\n",
       "      <td>3.318432</td>\n",
       "      <td>3.260012</td>\n",
       "      <td>Cluster 2</td>\n",
       "    </tr>\n",
       "    <tr>\n",
       "      <th>2</th>\n",
       "      <td>Central Europe and the Baltics</td>\n",
       "      <td>4.678528</td>\n",
       "      <td>4.753209</td>\n",
       "      <td>4.604574</td>\n",
       "      <td>4.499988</td>\n",
       "      <td>4.679082</td>\n",
       "      <td>4.539711</td>\n",
       "      <td>4.666272</td>\n",
       "      <td>4.900196</td>\n",
       "      <td>5.100249</td>\n",
       "      <td>...</td>\n",
       "      <td>4.841450</td>\n",
       "      <td>4.809057</td>\n",
       "      <td>5.054785</td>\n",
       "      <td>5.394921</td>\n",
       "      <td>5.284380</td>\n",
       "      <td>5.096212</td>\n",
       "      <td>5.041317</td>\n",
       "      <td>5.029266</td>\n",
       "      <td>5.017717</td>\n",
       "      <td>Cluster 0</td>\n",
       "    </tr>\n",
       "    <tr>\n",
       "      <th>3</th>\n",
       "      <td>Early-demographic dividend</td>\n",
       "      <td>2.203164</td>\n",
       "      <td>2.156632</td>\n",
       "      <td>2.227311</td>\n",
       "      <td>2.364100</td>\n",
       "      <td>2.454394</td>\n",
       "      <td>2.450555</td>\n",
       "      <td>2.527081</td>\n",
       "      <td>2.347702</td>\n",
       "      <td>2.363263</td>\n",
       "      <td>...</td>\n",
       "      <td>2.369884</td>\n",
       "      <td>2.385251</td>\n",
       "      <td>2.405126</td>\n",
       "      <td>2.701260</td>\n",
       "      <td>2.507131</td>\n",
       "      <td>2.495491</td>\n",
       "      <td>2.497340</td>\n",
       "      <td>2.586701</td>\n",
       "      <td>2.665603</td>\n",
       "      <td>Cluster 2</td>\n",
       "    </tr>\n",
       "    <tr>\n",
       "      <th>4</th>\n",
       "      <td>East Asia &amp; Pacific</td>\n",
       "      <td>4.429090</td>\n",
       "      <td>4.203152</td>\n",
       "      <td>4.244351</td>\n",
       "      <td>4.453984</td>\n",
       "      <td>4.626920</td>\n",
       "      <td>4.688849</td>\n",
       "      <td>4.684790</td>\n",
       "      <td>4.613537</td>\n",
       "      <td>4.635098</td>\n",
       "      <td>...</td>\n",
       "      <td>4.367146</td>\n",
       "      <td>4.297394</td>\n",
       "      <td>4.434848</td>\n",
       "      <td>4.865241</td>\n",
       "      <td>4.775817</td>\n",
       "      <td>4.871727</td>\n",
       "      <td>4.866869</td>\n",
       "      <td>4.643221</td>\n",
       "      <td>4.571448</td>\n",
       "      <td>Cluster 0</td>\n",
       "    </tr>\n",
       "  </tbody>\n",
       "</table>\n",
       "<p>5 rows × 22 columns</p>\n",
       "</div>"
      ],
      "text/plain": [
       "                     Country Name      1995      1996      1997      1998  \\\n",
       "0                      Arab World  2.004868  2.014602  2.071309  2.177712   \n",
       "1          Caribbean small states  2.801518  2.856684  2.997157  2.989451   \n",
       "2  Central Europe and the Baltics  4.678528  4.753209  4.604574  4.499988   \n",
       "3      Early-demographic dividend  2.203164  2.156632  2.227311  2.364100   \n",
       "4             East Asia & Pacific  4.429090  4.203152  4.244351  4.453984   \n",
       "\n",
       "       1999      2000      2001      2002      2003  ...      2006      2007  \\\n",
       "0  2.331000  2.333596  2.588751  2.540238  2.450415  ...  2.133038  2.166872   \n",
       "1  2.767858  2.826752  2.679969  2.888693  2.740593  ...  2.650900  2.790665   \n",
       "2  4.679082  4.539711  4.666272  4.900196  5.100249  ...  4.841450  4.809057   \n",
       "3  2.454394  2.450555  2.527081  2.347702  2.363263  ...  2.369884  2.385251   \n",
       "4  4.626920  4.688849  4.684790  4.613537  4.635098  ...  4.367146  4.297394   \n",
       "\n",
       "       2008      2009      2010      2011      2012      2013      2014  \\\n",
       "0  2.101233  2.830067  2.489631  2.539570  2.711262  2.895427  3.073161   \n",
       "1  2.822913  3.408651  3.264064  3.087653  3.314303  3.318432  3.260012   \n",
       "2  5.054785  5.394921  5.284380  5.096212  5.041317  5.029266  5.017717   \n",
       "3  2.405126  2.701260  2.507131  2.495491  2.497340  2.586701  2.665603   \n",
       "4  4.434848  4.865241  4.775817  4.871727  4.866869  4.643221  4.571448   \n",
       "\n",
       "     Cluster  \n",
       "0  Cluster 2  \n",
       "1  Cluster 2  \n",
       "2  Cluster 0  \n",
       "3  Cluster 2  \n",
       "4  Cluster 0  \n",
       "\n",
       "[5 rows x 22 columns]"
      ]
     },
     "execution_count": 23,
     "metadata": {},
     "output_type": "execute_result"
    }
   ],
   "source": [
    "# Simulando a predição dos dados com o modelo treinado\n",
    "# Caso venha um dado novo, onde este será encaixado? Qual cluster?\n",
    "pred_new = predict_model(kmeans, data=data)\n",
    "pred_new.head()"
   ]
  },
  {
   "cell_type": "code",
   "execution_count": 24,
   "metadata": {},
   "outputs": [
    {
     "name": "stdout",
     "output_type": "stream",
     "text": [
      "Transformation Pipeline and Model Succesfully Saved\n"
     ]
    },
    {
     "data": {
      "text/plain": [
       "(Pipeline(memory=None,\n",
       "          steps=[('dtypes',\n",
       "                  DataTypes_Auto_infer(categorical_features=[],\n",
       "                                       display_types=True,\n",
       "                                       features_todrop=['Country Name'],\n",
       "                                       id_columns=[], ml_usecase='regression',\n",
       "                                       numerical_features=[],\n",
       "                                       target='UNSUPERVISED_DUMMY_TARGET',\n",
       "                                       time_features=[])),\n",
       "                 ('imputer',\n",
       "                  Simple_Imputer(categorical_strategy='most frequent',\n",
       "                                 fill_value_categorical=None,\n",
       "                                 fill_value_n...\n",
       "                 ('fix_perfect', 'passthrough'),\n",
       "                 ('clean_names', Clean_Colum_Names()),\n",
       "                 ('feature_select', 'passthrough'), ('fix_multi', 'passthrough'),\n",
       "                 ('dfs', 'passthrough'), ('pca', 'passthrough'),\n",
       "                 ['trained_model',\n",
       "                  KMeans(algorithm='auto', copy_x=True, init='k-means++',\n",
       "                         max_iter=300, n_clusters=4, n_init=10, n_jobs=-1,\n",
       "                         precompute_distances='deprecated', random_state=123,\n",
       "                         tol=0.0001, verbose=0)]],\n",
       "          verbose=False),\n",
       " 'kmeans.pkl')"
      ]
     },
     "execution_count": 24,
     "metadata": {},
     "output_type": "execute_result"
    }
   ],
   "source": [
    "# Salvar o modelo treinado do kmeans\n",
    "# Por exemplo, jogar o modelo em produção\n",
    "save_model(kmeans, model_name='kmeans')"
   ]
  },
  {
   "cell_type": "code",
   "execution_count": 25,
   "metadata": {},
   "outputs": [
    {
     "name": "stdout",
     "output_type": "stream",
     "text": [
      "Transformation Pipeline and Model Successfully Loaded\n"
     ]
    }
   ],
   "source": [
    "# Jogar o modelo em produção\n",
    "loaded_model = load_model('kmeans')"
   ]
  },
  {
   "cell_type": "code",
   "execution_count": 26,
   "metadata": {},
   "outputs": [
    {
     "name": "stdout",
     "output_type": "stream",
     "text": [
      "Pipeline(memory=None,\n",
      "         steps=[('dtypes',\n",
      "                 DataTypes_Auto_infer(categorical_features=[],\n",
      "                                      display_types=True,\n",
      "                                      features_todrop=['Country Name'],\n",
      "                                      id_columns=[], ml_usecase='regression',\n",
      "                                      numerical_features=[],\n",
      "                                      target='UNSUPERVISED_DUMMY_TARGET',\n",
      "                                      time_features=[])),\n",
      "                ('imputer',\n",
      "                 Simple_Imputer(categorical_strategy='most frequent',\n",
      "                                fill_value_categorical=None,\n",
      "                                fill_value_n...\n",
      "                ('fix_perfect', 'passthrough'),\n",
      "                ('clean_names', Clean_Colum_Names()),\n",
      "                ('feature_select', 'passthrough'), ('fix_multi', 'passthrough'),\n",
      "                ('dfs', 'passthrough'), ('pca', 'passthrough'),\n",
      "                ['trained_model',\n",
      "                 KMeans(algorithm='auto', copy_x=True, init='k-means++',\n",
      "                        max_iter=300, n_clusters=4, n_init=10, n_jobs=-1,\n",
      "                        precompute_distances='deprecated', random_state=123,\n",
      "                        tol=0.0001, verbose=0)]],\n",
      "         verbose=False)\n"
     ]
    }
   ],
   "source": [
    "print(loaded_model)"
   ]
  },
  {
   "cell_type": "code",
   "execution_count": 28,
   "metadata": {},
   "outputs": [],
   "source": [
    "# Para deploy em um bucket da AWS\n",
    "deploy_model(kmeans, model_name = 'kmeans-aws', authentication = {'bucket' : 'pycaret-test'})"
   ]
  },
  {
   "cell_type": "markdown",
   "metadata": {},
   "source": [
    "## Regressão\n",
    "-----------------------------------------------------------"
   ]
  },
  {
   "cell_type": "code",
   "execution_count": 33,
   "metadata": {},
   "outputs": [
    {
     "data": {
      "text/html": [
       "<div>\n",
       "<style scoped>\n",
       "    .dataframe tbody tr th:only-of-type {\n",
       "        vertical-align: middle;\n",
       "    }\n",
       "\n",
       "    .dataframe tbody tr th {\n",
       "        vertical-align: top;\n",
       "    }\n",
       "\n",
       "    .dataframe thead th {\n",
       "        text-align: right;\n",
       "    }\n",
       "</style>\n",
       "<table border=\"1\" class=\"dataframe\">\n",
       "  <thead>\n",
       "    <tr style=\"text-align: right;\">\n",
       "      <th></th>\n",
       "      <th>age</th>\n",
       "      <th>sex</th>\n",
       "      <th>bmi</th>\n",
       "      <th>children</th>\n",
       "      <th>smoker</th>\n",
       "      <th>region</th>\n",
       "      <th>charges</th>\n",
       "    </tr>\n",
       "  </thead>\n",
       "  <tbody>\n",
       "    <tr>\n",
       "      <th>0</th>\n",
       "      <td>19</td>\n",
       "      <td>female</td>\n",
       "      <td>27.900</td>\n",
       "      <td>0</td>\n",
       "      <td>yes</td>\n",
       "      <td>southwest</td>\n",
       "      <td>16884.92400</td>\n",
       "    </tr>\n",
       "    <tr>\n",
       "      <th>1</th>\n",
       "      <td>18</td>\n",
       "      <td>male</td>\n",
       "      <td>33.770</td>\n",
       "      <td>1</td>\n",
       "      <td>no</td>\n",
       "      <td>southeast</td>\n",
       "      <td>1725.55230</td>\n",
       "    </tr>\n",
       "    <tr>\n",
       "      <th>2</th>\n",
       "      <td>28</td>\n",
       "      <td>male</td>\n",
       "      <td>33.000</td>\n",
       "      <td>3</td>\n",
       "      <td>no</td>\n",
       "      <td>southeast</td>\n",
       "      <td>4449.46200</td>\n",
       "    </tr>\n",
       "    <tr>\n",
       "      <th>3</th>\n",
       "      <td>33</td>\n",
       "      <td>male</td>\n",
       "      <td>22.705</td>\n",
       "      <td>0</td>\n",
       "      <td>no</td>\n",
       "      <td>northwest</td>\n",
       "      <td>21984.47061</td>\n",
       "    </tr>\n",
       "    <tr>\n",
       "      <th>4</th>\n",
       "      <td>32</td>\n",
       "      <td>male</td>\n",
       "      <td>28.880</td>\n",
       "      <td>0</td>\n",
       "      <td>no</td>\n",
       "      <td>northwest</td>\n",
       "      <td>3866.85520</td>\n",
       "    </tr>\n",
       "  </tbody>\n",
       "</table>\n",
       "</div>"
      ],
      "text/plain": [
       "   age     sex     bmi  children smoker     region      charges\n",
       "0   19  female  27.900         0    yes  southwest  16884.92400\n",
       "1   18    male  33.770         1     no  southeast   1725.55230\n",
       "2   28    male  33.000         3     no  southeast   4449.46200\n",
       "3   33    male  22.705         0     no  northwest  21984.47061\n",
       "4   32    male  28.880         0     no  northwest   3866.85520"
      ]
     },
     "metadata": {},
     "output_type": "display_data"
    }
   ],
   "source": [
    "# Baixando novo ds de 'insurance'\n",
    "# A tabela retorna tarifas a partir de features listadas\n",
    "data = get_data('insurance')"
   ]
  },
  {
   "cell_type": "markdown",
   "metadata": {},
   "source": [
    "### Iniciando setup do pycaret para regressão\n",
    "##### Vamos utilizar a regressão para...\n",
    "- Casos supervisionados\n",
    "- Possuem target, ou seja, uma saída de dados com bases em features\n",
    "- Possui a parte de treino e testes\n",
    "    - Transformed Train Set\t(936, 14)\n",
    "    - Transformed Test Set\t(402, 14)"
   ]
  },
  {
   "cell_type": "code",
   "execution_count": 34,
   "metadata": {},
   "outputs": [
    {
     "data": {
      "text/html": [
       "<style  type=\"text/css\" >\n",
       "#T_4c175688_74a9_11eb_8ee2_5cc9d3aa8974row17_col1{\n",
       "            background-color:  lightgreen;\n",
       "        }</style><table id=\"T_4c175688_74a9_11eb_8ee2_5cc9d3aa8974\" ><thead>    <tr>        <th class=\"blank level0\" ></th>        <th class=\"col_heading level0 col0\" >Description</th>        <th class=\"col_heading level0 col1\" >Value</th>    </tr></thead><tbody>\n",
       "                <tr>\n",
       "                        <th id=\"T_4c175688_74a9_11eb_8ee2_5cc9d3aa8974level0_row0\" class=\"row_heading level0 row0\" >0</th>\n",
       "                        <td id=\"T_4c175688_74a9_11eb_8ee2_5cc9d3aa8974row0_col0\" class=\"data row0 col0\" >session_id</td>\n",
       "                        <td id=\"T_4c175688_74a9_11eb_8ee2_5cc9d3aa8974row0_col1\" class=\"data row0 col1\" >123</td>\n",
       "            </tr>\n",
       "            <tr>\n",
       "                        <th id=\"T_4c175688_74a9_11eb_8ee2_5cc9d3aa8974level0_row1\" class=\"row_heading level0 row1\" >1</th>\n",
       "                        <td id=\"T_4c175688_74a9_11eb_8ee2_5cc9d3aa8974row1_col0\" class=\"data row1 col0\" >Target</td>\n",
       "                        <td id=\"T_4c175688_74a9_11eb_8ee2_5cc9d3aa8974row1_col1\" class=\"data row1 col1\" >charges</td>\n",
       "            </tr>\n",
       "            <tr>\n",
       "                        <th id=\"T_4c175688_74a9_11eb_8ee2_5cc9d3aa8974level0_row2\" class=\"row_heading level0 row2\" >2</th>\n",
       "                        <td id=\"T_4c175688_74a9_11eb_8ee2_5cc9d3aa8974row2_col0\" class=\"data row2 col0\" >Original Data</td>\n",
       "                        <td id=\"T_4c175688_74a9_11eb_8ee2_5cc9d3aa8974row2_col1\" class=\"data row2 col1\" >(1338, 7)</td>\n",
       "            </tr>\n",
       "            <tr>\n",
       "                        <th id=\"T_4c175688_74a9_11eb_8ee2_5cc9d3aa8974level0_row3\" class=\"row_heading level0 row3\" >3</th>\n",
       "                        <td id=\"T_4c175688_74a9_11eb_8ee2_5cc9d3aa8974row3_col0\" class=\"data row3 col0\" >Missing Values</td>\n",
       "                        <td id=\"T_4c175688_74a9_11eb_8ee2_5cc9d3aa8974row3_col1\" class=\"data row3 col1\" >False</td>\n",
       "            </tr>\n",
       "            <tr>\n",
       "                        <th id=\"T_4c175688_74a9_11eb_8ee2_5cc9d3aa8974level0_row4\" class=\"row_heading level0 row4\" >4</th>\n",
       "                        <td id=\"T_4c175688_74a9_11eb_8ee2_5cc9d3aa8974row4_col0\" class=\"data row4 col0\" >Numeric Features</td>\n",
       "                        <td id=\"T_4c175688_74a9_11eb_8ee2_5cc9d3aa8974row4_col1\" class=\"data row4 col1\" >2</td>\n",
       "            </tr>\n",
       "            <tr>\n",
       "                        <th id=\"T_4c175688_74a9_11eb_8ee2_5cc9d3aa8974level0_row5\" class=\"row_heading level0 row5\" >5</th>\n",
       "                        <td id=\"T_4c175688_74a9_11eb_8ee2_5cc9d3aa8974row5_col0\" class=\"data row5 col0\" >Categorical Features</td>\n",
       "                        <td id=\"T_4c175688_74a9_11eb_8ee2_5cc9d3aa8974row5_col1\" class=\"data row5 col1\" >4</td>\n",
       "            </tr>\n",
       "            <tr>\n",
       "                        <th id=\"T_4c175688_74a9_11eb_8ee2_5cc9d3aa8974level0_row6\" class=\"row_heading level0 row6\" >6</th>\n",
       "                        <td id=\"T_4c175688_74a9_11eb_8ee2_5cc9d3aa8974row6_col0\" class=\"data row6 col0\" >Ordinal Features</td>\n",
       "                        <td id=\"T_4c175688_74a9_11eb_8ee2_5cc9d3aa8974row6_col1\" class=\"data row6 col1\" >False</td>\n",
       "            </tr>\n",
       "            <tr>\n",
       "                        <th id=\"T_4c175688_74a9_11eb_8ee2_5cc9d3aa8974level0_row7\" class=\"row_heading level0 row7\" >7</th>\n",
       "                        <td id=\"T_4c175688_74a9_11eb_8ee2_5cc9d3aa8974row7_col0\" class=\"data row7 col0\" >High Cardinality Features</td>\n",
       "                        <td id=\"T_4c175688_74a9_11eb_8ee2_5cc9d3aa8974row7_col1\" class=\"data row7 col1\" >False</td>\n",
       "            </tr>\n",
       "            <tr>\n",
       "                        <th id=\"T_4c175688_74a9_11eb_8ee2_5cc9d3aa8974level0_row8\" class=\"row_heading level0 row8\" >8</th>\n",
       "                        <td id=\"T_4c175688_74a9_11eb_8ee2_5cc9d3aa8974row8_col0\" class=\"data row8 col0\" >High Cardinality Method</td>\n",
       "                        <td id=\"T_4c175688_74a9_11eb_8ee2_5cc9d3aa8974row8_col1\" class=\"data row8 col1\" >None</td>\n",
       "            </tr>\n",
       "            <tr>\n",
       "                        <th id=\"T_4c175688_74a9_11eb_8ee2_5cc9d3aa8974level0_row9\" class=\"row_heading level0 row9\" >9</th>\n",
       "                        <td id=\"T_4c175688_74a9_11eb_8ee2_5cc9d3aa8974row9_col0\" class=\"data row9 col0\" >Transformed Train Set</td>\n",
       "                        <td id=\"T_4c175688_74a9_11eb_8ee2_5cc9d3aa8974row9_col1\" class=\"data row9 col1\" >(936, 14)</td>\n",
       "            </tr>\n",
       "            <tr>\n",
       "                        <th id=\"T_4c175688_74a9_11eb_8ee2_5cc9d3aa8974level0_row10\" class=\"row_heading level0 row10\" >10</th>\n",
       "                        <td id=\"T_4c175688_74a9_11eb_8ee2_5cc9d3aa8974row10_col0\" class=\"data row10 col0\" >Transformed Test Set</td>\n",
       "                        <td id=\"T_4c175688_74a9_11eb_8ee2_5cc9d3aa8974row10_col1\" class=\"data row10 col1\" >(402, 14)</td>\n",
       "            </tr>\n",
       "            <tr>\n",
       "                        <th id=\"T_4c175688_74a9_11eb_8ee2_5cc9d3aa8974level0_row11\" class=\"row_heading level0 row11\" >11</th>\n",
       "                        <td id=\"T_4c175688_74a9_11eb_8ee2_5cc9d3aa8974row11_col0\" class=\"data row11 col0\" >Shuffle Train-Test</td>\n",
       "                        <td id=\"T_4c175688_74a9_11eb_8ee2_5cc9d3aa8974row11_col1\" class=\"data row11 col1\" >True</td>\n",
       "            </tr>\n",
       "            <tr>\n",
       "                        <th id=\"T_4c175688_74a9_11eb_8ee2_5cc9d3aa8974level0_row12\" class=\"row_heading level0 row12\" >12</th>\n",
       "                        <td id=\"T_4c175688_74a9_11eb_8ee2_5cc9d3aa8974row12_col0\" class=\"data row12 col0\" >Stratify Train-Test</td>\n",
       "                        <td id=\"T_4c175688_74a9_11eb_8ee2_5cc9d3aa8974row12_col1\" class=\"data row12 col1\" >False</td>\n",
       "            </tr>\n",
       "            <tr>\n",
       "                        <th id=\"T_4c175688_74a9_11eb_8ee2_5cc9d3aa8974level0_row13\" class=\"row_heading level0 row13\" >13</th>\n",
       "                        <td id=\"T_4c175688_74a9_11eb_8ee2_5cc9d3aa8974row13_col0\" class=\"data row13 col0\" >Fold Generator</td>\n",
       "                        <td id=\"T_4c175688_74a9_11eb_8ee2_5cc9d3aa8974row13_col1\" class=\"data row13 col1\" >KFold</td>\n",
       "            </tr>\n",
       "            <tr>\n",
       "                        <th id=\"T_4c175688_74a9_11eb_8ee2_5cc9d3aa8974level0_row14\" class=\"row_heading level0 row14\" >14</th>\n",
       "                        <td id=\"T_4c175688_74a9_11eb_8ee2_5cc9d3aa8974row14_col0\" class=\"data row14 col0\" >Fold Number</td>\n",
       "                        <td id=\"T_4c175688_74a9_11eb_8ee2_5cc9d3aa8974row14_col1\" class=\"data row14 col1\" >10</td>\n",
       "            </tr>\n",
       "            <tr>\n",
       "                        <th id=\"T_4c175688_74a9_11eb_8ee2_5cc9d3aa8974level0_row15\" class=\"row_heading level0 row15\" >15</th>\n",
       "                        <td id=\"T_4c175688_74a9_11eb_8ee2_5cc9d3aa8974row15_col0\" class=\"data row15 col0\" >CPU Jobs</td>\n",
       "                        <td id=\"T_4c175688_74a9_11eb_8ee2_5cc9d3aa8974row15_col1\" class=\"data row15 col1\" >-1</td>\n",
       "            </tr>\n",
       "            <tr>\n",
       "                        <th id=\"T_4c175688_74a9_11eb_8ee2_5cc9d3aa8974level0_row16\" class=\"row_heading level0 row16\" >16</th>\n",
       "                        <td id=\"T_4c175688_74a9_11eb_8ee2_5cc9d3aa8974row16_col0\" class=\"data row16 col0\" >Use GPU</td>\n",
       "                        <td id=\"T_4c175688_74a9_11eb_8ee2_5cc9d3aa8974row16_col1\" class=\"data row16 col1\" >False</td>\n",
       "            </tr>\n",
       "            <tr>\n",
       "                        <th id=\"T_4c175688_74a9_11eb_8ee2_5cc9d3aa8974level0_row17\" class=\"row_heading level0 row17\" >17</th>\n",
       "                        <td id=\"T_4c175688_74a9_11eb_8ee2_5cc9d3aa8974row17_col0\" class=\"data row17 col0\" >Log Experiment</td>\n",
       "                        <td id=\"T_4c175688_74a9_11eb_8ee2_5cc9d3aa8974row17_col1\" class=\"data row17 col1\" >True</td>\n",
       "            </tr>\n",
       "            <tr>\n",
       "                        <th id=\"T_4c175688_74a9_11eb_8ee2_5cc9d3aa8974level0_row18\" class=\"row_heading level0 row18\" >18</th>\n",
       "                        <td id=\"T_4c175688_74a9_11eb_8ee2_5cc9d3aa8974row18_col0\" class=\"data row18 col0\" >Experiment Name</td>\n",
       "                        <td id=\"T_4c175688_74a9_11eb_8ee2_5cc9d3aa8974row18_col1\" class=\"data row18 col1\" >insurance1</td>\n",
       "            </tr>\n",
       "            <tr>\n",
       "                        <th id=\"T_4c175688_74a9_11eb_8ee2_5cc9d3aa8974level0_row19\" class=\"row_heading level0 row19\" >19</th>\n",
       "                        <td id=\"T_4c175688_74a9_11eb_8ee2_5cc9d3aa8974row19_col0\" class=\"data row19 col0\" >USI</td>\n",
       "                        <td id=\"T_4c175688_74a9_11eb_8ee2_5cc9d3aa8974row19_col1\" class=\"data row19 col1\" >b854</td>\n",
       "            </tr>\n",
       "            <tr>\n",
       "                        <th id=\"T_4c175688_74a9_11eb_8ee2_5cc9d3aa8974level0_row20\" class=\"row_heading level0 row20\" >20</th>\n",
       "                        <td id=\"T_4c175688_74a9_11eb_8ee2_5cc9d3aa8974row20_col0\" class=\"data row20 col0\" >Imputation Type</td>\n",
       "                        <td id=\"T_4c175688_74a9_11eb_8ee2_5cc9d3aa8974row20_col1\" class=\"data row20 col1\" >simple</td>\n",
       "            </tr>\n",
       "            <tr>\n",
       "                        <th id=\"T_4c175688_74a9_11eb_8ee2_5cc9d3aa8974level0_row21\" class=\"row_heading level0 row21\" >21</th>\n",
       "                        <td id=\"T_4c175688_74a9_11eb_8ee2_5cc9d3aa8974row21_col0\" class=\"data row21 col0\" >Iterative Imputation Iteration</td>\n",
       "                        <td id=\"T_4c175688_74a9_11eb_8ee2_5cc9d3aa8974row21_col1\" class=\"data row21 col1\" >None</td>\n",
       "            </tr>\n",
       "            <tr>\n",
       "                        <th id=\"T_4c175688_74a9_11eb_8ee2_5cc9d3aa8974level0_row22\" class=\"row_heading level0 row22\" >22</th>\n",
       "                        <td id=\"T_4c175688_74a9_11eb_8ee2_5cc9d3aa8974row22_col0\" class=\"data row22 col0\" >Numeric Imputer</td>\n",
       "                        <td id=\"T_4c175688_74a9_11eb_8ee2_5cc9d3aa8974row22_col1\" class=\"data row22 col1\" >mean</td>\n",
       "            </tr>\n",
       "            <tr>\n",
       "                        <th id=\"T_4c175688_74a9_11eb_8ee2_5cc9d3aa8974level0_row23\" class=\"row_heading level0 row23\" >23</th>\n",
       "                        <td id=\"T_4c175688_74a9_11eb_8ee2_5cc9d3aa8974row23_col0\" class=\"data row23 col0\" >Iterative Imputation Numeric Model</td>\n",
       "                        <td id=\"T_4c175688_74a9_11eb_8ee2_5cc9d3aa8974row23_col1\" class=\"data row23 col1\" >None</td>\n",
       "            </tr>\n",
       "            <tr>\n",
       "                        <th id=\"T_4c175688_74a9_11eb_8ee2_5cc9d3aa8974level0_row24\" class=\"row_heading level0 row24\" >24</th>\n",
       "                        <td id=\"T_4c175688_74a9_11eb_8ee2_5cc9d3aa8974row24_col0\" class=\"data row24 col0\" >Categorical Imputer</td>\n",
       "                        <td id=\"T_4c175688_74a9_11eb_8ee2_5cc9d3aa8974row24_col1\" class=\"data row24 col1\" >constant</td>\n",
       "            </tr>\n",
       "            <tr>\n",
       "                        <th id=\"T_4c175688_74a9_11eb_8ee2_5cc9d3aa8974level0_row25\" class=\"row_heading level0 row25\" >25</th>\n",
       "                        <td id=\"T_4c175688_74a9_11eb_8ee2_5cc9d3aa8974row25_col0\" class=\"data row25 col0\" >Iterative Imputation Categorical Model</td>\n",
       "                        <td id=\"T_4c175688_74a9_11eb_8ee2_5cc9d3aa8974row25_col1\" class=\"data row25 col1\" >None</td>\n",
       "            </tr>\n",
       "            <tr>\n",
       "                        <th id=\"T_4c175688_74a9_11eb_8ee2_5cc9d3aa8974level0_row26\" class=\"row_heading level0 row26\" >26</th>\n",
       "                        <td id=\"T_4c175688_74a9_11eb_8ee2_5cc9d3aa8974row26_col0\" class=\"data row26 col0\" >Unknown Categoricals Handling</td>\n",
       "                        <td id=\"T_4c175688_74a9_11eb_8ee2_5cc9d3aa8974row26_col1\" class=\"data row26 col1\" >least_frequent</td>\n",
       "            </tr>\n",
       "            <tr>\n",
       "                        <th id=\"T_4c175688_74a9_11eb_8ee2_5cc9d3aa8974level0_row27\" class=\"row_heading level0 row27\" >27</th>\n",
       "                        <td id=\"T_4c175688_74a9_11eb_8ee2_5cc9d3aa8974row27_col0\" class=\"data row27 col0\" >Normalize</td>\n",
       "                        <td id=\"T_4c175688_74a9_11eb_8ee2_5cc9d3aa8974row27_col1\" class=\"data row27 col1\" >False</td>\n",
       "            </tr>\n",
       "            <tr>\n",
       "                        <th id=\"T_4c175688_74a9_11eb_8ee2_5cc9d3aa8974level0_row28\" class=\"row_heading level0 row28\" >28</th>\n",
       "                        <td id=\"T_4c175688_74a9_11eb_8ee2_5cc9d3aa8974row28_col0\" class=\"data row28 col0\" >Normalize Method</td>\n",
       "                        <td id=\"T_4c175688_74a9_11eb_8ee2_5cc9d3aa8974row28_col1\" class=\"data row28 col1\" >None</td>\n",
       "            </tr>\n",
       "            <tr>\n",
       "                        <th id=\"T_4c175688_74a9_11eb_8ee2_5cc9d3aa8974level0_row29\" class=\"row_heading level0 row29\" >29</th>\n",
       "                        <td id=\"T_4c175688_74a9_11eb_8ee2_5cc9d3aa8974row29_col0\" class=\"data row29 col0\" >Transformation</td>\n",
       "                        <td id=\"T_4c175688_74a9_11eb_8ee2_5cc9d3aa8974row29_col1\" class=\"data row29 col1\" >False</td>\n",
       "            </tr>\n",
       "            <tr>\n",
       "                        <th id=\"T_4c175688_74a9_11eb_8ee2_5cc9d3aa8974level0_row30\" class=\"row_heading level0 row30\" >30</th>\n",
       "                        <td id=\"T_4c175688_74a9_11eb_8ee2_5cc9d3aa8974row30_col0\" class=\"data row30 col0\" >Transformation Method</td>\n",
       "                        <td id=\"T_4c175688_74a9_11eb_8ee2_5cc9d3aa8974row30_col1\" class=\"data row30 col1\" >None</td>\n",
       "            </tr>\n",
       "            <tr>\n",
       "                        <th id=\"T_4c175688_74a9_11eb_8ee2_5cc9d3aa8974level0_row31\" class=\"row_heading level0 row31\" >31</th>\n",
       "                        <td id=\"T_4c175688_74a9_11eb_8ee2_5cc9d3aa8974row31_col0\" class=\"data row31 col0\" >PCA</td>\n",
       "                        <td id=\"T_4c175688_74a9_11eb_8ee2_5cc9d3aa8974row31_col1\" class=\"data row31 col1\" >False</td>\n",
       "            </tr>\n",
       "            <tr>\n",
       "                        <th id=\"T_4c175688_74a9_11eb_8ee2_5cc9d3aa8974level0_row32\" class=\"row_heading level0 row32\" >32</th>\n",
       "                        <td id=\"T_4c175688_74a9_11eb_8ee2_5cc9d3aa8974row32_col0\" class=\"data row32 col0\" >PCA Method</td>\n",
       "                        <td id=\"T_4c175688_74a9_11eb_8ee2_5cc9d3aa8974row32_col1\" class=\"data row32 col1\" >None</td>\n",
       "            </tr>\n",
       "            <tr>\n",
       "                        <th id=\"T_4c175688_74a9_11eb_8ee2_5cc9d3aa8974level0_row33\" class=\"row_heading level0 row33\" >33</th>\n",
       "                        <td id=\"T_4c175688_74a9_11eb_8ee2_5cc9d3aa8974row33_col0\" class=\"data row33 col0\" >PCA Components</td>\n",
       "                        <td id=\"T_4c175688_74a9_11eb_8ee2_5cc9d3aa8974row33_col1\" class=\"data row33 col1\" >None</td>\n",
       "            </tr>\n",
       "            <tr>\n",
       "                        <th id=\"T_4c175688_74a9_11eb_8ee2_5cc9d3aa8974level0_row34\" class=\"row_heading level0 row34\" >34</th>\n",
       "                        <td id=\"T_4c175688_74a9_11eb_8ee2_5cc9d3aa8974row34_col0\" class=\"data row34 col0\" >Ignore Low Variance</td>\n",
       "                        <td id=\"T_4c175688_74a9_11eb_8ee2_5cc9d3aa8974row34_col1\" class=\"data row34 col1\" >False</td>\n",
       "            </tr>\n",
       "            <tr>\n",
       "                        <th id=\"T_4c175688_74a9_11eb_8ee2_5cc9d3aa8974level0_row35\" class=\"row_heading level0 row35\" >35</th>\n",
       "                        <td id=\"T_4c175688_74a9_11eb_8ee2_5cc9d3aa8974row35_col0\" class=\"data row35 col0\" >Combine Rare Levels</td>\n",
       "                        <td id=\"T_4c175688_74a9_11eb_8ee2_5cc9d3aa8974row35_col1\" class=\"data row35 col1\" >False</td>\n",
       "            </tr>\n",
       "            <tr>\n",
       "                        <th id=\"T_4c175688_74a9_11eb_8ee2_5cc9d3aa8974level0_row36\" class=\"row_heading level0 row36\" >36</th>\n",
       "                        <td id=\"T_4c175688_74a9_11eb_8ee2_5cc9d3aa8974row36_col0\" class=\"data row36 col0\" >Rare Level Threshold</td>\n",
       "                        <td id=\"T_4c175688_74a9_11eb_8ee2_5cc9d3aa8974row36_col1\" class=\"data row36 col1\" >None</td>\n",
       "            </tr>\n",
       "            <tr>\n",
       "                        <th id=\"T_4c175688_74a9_11eb_8ee2_5cc9d3aa8974level0_row37\" class=\"row_heading level0 row37\" >37</th>\n",
       "                        <td id=\"T_4c175688_74a9_11eb_8ee2_5cc9d3aa8974row37_col0\" class=\"data row37 col0\" >Numeric Binning</td>\n",
       "                        <td id=\"T_4c175688_74a9_11eb_8ee2_5cc9d3aa8974row37_col1\" class=\"data row37 col1\" >False</td>\n",
       "            </tr>\n",
       "            <tr>\n",
       "                        <th id=\"T_4c175688_74a9_11eb_8ee2_5cc9d3aa8974level0_row38\" class=\"row_heading level0 row38\" >38</th>\n",
       "                        <td id=\"T_4c175688_74a9_11eb_8ee2_5cc9d3aa8974row38_col0\" class=\"data row38 col0\" >Remove Outliers</td>\n",
       "                        <td id=\"T_4c175688_74a9_11eb_8ee2_5cc9d3aa8974row38_col1\" class=\"data row38 col1\" >False</td>\n",
       "            </tr>\n",
       "            <tr>\n",
       "                        <th id=\"T_4c175688_74a9_11eb_8ee2_5cc9d3aa8974level0_row39\" class=\"row_heading level0 row39\" >39</th>\n",
       "                        <td id=\"T_4c175688_74a9_11eb_8ee2_5cc9d3aa8974row39_col0\" class=\"data row39 col0\" >Outliers Threshold</td>\n",
       "                        <td id=\"T_4c175688_74a9_11eb_8ee2_5cc9d3aa8974row39_col1\" class=\"data row39 col1\" >None</td>\n",
       "            </tr>\n",
       "            <tr>\n",
       "                        <th id=\"T_4c175688_74a9_11eb_8ee2_5cc9d3aa8974level0_row40\" class=\"row_heading level0 row40\" >40</th>\n",
       "                        <td id=\"T_4c175688_74a9_11eb_8ee2_5cc9d3aa8974row40_col0\" class=\"data row40 col0\" >Remove Multicollinearity</td>\n",
       "                        <td id=\"T_4c175688_74a9_11eb_8ee2_5cc9d3aa8974row40_col1\" class=\"data row40 col1\" >False</td>\n",
       "            </tr>\n",
       "            <tr>\n",
       "                        <th id=\"T_4c175688_74a9_11eb_8ee2_5cc9d3aa8974level0_row41\" class=\"row_heading level0 row41\" >41</th>\n",
       "                        <td id=\"T_4c175688_74a9_11eb_8ee2_5cc9d3aa8974row41_col0\" class=\"data row41 col0\" >Multicollinearity Threshold</td>\n",
       "                        <td id=\"T_4c175688_74a9_11eb_8ee2_5cc9d3aa8974row41_col1\" class=\"data row41 col1\" >None</td>\n",
       "            </tr>\n",
       "            <tr>\n",
       "                        <th id=\"T_4c175688_74a9_11eb_8ee2_5cc9d3aa8974level0_row42\" class=\"row_heading level0 row42\" >42</th>\n",
       "                        <td id=\"T_4c175688_74a9_11eb_8ee2_5cc9d3aa8974row42_col0\" class=\"data row42 col0\" >Clustering</td>\n",
       "                        <td id=\"T_4c175688_74a9_11eb_8ee2_5cc9d3aa8974row42_col1\" class=\"data row42 col1\" >False</td>\n",
       "            </tr>\n",
       "            <tr>\n",
       "                        <th id=\"T_4c175688_74a9_11eb_8ee2_5cc9d3aa8974level0_row43\" class=\"row_heading level0 row43\" >43</th>\n",
       "                        <td id=\"T_4c175688_74a9_11eb_8ee2_5cc9d3aa8974row43_col0\" class=\"data row43 col0\" >Clustering Iteration</td>\n",
       "                        <td id=\"T_4c175688_74a9_11eb_8ee2_5cc9d3aa8974row43_col1\" class=\"data row43 col1\" >None</td>\n",
       "            </tr>\n",
       "            <tr>\n",
       "                        <th id=\"T_4c175688_74a9_11eb_8ee2_5cc9d3aa8974level0_row44\" class=\"row_heading level0 row44\" >44</th>\n",
       "                        <td id=\"T_4c175688_74a9_11eb_8ee2_5cc9d3aa8974row44_col0\" class=\"data row44 col0\" >Polynomial Features</td>\n",
       "                        <td id=\"T_4c175688_74a9_11eb_8ee2_5cc9d3aa8974row44_col1\" class=\"data row44 col1\" >False</td>\n",
       "            </tr>\n",
       "            <tr>\n",
       "                        <th id=\"T_4c175688_74a9_11eb_8ee2_5cc9d3aa8974level0_row45\" class=\"row_heading level0 row45\" >45</th>\n",
       "                        <td id=\"T_4c175688_74a9_11eb_8ee2_5cc9d3aa8974row45_col0\" class=\"data row45 col0\" >Polynomial Degree</td>\n",
       "                        <td id=\"T_4c175688_74a9_11eb_8ee2_5cc9d3aa8974row45_col1\" class=\"data row45 col1\" >None</td>\n",
       "            </tr>\n",
       "            <tr>\n",
       "                        <th id=\"T_4c175688_74a9_11eb_8ee2_5cc9d3aa8974level0_row46\" class=\"row_heading level0 row46\" >46</th>\n",
       "                        <td id=\"T_4c175688_74a9_11eb_8ee2_5cc9d3aa8974row46_col0\" class=\"data row46 col0\" >Trignometry Features</td>\n",
       "                        <td id=\"T_4c175688_74a9_11eb_8ee2_5cc9d3aa8974row46_col1\" class=\"data row46 col1\" >False</td>\n",
       "            </tr>\n",
       "            <tr>\n",
       "                        <th id=\"T_4c175688_74a9_11eb_8ee2_5cc9d3aa8974level0_row47\" class=\"row_heading level0 row47\" >47</th>\n",
       "                        <td id=\"T_4c175688_74a9_11eb_8ee2_5cc9d3aa8974row47_col0\" class=\"data row47 col0\" >Polynomial Threshold</td>\n",
       "                        <td id=\"T_4c175688_74a9_11eb_8ee2_5cc9d3aa8974row47_col1\" class=\"data row47 col1\" >None</td>\n",
       "            </tr>\n",
       "            <tr>\n",
       "                        <th id=\"T_4c175688_74a9_11eb_8ee2_5cc9d3aa8974level0_row48\" class=\"row_heading level0 row48\" >48</th>\n",
       "                        <td id=\"T_4c175688_74a9_11eb_8ee2_5cc9d3aa8974row48_col0\" class=\"data row48 col0\" >Group Features</td>\n",
       "                        <td id=\"T_4c175688_74a9_11eb_8ee2_5cc9d3aa8974row48_col1\" class=\"data row48 col1\" >False</td>\n",
       "            </tr>\n",
       "            <tr>\n",
       "                        <th id=\"T_4c175688_74a9_11eb_8ee2_5cc9d3aa8974level0_row49\" class=\"row_heading level0 row49\" >49</th>\n",
       "                        <td id=\"T_4c175688_74a9_11eb_8ee2_5cc9d3aa8974row49_col0\" class=\"data row49 col0\" >Feature Selection</td>\n",
       "                        <td id=\"T_4c175688_74a9_11eb_8ee2_5cc9d3aa8974row49_col1\" class=\"data row49 col1\" >False</td>\n",
       "            </tr>\n",
       "            <tr>\n",
       "                        <th id=\"T_4c175688_74a9_11eb_8ee2_5cc9d3aa8974level0_row50\" class=\"row_heading level0 row50\" >50</th>\n",
       "                        <td id=\"T_4c175688_74a9_11eb_8ee2_5cc9d3aa8974row50_col0\" class=\"data row50 col0\" >Feature Selection Method</td>\n",
       "                        <td id=\"T_4c175688_74a9_11eb_8ee2_5cc9d3aa8974row50_col1\" class=\"data row50 col1\" >classic</td>\n",
       "            </tr>\n",
       "            <tr>\n",
       "                        <th id=\"T_4c175688_74a9_11eb_8ee2_5cc9d3aa8974level0_row51\" class=\"row_heading level0 row51\" >51</th>\n",
       "                        <td id=\"T_4c175688_74a9_11eb_8ee2_5cc9d3aa8974row51_col0\" class=\"data row51 col0\" >Features Selection Threshold</td>\n",
       "                        <td id=\"T_4c175688_74a9_11eb_8ee2_5cc9d3aa8974row51_col1\" class=\"data row51 col1\" >None</td>\n",
       "            </tr>\n",
       "            <tr>\n",
       "                        <th id=\"T_4c175688_74a9_11eb_8ee2_5cc9d3aa8974level0_row52\" class=\"row_heading level0 row52\" >52</th>\n",
       "                        <td id=\"T_4c175688_74a9_11eb_8ee2_5cc9d3aa8974row52_col0\" class=\"data row52 col0\" >Feature Interaction</td>\n",
       "                        <td id=\"T_4c175688_74a9_11eb_8ee2_5cc9d3aa8974row52_col1\" class=\"data row52 col1\" >False</td>\n",
       "            </tr>\n",
       "            <tr>\n",
       "                        <th id=\"T_4c175688_74a9_11eb_8ee2_5cc9d3aa8974level0_row53\" class=\"row_heading level0 row53\" >53</th>\n",
       "                        <td id=\"T_4c175688_74a9_11eb_8ee2_5cc9d3aa8974row53_col0\" class=\"data row53 col0\" >Feature Ratio</td>\n",
       "                        <td id=\"T_4c175688_74a9_11eb_8ee2_5cc9d3aa8974row53_col1\" class=\"data row53 col1\" >False</td>\n",
       "            </tr>\n",
       "            <tr>\n",
       "                        <th id=\"T_4c175688_74a9_11eb_8ee2_5cc9d3aa8974level0_row54\" class=\"row_heading level0 row54\" >54</th>\n",
       "                        <td id=\"T_4c175688_74a9_11eb_8ee2_5cc9d3aa8974row54_col0\" class=\"data row54 col0\" >Interaction Threshold</td>\n",
       "                        <td id=\"T_4c175688_74a9_11eb_8ee2_5cc9d3aa8974row54_col1\" class=\"data row54 col1\" >None</td>\n",
       "            </tr>\n",
       "            <tr>\n",
       "                        <th id=\"T_4c175688_74a9_11eb_8ee2_5cc9d3aa8974level0_row55\" class=\"row_heading level0 row55\" >55</th>\n",
       "                        <td id=\"T_4c175688_74a9_11eb_8ee2_5cc9d3aa8974row55_col0\" class=\"data row55 col0\" >Transform Target</td>\n",
       "                        <td id=\"T_4c175688_74a9_11eb_8ee2_5cc9d3aa8974row55_col1\" class=\"data row55 col1\" >False</td>\n",
       "            </tr>\n",
       "            <tr>\n",
       "                        <th id=\"T_4c175688_74a9_11eb_8ee2_5cc9d3aa8974level0_row56\" class=\"row_heading level0 row56\" >56</th>\n",
       "                        <td id=\"T_4c175688_74a9_11eb_8ee2_5cc9d3aa8974row56_col0\" class=\"data row56 col0\" >Transform Target Method</td>\n",
       "                        <td id=\"T_4c175688_74a9_11eb_8ee2_5cc9d3aa8974row56_col1\" class=\"data row56 col1\" >box-cox</td>\n",
       "            </tr>\n",
       "    </tbody></table>"
      ],
      "text/plain": [
       "<pandas.io.formats.style.Styler at 0x1f4bff7e3d0>"
      ]
     },
     "metadata": {},
     "output_type": "display_data"
    }
   ],
   "source": [
    "from pycaret.regression import *\n",
    "\n",
    "# target: qual a saída? 'charges'\n",
    "# session_id: id da sessão\n",
    "# log_experiment: para armazenar em log as informações\n",
    "reg1 = setup(data, target='charges', session_id=123, log_experiment=True, experiment_name='insurance1')"
   ]
  },
  {
   "cell_type": "markdown",
   "metadata": {},
   "source": [
    "###### Como comparar modelos?\n",
    "- Na parte de ML, temos um conjunto de dados. \n",
    "    * Parte desses dados são usadas para treinamento e outra parte é usada para validar o treinamento\n",
    "- fold=5\n",
    "    * Os dados são divididos em 5 partes iguais\n",
    "    * 4 são usadas para treinar 20 algorítmos\n",
    "    * 1 é usada para testar o treinamento"
   ]
  },
  {
   "cell_type": "code",
   "execution_count": 35,
   "metadata": {},
   "outputs": [
    {
     "data": {
      "text/html": [
       "<style  type=\"text/css\" >\n",
       "    #T_2ba426db_74aa_11eb_ae94_5cc9d3aa8974 th {\n",
       "          text-align: left;\n",
       "    }#T_2ba426db_74aa_11eb_ae94_5cc9d3aa8974row0_col0,#T_2ba426db_74aa_11eb_ae94_5cc9d3aa8974row0_col6,#T_2ba426db_74aa_11eb_ae94_5cc9d3aa8974row1_col0,#T_2ba426db_74aa_11eb_ae94_5cc9d3aa8974row1_col1,#T_2ba426db_74aa_11eb_ae94_5cc9d3aa8974row1_col2,#T_2ba426db_74aa_11eb_ae94_5cc9d3aa8974row1_col3,#T_2ba426db_74aa_11eb_ae94_5cc9d3aa8974row1_col4,#T_2ba426db_74aa_11eb_ae94_5cc9d3aa8974row1_col5,#T_2ba426db_74aa_11eb_ae94_5cc9d3aa8974row1_col6,#T_2ba426db_74aa_11eb_ae94_5cc9d3aa8974row2_col0,#T_2ba426db_74aa_11eb_ae94_5cc9d3aa8974row2_col1,#T_2ba426db_74aa_11eb_ae94_5cc9d3aa8974row2_col2,#T_2ba426db_74aa_11eb_ae94_5cc9d3aa8974row2_col3,#T_2ba426db_74aa_11eb_ae94_5cc9d3aa8974row2_col4,#T_2ba426db_74aa_11eb_ae94_5cc9d3aa8974row2_col5,#T_2ba426db_74aa_11eb_ae94_5cc9d3aa8974row2_col6,#T_2ba426db_74aa_11eb_ae94_5cc9d3aa8974row3_col0,#T_2ba426db_74aa_11eb_ae94_5cc9d3aa8974row3_col1,#T_2ba426db_74aa_11eb_ae94_5cc9d3aa8974row3_col2,#T_2ba426db_74aa_11eb_ae94_5cc9d3aa8974row3_col3,#T_2ba426db_74aa_11eb_ae94_5cc9d3aa8974row3_col4,#T_2ba426db_74aa_11eb_ae94_5cc9d3aa8974row3_col5,#T_2ba426db_74aa_11eb_ae94_5cc9d3aa8974row3_col6,#T_2ba426db_74aa_11eb_ae94_5cc9d3aa8974row4_col0,#T_2ba426db_74aa_11eb_ae94_5cc9d3aa8974row4_col1,#T_2ba426db_74aa_11eb_ae94_5cc9d3aa8974row4_col2,#T_2ba426db_74aa_11eb_ae94_5cc9d3aa8974row4_col3,#T_2ba426db_74aa_11eb_ae94_5cc9d3aa8974row4_col4,#T_2ba426db_74aa_11eb_ae94_5cc9d3aa8974row4_col5,#T_2ba426db_74aa_11eb_ae94_5cc9d3aa8974row4_col6,#T_2ba426db_74aa_11eb_ae94_5cc9d3aa8974row5_col0,#T_2ba426db_74aa_11eb_ae94_5cc9d3aa8974row5_col1,#T_2ba426db_74aa_11eb_ae94_5cc9d3aa8974row5_col2,#T_2ba426db_74aa_11eb_ae94_5cc9d3aa8974row5_col3,#T_2ba426db_74aa_11eb_ae94_5cc9d3aa8974row5_col4,#T_2ba426db_74aa_11eb_ae94_5cc9d3aa8974row5_col5,#T_2ba426db_74aa_11eb_ae94_5cc9d3aa8974row5_col6,#T_2ba426db_74aa_11eb_ae94_5cc9d3aa8974row6_col0,#T_2ba426db_74aa_11eb_ae94_5cc9d3aa8974row6_col1,#T_2ba426db_74aa_11eb_ae94_5cc9d3aa8974row6_col2,#T_2ba426db_74aa_11eb_ae94_5cc9d3aa8974row6_col3,#T_2ba426db_74aa_11eb_ae94_5cc9d3aa8974row6_col4,#T_2ba426db_74aa_11eb_ae94_5cc9d3aa8974row6_col5,#T_2ba426db_74aa_11eb_ae94_5cc9d3aa8974row6_col6,#T_2ba426db_74aa_11eb_ae94_5cc9d3aa8974row7_col0,#T_2ba426db_74aa_11eb_ae94_5cc9d3aa8974row7_col1,#T_2ba426db_74aa_11eb_ae94_5cc9d3aa8974row7_col2,#T_2ba426db_74aa_11eb_ae94_5cc9d3aa8974row7_col3,#T_2ba426db_74aa_11eb_ae94_5cc9d3aa8974row7_col4,#T_2ba426db_74aa_11eb_ae94_5cc9d3aa8974row7_col5,#T_2ba426db_74aa_11eb_ae94_5cc9d3aa8974row7_col6,#T_2ba426db_74aa_11eb_ae94_5cc9d3aa8974row8_col0,#T_2ba426db_74aa_11eb_ae94_5cc9d3aa8974row8_col1,#T_2ba426db_74aa_11eb_ae94_5cc9d3aa8974row8_col2,#T_2ba426db_74aa_11eb_ae94_5cc9d3aa8974row8_col3,#T_2ba426db_74aa_11eb_ae94_5cc9d3aa8974row8_col4,#T_2ba426db_74aa_11eb_ae94_5cc9d3aa8974row8_col5,#T_2ba426db_74aa_11eb_ae94_5cc9d3aa8974row8_col6,#T_2ba426db_74aa_11eb_ae94_5cc9d3aa8974row9_col0,#T_2ba426db_74aa_11eb_ae94_5cc9d3aa8974row9_col1,#T_2ba426db_74aa_11eb_ae94_5cc9d3aa8974row9_col2,#T_2ba426db_74aa_11eb_ae94_5cc9d3aa8974row9_col3,#T_2ba426db_74aa_11eb_ae94_5cc9d3aa8974row9_col4,#T_2ba426db_74aa_11eb_ae94_5cc9d3aa8974row9_col5,#T_2ba426db_74aa_11eb_ae94_5cc9d3aa8974row9_col6,#T_2ba426db_74aa_11eb_ae94_5cc9d3aa8974row10_col0,#T_2ba426db_74aa_11eb_ae94_5cc9d3aa8974row10_col1,#T_2ba426db_74aa_11eb_ae94_5cc9d3aa8974row10_col2,#T_2ba426db_74aa_11eb_ae94_5cc9d3aa8974row10_col3,#T_2ba426db_74aa_11eb_ae94_5cc9d3aa8974row10_col4,#T_2ba426db_74aa_11eb_ae94_5cc9d3aa8974row10_col5,#T_2ba426db_74aa_11eb_ae94_5cc9d3aa8974row10_col6,#T_2ba426db_74aa_11eb_ae94_5cc9d3aa8974row11_col0,#T_2ba426db_74aa_11eb_ae94_5cc9d3aa8974row11_col1,#T_2ba426db_74aa_11eb_ae94_5cc9d3aa8974row11_col2,#T_2ba426db_74aa_11eb_ae94_5cc9d3aa8974row11_col3,#T_2ba426db_74aa_11eb_ae94_5cc9d3aa8974row11_col4,#T_2ba426db_74aa_11eb_ae94_5cc9d3aa8974row11_col5,#T_2ba426db_74aa_11eb_ae94_5cc9d3aa8974row11_col6,#T_2ba426db_74aa_11eb_ae94_5cc9d3aa8974row12_col0,#T_2ba426db_74aa_11eb_ae94_5cc9d3aa8974row12_col1,#T_2ba426db_74aa_11eb_ae94_5cc9d3aa8974row12_col2,#T_2ba426db_74aa_11eb_ae94_5cc9d3aa8974row12_col3,#T_2ba426db_74aa_11eb_ae94_5cc9d3aa8974row12_col4,#T_2ba426db_74aa_11eb_ae94_5cc9d3aa8974row12_col5,#T_2ba426db_74aa_11eb_ae94_5cc9d3aa8974row13_col0,#T_2ba426db_74aa_11eb_ae94_5cc9d3aa8974row13_col1,#T_2ba426db_74aa_11eb_ae94_5cc9d3aa8974row13_col2,#T_2ba426db_74aa_11eb_ae94_5cc9d3aa8974row13_col3,#T_2ba426db_74aa_11eb_ae94_5cc9d3aa8974row13_col4,#T_2ba426db_74aa_11eb_ae94_5cc9d3aa8974row13_col5,#T_2ba426db_74aa_11eb_ae94_5cc9d3aa8974row13_col6,#T_2ba426db_74aa_11eb_ae94_5cc9d3aa8974row14_col0,#T_2ba426db_74aa_11eb_ae94_5cc9d3aa8974row14_col1,#T_2ba426db_74aa_11eb_ae94_5cc9d3aa8974row14_col2,#T_2ba426db_74aa_11eb_ae94_5cc9d3aa8974row14_col3,#T_2ba426db_74aa_11eb_ae94_5cc9d3aa8974row14_col4,#T_2ba426db_74aa_11eb_ae94_5cc9d3aa8974row14_col5,#T_2ba426db_74aa_11eb_ae94_5cc9d3aa8974row14_col6,#T_2ba426db_74aa_11eb_ae94_5cc9d3aa8974row15_col0,#T_2ba426db_74aa_11eb_ae94_5cc9d3aa8974row15_col1,#T_2ba426db_74aa_11eb_ae94_5cc9d3aa8974row15_col2,#T_2ba426db_74aa_11eb_ae94_5cc9d3aa8974row15_col3,#T_2ba426db_74aa_11eb_ae94_5cc9d3aa8974row15_col4,#T_2ba426db_74aa_11eb_ae94_5cc9d3aa8974row15_col5,#T_2ba426db_74aa_11eb_ae94_5cc9d3aa8974row15_col6,#T_2ba426db_74aa_11eb_ae94_5cc9d3aa8974row16_col0,#T_2ba426db_74aa_11eb_ae94_5cc9d3aa8974row16_col1,#T_2ba426db_74aa_11eb_ae94_5cc9d3aa8974row16_col2,#T_2ba426db_74aa_11eb_ae94_5cc9d3aa8974row16_col3,#T_2ba426db_74aa_11eb_ae94_5cc9d3aa8974row16_col4,#T_2ba426db_74aa_11eb_ae94_5cc9d3aa8974row16_col5,#T_2ba426db_74aa_11eb_ae94_5cc9d3aa8974row16_col6{\n",
       "            text-align:  left;\n",
       "            text-align:  left;\n",
       "        }#T_2ba426db_74aa_11eb_ae94_5cc9d3aa8974row0_col1,#T_2ba426db_74aa_11eb_ae94_5cc9d3aa8974row0_col2,#T_2ba426db_74aa_11eb_ae94_5cc9d3aa8974row0_col3,#T_2ba426db_74aa_11eb_ae94_5cc9d3aa8974row0_col4,#T_2ba426db_74aa_11eb_ae94_5cc9d3aa8974row0_col5,#T_2ba426db_74aa_11eb_ae94_5cc9d3aa8974row12_col6{\n",
       "            text-align:  left;\n",
       "            text-align:  left;\n",
       "            background-color:  yellow;\n",
       "        }#T_2ba426db_74aa_11eb_ae94_5cc9d3aa8974row0_col7,#T_2ba426db_74aa_11eb_ae94_5cc9d3aa8974row1_col7,#T_2ba426db_74aa_11eb_ae94_5cc9d3aa8974row2_col7,#T_2ba426db_74aa_11eb_ae94_5cc9d3aa8974row3_col7,#T_2ba426db_74aa_11eb_ae94_5cc9d3aa8974row4_col7,#T_2ba426db_74aa_11eb_ae94_5cc9d3aa8974row5_col7,#T_2ba426db_74aa_11eb_ae94_5cc9d3aa8974row6_col7,#T_2ba426db_74aa_11eb_ae94_5cc9d3aa8974row7_col7,#T_2ba426db_74aa_11eb_ae94_5cc9d3aa8974row8_col7,#T_2ba426db_74aa_11eb_ae94_5cc9d3aa8974row10_col7,#T_2ba426db_74aa_11eb_ae94_5cc9d3aa8974row11_col7,#T_2ba426db_74aa_11eb_ae94_5cc9d3aa8974row12_col7,#T_2ba426db_74aa_11eb_ae94_5cc9d3aa8974row14_col7,#T_2ba426db_74aa_11eb_ae94_5cc9d3aa8974row15_col7,#T_2ba426db_74aa_11eb_ae94_5cc9d3aa8974row16_col7{\n",
       "            text-align:  left;\n",
       "            text-align:  left;\n",
       "            background-color:  lightgrey;\n",
       "        }#T_2ba426db_74aa_11eb_ae94_5cc9d3aa8974row9_col7,#T_2ba426db_74aa_11eb_ae94_5cc9d3aa8974row13_col7{\n",
       "            text-align:  left;\n",
       "            text-align:  left;\n",
       "            background-color:  yellow;\n",
       "            background-color:  lightgrey;\n",
       "        }</style><table id=\"T_2ba426db_74aa_11eb_ae94_5cc9d3aa8974\" ><thead>    <tr>        <th class=\"blank level0\" ></th>        <th class=\"col_heading level0 col0\" >Model</th>        <th class=\"col_heading level0 col1\" >MAE</th>        <th class=\"col_heading level0 col2\" >MSE</th>        <th class=\"col_heading level0 col3\" >RMSE</th>        <th class=\"col_heading level0 col4\" >R2</th>        <th class=\"col_heading level0 col5\" >RMSLE</th>        <th class=\"col_heading level0 col6\" >MAPE</th>        <th class=\"col_heading level0 col7\" >TT (Sec)</th>    </tr></thead><tbody>\n",
       "                <tr>\n",
       "                        <th id=\"T_2ba426db_74aa_11eb_ae94_5cc9d3aa8974level0_row0\" class=\"row_heading level0 row0\" >gbr</th>\n",
       "                        <td id=\"T_2ba426db_74aa_11eb_ae94_5cc9d3aa8974row0_col0\" class=\"data row0 col0\" >Gradient Boosting Regressor</td>\n",
       "                        <td id=\"T_2ba426db_74aa_11eb_ae94_5cc9d3aa8974row0_col1\" class=\"data row0 col1\" >2671.1115</td>\n",
       "                        <td id=\"T_2ba426db_74aa_11eb_ae94_5cc9d3aa8974row0_col2\" class=\"data row0 col2\" >23031333.9247</td>\n",
       "                        <td id=\"T_2ba426db_74aa_11eb_ae94_5cc9d3aa8974row0_col3\" class=\"data row0 col3\" >4795.9477</td>\n",
       "                        <td id=\"T_2ba426db_74aa_11eb_ae94_5cc9d3aa8974row0_col4\" class=\"data row0 col4\" >0.8391</td>\n",
       "                        <td id=\"T_2ba426db_74aa_11eb_ae94_5cc9d3aa8974row0_col5\" class=\"data row0 col5\" >0.4429</td>\n",
       "                        <td id=\"T_2ba426db_74aa_11eb_ae94_5cc9d3aa8974row0_col6\" class=\"data row0 col6\" >0.3133</td>\n",
       "                        <td id=\"T_2ba426db_74aa_11eb_ae94_5cc9d3aa8974row0_col7\" class=\"data row0 col7\" >0.0440</td>\n",
       "            </tr>\n",
       "            <tr>\n",
       "                        <th id=\"T_2ba426db_74aa_11eb_ae94_5cc9d3aa8974level0_row1\" class=\"row_heading level0 row1\" >rf</th>\n",
       "                        <td id=\"T_2ba426db_74aa_11eb_ae94_5cc9d3aa8974row1_col0\" class=\"data row1 col0\" >Random Forest Regressor</td>\n",
       "                        <td id=\"T_2ba426db_74aa_11eb_ae94_5cc9d3aa8974row1_col1\" class=\"data row1 col1\" >2766.9803</td>\n",
       "                        <td id=\"T_2ba426db_74aa_11eb_ae94_5cc9d3aa8974row1_col2\" class=\"data row1 col2\" >25262509.6700</td>\n",
       "                        <td id=\"T_2ba426db_74aa_11eb_ae94_5cc9d3aa8974row1_col3\" class=\"data row1 col3\" >5023.3122</td>\n",
       "                        <td id=\"T_2ba426db_74aa_11eb_ae94_5cc9d3aa8974row1_col4\" class=\"data row1 col4\" >0.8223</td>\n",
       "                        <td id=\"T_2ba426db_74aa_11eb_ae94_5cc9d3aa8974row1_col5\" class=\"data row1 col5\" >0.4812</td>\n",
       "                        <td id=\"T_2ba426db_74aa_11eb_ae94_5cc9d3aa8974row1_col6\" class=\"data row1 col6\" >0.3431</td>\n",
       "                        <td id=\"T_2ba426db_74aa_11eb_ae94_5cc9d3aa8974row1_col7\" class=\"data row1 col7\" >0.1720</td>\n",
       "            </tr>\n",
       "            <tr>\n",
       "                        <th id=\"T_2ba426db_74aa_11eb_ae94_5cc9d3aa8974level0_row2\" class=\"row_heading level0 row2\" >lightgbm</th>\n",
       "                        <td id=\"T_2ba426db_74aa_11eb_ae94_5cc9d3aa8974row2_col0\" class=\"data row2 col0\" >Light Gradient Boosting Machine</td>\n",
       "                        <td id=\"T_2ba426db_74aa_11eb_ae94_5cc9d3aa8974row2_col1\" class=\"data row2 col1\" >3018.9895</td>\n",
       "                        <td id=\"T_2ba426db_74aa_11eb_ae94_5cc9d3aa8974row2_col2\" class=\"data row2 col2\" >25515012.2780</td>\n",
       "                        <td id=\"T_2ba426db_74aa_11eb_ae94_5cc9d3aa8974row2_col3\" class=\"data row2 col3\" >5049.8492</td>\n",
       "                        <td id=\"T_2ba426db_74aa_11eb_ae94_5cc9d3aa8974row2_col4\" class=\"data row2 col4\" >0.8192</td>\n",
       "                        <td id=\"T_2ba426db_74aa_11eb_ae94_5cc9d3aa8974row2_col5\" class=\"data row2 col5\" >0.5534</td>\n",
       "                        <td id=\"T_2ba426db_74aa_11eb_ae94_5cc9d3aa8974row2_col6\" class=\"data row2 col6\" >0.3876</td>\n",
       "                        <td id=\"T_2ba426db_74aa_11eb_ae94_5cc9d3aa8974row2_col7\" class=\"data row2 col7\" >0.0460</td>\n",
       "            </tr>\n",
       "            <tr>\n",
       "                        <th id=\"T_2ba426db_74aa_11eb_ae94_5cc9d3aa8974level0_row3\" class=\"row_heading level0 row3\" >et</th>\n",
       "                        <td id=\"T_2ba426db_74aa_11eb_ae94_5cc9d3aa8974row3_col0\" class=\"data row3 col0\" >Extra Trees Regressor</td>\n",
       "                        <td id=\"T_2ba426db_74aa_11eb_ae94_5cc9d3aa8974row3_col1\" class=\"data row3 col1\" >2804.9711</td>\n",
       "                        <td id=\"T_2ba426db_74aa_11eb_ae94_5cc9d3aa8974row3_col2\" class=\"data row3 col2\" >28728744.5101</td>\n",
       "                        <td id=\"T_2ba426db_74aa_11eb_ae94_5cc9d3aa8974row3_col3\" class=\"data row3 col3\" >5351.1199</td>\n",
       "                        <td id=\"T_2ba426db_74aa_11eb_ae94_5cc9d3aa8974row3_col4\" class=\"data row3 col4\" >0.8004</td>\n",
       "                        <td id=\"T_2ba426db_74aa_11eb_ae94_5cc9d3aa8974row3_col5\" class=\"data row3 col5\" >0.4932</td>\n",
       "                        <td id=\"T_2ba426db_74aa_11eb_ae94_5cc9d3aa8974row3_col6\" class=\"data row3 col6\" >0.3334</td>\n",
       "                        <td id=\"T_2ba426db_74aa_11eb_ae94_5cc9d3aa8974row3_col7\" class=\"data row3 col7\" >0.1620</td>\n",
       "            </tr>\n",
       "            <tr>\n",
       "                        <th id=\"T_2ba426db_74aa_11eb_ae94_5cc9d3aa8974level0_row4\" class=\"row_heading level0 row4\" >ada</th>\n",
       "                        <td id=\"T_2ba426db_74aa_11eb_ae94_5cc9d3aa8974row4_col0\" class=\"data row4 col0\" >AdaBoost Regressor</td>\n",
       "                        <td id=\"T_2ba426db_74aa_11eb_ae94_5cc9d3aa8974row4_col1\" class=\"data row4 col1\" >4366.1001</td>\n",
       "                        <td id=\"T_2ba426db_74aa_11eb_ae94_5cc9d3aa8974row4_col2\" class=\"data row4 col2\" >29298215.0099</td>\n",
       "                        <td id=\"T_2ba426db_74aa_11eb_ae94_5cc9d3aa8974row4_col3\" class=\"data row4 col3\" >5411.0606</td>\n",
       "                        <td id=\"T_2ba426db_74aa_11eb_ae94_5cc9d3aa8974row4_col4\" class=\"data row4 col4\" >0.7915</td>\n",
       "                        <td id=\"T_2ba426db_74aa_11eb_ae94_5cc9d3aa8974row4_col5\" class=\"data row4 col5\" >0.6478</td>\n",
       "                        <td id=\"T_2ba426db_74aa_11eb_ae94_5cc9d3aa8974row4_col6\" class=\"data row4 col6\" >0.7662</td>\n",
       "                        <td id=\"T_2ba426db_74aa_11eb_ae94_5cc9d3aa8974row4_col7\" class=\"data row4 col7\" >0.0200</td>\n",
       "            </tr>\n",
       "            <tr>\n",
       "                        <th id=\"T_2ba426db_74aa_11eb_ae94_5cc9d3aa8974level0_row5\" class=\"row_heading level0 row5\" >llar</th>\n",
       "                        <td id=\"T_2ba426db_74aa_11eb_ae94_5cc9d3aa8974row5_col0\" class=\"data row5 col0\" >Lasso Least Angle Regression</td>\n",
       "                        <td id=\"T_2ba426db_74aa_11eb_ae94_5cc9d3aa8974row5_col1\" class=\"data row5 col1\" >4326.7373</td>\n",
       "                        <td id=\"T_2ba426db_74aa_11eb_ae94_5cc9d3aa8974row5_col2\" class=\"data row5 col2\" >38523195.1094</td>\n",
       "                        <td id=\"T_2ba426db_74aa_11eb_ae94_5cc9d3aa8974row5_col3\" class=\"data row5 col3\" >6194.6384</td>\n",
       "                        <td id=\"T_2ba426db_74aa_11eb_ae94_5cc9d3aa8974row5_col4\" class=\"data row5 col4\" >0.7345</td>\n",
       "                        <td id=\"T_2ba426db_74aa_11eb_ae94_5cc9d3aa8974row5_col5\" class=\"data row5 col5\" >0.6004</td>\n",
       "                        <td id=\"T_2ba426db_74aa_11eb_ae94_5cc9d3aa8974row5_col6\" class=\"data row5 col6\" >0.4409</td>\n",
       "                        <td id=\"T_2ba426db_74aa_11eb_ae94_5cc9d3aa8974row5_col7\" class=\"data row5 col7\" >0.0120</td>\n",
       "            </tr>\n",
       "            <tr>\n",
       "                        <th id=\"T_2ba426db_74aa_11eb_ae94_5cc9d3aa8974level0_row6\" class=\"row_heading level0 row6\" >lr</th>\n",
       "                        <td id=\"T_2ba426db_74aa_11eb_ae94_5cc9d3aa8974row6_col0\" class=\"data row6 col0\" >Linear Regression</td>\n",
       "                        <td id=\"T_2ba426db_74aa_11eb_ae94_5cc9d3aa8974row6_col1\" class=\"data row6 col1\" >4332.7660</td>\n",
       "                        <td id=\"T_2ba426db_74aa_11eb_ae94_5cc9d3aa8974row6_col2\" class=\"data row6 col2\" >38549953.2000</td>\n",
       "                        <td id=\"T_2ba426db_74aa_11eb_ae94_5cc9d3aa8974row6_col3\" class=\"data row6 col3\" >6197.0844</td>\n",
       "                        <td id=\"T_2ba426db_74aa_11eb_ae94_5cc9d3aa8974row6_col4\" class=\"data row6 col4\" >0.7343</td>\n",
       "                        <td id=\"T_2ba426db_74aa_11eb_ae94_5cc9d3aa8974row6_col5\" class=\"data row6 col5\" >0.6369</td>\n",
       "                        <td id=\"T_2ba426db_74aa_11eb_ae94_5cc9d3aa8974row6_col6\" class=\"data row6 col6\" >0.4415</td>\n",
       "                        <td id=\"T_2ba426db_74aa_11eb_ae94_5cc9d3aa8974row6_col7\" class=\"data row6 col7\" >1.5140</td>\n",
       "            </tr>\n",
       "            <tr>\n",
       "                        <th id=\"T_2ba426db_74aa_11eb_ae94_5cc9d3aa8974level0_row7\" class=\"row_heading level0 row7\" >lasso</th>\n",
       "                        <td id=\"T_2ba426db_74aa_11eb_ae94_5cc9d3aa8974row7_col0\" class=\"data row7 col0\" >Lasso Regression</td>\n",
       "                        <td id=\"T_2ba426db_74aa_11eb_ae94_5cc9d3aa8974row7_col1\" class=\"data row7 col1\" >4332.6329</td>\n",
       "                        <td id=\"T_2ba426db_74aa_11eb_ae94_5cc9d3aa8974row7_col2\" class=\"data row7 col2\" >38543898.4000</td>\n",
       "                        <td id=\"T_2ba426db_74aa_11eb_ae94_5cc9d3aa8974row7_col3\" class=\"data row7 col3\" >6196.6074</td>\n",
       "                        <td id=\"T_2ba426db_74aa_11eb_ae94_5cc9d3aa8974row7_col4\" class=\"data row7 col4\" >0.7343</td>\n",
       "                        <td id=\"T_2ba426db_74aa_11eb_ae94_5cc9d3aa8974row7_col5\" class=\"data row7 col5\" >0.6404</td>\n",
       "                        <td id=\"T_2ba426db_74aa_11eb_ae94_5cc9d3aa8974row7_col6\" class=\"data row7 col6\" >0.4416</td>\n",
       "                        <td id=\"T_2ba426db_74aa_11eb_ae94_5cc9d3aa8974row7_col7\" class=\"data row7 col7\" >0.0120</td>\n",
       "            </tr>\n",
       "            <tr>\n",
       "                        <th id=\"T_2ba426db_74aa_11eb_ae94_5cc9d3aa8974level0_row8\" class=\"row_heading level0 row8\" >ridge</th>\n",
       "                        <td id=\"T_2ba426db_74aa_11eb_ae94_5cc9d3aa8974row8_col0\" class=\"data row8 col0\" >Ridge Regression</td>\n",
       "                        <td id=\"T_2ba426db_74aa_11eb_ae94_5cc9d3aa8974row8_col1\" class=\"data row8 col1\" >4347.7178</td>\n",
       "                        <td id=\"T_2ba426db_74aa_11eb_ae94_5cc9d3aa8974row8_col2\" class=\"data row8 col2\" >38551636.4000</td>\n",
       "                        <td id=\"T_2ba426db_74aa_11eb_ae94_5cc9d3aa8974row8_col3\" class=\"data row8 col3\" >6197.1511</td>\n",
       "                        <td id=\"T_2ba426db_74aa_11eb_ae94_5cc9d3aa8974row8_col4\" class=\"data row8 col4\" >0.7343</td>\n",
       "                        <td id=\"T_2ba426db_74aa_11eb_ae94_5cc9d3aa8974row8_col5\" class=\"data row8 col5\" >0.6217</td>\n",
       "                        <td id=\"T_2ba426db_74aa_11eb_ae94_5cc9d3aa8974row8_col6\" class=\"data row8 col6\" >0.4443</td>\n",
       "                        <td id=\"T_2ba426db_74aa_11eb_ae94_5cc9d3aa8974row8_col7\" class=\"data row8 col7\" >0.0120</td>\n",
       "            </tr>\n",
       "            <tr>\n",
       "                        <th id=\"T_2ba426db_74aa_11eb_ae94_5cc9d3aa8974level0_row9\" class=\"row_heading level0 row9\" >br</th>\n",
       "                        <td id=\"T_2ba426db_74aa_11eb_ae94_5cc9d3aa8974row9_col0\" class=\"data row9 col0\" >Bayesian Ridge</td>\n",
       "                        <td id=\"T_2ba426db_74aa_11eb_ae94_5cc9d3aa8974row9_col1\" class=\"data row9 col1\" >4344.6330</td>\n",
       "                        <td id=\"T_2ba426db_74aa_11eb_ae94_5cc9d3aa8974row9_col2\" class=\"data row9 col2\" >38551085.7398</td>\n",
       "                        <td id=\"T_2ba426db_74aa_11eb_ae94_5cc9d3aa8974row9_col3\" class=\"data row9 col3\" >6197.1147</td>\n",
       "                        <td id=\"T_2ba426db_74aa_11eb_ae94_5cc9d3aa8974row9_col4\" class=\"data row9 col4\" >0.7343</td>\n",
       "                        <td id=\"T_2ba426db_74aa_11eb_ae94_5cc9d3aa8974row9_col5\" class=\"data row9 col5\" >0.6400</td>\n",
       "                        <td id=\"T_2ba426db_74aa_11eb_ae94_5cc9d3aa8974row9_col6\" class=\"data row9 col6\" >0.4437</td>\n",
       "                        <td id=\"T_2ba426db_74aa_11eb_ae94_5cc9d3aa8974row9_col7\" class=\"data row9 col7\" >0.0100</td>\n",
       "            </tr>\n",
       "            <tr>\n",
       "                        <th id=\"T_2ba426db_74aa_11eb_ae94_5cc9d3aa8974level0_row10\" class=\"row_heading level0 row10\" >lar</th>\n",
       "                        <td id=\"T_2ba426db_74aa_11eb_ae94_5cc9d3aa8974row10_col0\" class=\"data row10 col0\" >Least Angle Regression</td>\n",
       "                        <td id=\"T_2ba426db_74aa_11eb_ae94_5cc9d3aa8974row10_col1\" class=\"data row10 col1\" >4332.7640</td>\n",
       "                        <td id=\"T_2ba426db_74aa_11eb_ae94_5cc9d3aa8974row10_col2\" class=\"data row10 col2\" >38549934.0631</td>\n",
       "                        <td id=\"T_2ba426db_74aa_11eb_ae94_5cc9d3aa8974row10_col3\" class=\"data row10 col3\" >6197.0826</td>\n",
       "                        <td id=\"T_2ba426db_74aa_11eb_ae94_5cc9d3aa8974row10_col4\" class=\"data row10 col4\" >0.7343</td>\n",
       "                        <td id=\"T_2ba426db_74aa_11eb_ae94_5cc9d3aa8974row10_col5\" class=\"data row10 col5\" >0.6368</td>\n",
       "                        <td id=\"T_2ba426db_74aa_11eb_ae94_5cc9d3aa8974row10_col6\" class=\"data row10 col6\" >0.4415</td>\n",
       "                        <td id=\"T_2ba426db_74aa_11eb_ae94_5cc9d3aa8974row10_col7\" class=\"data row10 col7\" >0.0140</td>\n",
       "            </tr>\n",
       "            <tr>\n",
       "                        <th id=\"T_2ba426db_74aa_11eb_ae94_5cc9d3aa8974level0_row11\" class=\"row_heading level0 row11\" >dt</th>\n",
       "                        <td id=\"T_2ba426db_74aa_11eb_ae94_5cc9d3aa8974row11_col0\" class=\"data row11 col0\" >Decision Tree Regressor</td>\n",
       "                        <td id=\"T_2ba426db_74aa_11eb_ae94_5cc9d3aa8974row11_col1\" class=\"data row11 col1\" >3254.1196</td>\n",
       "                        <td id=\"T_2ba426db_74aa_11eb_ae94_5cc9d3aa8974row11_col2\" class=\"data row11 col2\" >45773953.3697</td>\n",
       "                        <td id=\"T_2ba426db_74aa_11eb_ae94_5cc9d3aa8974row11_col3\" class=\"data row11 col3\" >6760.8312</td>\n",
       "                        <td id=\"T_2ba426db_74aa_11eb_ae94_5cc9d3aa8974row11_col4\" class=\"data row11 col4\" >0.6774</td>\n",
       "                        <td id=\"T_2ba426db_74aa_11eb_ae94_5cc9d3aa8974row11_col5\" class=\"data row11 col5\" >0.5463</td>\n",
       "                        <td id=\"T_2ba426db_74aa_11eb_ae94_5cc9d3aa8974row11_col6\" class=\"data row11 col6\" >0.3637</td>\n",
       "                        <td id=\"T_2ba426db_74aa_11eb_ae94_5cc9d3aa8974row11_col7\" class=\"data row11 col7\" >0.0120</td>\n",
       "            </tr>\n",
       "            <tr>\n",
       "                        <th id=\"T_2ba426db_74aa_11eb_ae94_5cc9d3aa8974level0_row12\" class=\"row_heading level0 row12\" >huber</th>\n",
       "                        <td id=\"T_2ba426db_74aa_11eb_ae94_5cc9d3aa8974row12_col0\" class=\"data row12 col0\" >Huber Regressor</td>\n",
       "                        <td id=\"T_2ba426db_74aa_11eb_ae94_5cc9d3aa8974row12_col1\" class=\"data row12 col1\" >3463.4715</td>\n",
       "                        <td id=\"T_2ba426db_74aa_11eb_ae94_5cc9d3aa8974row12_col2\" class=\"data row12 col2\" >49190081.5001</td>\n",
       "                        <td id=\"T_2ba426db_74aa_11eb_ae94_5cc9d3aa8974row12_col3\" class=\"data row12 col3\" >6999.0637</td>\n",
       "                        <td id=\"T_2ba426db_74aa_11eb_ae94_5cc9d3aa8974row12_col4\" class=\"data row12 col4\" >0.6590</td>\n",
       "                        <td id=\"T_2ba426db_74aa_11eb_ae94_5cc9d3aa8974row12_col5\" class=\"data row12 col5\" >0.4824</td>\n",
       "                        <td id=\"T_2ba426db_74aa_11eb_ae94_5cc9d3aa8974row12_col6\" class=\"data row12 col6\" >0.2172</td>\n",
       "                        <td id=\"T_2ba426db_74aa_11eb_ae94_5cc9d3aa8974row12_col7\" class=\"data row12 col7\" >0.0280</td>\n",
       "            </tr>\n",
       "            <tr>\n",
       "                        <th id=\"T_2ba426db_74aa_11eb_ae94_5cc9d3aa8974level0_row13\" class=\"row_heading level0 row13\" >omp</th>\n",
       "                        <td id=\"T_2ba426db_74aa_11eb_ae94_5cc9d3aa8974row13_col0\" class=\"data row13 col0\" >Orthogonal Matching Pursuit</td>\n",
       "                        <td id=\"T_2ba426db_74aa_11eb_ae94_5cc9d3aa8974row13_col1\" class=\"data row13 col1\" >5760.0474</td>\n",
       "                        <td id=\"T_2ba426db_74aa_11eb_ae94_5cc9d3aa8974row13_col2\" class=\"data row13 col2\" >57656791.1270</td>\n",
       "                        <td id=\"T_2ba426db_74aa_11eb_ae94_5cc9d3aa8974row13_col3\" class=\"data row13 col3\" >7580.0220</td>\n",
       "                        <td id=\"T_2ba426db_74aa_11eb_ae94_5cc9d3aa8974row13_col4\" class=\"data row13 col4\" >0.6026</td>\n",
       "                        <td id=\"T_2ba426db_74aa_11eb_ae94_5cc9d3aa8974row13_col5\" class=\"data row13 col5\" >0.7426</td>\n",
       "                        <td id=\"T_2ba426db_74aa_11eb_ae94_5cc9d3aa8974row13_col6\" class=\"data row13 col6\" >0.8996</td>\n",
       "                        <td id=\"T_2ba426db_74aa_11eb_ae94_5cc9d3aa8974row13_col7\" class=\"data row13 col7\" >0.0100</td>\n",
       "            </tr>\n",
       "            <tr>\n",
       "                        <th id=\"T_2ba426db_74aa_11eb_ae94_5cc9d3aa8974level0_row14\" class=\"row_heading level0 row14\" >par</th>\n",
       "                        <td id=\"T_2ba426db_74aa_11eb_ae94_5cc9d3aa8974row14_col0\" class=\"data row14 col0\" >Passive Aggressive Regressor</td>\n",
       "                        <td id=\"T_2ba426db_74aa_11eb_ae94_5cc9d3aa8974row14_col1\" class=\"data row14 col1\" >4432.5679</td>\n",
       "                        <td id=\"T_2ba426db_74aa_11eb_ae94_5cc9d3aa8974row14_col2\" class=\"data row14 col2\" >62095723.8716</td>\n",
       "                        <td id=\"T_2ba426db_74aa_11eb_ae94_5cc9d3aa8974row14_col3\" class=\"data row14 col3\" >7823.2426</td>\n",
       "                        <td id=\"T_2ba426db_74aa_11eb_ae94_5cc9d3aa8974row14_col4\" class=\"data row14 col4\" >0.5820</td>\n",
       "                        <td id=\"T_2ba426db_74aa_11eb_ae94_5cc9d3aa8974row14_col5\" class=\"data row14 col5\" >0.5203</td>\n",
       "                        <td id=\"T_2ba426db_74aa_11eb_ae94_5cc9d3aa8974row14_col6\" class=\"data row14 col6\" >0.3431</td>\n",
       "                        <td id=\"T_2ba426db_74aa_11eb_ae94_5cc9d3aa8974row14_col7\" class=\"data row14 col7\" >0.0160</td>\n",
       "            </tr>\n",
       "            <tr>\n",
       "                        <th id=\"T_2ba426db_74aa_11eb_ae94_5cc9d3aa8974level0_row15\" class=\"row_heading level0 row15\" >en</th>\n",
       "                        <td id=\"T_2ba426db_74aa_11eb_ae94_5cc9d3aa8974row15_col0\" class=\"data row15 col0\" >Elastic Net</td>\n",
       "                        <td id=\"T_2ba426db_74aa_11eb_ae94_5cc9d3aa8974row15_col1\" class=\"data row15 col1\" >7384.8269</td>\n",
       "                        <td id=\"T_2ba426db_74aa_11eb_ae94_5cc9d3aa8974row15_col2\" class=\"data row15 col2\" >91010923.2000</td>\n",
       "                        <td id=\"T_2ba426db_74aa_11eb_ae94_5cc9d3aa8974row15_col3\" class=\"data row15 col3\" >9512.0959</td>\n",
       "                        <td id=\"T_2ba426db_74aa_11eb_ae94_5cc9d3aa8974row15_col4\" class=\"data row15 col4\" >0.3770</td>\n",
       "                        <td id=\"T_2ba426db_74aa_11eb_ae94_5cc9d3aa8974row15_col5\" class=\"data row15 col5\" >0.7393</td>\n",
       "                        <td id=\"T_2ba426db_74aa_11eb_ae94_5cc9d3aa8974row15_col6\" class=\"data row15 col6\" >0.9263</td>\n",
       "                        <td id=\"T_2ba426db_74aa_11eb_ae94_5cc9d3aa8974row15_col7\" class=\"data row15 col7\" >0.0120</td>\n",
       "            </tr>\n",
       "            <tr>\n",
       "                        <th id=\"T_2ba426db_74aa_11eb_ae94_5cc9d3aa8974level0_row16\" class=\"row_heading level0 row16\" >knn</th>\n",
       "                        <td id=\"T_2ba426db_74aa_11eb_ae94_5cc9d3aa8974row16_col0\" class=\"data row16 col0\" >K Neighbors Regressor</td>\n",
       "                        <td id=\"T_2ba426db_74aa_11eb_ae94_5cc9d3aa8974row16_col1\" class=\"data row16 col1\" >7885.9250</td>\n",
       "                        <td id=\"T_2ba426db_74aa_11eb_ae94_5cc9d3aa8974row16_col2\" class=\"data row16 col2\" >126613833.6000</td>\n",
       "                        <td id=\"T_2ba426db_74aa_11eb_ae94_5cc9d3aa8974row16_col3\" class=\"data row16 col3\" >11222.6768</td>\n",
       "                        <td id=\"T_2ba426db_74aa_11eb_ae94_5cc9d3aa8974row16_col4\" class=\"data row16 col4\" >0.1303</td>\n",
       "                        <td id=\"T_2ba426db_74aa_11eb_ae94_5cc9d3aa8974row16_col5\" class=\"data row16 col5\" >0.8385</td>\n",
       "                        <td id=\"T_2ba426db_74aa_11eb_ae94_5cc9d3aa8974row16_col6\" class=\"data row16 col6\" >0.9167</td>\n",
       "                        <td id=\"T_2ba426db_74aa_11eb_ae94_5cc9d3aa8974row16_col7\" class=\"data row16 col7\" >0.0140</td>\n",
       "            </tr>\n",
       "    </tbody></table>"
      ],
      "text/plain": [
       "<pandas.io.formats.style.Styler at 0x1f4bf9802e0>"
      ]
     },
     "metadata": {},
     "output_type": "display_data"
    }
   ],
   "source": [
    "best_model = compare_models(fold=5)"
   ]
  },
  {
   "cell_type": "markdown",
   "metadata": {},
   "source": [
    "- Melhor modelo: gbr"
   ]
  },
  {
   "cell_type": "code",
   "execution_count": 37,
   "metadata": {},
   "outputs": [
    {
     "data": {
      "text/html": [
       "<style  type=\"text/css\" >\n",
       "#T_451934c7_74aa_11eb_b0bb_5cc9d3aa8974row10_col0,#T_451934c7_74aa_11eb_b0bb_5cc9d3aa8974row10_col1,#T_451934c7_74aa_11eb_b0bb_5cc9d3aa8974row10_col2,#T_451934c7_74aa_11eb_b0bb_5cc9d3aa8974row10_col3,#T_451934c7_74aa_11eb_b0bb_5cc9d3aa8974row10_col4,#T_451934c7_74aa_11eb_b0bb_5cc9d3aa8974row10_col5{\n",
       "            background:  yellow;\n",
       "        }</style><table id=\"T_451934c7_74aa_11eb_b0bb_5cc9d3aa8974\" ><thead>    <tr>        <th class=\"blank level0\" ></th>        <th class=\"col_heading level0 col0\" >MAE</th>        <th class=\"col_heading level0 col1\" >MSE</th>        <th class=\"col_heading level0 col2\" >RMSE</th>        <th class=\"col_heading level0 col3\" >R2</th>        <th class=\"col_heading level0 col4\" >RMSLE</th>        <th class=\"col_heading level0 col5\" >MAPE</th>    </tr></thead><tbody>\n",
       "                <tr>\n",
       "                        <th id=\"T_451934c7_74aa_11eb_b0bb_5cc9d3aa8974level0_row0\" class=\"row_heading level0 row0\" >0</th>\n",
       "                        <td id=\"T_451934c7_74aa_11eb_b0bb_5cc9d3aa8974row0_col0\" class=\"data row0 col0\" >2726.1095</td>\n",
       "                        <td id=\"T_451934c7_74aa_11eb_b0bb_5cc9d3aa8974row0_col1\" class=\"data row0 col1\" >21572648.1936</td>\n",
       "                        <td id=\"T_451934c7_74aa_11eb_b0bb_5cc9d3aa8974row0_col2\" class=\"data row0 col2\" >4644.6365</td>\n",
       "                        <td id=\"T_451934c7_74aa_11eb_b0bb_5cc9d3aa8974row0_col3\" class=\"data row0 col3\" >0.8712</td>\n",
       "                        <td id=\"T_451934c7_74aa_11eb_b0bb_5cc9d3aa8974row0_col4\" class=\"data row0 col4\" >0.4412</td>\n",
       "                        <td id=\"T_451934c7_74aa_11eb_b0bb_5cc9d3aa8974row0_col5\" class=\"data row0 col5\" >0.3314</td>\n",
       "            </tr>\n",
       "            <tr>\n",
       "                        <th id=\"T_451934c7_74aa_11eb_b0bb_5cc9d3aa8974level0_row1\" class=\"row_heading level0 row1\" >1</th>\n",
       "                        <td id=\"T_451934c7_74aa_11eb_b0bb_5cc9d3aa8974row1_col0\" class=\"data row1 col0\" >3022.5537</td>\n",
       "                        <td id=\"T_451934c7_74aa_11eb_b0bb_5cc9d3aa8974row1_col1\" class=\"data row1 col1\" >32047515.9873</td>\n",
       "                        <td id=\"T_451934c7_74aa_11eb_b0bb_5cc9d3aa8974row1_col2\" class=\"data row1 col2\" >5661.0526</td>\n",
       "                        <td id=\"T_451934c7_74aa_11eb_b0bb_5cc9d3aa8974row1_col3\" class=\"data row1 col3\" >0.8137</td>\n",
       "                        <td id=\"T_451934c7_74aa_11eb_b0bb_5cc9d3aa8974row1_col4\" class=\"data row1 col4\" >0.4542</td>\n",
       "                        <td id=\"T_451934c7_74aa_11eb_b0bb_5cc9d3aa8974row1_col5\" class=\"data row1 col5\" >0.2882</td>\n",
       "            </tr>\n",
       "            <tr>\n",
       "                        <th id=\"T_451934c7_74aa_11eb_b0bb_5cc9d3aa8974level0_row2\" class=\"row_heading level0 row2\" >2</th>\n",
       "                        <td id=\"T_451934c7_74aa_11eb_b0bb_5cc9d3aa8974row2_col0\" class=\"data row2 col0\" >2554.0978</td>\n",
       "                        <td id=\"T_451934c7_74aa_11eb_b0bb_5cc9d3aa8974row2_col1\" class=\"data row2 col1\" >21324521.0857</td>\n",
       "                        <td id=\"T_451934c7_74aa_11eb_b0bb_5cc9d3aa8974row2_col2\" class=\"data row2 col2\" >4617.8481</td>\n",
       "                        <td id=\"T_451934c7_74aa_11eb_b0bb_5cc9d3aa8974row2_col3\" class=\"data row2 col3\" >0.7300</td>\n",
       "                        <td id=\"T_451934c7_74aa_11eb_b0bb_5cc9d3aa8974row2_col4\" class=\"data row2 col4\" >0.4760</td>\n",
       "                        <td id=\"T_451934c7_74aa_11eb_b0bb_5cc9d3aa8974row2_col5\" class=\"data row2 col5\" >0.3072</td>\n",
       "            </tr>\n",
       "            <tr>\n",
       "                        <th id=\"T_451934c7_74aa_11eb_b0bb_5cc9d3aa8974level0_row3\" class=\"row_heading level0 row3\" >3</th>\n",
       "                        <td id=\"T_451934c7_74aa_11eb_b0bb_5cc9d3aa8974row3_col0\" class=\"data row3 col0\" >2830.5469</td>\n",
       "                        <td id=\"T_451934c7_74aa_11eb_b0bb_5cc9d3aa8974row3_col1\" class=\"data row3 col1\" >21785291.7575</td>\n",
       "                        <td id=\"T_451934c7_74aa_11eb_b0bb_5cc9d3aa8974row3_col2\" class=\"data row3 col2\" >4667.4717</td>\n",
       "                        <td id=\"T_451934c7_74aa_11eb_b0bb_5cc9d3aa8974row3_col3\" class=\"data row3 col3\" >0.8181</td>\n",
       "                        <td id=\"T_451934c7_74aa_11eb_b0bb_5cc9d3aa8974row3_col4\" class=\"data row3 col4\" >0.4471</td>\n",
       "                        <td id=\"T_451934c7_74aa_11eb_b0bb_5cc9d3aa8974row3_col5\" class=\"data row3 col5\" >0.3480</td>\n",
       "            </tr>\n",
       "            <tr>\n",
       "                        <th id=\"T_451934c7_74aa_11eb_b0bb_5cc9d3aa8974level0_row4\" class=\"row_heading level0 row4\" >4</th>\n",
       "                        <td id=\"T_451934c7_74aa_11eb_b0bb_5cc9d3aa8974row4_col0\" class=\"data row4 col0\" >2888.2098</td>\n",
       "                        <td id=\"T_451934c7_74aa_11eb_b0bb_5cc9d3aa8974row4_col1\" class=\"data row4 col1\" >27291661.9275</td>\n",
       "                        <td id=\"T_451934c7_74aa_11eb_b0bb_5cc9d3aa8974row4_col2\" class=\"data row4 col2\" >5224.1422</td>\n",
       "                        <td id=\"T_451934c7_74aa_11eb_b0bb_5cc9d3aa8974row4_col3\" class=\"data row4 col3\" >0.7970</td>\n",
       "                        <td id=\"T_451934c7_74aa_11eb_b0bb_5cc9d3aa8974row4_col4\" class=\"data row4 col4\" >0.5195</td>\n",
       "                        <td id=\"T_451934c7_74aa_11eb_b0bb_5cc9d3aa8974row4_col5\" class=\"data row4 col5\" >0.3473</td>\n",
       "            </tr>\n",
       "            <tr>\n",
       "                        <th id=\"T_451934c7_74aa_11eb_b0bb_5cc9d3aa8974level0_row5\" class=\"row_heading level0 row5\" >5</th>\n",
       "                        <td id=\"T_451934c7_74aa_11eb_b0bb_5cc9d3aa8974row5_col0\" class=\"data row5 col0\" >2522.7354</td>\n",
       "                        <td id=\"T_451934c7_74aa_11eb_b0bb_5cc9d3aa8974row5_col1\" class=\"data row5 col1\" >18721684.9052</td>\n",
       "                        <td id=\"T_451934c7_74aa_11eb_b0bb_5cc9d3aa8974row5_col2\" class=\"data row5 col2\" >4326.8562</td>\n",
       "                        <td id=\"T_451934c7_74aa_11eb_b0bb_5cc9d3aa8974row5_col3\" class=\"data row5 col3\" >0.8796</td>\n",
       "                        <td id=\"T_451934c7_74aa_11eb_b0bb_5cc9d3aa8974row5_col4\" class=\"data row5 col4\" >0.3360</td>\n",
       "                        <td id=\"T_451934c7_74aa_11eb_b0bb_5cc9d3aa8974row5_col5\" class=\"data row5 col5\" >0.2348</td>\n",
       "            </tr>\n",
       "            <tr>\n",
       "                        <th id=\"T_451934c7_74aa_11eb_b0bb_5cc9d3aa8974level0_row6\" class=\"row_heading level0 row6\" >6</th>\n",
       "                        <td id=\"T_451934c7_74aa_11eb_b0bb_5cc9d3aa8974row6_col0\" class=\"data row6 col0\" >2489.0907</td>\n",
       "                        <td id=\"T_451934c7_74aa_11eb_b0bb_5cc9d3aa8974row6_col1\" class=\"data row6 col1\" >19855612.4462</td>\n",
       "                        <td id=\"T_451934c7_74aa_11eb_b0bb_5cc9d3aa8974row6_col2\" class=\"data row6 col2\" >4455.9637</td>\n",
       "                        <td id=\"T_451934c7_74aa_11eb_b0bb_5cc9d3aa8974row6_col3\" class=\"data row6 col3\" >0.8649</td>\n",
       "                        <td id=\"T_451934c7_74aa_11eb_b0bb_5cc9d3aa8974row6_col4\" class=\"data row6 col4\" >0.3574</td>\n",
       "                        <td id=\"T_451934c7_74aa_11eb_b0bb_5cc9d3aa8974row6_col5\" class=\"data row6 col5\" >0.2832</td>\n",
       "            </tr>\n",
       "            <tr>\n",
       "                        <th id=\"T_451934c7_74aa_11eb_b0bb_5cc9d3aa8974level0_row7\" class=\"row_heading level0 row7\" >7</th>\n",
       "                        <td id=\"T_451934c7_74aa_11eb_b0bb_5cc9d3aa8974row7_col0\" class=\"data row7 col0\" >2709.6859</td>\n",
       "                        <td id=\"T_451934c7_74aa_11eb_b0bb_5cc9d3aa8974row7_col1\" class=\"data row7 col1\" >24817886.8884</td>\n",
       "                        <td id=\"T_451934c7_74aa_11eb_b0bb_5cc9d3aa8974row7_col2\" class=\"data row7 col2\" >4981.7554</td>\n",
       "                        <td id=\"T_451934c7_74aa_11eb_b0bb_5cc9d3aa8974row7_col3\" class=\"data row7 col3\" >0.8635</td>\n",
       "                        <td id=\"T_451934c7_74aa_11eb_b0bb_5cc9d3aa8974row7_col4\" class=\"data row7 col4\" >0.4281</td>\n",
       "                        <td id=\"T_451934c7_74aa_11eb_b0bb_5cc9d3aa8974row7_col5\" class=\"data row7 col5\" >0.2666</td>\n",
       "            </tr>\n",
       "            <tr>\n",
       "                        <th id=\"T_451934c7_74aa_11eb_b0bb_5cc9d3aa8974level0_row8\" class=\"row_heading level0 row8\" >8</th>\n",
       "                        <td id=\"T_451934c7_74aa_11eb_b0bb_5cc9d3aa8974row8_col0\" class=\"data row8 col0\" >2335.3814</td>\n",
       "                        <td id=\"T_451934c7_74aa_11eb_b0bb_5cc9d3aa8974row8_col1\" class=\"data row8 col1\" >17855658.6798</td>\n",
       "                        <td id=\"T_451934c7_74aa_11eb_b0bb_5cc9d3aa8974row8_col2\" class=\"data row8 col2\" >4225.5957</td>\n",
       "                        <td id=\"T_451934c7_74aa_11eb_b0bb_5cc9d3aa8974row8_col3\" class=\"data row8 col3\" >0.8847</td>\n",
       "                        <td id=\"T_451934c7_74aa_11eb_b0bb_5cc9d3aa8974row8_col4\" class=\"data row8 col4\" >0.3996</td>\n",
       "                        <td id=\"T_451934c7_74aa_11eb_b0bb_5cc9d3aa8974row8_col5\" class=\"data row8 col5\" >0.3157</td>\n",
       "            </tr>\n",
       "            <tr>\n",
       "                        <th id=\"T_451934c7_74aa_11eb_b0bb_5cc9d3aa8974level0_row9\" class=\"row_heading level0 row9\" >9</th>\n",
       "                        <td id=\"T_451934c7_74aa_11eb_b0bb_5cc9d3aa8974row9_col0\" class=\"data row9 col0\" >2949.2692</td>\n",
       "                        <td id=\"T_451934c7_74aa_11eb_b0bb_5cc9d3aa8974row9_col1\" class=\"data row9 col1\" >27148082.5381</td>\n",
       "                        <td id=\"T_451934c7_74aa_11eb_b0bb_5cc9d3aa8974row9_col2\" class=\"data row9 col2\" >5210.3822</td>\n",
       "                        <td id=\"T_451934c7_74aa_11eb_b0bb_5cc9d3aa8974row9_col3\" class=\"data row9 col3\" >0.8251</td>\n",
       "                        <td id=\"T_451934c7_74aa_11eb_b0bb_5cc9d3aa8974row9_col4\" class=\"data row9 col4\" >0.5380</td>\n",
       "                        <td id=\"T_451934c7_74aa_11eb_b0bb_5cc9d3aa8974row9_col5\" class=\"data row9 col5\" >0.3907</td>\n",
       "            </tr>\n",
       "            <tr>\n",
       "                        <th id=\"T_451934c7_74aa_11eb_b0bb_5cc9d3aa8974level0_row10\" class=\"row_heading level0 row10\" >Mean</th>\n",
       "                        <td id=\"T_451934c7_74aa_11eb_b0bb_5cc9d3aa8974row10_col0\" class=\"data row10 col0\" >2702.7680</td>\n",
       "                        <td id=\"T_451934c7_74aa_11eb_b0bb_5cc9d3aa8974row10_col1\" class=\"data row10 col1\" >23242056.4409</td>\n",
       "                        <td id=\"T_451934c7_74aa_11eb_b0bb_5cc9d3aa8974row10_col2\" class=\"data row10 col2\" >4801.5704</td>\n",
       "                        <td id=\"T_451934c7_74aa_11eb_b0bb_5cc9d3aa8974row10_col3\" class=\"data row10 col3\" >0.8348</td>\n",
       "                        <td id=\"T_451934c7_74aa_11eb_b0bb_5cc9d3aa8974row10_col4\" class=\"data row10 col4\" >0.4397</td>\n",
       "                        <td id=\"T_451934c7_74aa_11eb_b0bb_5cc9d3aa8974row10_col5\" class=\"data row10 col5\" >0.3113</td>\n",
       "            </tr>\n",
       "            <tr>\n",
       "                        <th id=\"T_451934c7_74aa_11eb_b0bb_5cc9d3aa8974level0_row11\" class=\"row_heading level0 row11\" >SD</th>\n",
       "                        <td id=\"T_451934c7_74aa_11eb_b0bb_5cc9d3aa8974row11_col0\" class=\"data row11 col0\" >212.0094</td>\n",
       "                        <td id=\"T_451934c7_74aa_11eb_b0bb_5cc9d3aa8974row11_col1\" class=\"data row11 col1\" >4256486.5272</td>\n",
       "                        <td id=\"T_451934c7_74aa_11eb_b0bb_5cc9d3aa8974row11_col2\" class=\"data row11 col2\" >432.4094</td>\n",
       "                        <td id=\"T_451934c7_74aa_11eb_b0bb_5cc9d3aa8974row11_col3\" class=\"data row11 col3\" >0.0456</td>\n",
       "                        <td id=\"T_451934c7_74aa_11eb_b0bb_5cc9d3aa8974row11_col4\" class=\"data row11 col4\" >0.0607</td>\n",
       "                        <td id=\"T_451934c7_74aa_11eb_b0bb_5cc9d3aa8974row11_col5\" class=\"data row11 col5\" >0.0431</td>\n",
       "            </tr>\n",
       "    </tbody></table>"
      ],
      "text/plain": [
       "<pandas.io.formats.style.Styler at 0x1f4bfb20970>"
      ]
     },
     "metadata": {},
     "output_type": "display_data"
    }
   ],
   "source": [
    "# Criar o modelo com o escolhido\n",
    "gbr = create_model('gbr')"
   ]
  },
  {
   "cell_type": "code",
   "execution_count": 38,
   "metadata": {},
   "outputs": [
    {
     "data": {
      "text/html": [
       "<style  type=\"text/css\" >\n",
       "#T_901d8540_74aa_11eb_8732_5cc9d3aa8974row10_col0,#T_901d8540_74aa_11eb_8732_5cc9d3aa8974row10_col1,#T_901d8540_74aa_11eb_8732_5cc9d3aa8974row10_col2,#T_901d8540_74aa_11eb_8732_5cc9d3aa8974row10_col3,#T_901d8540_74aa_11eb_8732_5cc9d3aa8974row10_col4,#T_901d8540_74aa_11eb_8732_5cc9d3aa8974row10_col5{\n",
       "            background:  yellow;\n",
       "        }</style><table id=\"T_901d8540_74aa_11eb_8732_5cc9d3aa8974\" ><thead>    <tr>        <th class=\"blank level0\" ></th>        <th class=\"col_heading level0 col0\" >MAE</th>        <th class=\"col_heading level0 col1\" >MSE</th>        <th class=\"col_heading level0 col2\" >RMSE</th>        <th class=\"col_heading level0 col3\" >R2</th>        <th class=\"col_heading level0 col4\" >RMSLE</th>        <th class=\"col_heading level0 col5\" >MAPE</th>    </tr></thead><tbody>\n",
       "                <tr>\n",
       "                        <th id=\"T_901d8540_74aa_11eb_8732_5cc9d3aa8974level0_row0\" class=\"row_heading level0 row0\" >0</th>\n",
       "                        <td id=\"T_901d8540_74aa_11eb_8732_5cc9d3aa8974row0_col0\" class=\"data row0 col0\" >4011.2977</td>\n",
       "                        <td id=\"T_901d8540_74aa_11eb_8732_5cc9d3aa8974row0_col1\" class=\"data row0 col1\" >45222488.6152</td>\n",
       "                        <td id=\"T_901d8540_74aa_11eb_8732_5cc9d3aa8974row0_col2\" class=\"data row0 col2\" >6724.7668</td>\n",
       "                        <td id=\"T_901d8540_74aa_11eb_8732_5cc9d3aa8974row0_col3\" class=\"data row0 col3\" >0.7299</td>\n",
       "                        <td id=\"T_901d8540_74aa_11eb_8732_5cc9d3aa8974row0_col4\" class=\"data row0 col4\" >0.7478</td>\n",
       "                        <td id=\"T_901d8540_74aa_11eb_8732_5cc9d3aa8974row0_col5\" class=\"data row0 col5\" >0.5450</td>\n",
       "            </tr>\n",
       "            <tr>\n",
       "                        <th id=\"T_901d8540_74aa_11eb_8732_5cc9d3aa8974level0_row1\" class=\"row_heading level0 row1\" >1</th>\n",
       "                        <td id=\"T_901d8540_74aa_11eb_8732_5cc9d3aa8974row1_col0\" class=\"data row1 col0\" >4430.8598</td>\n",
       "                        <td id=\"T_901d8540_74aa_11eb_8732_5cc9d3aa8974row1_col1\" class=\"data row1 col1\" >47902130.5445</td>\n",
       "                        <td id=\"T_901d8540_74aa_11eb_8732_5cc9d3aa8974row1_col2\" class=\"data row1 col2\" >6921.1365</td>\n",
       "                        <td id=\"T_901d8540_74aa_11eb_8732_5cc9d3aa8974row1_col3\" class=\"data row1 col3\" >0.7215</td>\n",
       "                        <td id=\"T_901d8540_74aa_11eb_8732_5cc9d3aa8974row1_col4\" class=\"data row1 col4\" >0.6373</td>\n",
       "                        <td id=\"T_901d8540_74aa_11eb_8732_5cc9d3aa8974row1_col5\" class=\"data row1 col5\" >0.4994</td>\n",
       "            </tr>\n",
       "            <tr>\n",
       "                        <th id=\"T_901d8540_74aa_11eb_8732_5cc9d3aa8974level0_row2\" class=\"row_heading level0 row2\" >2</th>\n",
       "                        <td id=\"T_901d8540_74aa_11eb_8732_5cc9d3aa8974row2_col0\" class=\"data row2 col0\" >3970.1247</td>\n",
       "                        <td id=\"T_901d8540_74aa_11eb_8732_5cc9d3aa8974row2_col1\" class=\"data row2 col1\" >41045256.3153</td>\n",
       "                        <td id=\"T_901d8540_74aa_11eb_8732_5cc9d3aa8974row2_col2\" class=\"data row2 col2\" >6406.6572</td>\n",
       "                        <td id=\"T_901d8540_74aa_11eb_8732_5cc9d3aa8974row2_col3\" class=\"data row2 col3\" >0.4803</td>\n",
       "                        <td id=\"T_901d8540_74aa_11eb_8732_5cc9d3aa8974row2_col4\" class=\"data row2 col4\" >0.7853</td>\n",
       "                        <td id=\"T_901d8540_74aa_11eb_8732_5cc9d3aa8974row2_col5\" class=\"data row2 col5\" >0.6919</td>\n",
       "            </tr>\n",
       "            <tr>\n",
       "                        <th id=\"T_901d8540_74aa_11eb_8732_5cc9d3aa8974level0_row3\" class=\"row_heading level0 row3\" >3</th>\n",
       "                        <td id=\"T_901d8540_74aa_11eb_8732_5cc9d3aa8974row3_col0\" class=\"data row3 col0\" >4124.8848</td>\n",
       "                        <td id=\"T_901d8540_74aa_11eb_8732_5cc9d3aa8974row3_col1\" class=\"data row3 col1\" >41665205.7945</td>\n",
       "                        <td id=\"T_901d8540_74aa_11eb_8732_5cc9d3aa8974row3_col2\" class=\"data row3 col2\" >6454.8591</td>\n",
       "                        <td id=\"T_901d8540_74aa_11eb_8732_5cc9d3aa8974row3_col3\" class=\"data row3 col3\" >0.6521</td>\n",
       "                        <td id=\"T_901d8540_74aa_11eb_8732_5cc9d3aa8974row3_col4\" class=\"data row3 col4\" >0.6445</td>\n",
       "                        <td id=\"T_901d8540_74aa_11eb_8732_5cc9d3aa8974row3_col5\" class=\"data row3 col5\" >0.5541</td>\n",
       "            </tr>\n",
       "            <tr>\n",
       "                        <th id=\"T_901d8540_74aa_11eb_8732_5cc9d3aa8974level0_row4\" class=\"row_heading level0 row4\" >4</th>\n",
       "                        <td id=\"T_901d8540_74aa_11eb_8732_5cc9d3aa8974row4_col0\" class=\"data row4 col0\" >4688.7278</td>\n",
       "                        <td id=\"T_901d8540_74aa_11eb_8732_5cc9d3aa8974row4_col1\" class=\"data row4 col1\" >52103915.0210</td>\n",
       "                        <td id=\"T_901d8540_74aa_11eb_8732_5cc9d3aa8974row4_col2\" class=\"data row4 col2\" >7218.3042</td>\n",
       "                        <td id=\"T_901d8540_74aa_11eb_8732_5cc9d3aa8974row4_col3\" class=\"data row4 col3\" >0.6125</td>\n",
       "                        <td id=\"T_901d8540_74aa_11eb_8732_5cc9d3aa8974row4_col4\" class=\"data row4 col4\" >1.0525</td>\n",
       "                        <td id=\"T_901d8540_74aa_11eb_8732_5cc9d3aa8974row4_col5\" class=\"data row4 col5\" >0.6343</td>\n",
       "            </tr>\n",
       "            <tr>\n",
       "                        <th id=\"T_901d8540_74aa_11eb_8732_5cc9d3aa8974level0_row5\" class=\"row_heading level0 row5\" >5</th>\n",
       "                        <td id=\"T_901d8540_74aa_11eb_8732_5cc9d3aa8974row5_col0\" class=\"data row5 col0\" >3963.9702</td>\n",
       "                        <td id=\"T_901d8540_74aa_11eb_8732_5cc9d3aa8974row5_col1\" class=\"data row5 col1\" >38660608.4427</td>\n",
       "                        <td id=\"T_901d8540_74aa_11eb_8732_5cc9d3aa8974row5_col2\" class=\"data row5 col2\" >6217.7656</td>\n",
       "                        <td id=\"T_901d8540_74aa_11eb_8732_5cc9d3aa8974row5_col3\" class=\"data row5 col3\" >0.7513</td>\n",
       "                        <td id=\"T_901d8540_74aa_11eb_8732_5cc9d3aa8974row5_col4\" class=\"data row5 col4\" >0.6143</td>\n",
       "                        <td id=\"T_901d8540_74aa_11eb_8732_5cc9d3aa8974row5_col5\" class=\"data row5 col5\" >0.3953</td>\n",
       "            </tr>\n",
       "            <tr>\n",
       "                        <th id=\"T_901d8540_74aa_11eb_8732_5cc9d3aa8974level0_row6\" class=\"row_heading level0 row6\" >6</th>\n",
       "                        <td id=\"T_901d8540_74aa_11eb_8732_5cc9d3aa8974row6_col0\" class=\"data row6 col0\" >3408.9527</td>\n",
       "                        <td id=\"T_901d8540_74aa_11eb_8732_5cc9d3aa8974row6_col1\" class=\"data row6 col1\" >30329267.3858</td>\n",
       "                        <td id=\"T_901d8540_74aa_11eb_8732_5cc9d3aa8974row6_col2\" class=\"data row6 col2\" >5507.2014</td>\n",
       "                        <td id=\"T_901d8540_74aa_11eb_8732_5cc9d3aa8974row6_col3\" class=\"data row6 col3\" >0.7936</td>\n",
       "                        <td id=\"T_901d8540_74aa_11eb_8732_5cc9d3aa8974row6_col4\" class=\"data row6 col4\" >0.7121</td>\n",
       "                        <td id=\"T_901d8540_74aa_11eb_8732_5cc9d3aa8974row6_col5\" class=\"data row6 col5\" >0.4548</td>\n",
       "            </tr>\n",
       "            <tr>\n",
       "                        <th id=\"T_901d8540_74aa_11eb_8732_5cc9d3aa8974level0_row7\" class=\"row_heading level0 row7\" >7</th>\n",
       "                        <td id=\"T_901d8540_74aa_11eb_8732_5cc9d3aa8974row7_col0\" class=\"data row7 col0\" >3758.4358</td>\n",
       "                        <td id=\"T_901d8540_74aa_11eb_8732_5cc9d3aa8974row7_col1\" class=\"data row7 col1\" >33906064.0171</td>\n",
       "                        <td id=\"T_901d8540_74aa_11eb_8732_5cc9d3aa8974row7_col2\" class=\"data row7 col2\" >5822.8914</td>\n",
       "                        <td id=\"T_901d8540_74aa_11eb_8732_5cc9d3aa8974row7_col3\" class=\"data row7 col3\" >0.8136</td>\n",
       "                        <td id=\"T_901d8540_74aa_11eb_8732_5cc9d3aa8974row7_col4\" class=\"data row7 col4\" >0.9610</td>\n",
       "                        <td id=\"T_901d8540_74aa_11eb_8732_5cc9d3aa8974row7_col5\" class=\"data row7 col5\" >0.4604</td>\n",
       "            </tr>\n",
       "            <tr>\n",
       "                        <th id=\"T_901d8540_74aa_11eb_8732_5cc9d3aa8974level0_row8\" class=\"row_heading level0 row8\" >8</th>\n",
       "                        <td id=\"T_901d8540_74aa_11eb_8732_5cc9d3aa8974row8_col0\" class=\"data row8 col0\" >3579.3452</td>\n",
       "                        <td id=\"T_901d8540_74aa_11eb_8732_5cc9d3aa8974row8_col1\" class=\"data row8 col1\" >36345496.5244</td>\n",
       "                        <td id=\"T_901d8540_74aa_11eb_8732_5cc9d3aa8974row8_col2\" class=\"data row8 col2\" >6028.7226</td>\n",
       "                        <td id=\"T_901d8540_74aa_11eb_8732_5cc9d3aa8974row8_col3\" class=\"data row8 col3\" >0.7652</td>\n",
       "                        <td id=\"T_901d8540_74aa_11eb_8732_5cc9d3aa8974row8_col4\" class=\"data row8 col4\" >0.6452</td>\n",
       "                        <td id=\"T_901d8540_74aa_11eb_8732_5cc9d3aa8974row8_col5\" class=\"data row8 col5\" >0.5782</td>\n",
       "            </tr>\n",
       "            <tr>\n",
       "                        <th id=\"T_901d8540_74aa_11eb_8732_5cc9d3aa8974level0_row9\" class=\"row_heading level0 row9\" >9</th>\n",
       "                        <td id=\"T_901d8540_74aa_11eb_8732_5cc9d3aa8974row9_col0\" class=\"data row9 col0\" >4906.6301</td>\n",
       "                        <td id=\"T_901d8540_74aa_11eb_8732_5cc9d3aa8974row9_col1\" class=\"data row9 col1\" >55392042.8475</td>\n",
       "                        <td id=\"T_901d8540_74aa_11eb_8732_5cc9d3aa8974row9_col2\" class=\"data row9 col2\" >7442.5831</td>\n",
       "                        <td id=\"T_901d8540_74aa_11eb_8732_5cc9d3aa8974row9_col3\" class=\"data row9 col3\" >0.6432</td>\n",
       "                        <td id=\"T_901d8540_74aa_11eb_8732_5cc9d3aa8974row9_col4\" class=\"data row9 col4\" >0.7619</td>\n",
       "                        <td id=\"T_901d8540_74aa_11eb_8732_5cc9d3aa8974row9_col5\" class=\"data row9 col5\" >0.8356</td>\n",
       "            </tr>\n",
       "            <tr>\n",
       "                        <th id=\"T_901d8540_74aa_11eb_8732_5cc9d3aa8974level0_row10\" class=\"row_heading level0 row10\" >Mean</th>\n",
       "                        <td id=\"T_901d8540_74aa_11eb_8732_5cc9d3aa8974row10_col0\" class=\"data row10 col0\" >4084.3229</td>\n",
       "                        <td id=\"T_901d8540_74aa_11eb_8732_5cc9d3aa8974row10_col1\" class=\"data row10 col1\" >42257247.5508</td>\n",
       "                        <td id=\"T_901d8540_74aa_11eb_8732_5cc9d3aa8974row10_col2\" class=\"data row10 col2\" >6474.4888</td>\n",
       "                        <td id=\"T_901d8540_74aa_11eb_8732_5cc9d3aa8974row10_col3\" class=\"data row10 col3\" >0.6963</td>\n",
       "                        <td id=\"T_901d8540_74aa_11eb_8732_5cc9d3aa8974row10_col4\" class=\"data row10 col4\" >0.7562</td>\n",
       "                        <td id=\"T_901d8540_74aa_11eb_8732_5cc9d3aa8974row10_col5\" class=\"data row10 col5\" >0.5649</td>\n",
       "            </tr>\n",
       "            <tr>\n",
       "                        <th id=\"T_901d8540_74aa_11eb_8732_5cc9d3aa8974level0_row11\" class=\"row_heading level0 row11\" >SD</th>\n",
       "                        <td id=\"T_901d8540_74aa_11eb_8732_5cc9d3aa8974row11_col0\" class=\"data row11 col0\" >448.7110</td>\n",
       "                        <td id=\"T_901d8540_74aa_11eb_8732_5cc9d3aa8974row11_col1\" class=\"data row11 col1\" >7562143.1674</td>\n",
       "                        <td id=\"T_901d8540_74aa_11eb_8732_5cc9d3aa8974row11_col2\" class=\"data row11 col2\" >581.5863</td>\n",
       "                        <td id=\"T_901d8540_74aa_11eb_8732_5cc9d3aa8974row11_col3\" class=\"data row11 col3\" >0.0955</td>\n",
       "                        <td id=\"T_901d8540_74aa_11eb_8732_5cc9d3aa8974row11_col4\" class=\"data row11 col4\" >0.1385</td>\n",
       "                        <td id=\"T_901d8540_74aa_11eb_8732_5cc9d3aa8974row11_col5\" class=\"data row11 col5\" >0.1229</td>\n",
       "            </tr>\n",
       "    </tbody></table>"
      ],
      "text/plain": [
       "<pandas.io.formats.style.Styler at 0x1f4bff4adc0>"
      ]
     },
     "metadata": {},
     "output_type": "display_data"
    }
   ],
   "source": [
    "import numpy as np\n",
    "\n",
    "# Criando vários modelos alterando o 'learning_rate' (taxa de aprendizagem) de 0.1 até 1\n",
    "# Vai processar o comando anterior, apenas modificando a taxa de aprendizagem \n",
    "gbrs = [create_model('gbr', learning_rate = i) for i in np.arange(0.1,1,0.1)]"
   ]
  },
  {
   "cell_type": "code",
   "execution_count": 40,
   "metadata": {},
   "outputs": [
    {
     "data": {
      "text/plain": [
       "[GradientBoostingRegressor(alpha=0.9, ccp_alpha=0.0, criterion='friedman_mse',\n",
       "                           init=None, learning_rate=0.1, loss='ls', max_depth=3,\n",
       "                           max_features=None, max_leaf_nodes=None,\n",
       "                           min_impurity_decrease=0.0, min_impurity_split=None,\n",
       "                           min_samples_leaf=1, min_samples_split=2,\n",
       "                           min_weight_fraction_leaf=0.0, n_estimators=100,\n",
       "                           n_iter_no_change=None, presort='deprecated',\n",
       "                           random_state=123, subsample=1.0, tol=0.0001,\n",
       "                           validation_fraction=0.1, verbose=0, warm_start=False),\n",
       " GradientBoostingRegressor(alpha=0.9, ccp_alpha=0.0, criterion='friedman_mse',\n",
       "                           init=None, learning_rate=0.2, loss='ls', max_depth=3,\n",
       "                           max_features=None, max_leaf_nodes=None,\n",
       "                           min_impurity_decrease=0.0, min_impurity_split=None,\n",
       "                           min_samples_leaf=1, min_samples_split=2,\n",
       "                           min_weight_fraction_leaf=0.0, n_estimators=100,\n",
       "                           n_iter_no_change=None, presort='deprecated',\n",
       "                           random_state=123, subsample=1.0, tol=0.0001,\n",
       "                           validation_fraction=0.1, verbose=0, warm_start=False),\n",
       " GradientBoostingRegressor(alpha=0.9, ccp_alpha=0.0, criterion='friedman_mse',\n",
       "                           init=None, learning_rate=0.30000000000000004,\n",
       "                           loss='ls', max_depth=3, max_features=None,\n",
       "                           max_leaf_nodes=None, min_impurity_decrease=0.0,\n",
       "                           min_impurity_split=None, min_samples_leaf=1,\n",
       "                           min_samples_split=2, min_weight_fraction_leaf=0.0,\n",
       "                           n_estimators=100, n_iter_no_change=None,\n",
       "                           presort='deprecated', random_state=123, subsample=1.0,\n",
       "                           tol=0.0001, validation_fraction=0.1, verbose=0,\n",
       "                           warm_start=False),\n",
       " GradientBoostingRegressor(alpha=0.9, ccp_alpha=0.0, criterion='friedman_mse',\n",
       "                           init=None, learning_rate=0.4, loss='ls', max_depth=3,\n",
       "                           max_features=None, max_leaf_nodes=None,\n",
       "                           min_impurity_decrease=0.0, min_impurity_split=None,\n",
       "                           min_samples_leaf=1, min_samples_split=2,\n",
       "                           min_weight_fraction_leaf=0.0, n_estimators=100,\n",
       "                           n_iter_no_change=None, presort='deprecated',\n",
       "                           random_state=123, subsample=1.0, tol=0.0001,\n",
       "                           validation_fraction=0.1, verbose=0, warm_start=False),\n",
       " GradientBoostingRegressor(alpha=0.9, ccp_alpha=0.0, criterion='friedman_mse',\n",
       "                           init=None, learning_rate=0.5, loss='ls', max_depth=3,\n",
       "                           max_features=None, max_leaf_nodes=None,\n",
       "                           min_impurity_decrease=0.0, min_impurity_split=None,\n",
       "                           min_samples_leaf=1, min_samples_split=2,\n",
       "                           min_weight_fraction_leaf=0.0, n_estimators=100,\n",
       "                           n_iter_no_change=None, presort='deprecated',\n",
       "                           random_state=123, subsample=1.0, tol=0.0001,\n",
       "                           validation_fraction=0.1, verbose=0, warm_start=False),\n",
       " GradientBoostingRegressor(alpha=0.9, ccp_alpha=0.0, criterion='friedman_mse',\n",
       "                           init=None, learning_rate=0.6, loss='ls', max_depth=3,\n",
       "                           max_features=None, max_leaf_nodes=None,\n",
       "                           min_impurity_decrease=0.0, min_impurity_split=None,\n",
       "                           min_samples_leaf=1, min_samples_split=2,\n",
       "                           min_weight_fraction_leaf=0.0, n_estimators=100,\n",
       "                           n_iter_no_change=None, presort='deprecated',\n",
       "                           random_state=123, subsample=1.0, tol=0.0001,\n",
       "                           validation_fraction=0.1, verbose=0, warm_start=False),\n",
       " GradientBoostingRegressor(alpha=0.9, ccp_alpha=0.0, criterion='friedman_mse',\n",
       "                           init=None, learning_rate=0.7000000000000001,\n",
       "                           loss='ls', max_depth=3, max_features=None,\n",
       "                           max_leaf_nodes=None, min_impurity_decrease=0.0,\n",
       "                           min_impurity_split=None, min_samples_leaf=1,\n",
       "                           min_samples_split=2, min_weight_fraction_leaf=0.0,\n",
       "                           n_estimators=100, n_iter_no_change=None,\n",
       "                           presort='deprecated', random_state=123, subsample=1.0,\n",
       "                           tol=0.0001, validation_fraction=0.1, verbose=0,\n",
       "                           warm_start=False),\n",
       " GradientBoostingRegressor(alpha=0.9, ccp_alpha=0.0, criterion='friedman_mse',\n",
       "                           init=None, learning_rate=0.8, loss='ls', max_depth=3,\n",
       "                           max_features=None, max_leaf_nodes=None,\n",
       "                           min_impurity_decrease=0.0, min_impurity_split=None,\n",
       "                           min_samples_leaf=1, min_samples_split=2,\n",
       "                           min_weight_fraction_leaf=0.0, n_estimators=100,\n",
       "                           n_iter_no_change=None, presort='deprecated',\n",
       "                           random_state=123, subsample=1.0, tol=0.0001,\n",
       "                           validation_fraction=0.1, verbose=0, warm_start=False),\n",
       " GradientBoostingRegressor(alpha=0.9, ccp_alpha=0.0, criterion='friedman_mse',\n",
       "                           init=None, learning_rate=0.9, loss='ls', max_depth=3,\n",
       "                           max_features=None, max_leaf_nodes=None,\n",
       "                           min_impurity_decrease=0.0, min_impurity_split=None,\n",
       "                           min_samples_leaf=1, min_samples_split=2,\n",
       "                           min_weight_fraction_leaf=0.0, n_estimators=100,\n",
       "                           n_iter_no_change=None, presort='deprecated',\n",
       "                           random_state=123, subsample=1.0, tol=0.0001,\n",
       "                           validation_fraction=0.1, verbose=0, warm_start=False)]"
      ]
     },
     "execution_count": 40,
     "metadata": {},
     "output_type": "execute_result"
    }
   ],
   "source": [
    "gbrs # Imprimir os 10 modelos criados"
   ]
  },
  {
   "cell_type": "markdown",
   "metadata": {},
   "source": [
    "###### Otimização de um modelo\n",
    "- Cada modelo tem hiperparâmetros diferentes, que são variáveis que podem fazer ajustes no modelo\n",
    "- Estes hiperparâmetros podem ser usados para dar uma tunada no modelo com o 'tune_model'\n",
    "- MAE\tMSE\tRMSE\tR2\tRMSLE\tMAPE"
   ]
  },
  {
   "cell_type": "code",
   "execution_count": 41,
   "metadata": {},
   "outputs": [
    {
     "data": {
      "text/html": [
       "<style  type=\"text/css\" >\n",
       "#T_3ce8fee6_74ab_11eb_a3dc_5cc9d3aa8974row10_col0,#T_3ce8fee6_74ab_11eb_a3dc_5cc9d3aa8974row10_col1,#T_3ce8fee6_74ab_11eb_a3dc_5cc9d3aa8974row10_col2,#T_3ce8fee6_74ab_11eb_a3dc_5cc9d3aa8974row10_col3,#T_3ce8fee6_74ab_11eb_a3dc_5cc9d3aa8974row10_col4,#T_3ce8fee6_74ab_11eb_a3dc_5cc9d3aa8974row10_col5{\n",
       "            background:  yellow;\n",
       "        }</style><table id=\"T_3ce8fee6_74ab_11eb_a3dc_5cc9d3aa8974\" ><thead>    <tr>        <th class=\"blank level0\" ></th>        <th class=\"col_heading level0 col0\" >MAE</th>        <th class=\"col_heading level0 col1\" >MSE</th>        <th class=\"col_heading level0 col2\" >RMSE</th>        <th class=\"col_heading level0 col3\" >R2</th>        <th class=\"col_heading level0 col4\" >RMSLE</th>        <th class=\"col_heading level0 col5\" >MAPE</th>    </tr></thead><tbody>\n",
       "                <tr>\n",
       "                        <th id=\"T_3ce8fee6_74ab_11eb_a3dc_5cc9d3aa8974level0_row0\" class=\"row_heading level0 row0\" >0</th>\n",
       "                        <td id=\"T_3ce8fee6_74ab_11eb_a3dc_5cc9d3aa8974row0_col0\" class=\"data row0 col0\" >2749.4041</td>\n",
       "                        <td id=\"T_3ce8fee6_74ab_11eb_a3dc_5cc9d3aa8974row0_col1\" class=\"data row0 col1\" >22173514.3738</td>\n",
       "                        <td id=\"T_3ce8fee6_74ab_11eb_a3dc_5cc9d3aa8974row0_col2\" class=\"data row0 col2\" >4708.8761</td>\n",
       "                        <td id=\"T_3ce8fee6_74ab_11eb_a3dc_5cc9d3aa8974row0_col3\" class=\"data row0 col3\" >0.8676</td>\n",
       "                        <td id=\"T_3ce8fee6_74ab_11eb_a3dc_5cc9d3aa8974row0_col4\" class=\"data row0 col4\" >0.5096</td>\n",
       "                        <td id=\"T_3ce8fee6_74ab_11eb_a3dc_5cc9d3aa8974row0_col5\" class=\"data row0 col5\" >0.3681</td>\n",
       "            </tr>\n",
       "            <tr>\n",
       "                        <th id=\"T_3ce8fee6_74ab_11eb_a3dc_5cc9d3aa8974level0_row1\" class=\"row_heading level0 row1\" >1</th>\n",
       "                        <td id=\"T_3ce8fee6_74ab_11eb_a3dc_5cc9d3aa8974row1_col0\" class=\"data row1 col0\" >3018.0286</td>\n",
       "                        <td id=\"T_3ce8fee6_74ab_11eb_a3dc_5cc9d3aa8974row1_col1\" class=\"data row1 col1\" >29957379.2212</td>\n",
       "                        <td id=\"T_3ce8fee6_74ab_11eb_a3dc_5cc9d3aa8974row1_col2\" class=\"data row1 col2\" >5473.3335</td>\n",
       "                        <td id=\"T_3ce8fee6_74ab_11eb_a3dc_5cc9d3aa8974row1_col3\" class=\"data row1 col3\" >0.8258</td>\n",
       "                        <td id=\"T_3ce8fee6_74ab_11eb_a3dc_5cc9d3aa8974row1_col4\" class=\"data row1 col4\" >0.4426</td>\n",
       "                        <td id=\"T_3ce8fee6_74ab_11eb_a3dc_5cc9d3aa8974row1_col5\" class=\"data row1 col5\" >0.3067</td>\n",
       "            </tr>\n",
       "            <tr>\n",
       "                        <th id=\"T_3ce8fee6_74ab_11eb_a3dc_5cc9d3aa8974level0_row2\" class=\"row_heading level0 row2\" >2</th>\n",
       "                        <td id=\"T_3ce8fee6_74ab_11eb_a3dc_5cc9d3aa8974row2_col0\" class=\"data row2 col0\" >2918.1349</td>\n",
       "                        <td id=\"T_3ce8fee6_74ab_11eb_a3dc_5cc9d3aa8974row2_col1\" class=\"data row2 col1\" >23480166.0643</td>\n",
       "                        <td id=\"T_3ce8fee6_74ab_11eb_a3dc_5cc9d3aa8974row2_col2\" class=\"data row2 col2\" >4845.6337</td>\n",
       "                        <td id=\"T_3ce8fee6_74ab_11eb_a3dc_5cc9d3aa8974row2_col3\" class=\"data row2 col3\" >0.7027</td>\n",
       "                        <td id=\"T_3ce8fee6_74ab_11eb_a3dc_5cc9d3aa8974row2_col4\" class=\"data row2 col4\" >0.5334</td>\n",
       "                        <td id=\"T_3ce8fee6_74ab_11eb_a3dc_5cc9d3aa8974row2_col5\" class=\"data row2 col5\" >0.4290</td>\n",
       "            </tr>\n",
       "            <tr>\n",
       "                        <th id=\"T_3ce8fee6_74ab_11eb_a3dc_5cc9d3aa8974level0_row3\" class=\"row_heading level0 row3\" >3</th>\n",
       "                        <td id=\"T_3ce8fee6_74ab_11eb_a3dc_5cc9d3aa8974row3_col0\" class=\"data row3 col0\" >3039.9396</td>\n",
       "                        <td id=\"T_3ce8fee6_74ab_11eb_a3dc_5cc9d3aa8974row3_col1\" class=\"data row3 col1\" >23857917.6346</td>\n",
       "                        <td id=\"T_3ce8fee6_74ab_11eb_a3dc_5cc9d3aa8974row3_col2\" class=\"data row3 col2\" >4884.4567</td>\n",
       "                        <td id=\"T_3ce8fee6_74ab_11eb_a3dc_5cc9d3aa8974row3_col3\" class=\"data row3 col3\" >0.8008</td>\n",
       "                        <td id=\"T_3ce8fee6_74ab_11eb_a3dc_5cc9d3aa8974row3_col4\" class=\"data row3 col4\" >0.5229</td>\n",
       "                        <td id=\"T_3ce8fee6_74ab_11eb_a3dc_5cc9d3aa8974row3_col5\" class=\"data row3 col5\" >0.4613</td>\n",
       "            </tr>\n",
       "            <tr>\n",
       "                        <th id=\"T_3ce8fee6_74ab_11eb_a3dc_5cc9d3aa8974level0_row4\" class=\"row_heading level0 row4\" >4</th>\n",
       "                        <td id=\"T_3ce8fee6_74ab_11eb_a3dc_5cc9d3aa8974row4_col0\" class=\"data row4 col0\" >3054.8790</td>\n",
       "                        <td id=\"T_3ce8fee6_74ab_11eb_a3dc_5cc9d3aa8974row4_col1\" class=\"data row4 col1\" >29011890.7429</td>\n",
       "                        <td id=\"T_3ce8fee6_74ab_11eb_a3dc_5cc9d3aa8974row4_col2\" class=\"data row4 col2\" >5386.2687</td>\n",
       "                        <td id=\"T_3ce8fee6_74ab_11eb_a3dc_5cc9d3aa8974row4_col3\" class=\"data row4 col3\" >0.7842</td>\n",
       "                        <td id=\"T_3ce8fee6_74ab_11eb_a3dc_5cc9d3aa8974row4_col4\" class=\"data row4 col4\" >0.5249</td>\n",
       "                        <td id=\"T_3ce8fee6_74ab_11eb_a3dc_5cc9d3aa8974row4_col5\" class=\"data row4 col5\" >0.3458</td>\n",
       "            </tr>\n",
       "            <tr>\n",
       "                        <th id=\"T_3ce8fee6_74ab_11eb_a3dc_5cc9d3aa8974level0_row5\" class=\"row_heading level0 row5\" >5</th>\n",
       "                        <td id=\"T_3ce8fee6_74ab_11eb_a3dc_5cc9d3aa8974row5_col0\" class=\"data row5 col0\" >2684.4443</td>\n",
       "                        <td id=\"T_3ce8fee6_74ab_11eb_a3dc_5cc9d3aa8974row5_col1\" class=\"data row5 col1\" >19975423.0230</td>\n",
       "                        <td id=\"T_3ce8fee6_74ab_11eb_a3dc_5cc9d3aa8974row5_col2\" class=\"data row5 col2\" >4469.3873</td>\n",
       "                        <td id=\"T_3ce8fee6_74ab_11eb_a3dc_5cc9d3aa8974row5_col3\" class=\"data row5 col3\" >0.8715</td>\n",
       "                        <td id=\"T_3ce8fee6_74ab_11eb_a3dc_5cc9d3aa8974row5_col4\" class=\"data row5 col4\" >0.3762</td>\n",
       "                        <td id=\"T_3ce8fee6_74ab_11eb_a3dc_5cc9d3aa8974row5_col5\" class=\"data row5 col5\" >0.2844</td>\n",
       "            </tr>\n",
       "            <tr>\n",
       "                        <th id=\"T_3ce8fee6_74ab_11eb_a3dc_5cc9d3aa8974level0_row6\" class=\"row_heading level0 row6\" >6</th>\n",
       "                        <td id=\"T_3ce8fee6_74ab_11eb_a3dc_5cc9d3aa8974row6_col0\" class=\"data row6 col0\" >2451.6536</td>\n",
       "                        <td id=\"T_3ce8fee6_74ab_11eb_a3dc_5cc9d3aa8974row6_col1\" class=\"data row6 col1\" >19958259.8912</td>\n",
       "                        <td id=\"T_3ce8fee6_74ab_11eb_a3dc_5cc9d3aa8974row6_col2\" class=\"data row6 col2\" >4467.4668</td>\n",
       "                        <td id=\"T_3ce8fee6_74ab_11eb_a3dc_5cc9d3aa8974row6_col3\" class=\"data row6 col3\" >0.8642</td>\n",
       "                        <td id=\"T_3ce8fee6_74ab_11eb_a3dc_5cc9d3aa8974row6_col4\" class=\"data row6 col4\" >0.3664</td>\n",
       "                        <td id=\"T_3ce8fee6_74ab_11eb_a3dc_5cc9d3aa8974row6_col5\" class=\"data row6 col5\" >0.2811</td>\n",
       "            </tr>\n",
       "            <tr>\n",
       "                        <th id=\"T_3ce8fee6_74ab_11eb_a3dc_5cc9d3aa8974level0_row7\" class=\"row_heading level0 row7\" >7</th>\n",
       "                        <td id=\"T_3ce8fee6_74ab_11eb_a3dc_5cc9d3aa8974row7_col0\" class=\"data row7 col0\" >2618.0097</td>\n",
       "                        <td id=\"T_3ce8fee6_74ab_11eb_a3dc_5cc9d3aa8974row7_col1\" class=\"data row7 col1\" >25227360.7681</td>\n",
       "                        <td id=\"T_3ce8fee6_74ab_11eb_a3dc_5cc9d3aa8974row7_col2\" class=\"data row7 col2\" >5022.6846</td>\n",
       "                        <td id=\"T_3ce8fee6_74ab_11eb_a3dc_5cc9d3aa8974row7_col3\" class=\"data row7 col3\" >0.8613</td>\n",
       "                        <td id=\"T_3ce8fee6_74ab_11eb_a3dc_5cc9d3aa8974row7_col4\" class=\"data row7 col4\" >0.4571</td>\n",
       "                        <td id=\"T_3ce8fee6_74ab_11eb_a3dc_5cc9d3aa8974row7_col5\" class=\"data row7 col5\" >0.2449</td>\n",
       "            </tr>\n",
       "            <tr>\n",
       "                        <th id=\"T_3ce8fee6_74ab_11eb_a3dc_5cc9d3aa8974level0_row8\" class=\"row_heading level0 row8\" >8</th>\n",
       "                        <td id=\"T_3ce8fee6_74ab_11eb_a3dc_5cc9d3aa8974row8_col0\" class=\"data row8 col0\" >2588.3124</td>\n",
       "                        <td id=\"T_3ce8fee6_74ab_11eb_a3dc_5cc9d3aa8974row8_col1\" class=\"data row8 col1\" >19520821.8295</td>\n",
       "                        <td id=\"T_3ce8fee6_74ab_11eb_a3dc_5cc9d3aa8974row8_col2\" class=\"data row8 col2\" >4418.2374</td>\n",
       "                        <td id=\"T_3ce8fee6_74ab_11eb_a3dc_5cc9d3aa8974row8_col3\" class=\"data row8 col3\" >0.8739</td>\n",
       "                        <td id=\"T_3ce8fee6_74ab_11eb_a3dc_5cc9d3aa8974row8_col4\" class=\"data row8 col4\" >0.4575</td>\n",
       "                        <td id=\"T_3ce8fee6_74ab_11eb_a3dc_5cc9d3aa8974row8_col5\" class=\"data row8 col5\" >0.3820</td>\n",
       "            </tr>\n",
       "            <tr>\n",
       "                        <th id=\"T_3ce8fee6_74ab_11eb_a3dc_5cc9d3aa8974level0_row9\" class=\"row_heading level0 row9\" >9</th>\n",
       "                        <td id=\"T_3ce8fee6_74ab_11eb_a3dc_5cc9d3aa8974row9_col0\" class=\"data row9 col0\" >2944.6161</td>\n",
       "                        <td id=\"T_3ce8fee6_74ab_11eb_a3dc_5cc9d3aa8974row9_col1\" class=\"data row9 col1\" >27231321.1236</td>\n",
       "                        <td id=\"T_3ce8fee6_74ab_11eb_a3dc_5cc9d3aa8974row9_col2\" class=\"data row9 col2\" >5218.3638</td>\n",
       "                        <td id=\"T_3ce8fee6_74ab_11eb_a3dc_5cc9d3aa8974row9_col3\" class=\"data row9 col3\" >0.8246</td>\n",
       "                        <td id=\"T_3ce8fee6_74ab_11eb_a3dc_5cc9d3aa8974row9_col4\" class=\"data row9 col4\" >0.5162</td>\n",
       "                        <td id=\"T_3ce8fee6_74ab_11eb_a3dc_5cc9d3aa8974row9_col5\" class=\"data row9 col5\" >0.3759</td>\n",
       "            </tr>\n",
       "            <tr>\n",
       "                        <th id=\"T_3ce8fee6_74ab_11eb_a3dc_5cc9d3aa8974level0_row10\" class=\"row_heading level0 row10\" >Mean</th>\n",
       "                        <td id=\"T_3ce8fee6_74ab_11eb_a3dc_5cc9d3aa8974row10_col0\" class=\"data row10 col0\" >2806.7422</td>\n",
       "                        <td id=\"T_3ce8fee6_74ab_11eb_a3dc_5cc9d3aa8974row10_col1\" class=\"data row10 col1\" >24039405.4672</td>\n",
       "                        <td id=\"T_3ce8fee6_74ab_11eb_a3dc_5cc9d3aa8974row10_col2\" class=\"data row10 col2\" >4889.4709</td>\n",
       "                        <td id=\"T_3ce8fee6_74ab_11eb_a3dc_5cc9d3aa8974row10_col3\" class=\"data row10 col3\" >0.8277</td>\n",
       "                        <td id=\"T_3ce8fee6_74ab_11eb_a3dc_5cc9d3aa8974row10_col4\" class=\"data row10 col4\" >0.4707</td>\n",
       "                        <td id=\"T_3ce8fee6_74ab_11eb_a3dc_5cc9d3aa8974row10_col5\" class=\"data row10 col5\" >0.3479</td>\n",
       "            </tr>\n",
       "            <tr>\n",
       "                        <th id=\"T_3ce8fee6_74ab_11eb_a3dc_5cc9d3aa8974level0_row11\" class=\"row_heading level0 row11\" >SD</th>\n",
       "                        <td id=\"T_3ce8fee6_74ab_11eb_a3dc_5cc9d3aa8974row11_col0\" class=\"data row11 col0\" >204.8600</td>\n",
       "                        <td id=\"T_3ce8fee6_74ab_11eb_a3dc_5cc9d3aa8974row11_col1\" class=\"data row11 col1\" >3588371.8209</td>\n",
       "                        <td id=\"T_3ce8fee6_74ab_11eb_a3dc_5cc9d3aa8974row11_col2\" class=\"data row11 col2\" >363.9780</td>\n",
       "                        <td id=\"T_3ce8fee6_74ab_11eb_a3dc_5cc9d3aa8974row11_col3\" class=\"data row11 col3\" >0.0513</td>\n",
       "                        <td id=\"T_3ce8fee6_74ab_11eb_a3dc_5cc9d3aa8974row11_col4\" class=\"data row11 col4\" >0.0584</td>\n",
       "                        <td id=\"T_3ce8fee6_74ab_11eb_a3dc_5cc9d3aa8974row11_col5\" class=\"data row11 col5\" >0.0653</td>\n",
       "            </tr>\n",
       "    </tbody></table>"
      ],
      "text/plain": [
       "<pandas.io.formats.style.Styler at 0x1f4bfb20ac0>"
      ]
     },
     "metadata": {},
     "output_type": "display_data"
    }
   ],
   "source": [
    "# Aprimorar o modelo pelo 'R2'\n",
    "tuned_gbr = tune_model(gbr, n_iter=50, optimize='R2')"
   ]
  },
  {
   "cell_type": "code",
   "execution_count": 42,
   "metadata": {},
   "outputs": [
    {
     "data": {
      "text/html": [
       "<style  type=\"text/css\" >\n",
       "#T_7055d749_74ab_11eb_84b4_5cc9d3aa8974row10_col0,#T_7055d749_74ab_11eb_84b4_5cc9d3aa8974row10_col1,#T_7055d749_74ab_11eb_84b4_5cc9d3aa8974row10_col2,#T_7055d749_74ab_11eb_84b4_5cc9d3aa8974row10_col3,#T_7055d749_74ab_11eb_84b4_5cc9d3aa8974row10_col4,#T_7055d749_74ab_11eb_84b4_5cc9d3aa8974row10_col5{\n",
       "            background:  yellow;\n",
       "        }</style><table id=\"T_7055d749_74ab_11eb_84b4_5cc9d3aa8974\" ><thead>    <tr>        <th class=\"blank level0\" ></th>        <th class=\"col_heading level0 col0\" >MAE</th>        <th class=\"col_heading level0 col1\" >MSE</th>        <th class=\"col_heading level0 col2\" >RMSE</th>        <th class=\"col_heading level0 col3\" >R2</th>        <th class=\"col_heading level0 col4\" >RMSLE</th>        <th class=\"col_heading level0 col5\" >MAPE</th>    </tr></thead><tbody>\n",
       "                <tr>\n",
       "                        <th id=\"T_7055d749_74ab_11eb_84b4_5cc9d3aa8974level0_row0\" class=\"row_heading level0 row0\" >0</th>\n",
       "                        <td id=\"T_7055d749_74ab_11eb_84b4_5cc9d3aa8974row0_col0\" class=\"data row0 col0\" >3001.2294</td>\n",
       "                        <td id=\"T_7055d749_74ab_11eb_84b4_5cc9d3aa8974row0_col1\" class=\"data row0 col1\" >37001480.2590</td>\n",
       "                        <td id=\"T_7055d749_74ab_11eb_84b4_5cc9d3aa8974row0_col2\" class=\"data row0 col2\" >6082.8842</td>\n",
       "                        <td id=\"T_7055d749_74ab_11eb_84b4_5cc9d3aa8974row0_col3\" class=\"data row0 col3\" >0.7790</td>\n",
       "                        <td id=\"T_7055d749_74ab_11eb_84b4_5cc9d3aa8974row0_col4\" class=\"data row0 col4\" >0.4984</td>\n",
       "                        <td id=\"T_7055d749_74ab_11eb_84b4_5cc9d3aa8974row0_col5\" class=\"data row0 col5\" >0.3140</td>\n",
       "            </tr>\n",
       "            <tr>\n",
       "                        <th id=\"T_7055d749_74ab_11eb_84b4_5cc9d3aa8974level0_row1\" class=\"row_heading level0 row1\" >1</th>\n",
       "                        <td id=\"T_7055d749_74ab_11eb_84b4_5cc9d3aa8974row1_col0\" class=\"data row1 col0\" >3389.8885</td>\n",
       "                        <td id=\"T_7055d749_74ab_11eb_84b4_5cc9d3aa8974row1_col1\" class=\"data row1 col1\" >49305179.5732</td>\n",
       "                        <td id=\"T_7055d749_74ab_11eb_84b4_5cc9d3aa8974row1_col2\" class=\"data row1 col2\" >7021.7647</td>\n",
       "                        <td id=\"T_7055d749_74ab_11eb_84b4_5cc9d3aa8974row1_col3\" class=\"data row1 col3\" >0.7133</td>\n",
       "                        <td id=\"T_7055d749_74ab_11eb_84b4_5cc9d3aa8974row1_col4\" class=\"data row1 col4\" >0.5574</td>\n",
       "                        <td id=\"T_7055d749_74ab_11eb_84b4_5cc9d3aa8974row1_col5\" class=\"data row1 col5\" >0.3361</td>\n",
       "            </tr>\n",
       "            <tr>\n",
       "                        <th id=\"T_7055d749_74ab_11eb_84b4_5cc9d3aa8974level0_row2\" class=\"row_heading level0 row2\" >2</th>\n",
       "                        <td id=\"T_7055d749_74ab_11eb_84b4_5cc9d3aa8974row2_col0\" class=\"data row2 col0\" >2926.0191</td>\n",
       "                        <td id=\"T_7055d749_74ab_11eb_84b4_5cc9d3aa8974row2_col1\" class=\"data row2 col1\" >42025684.6666</td>\n",
       "                        <td id=\"T_7055d749_74ab_11eb_84b4_5cc9d3aa8974row2_col2\" class=\"data row2 col2\" >6482.7220</td>\n",
       "                        <td id=\"T_7055d749_74ab_11eb_84b4_5cc9d3aa8974row2_col3\" class=\"data row2 col3\" >0.4679</td>\n",
       "                        <td id=\"T_7055d749_74ab_11eb_84b4_5cc9d3aa8974row2_col4\" class=\"data row2 col4\" >0.6215</td>\n",
       "                        <td id=\"T_7055d749_74ab_11eb_84b4_5cc9d3aa8974row2_col5\" class=\"data row2 col5\" >0.4025</td>\n",
       "            </tr>\n",
       "            <tr>\n",
       "                        <th id=\"T_7055d749_74ab_11eb_84b4_5cc9d3aa8974level0_row3\" class=\"row_heading level0 row3\" >3</th>\n",
       "                        <td id=\"T_7055d749_74ab_11eb_84b4_5cc9d3aa8974row3_col0\" class=\"data row3 col0\" >2744.7144</td>\n",
       "                        <td id=\"T_7055d749_74ab_11eb_84b4_5cc9d3aa8974row3_col1\" class=\"data row3 col1\" >34078761.4507</td>\n",
       "                        <td id=\"T_7055d749_74ab_11eb_84b4_5cc9d3aa8974row3_col2\" class=\"data row3 col2\" >5837.7017</td>\n",
       "                        <td id=\"T_7055d749_74ab_11eb_84b4_5cc9d3aa8974row3_col3\" class=\"data row3 col3\" >0.7154</td>\n",
       "                        <td id=\"T_7055d749_74ab_11eb_84b4_5cc9d3aa8974row3_col4\" class=\"data row3 col4\" >0.5412</td>\n",
       "                        <td id=\"T_7055d749_74ab_11eb_84b4_5cc9d3aa8974row3_col5\" class=\"data row3 col5\" >0.3740</td>\n",
       "            </tr>\n",
       "            <tr>\n",
       "                        <th id=\"T_7055d749_74ab_11eb_84b4_5cc9d3aa8974level0_row4\" class=\"row_heading level0 row4\" >4</th>\n",
       "                        <td id=\"T_7055d749_74ab_11eb_84b4_5cc9d3aa8974row4_col0\" class=\"data row4 col0\" >3924.4816</td>\n",
       "                        <td id=\"T_7055d749_74ab_11eb_84b4_5cc9d3aa8974row4_col1\" class=\"data row4 col1\" >59489464.3207</td>\n",
       "                        <td id=\"T_7055d749_74ab_11eb_84b4_5cc9d3aa8974row4_col2\" class=\"data row4 col2\" >7712.9414</td>\n",
       "                        <td id=\"T_7055d749_74ab_11eb_84b4_5cc9d3aa8974row4_col3\" class=\"data row4 col3\" >0.5575</td>\n",
       "                        <td id=\"T_7055d749_74ab_11eb_84b4_5cc9d3aa8974row4_col4\" class=\"data row4 col4\" >0.6455</td>\n",
       "                        <td id=\"T_7055d749_74ab_11eb_84b4_5cc9d3aa8974row4_col5\" class=\"data row4 col5\" >0.4796</td>\n",
       "            </tr>\n",
       "            <tr>\n",
       "                        <th id=\"T_7055d749_74ab_11eb_84b4_5cc9d3aa8974level0_row5\" class=\"row_heading level0 row5\" >5</th>\n",
       "                        <td id=\"T_7055d749_74ab_11eb_84b4_5cc9d3aa8974row5_col0\" class=\"data row5 col0\" >3322.5435</td>\n",
       "                        <td id=\"T_7055d749_74ab_11eb_84b4_5cc9d3aa8974row5_col1\" class=\"data row5 col1\" >42747575.4453</td>\n",
       "                        <td id=\"T_7055d749_74ab_11eb_84b4_5cc9d3aa8974row5_col2\" class=\"data row5 col2\" >6538.1630</td>\n",
       "                        <td id=\"T_7055d749_74ab_11eb_84b4_5cc9d3aa8974row5_col3\" class=\"data row5 col3\" >0.7250</td>\n",
       "                        <td id=\"T_7055d749_74ab_11eb_84b4_5cc9d3aa8974row5_col4\" class=\"data row5 col4\" >0.4869</td>\n",
       "                        <td id=\"T_7055d749_74ab_11eb_84b4_5cc9d3aa8974row5_col5\" class=\"data row5 col5\" >0.2928</td>\n",
       "            </tr>\n",
       "            <tr>\n",
       "                        <th id=\"T_7055d749_74ab_11eb_84b4_5cc9d3aa8974level0_row6\" class=\"row_heading level0 row6\" >6</th>\n",
       "                        <td id=\"T_7055d749_74ab_11eb_84b4_5cc9d3aa8974row6_col0\" class=\"data row6 col0\" >3158.7047</td>\n",
       "                        <td id=\"T_7055d749_74ab_11eb_84b4_5cc9d3aa8974row6_col1\" class=\"data row6 col1\" >49369669.1652</td>\n",
       "                        <td id=\"T_7055d749_74ab_11eb_84b4_5cc9d3aa8974row6_col2\" class=\"data row6 col2\" >7026.3553</td>\n",
       "                        <td id=\"T_7055d749_74ab_11eb_84b4_5cc9d3aa8974row6_col3\" class=\"data row6 col3\" >0.6641</td>\n",
       "                        <td id=\"T_7055d749_74ab_11eb_84b4_5cc9d3aa8974row6_col4\" class=\"data row6 col4\" >0.4511</td>\n",
       "                        <td id=\"T_7055d749_74ab_11eb_84b4_5cc9d3aa8974row6_col5\" class=\"data row6 col5\" >0.3089</td>\n",
       "            </tr>\n",
       "            <tr>\n",
       "                        <th id=\"T_7055d749_74ab_11eb_84b4_5cc9d3aa8974level0_row7\" class=\"row_heading level0 row7\" >7</th>\n",
       "                        <td id=\"T_7055d749_74ab_11eb_84b4_5cc9d3aa8974row7_col0\" class=\"data row7 col0\" >2405.2970</td>\n",
       "                        <td id=\"T_7055d749_74ab_11eb_84b4_5cc9d3aa8974row7_col1\" class=\"data row7 col1\" >31318616.6440</td>\n",
       "                        <td id=\"T_7055d749_74ab_11eb_84b4_5cc9d3aa8974row7_col2\" class=\"data row7 col2\" >5596.3038</td>\n",
       "                        <td id=\"T_7055d749_74ab_11eb_84b4_5cc9d3aa8974row7_col3\" class=\"data row7 col3\" >0.8278</td>\n",
       "                        <td id=\"T_7055d749_74ab_11eb_84b4_5cc9d3aa8974row7_col4\" class=\"data row7 col4\" >0.4497</td>\n",
       "                        <td id=\"T_7055d749_74ab_11eb_84b4_5cc9d3aa8974row7_col5\" class=\"data row7 col5\" >0.1434</td>\n",
       "            </tr>\n",
       "            <tr>\n",
       "                        <th id=\"T_7055d749_74ab_11eb_84b4_5cc9d3aa8974level0_row8\" class=\"row_heading level0 row8\" >8</th>\n",
       "                        <td id=\"T_7055d749_74ab_11eb_84b4_5cc9d3aa8974row8_col0\" class=\"data row8 col0\" >3021.5461</td>\n",
       "                        <td id=\"T_7055d749_74ab_11eb_84b4_5cc9d3aa8974row8_col1\" class=\"data row8 col1\" >39091793.3775</td>\n",
       "                        <td id=\"T_7055d749_74ab_11eb_84b4_5cc9d3aa8974row8_col2\" class=\"data row8 col2\" >6252.3430</td>\n",
       "                        <td id=\"T_7055d749_74ab_11eb_84b4_5cc9d3aa8974row8_col3\" class=\"data row8 col3\" >0.7475</td>\n",
       "                        <td id=\"T_7055d749_74ab_11eb_84b4_5cc9d3aa8974row8_col4\" class=\"data row8 col4\" >0.5117</td>\n",
       "                        <td id=\"T_7055d749_74ab_11eb_84b4_5cc9d3aa8974row8_col5\" class=\"data row8 col5\" >0.4381</td>\n",
       "            </tr>\n",
       "            <tr>\n",
       "                        <th id=\"T_7055d749_74ab_11eb_84b4_5cc9d3aa8974level0_row9\" class=\"row_heading level0 row9\" >9</th>\n",
       "                        <td id=\"T_7055d749_74ab_11eb_84b4_5cc9d3aa8974row9_col0\" class=\"data row9 col0\" >3588.9772</td>\n",
       "                        <td id=\"T_7055d749_74ab_11eb_84b4_5cc9d3aa8974row9_col1\" class=\"data row9 col1\" >53231891.5889</td>\n",
       "                        <td id=\"T_7055d749_74ab_11eb_84b4_5cc9d3aa8974row9_col2\" class=\"data row9 col2\" >7296.0189</td>\n",
       "                        <td id=\"T_7055d749_74ab_11eb_84b4_5cc9d3aa8974row9_col3\" class=\"data row9 col3\" >0.6571</td>\n",
       "                        <td id=\"T_7055d749_74ab_11eb_84b4_5cc9d3aa8974row9_col4\" class=\"data row9 col4\" >0.5679</td>\n",
       "                        <td id=\"T_7055d749_74ab_11eb_84b4_5cc9d3aa8974row9_col5\" class=\"data row9 col5\" >0.3653</td>\n",
       "            </tr>\n",
       "            <tr>\n",
       "                        <th id=\"T_7055d749_74ab_11eb_84b4_5cc9d3aa8974level0_row10\" class=\"row_heading level0 row10\" >Mean</th>\n",
       "                        <td id=\"T_7055d749_74ab_11eb_84b4_5cc9d3aa8974row10_col0\" class=\"data row10 col0\" >3148.3402</td>\n",
       "                        <td id=\"T_7055d749_74ab_11eb_84b4_5cc9d3aa8974row10_col1\" class=\"data row10 col1\" >43766011.6491</td>\n",
       "                        <td id=\"T_7055d749_74ab_11eb_84b4_5cc9d3aa8974row10_col2\" class=\"data row10 col2\" >6584.7198</td>\n",
       "                        <td id=\"T_7055d749_74ab_11eb_84b4_5cc9d3aa8974row10_col3\" class=\"data row10 col3\" >0.6855</td>\n",
       "                        <td id=\"T_7055d749_74ab_11eb_84b4_5cc9d3aa8974row10_col4\" class=\"data row10 col4\" >0.5331</td>\n",
       "                        <td id=\"T_7055d749_74ab_11eb_84b4_5cc9d3aa8974row10_col5\" class=\"data row10 col5\" >0.3455</td>\n",
       "            </tr>\n",
       "            <tr>\n",
       "                        <th id=\"T_7055d749_74ab_11eb_84b4_5cc9d3aa8974level0_row11\" class=\"row_heading level0 row11\" >SD</th>\n",
       "                        <td id=\"T_7055d749_74ab_11eb_84b4_5cc9d3aa8974row11_col0\" class=\"data row11 col0\" >410.7953</td>\n",
       "                        <td id=\"T_7055d749_74ab_11eb_84b4_5cc9d3aa8974row11_col1\" class=\"data row11 col1\" >8481549.4829</td>\n",
       "                        <td id=\"T_7055d749_74ab_11eb_84b4_5cc9d3aa8974row11_col2\" class=\"data row11 col2\" >638.3390</td>\n",
       "                        <td id=\"T_7055d749_74ab_11eb_84b4_5cc9d3aa8974row11_col3\" class=\"data row11 col3\" >0.1005</td>\n",
       "                        <td id=\"T_7055d749_74ab_11eb_84b4_5cc9d3aa8974row11_col4\" class=\"data row11 col4\" >0.0631</td>\n",
       "                        <td id=\"T_7055d749_74ab_11eb_84b4_5cc9d3aa8974row11_col5\" class=\"data row11 col5\" >0.0878</td>\n",
       "            </tr>\n",
       "    </tbody></table>"
      ],
      "text/plain": [
       "<pandas.io.formats.style.Styler at 0x1f4bff5b040>"
      ]
     },
     "metadata": {},
     "output_type": "display_data"
    }
   ],
   "source": [
    "# Criando novo modelo do tipo 'dt' - ensemble\n",
    "#### dt = decision tree\n",
    "# O modelo ensemble é a junção de vários modelos\n",
    "# É como se houvesse vários juízes para decidir uma saída\n",
    "dt = create_model('dt')"
   ]
  },
  {
   "cell_type": "code",
   "execution_count": 43,
   "metadata": {},
   "outputs": [
    {
     "data": {
      "text/html": [
       "<style  type=\"text/css\" >\n",
       "#T_10d95177_74ac_11eb_a570_5cc9d3aa8974row10_col0,#T_10d95177_74ac_11eb_a570_5cc9d3aa8974row10_col1,#T_10d95177_74ac_11eb_a570_5cc9d3aa8974row10_col2,#T_10d95177_74ac_11eb_a570_5cc9d3aa8974row10_col3,#T_10d95177_74ac_11eb_a570_5cc9d3aa8974row10_col4,#T_10d95177_74ac_11eb_a570_5cc9d3aa8974row10_col5{\n",
       "            background:  yellow;\n",
       "        }</style><table id=\"T_10d95177_74ac_11eb_a570_5cc9d3aa8974\" ><thead>    <tr>        <th class=\"blank level0\" ></th>        <th class=\"col_heading level0 col0\" >MAE</th>        <th class=\"col_heading level0 col1\" >MSE</th>        <th class=\"col_heading level0 col2\" >RMSE</th>        <th class=\"col_heading level0 col3\" >R2</th>        <th class=\"col_heading level0 col4\" >RMSLE</th>        <th class=\"col_heading level0 col5\" >MAPE</th>    </tr></thead><tbody>\n",
       "                <tr>\n",
       "                        <th id=\"T_10d95177_74ac_11eb_a570_5cc9d3aa8974level0_row0\" class=\"row_heading level0 row0\" >0</th>\n",
       "                        <td id=\"T_10d95177_74ac_11eb_a570_5cc9d3aa8974row0_col0\" class=\"data row0 col0\" >2638.0841</td>\n",
       "                        <td id=\"T_10d95177_74ac_11eb_a570_5cc9d3aa8974row0_col1\" class=\"data row0 col1\" >22151291.8024</td>\n",
       "                        <td id=\"T_10d95177_74ac_11eb_a570_5cc9d3aa8974row0_col2\" class=\"data row0 col2\" >4706.5159</td>\n",
       "                        <td id=\"T_10d95177_74ac_11eb_a570_5cc9d3aa8974row0_col3\" class=\"data row0 col3\" >0.8677</td>\n",
       "                        <td id=\"T_10d95177_74ac_11eb_a570_5cc9d3aa8974row0_col4\" class=\"data row0 col4\" >0.4746</td>\n",
       "                        <td id=\"T_10d95177_74ac_11eb_a570_5cc9d3aa8974row0_col5\" class=\"data row0 col5\" >0.3378</td>\n",
       "            </tr>\n",
       "            <tr>\n",
       "                        <th id=\"T_10d95177_74ac_11eb_a570_5cc9d3aa8974level0_row1\" class=\"row_heading level0 row1\" >1</th>\n",
       "                        <td id=\"T_10d95177_74ac_11eb_a570_5cc9d3aa8974row1_col0\" class=\"data row1 col0\" >2830.0380</td>\n",
       "                        <td id=\"T_10d95177_74ac_11eb_a570_5cc9d3aa8974row1_col1\" class=\"data row1 col1\" >31025098.7403</td>\n",
       "                        <td id=\"T_10d95177_74ac_11eb_a570_5cc9d3aa8974row1_col2\" class=\"data row1 col2\" >5570.0178</td>\n",
       "                        <td id=\"T_10d95177_74ac_11eb_a570_5cc9d3aa8974row1_col3\" class=\"data row1 col3\" >0.8196</td>\n",
       "                        <td id=\"T_10d95177_74ac_11eb_a570_5cc9d3aa8974row1_col4\" class=\"data row1 col4\" >0.4669</td>\n",
       "                        <td id=\"T_10d95177_74ac_11eb_a570_5cc9d3aa8974row1_col5\" class=\"data row1 col5\" >0.2744</td>\n",
       "            </tr>\n",
       "            <tr>\n",
       "                        <th id=\"T_10d95177_74ac_11eb_a570_5cc9d3aa8974level0_row2\" class=\"row_heading level0 row2\" >2</th>\n",
       "                        <td id=\"T_10d95177_74ac_11eb_a570_5cc9d3aa8974row2_col0\" class=\"data row2 col0\" >2815.0561</td>\n",
       "                        <td id=\"T_10d95177_74ac_11eb_a570_5cc9d3aa8974row2_col1\" class=\"data row2 col1\" >24627133.6410</td>\n",
       "                        <td id=\"T_10d95177_74ac_11eb_a570_5cc9d3aa8974row2_col2\" class=\"data row2 col2\" >4962.5733</td>\n",
       "                        <td id=\"T_10d95177_74ac_11eb_a570_5cc9d3aa8974row2_col3\" class=\"data row2 col3\" >0.6882</td>\n",
       "                        <td id=\"T_10d95177_74ac_11eb_a570_5cc9d3aa8974row2_col4\" class=\"data row2 col4\" >0.5523</td>\n",
       "                        <td id=\"T_10d95177_74ac_11eb_a570_5cc9d3aa8974row2_col5\" class=\"data row2 col5\" >0.4036</td>\n",
       "            </tr>\n",
       "            <tr>\n",
       "                        <th id=\"T_10d95177_74ac_11eb_a570_5cc9d3aa8974level0_row3\" class=\"row_heading level0 row3\" >3</th>\n",
       "                        <td id=\"T_10d95177_74ac_11eb_a570_5cc9d3aa8974row3_col0\" class=\"data row3 col0\" >2863.5967</td>\n",
       "                        <td id=\"T_10d95177_74ac_11eb_a570_5cc9d3aa8974row3_col1\" class=\"data row3 col1\" >24980823.9156</td>\n",
       "                        <td id=\"T_10d95177_74ac_11eb_a570_5cc9d3aa8974row3_col2\" class=\"data row3 col2\" >4998.0820</td>\n",
       "                        <td id=\"T_10d95177_74ac_11eb_a570_5cc9d3aa8974row3_col3\" class=\"data row3 col3\" >0.7914</td>\n",
       "                        <td id=\"T_10d95177_74ac_11eb_a570_5cc9d3aa8974row3_col4\" class=\"data row3 col4\" >0.5334</td>\n",
       "                        <td id=\"T_10d95177_74ac_11eb_a570_5cc9d3aa8974row3_col5\" class=\"data row3 col5\" >0.4367</td>\n",
       "            </tr>\n",
       "            <tr>\n",
       "                        <th id=\"T_10d95177_74ac_11eb_a570_5cc9d3aa8974level0_row4\" class=\"row_heading level0 row4\" >4</th>\n",
       "                        <td id=\"T_10d95177_74ac_11eb_a570_5cc9d3aa8974row4_col0\" class=\"data row4 col0\" >3053.2275</td>\n",
       "                        <td id=\"T_10d95177_74ac_11eb_a570_5cc9d3aa8974row4_col1\" class=\"data row4 col1\" >30874815.5263</td>\n",
       "                        <td id=\"T_10d95177_74ac_11eb_a570_5cc9d3aa8974row4_col2\" class=\"data row4 col2\" >5556.5111</td>\n",
       "                        <td id=\"T_10d95177_74ac_11eb_a570_5cc9d3aa8974row4_col3\" class=\"data row4 col3\" >0.7704</td>\n",
       "                        <td id=\"T_10d95177_74ac_11eb_a570_5cc9d3aa8974row4_col4\" class=\"data row4 col4\" >0.5583</td>\n",
       "                        <td id=\"T_10d95177_74ac_11eb_a570_5cc9d3aa8974row4_col5\" class=\"data row4 col5\" >0.3749</td>\n",
       "            </tr>\n",
       "            <tr>\n",
       "                        <th id=\"T_10d95177_74ac_11eb_a570_5cc9d3aa8974level0_row5\" class=\"row_heading level0 row5\" >5</th>\n",
       "                        <td id=\"T_10d95177_74ac_11eb_a570_5cc9d3aa8974row5_col0\" class=\"data row5 col0\" >2797.2817</td>\n",
       "                        <td id=\"T_10d95177_74ac_11eb_a570_5cc9d3aa8974row5_col1\" class=\"data row5 col1\" >22579623.2850</td>\n",
       "                        <td id=\"T_10d95177_74ac_11eb_a570_5cc9d3aa8974row5_col2\" class=\"data row5 col2\" >4751.8021</td>\n",
       "                        <td id=\"T_10d95177_74ac_11eb_a570_5cc9d3aa8974row5_col3\" class=\"data row5 col3\" >0.8548</td>\n",
       "                        <td id=\"T_10d95177_74ac_11eb_a570_5cc9d3aa8974row5_col4\" class=\"data row5 col4\" >0.3688</td>\n",
       "                        <td id=\"T_10d95177_74ac_11eb_a570_5cc9d3aa8974row5_col5\" class=\"data row5 col5\" >0.2601</td>\n",
       "            </tr>\n",
       "            <tr>\n",
       "                        <th id=\"T_10d95177_74ac_11eb_a570_5cc9d3aa8974level0_row6\" class=\"row_heading level0 row6\" >6</th>\n",
       "                        <td id=\"T_10d95177_74ac_11eb_a570_5cc9d3aa8974row6_col0\" class=\"data row6 col0\" >2587.3709</td>\n",
       "                        <td id=\"T_10d95177_74ac_11eb_a570_5cc9d3aa8974row6_col1\" class=\"data row6 col1\" >22243351.5999</td>\n",
       "                        <td id=\"T_10d95177_74ac_11eb_a570_5cc9d3aa8974row6_col2\" class=\"data row6 col2\" >4716.2858</td>\n",
       "                        <td id=\"T_10d95177_74ac_11eb_a570_5cc9d3aa8974row6_col3\" class=\"data row6 col3\" >0.8486</td>\n",
       "                        <td id=\"T_10d95177_74ac_11eb_a570_5cc9d3aa8974row6_col4\" class=\"data row6 col4\" >0.3790</td>\n",
       "                        <td id=\"T_10d95177_74ac_11eb_a570_5cc9d3aa8974row6_col5\" class=\"data row6 col5\" >0.2968</td>\n",
       "            </tr>\n",
       "            <tr>\n",
       "                        <th id=\"T_10d95177_74ac_11eb_a570_5cc9d3aa8974level0_row7\" class=\"row_heading level0 row7\" >7</th>\n",
       "                        <td id=\"T_10d95177_74ac_11eb_a570_5cc9d3aa8974row7_col0\" class=\"data row7 col0\" >2613.3303</td>\n",
       "                        <td id=\"T_10d95177_74ac_11eb_a570_5cc9d3aa8974row7_col1\" class=\"data row7 col1\" >23886642.2418</td>\n",
       "                        <td id=\"T_10d95177_74ac_11eb_a570_5cc9d3aa8974row7_col2\" class=\"data row7 col2\" >4887.3963</td>\n",
       "                        <td id=\"T_10d95177_74ac_11eb_a570_5cc9d3aa8974row7_col3\" class=\"data row7 col3\" >0.8687</td>\n",
       "                        <td id=\"T_10d95177_74ac_11eb_a570_5cc9d3aa8974row7_col4\" class=\"data row7 col4\" >0.4335</td>\n",
       "                        <td id=\"T_10d95177_74ac_11eb_a570_5cc9d3aa8974row7_col5\" class=\"data row7 col5\" >0.2416</td>\n",
       "            </tr>\n",
       "            <tr>\n",
       "                        <th id=\"T_10d95177_74ac_11eb_a570_5cc9d3aa8974level0_row8\" class=\"row_heading level0 row8\" >8</th>\n",
       "                        <td id=\"T_10d95177_74ac_11eb_a570_5cc9d3aa8974row8_col0\" class=\"data row8 col0\" >2269.4941</td>\n",
       "                        <td id=\"T_10d95177_74ac_11eb_a570_5cc9d3aa8974row8_col1\" class=\"data row8 col1\" >17774301.6172</td>\n",
       "                        <td id=\"T_10d95177_74ac_11eb_a570_5cc9d3aa8974row8_col2\" class=\"data row8 col2\" >4215.9580</td>\n",
       "                        <td id=\"T_10d95177_74ac_11eb_a570_5cc9d3aa8974row8_col3\" class=\"data row8 col3\" >0.8852</td>\n",
       "                        <td id=\"T_10d95177_74ac_11eb_a570_5cc9d3aa8974row8_col4\" class=\"data row8 col4\" >0.4304</td>\n",
       "                        <td id=\"T_10d95177_74ac_11eb_a570_5cc9d3aa8974row8_col5\" class=\"data row8 col5\" >0.3432</td>\n",
       "            </tr>\n",
       "            <tr>\n",
       "                        <th id=\"T_10d95177_74ac_11eb_a570_5cc9d3aa8974level0_row9\" class=\"row_heading level0 row9\" >9</th>\n",
       "                        <td id=\"T_10d95177_74ac_11eb_a570_5cc9d3aa8974row9_col0\" class=\"data row9 col0\" >2833.7279</td>\n",
       "                        <td id=\"T_10d95177_74ac_11eb_a570_5cc9d3aa8974row9_col1\" class=\"data row9 col1\" >29680679.0739</td>\n",
       "                        <td id=\"T_10d95177_74ac_11eb_a570_5cc9d3aa8974row9_col2\" class=\"data row9 col2\" >5447.9977</td>\n",
       "                        <td id=\"T_10d95177_74ac_11eb_a570_5cc9d3aa8974row9_col3\" class=\"data row9 col3\" >0.8088</td>\n",
       "                        <td id=\"T_10d95177_74ac_11eb_a570_5cc9d3aa8974row9_col4\" class=\"data row9 col4\" >0.5143</td>\n",
       "                        <td id=\"T_10d95177_74ac_11eb_a570_5cc9d3aa8974row9_col5\" class=\"data row9 col5\" >0.3482</td>\n",
       "            </tr>\n",
       "            <tr>\n",
       "                        <th id=\"T_10d95177_74ac_11eb_a570_5cc9d3aa8974level0_row10\" class=\"row_heading level0 row10\" >Mean</th>\n",
       "                        <td id=\"T_10d95177_74ac_11eb_a570_5cc9d3aa8974row10_col0\" class=\"data row10 col0\" >2730.1207</td>\n",
       "                        <td id=\"T_10d95177_74ac_11eb_a570_5cc9d3aa8974row10_col1\" class=\"data row10 col1\" >24982376.1443</td>\n",
       "                        <td id=\"T_10d95177_74ac_11eb_a570_5cc9d3aa8974row10_col2\" class=\"data row10 col2\" >4981.3140</td>\n",
       "                        <td id=\"T_10d95177_74ac_11eb_a570_5cc9d3aa8974row10_col3\" class=\"data row10 col3\" >0.8203</td>\n",
       "                        <td id=\"T_10d95177_74ac_11eb_a570_5cc9d3aa8974row10_col4\" class=\"data row10 col4\" >0.4711</td>\n",
       "                        <td id=\"T_10d95177_74ac_11eb_a570_5cc9d3aa8974row10_col5\" class=\"data row10 col5\" >0.3317</td>\n",
       "            </tr>\n",
       "            <tr>\n",
       "                        <th id=\"T_10d95177_74ac_11eb_a570_5cc9d3aa8974level0_row11\" class=\"row_heading level0 row11\" >SD</th>\n",
       "                        <td id=\"T_10d95177_74ac_11eb_a570_5cc9d3aa8974row11_col0\" class=\"data row11 col0\" >202.3169</td>\n",
       "                        <td id=\"T_10d95177_74ac_11eb_a570_5cc9d3aa8974row11_col1\" class=\"data row11 col1\" >4097353.7166</td>\n",
       "                        <td id=\"T_10d95177_74ac_11eb_a570_5cc9d3aa8974row11_col2\" class=\"data row11 col2\" >410.9586</td>\n",
       "                        <td id=\"T_10d95177_74ac_11eb_a570_5cc9d3aa8974row11_col3\" class=\"data row11 col3\" >0.0563</td>\n",
       "                        <td id=\"T_10d95177_74ac_11eb_a570_5cc9d3aa8974row11_col4\" class=\"data row11 col4\" >0.0648</td>\n",
       "                        <td id=\"T_10d95177_74ac_11eb_a570_5cc9d3aa8974row11_col5\" class=\"data row11 col5\" >0.0602</td>\n",
       "            </tr>\n",
       "    </tbody></table>"
      ],
      "text/plain": [
       "<pandas.io.formats.style.Styler at 0x1f4be842940>"
      ]
     },
     "metadata": {},
     "output_type": "display_data"
    }
   ],
   "source": [
    "bagged_dt = ensemble_model(dt, n_estimators=50)"
   ]
  },
  {
   "cell_type": "code",
   "execution_count": 44,
   "metadata": {},
   "outputs": [
    {
     "data": {
      "text/html": [
       "<style  type=\"text/css\" >\n",
       "#T_19a7aa94_74ac_11eb_ad2f_5cc9d3aa8974row10_col0,#T_19a7aa94_74ac_11eb_ad2f_5cc9d3aa8974row10_col1,#T_19a7aa94_74ac_11eb_ad2f_5cc9d3aa8974row10_col2,#T_19a7aa94_74ac_11eb_ad2f_5cc9d3aa8974row10_col3,#T_19a7aa94_74ac_11eb_ad2f_5cc9d3aa8974row10_col4,#T_19a7aa94_74ac_11eb_ad2f_5cc9d3aa8974row10_col5{\n",
       "            background:  yellow;\n",
       "        }</style><table id=\"T_19a7aa94_74ac_11eb_ad2f_5cc9d3aa8974\" ><thead>    <tr>        <th class=\"blank level0\" ></th>        <th class=\"col_heading level0 col0\" >MAE</th>        <th class=\"col_heading level0 col1\" >MSE</th>        <th class=\"col_heading level0 col2\" >RMSE</th>        <th class=\"col_heading level0 col3\" >R2</th>        <th class=\"col_heading level0 col4\" >RMSLE</th>        <th class=\"col_heading level0 col5\" >MAPE</th>    </tr></thead><tbody>\n",
       "                <tr>\n",
       "                        <th id=\"T_19a7aa94_74ac_11eb_ad2f_5cc9d3aa8974level0_row0\" class=\"row_heading level0 row0\" >0</th>\n",
       "                        <td id=\"T_19a7aa94_74ac_11eb_ad2f_5cc9d3aa8974row0_col0\" class=\"data row0 col0\" >2625.7707</td>\n",
       "                        <td id=\"T_19a7aa94_74ac_11eb_ad2f_5cc9d3aa8974row0_col1\" class=\"data row0 col1\" >31947468.0218</td>\n",
       "                        <td id=\"T_19a7aa94_74ac_11eb_ad2f_5cc9d3aa8974row0_col2\" class=\"data row0 col2\" >5652.2091</td>\n",
       "                        <td id=\"T_19a7aa94_74ac_11eb_ad2f_5cc9d3aa8974row0_col3\" class=\"data row0 col3\" >0.8092</td>\n",
       "                        <td id=\"T_19a7aa94_74ac_11eb_ad2f_5cc9d3aa8974row0_col4\" class=\"data row0 col4\" >0.4938</td>\n",
       "                        <td id=\"T_19a7aa94_74ac_11eb_ad2f_5cc9d3aa8974row0_col5\" class=\"data row0 col5\" >0.3098</td>\n",
       "            </tr>\n",
       "            <tr>\n",
       "                        <th id=\"T_19a7aa94_74ac_11eb_ad2f_5cc9d3aa8974level0_row1\" class=\"row_heading level0 row1\" >1</th>\n",
       "                        <td id=\"T_19a7aa94_74ac_11eb_ad2f_5cc9d3aa8974row1_col0\" class=\"data row1 col0\" >2531.3385</td>\n",
       "                        <td id=\"T_19a7aa94_74ac_11eb_ad2f_5cc9d3aa8974row1_col1\" class=\"data row1 col1\" >35255576.1240</td>\n",
       "                        <td id=\"T_19a7aa94_74ac_11eb_ad2f_5cc9d3aa8974row1_col2\" class=\"data row1 col2\" >5937.6406</td>\n",
       "                        <td id=\"T_19a7aa94_74ac_11eb_ad2f_5cc9d3aa8974row1_col3\" class=\"data row1 col3\" >0.7950</td>\n",
       "                        <td id=\"T_19a7aa94_74ac_11eb_ad2f_5cc9d3aa8974row1_col4\" class=\"data row1 col4\" >0.4772</td>\n",
       "                        <td id=\"T_19a7aa94_74ac_11eb_ad2f_5cc9d3aa8974row1_col5\" class=\"data row1 col5\" >0.2374</td>\n",
       "            </tr>\n",
       "            <tr>\n",
       "                        <th id=\"T_19a7aa94_74ac_11eb_ad2f_5cc9d3aa8974level0_row2\" class=\"row_heading level0 row2\" >2</th>\n",
       "                        <td id=\"T_19a7aa94_74ac_11eb_ad2f_5cc9d3aa8974row2_col0\" class=\"data row2 col0\" >1994.9012</td>\n",
       "                        <td id=\"T_19a7aa94_74ac_11eb_ad2f_5cc9d3aa8974row2_col1\" class=\"data row2 col1\" >22643534.8441</td>\n",
       "                        <td id=\"T_19a7aa94_74ac_11eb_ad2f_5cc9d3aa8974row2_col2\" class=\"data row2 col2\" >4758.5223</td>\n",
       "                        <td id=\"T_19a7aa94_74ac_11eb_ad2f_5cc9d3aa8974row2_col3\" class=\"data row2 col3\" >0.7133</td>\n",
       "                        <td id=\"T_19a7aa94_74ac_11eb_ad2f_5cc9d3aa8974row2_col4\" class=\"data row2 col4\" >0.4754</td>\n",
       "                        <td id=\"T_19a7aa94_74ac_11eb_ad2f_5cc9d3aa8974row2_col5\" class=\"data row2 col5\" >0.1624</td>\n",
       "            </tr>\n",
       "            <tr>\n",
       "                        <th id=\"T_19a7aa94_74ac_11eb_ad2f_5cc9d3aa8974level0_row3\" class=\"row_heading level0 row3\" >3</th>\n",
       "                        <td id=\"T_19a7aa94_74ac_11eb_ad2f_5cc9d3aa8974row3_col0\" class=\"data row3 col0\" >2263.2457</td>\n",
       "                        <td id=\"T_19a7aa94_74ac_11eb_ad2f_5cc9d3aa8974row3_col1\" class=\"data row3 col1\" >26330803.3299</td>\n",
       "                        <td id=\"T_19a7aa94_74ac_11eb_ad2f_5cc9d3aa8974row3_col2\" class=\"data row3 col2\" >5131.3549</td>\n",
       "                        <td id=\"T_19a7aa94_74ac_11eb_ad2f_5cc9d3aa8974row3_col3\" class=\"data row3 col3\" >0.7801</td>\n",
       "                        <td id=\"T_19a7aa94_74ac_11eb_ad2f_5cc9d3aa8974row3_col4\" class=\"data row3 col4\" >0.4381</td>\n",
       "                        <td id=\"T_19a7aa94_74ac_11eb_ad2f_5cc9d3aa8974row3_col5\" class=\"data row3 col5\" >0.2370</td>\n",
       "            </tr>\n",
       "            <tr>\n",
       "                        <th id=\"T_19a7aa94_74ac_11eb_ad2f_5cc9d3aa8974level0_row4\" class=\"row_heading level0 row4\" >4</th>\n",
       "                        <td id=\"T_19a7aa94_74ac_11eb_ad2f_5cc9d3aa8974row4_col0\" class=\"data row4 col0\" >2825.7310</td>\n",
       "                        <td id=\"T_19a7aa94_74ac_11eb_ad2f_5cc9d3aa8974row4_col1\" class=\"data row4 col1\" >36112056.2013</td>\n",
       "                        <td id=\"T_19a7aa94_74ac_11eb_ad2f_5cc9d3aa8974row4_col2\" class=\"data row4 col2\" >6009.3308</td>\n",
       "                        <td id=\"T_19a7aa94_74ac_11eb_ad2f_5cc9d3aa8974row4_col3\" class=\"data row4 col3\" >0.7314</td>\n",
       "                        <td id=\"T_19a7aa94_74ac_11eb_ad2f_5cc9d3aa8974row4_col4\" class=\"data row4 col4\" >0.5931</td>\n",
       "                        <td id=\"T_19a7aa94_74ac_11eb_ad2f_5cc9d3aa8974row4_col5\" class=\"data row4 col5\" >0.3187</td>\n",
       "            </tr>\n",
       "            <tr>\n",
       "                        <th id=\"T_19a7aa94_74ac_11eb_ad2f_5cc9d3aa8974level0_row5\" class=\"row_heading level0 row5\" >5</th>\n",
       "                        <td id=\"T_19a7aa94_74ac_11eb_ad2f_5cc9d3aa8974row5_col0\" class=\"data row5 col0\" >2843.6506</td>\n",
       "                        <td id=\"T_19a7aa94_74ac_11eb_ad2f_5cc9d3aa8974row5_col1\" class=\"data row5 col1\" >33398231.8802</td>\n",
       "                        <td id=\"T_19a7aa94_74ac_11eb_ad2f_5cc9d3aa8974row5_col2\" class=\"data row5 col2\" >5779.1203</td>\n",
       "                        <td id=\"T_19a7aa94_74ac_11eb_ad2f_5cc9d3aa8974row5_col3\" class=\"data row5 col3\" >0.7852</td>\n",
       "                        <td id=\"T_19a7aa94_74ac_11eb_ad2f_5cc9d3aa8974row5_col4\" class=\"data row5 col4\" >0.4463</td>\n",
       "                        <td id=\"T_19a7aa94_74ac_11eb_ad2f_5cc9d3aa8974row5_col5\" class=\"data row5 col5\" >0.2437</td>\n",
       "            </tr>\n",
       "            <tr>\n",
       "                        <th id=\"T_19a7aa94_74ac_11eb_ad2f_5cc9d3aa8974level0_row6\" class=\"row_heading level0 row6\" >6</th>\n",
       "                        <td id=\"T_19a7aa94_74ac_11eb_ad2f_5cc9d3aa8974row6_col0\" class=\"data row6 col0\" >1878.9265</td>\n",
       "                        <td id=\"T_19a7aa94_74ac_11eb_ad2f_5cc9d3aa8974row6_col1\" class=\"data row6 col1\" >22609240.7667</td>\n",
       "                        <td id=\"T_19a7aa94_74ac_11eb_ad2f_5cc9d3aa8974row6_col2\" class=\"data row6 col2\" >4754.9175</td>\n",
       "                        <td id=\"T_19a7aa94_74ac_11eb_ad2f_5cc9d3aa8974row6_col3\" class=\"data row6 col3\" >0.8462</td>\n",
       "                        <td id=\"T_19a7aa94_74ac_11eb_ad2f_5cc9d3aa8974row6_col4\" class=\"data row6 col4\" >0.3517</td>\n",
       "                        <td id=\"T_19a7aa94_74ac_11eb_ad2f_5cc9d3aa8974row6_col5\" class=\"data row6 col5\" >0.1553</td>\n",
       "            </tr>\n",
       "            <tr>\n",
       "                        <th id=\"T_19a7aa94_74ac_11eb_ad2f_5cc9d3aa8974level0_row7\" class=\"row_heading level0 row7\" >7</th>\n",
       "                        <td id=\"T_19a7aa94_74ac_11eb_ad2f_5cc9d3aa8974row7_col0\" class=\"data row7 col0\" >2375.6975</td>\n",
       "                        <td id=\"T_19a7aa94_74ac_11eb_ad2f_5cc9d3aa8974row7_col1\" class=\"data row7 col1\" >32011526.7874</td>\n",
       "                        <td id=\"T_19a7aa94_74ac_11eb_ad2f_5cc9d3aa8974row7_col2\" class=\"data row7 col2\" >5657.8730</td>\n",
       "                        <td id=\"T_19a7aa94_74ac_11eb_ad2f_5cc9d3aa8974row7_col3\" class=\"data row7 col3\" >0.8240</td>\n",
       "                        <td id=\"T_19a7aa94_74ac_11eb_ad2f_5cc9d3aa8974row7_col4\" class=\"data row7 col4\" >0.4826</td>\n",
       "                        <td id=\"T_19a7aa94_74ac_11eb_ad2f_5cc9d3aa8974row7_col5\" class=\"data row7 col5\" >0.1623</td>\n",
       "            </tr>\n",
       "            <tr>\n",
       "                        <th id=\"T_19a7aa94_74ac_11eb_ad2f_5cc9d3aa8974level0_row8\" class=\"row_heading level0 row8\" >8</th>\n",
       "                        <td id=\"T_19a7aa94_74ac_11eb_ad2f_5cc9d3aa8974row8_col0\" class=\"data row8 col0\" >1624.2342</td>\n",
       "                        <td id=\"T_19a7aa94_74ac_11eb_ad2f_5cc9d3aa8974row8_col1\" class=\"data row8 col1\" >14926397.0008</td>\n",
       "                        <td id=\"T_19a7aa94_74ac_11eb_ad2f_5cc9d3aa8974row8_col2\" class=\"data row8 col2\" >3863.4696</td>\n",
       "                        <td id=\"T_19a7aa94_74ac_11eb_ad2f_5cc9d3aa8974row8_col3\" class=\"data row8 col3\" >0.9036</td>\n",
       "                        <td id=\"T_19a7aa94_74ac_11eb_ad2f_5cc9d3aa8974row8_col4\" class=\"data row8 col4\" >0.2373</td>\n",
       "                        <td id=\"T_19a7aa94_74ac_11eb_ad2f_5cc9d3aa8974row8_col5\" class=\"data row8 col5\" >0.1194</td>\n",
       "            </tr>\n",
       "            <tr>\n",
       "                        <th id=\"T_19a7aa94_74ac_11eb_ad2f_5cc9d3aa8974level0_row9\" class=\"row_heading level0 row9\" >9</th>\n",
       "                        <td id=\"T_19a7aa94_74ac_11eb_ad2f_5cc9d3aa8974row9_col0\" class=\"data row9 col0\" >2448.7047</td>\n",
       "                        <td id=\"T_19a7aa94_74ac_11eb_ad2f_5cc9d3aa8974row9_col1\" class=\"data row9 col1\" >33628422.8803</td>\n",
       "                        <td id=\"T_19a7aa94_74ac_11eb_ad2f_5cc9d3aa8974row9_col2\" class=\"data row9 col2\" >5799.0019</td>\n",
       "                        <td id=\"T_19a7aa94_74ac_11eb_ad2f_5cc9d3aa8974row9_col3\" class=\"data row9 col3\" >0.7834</td>\n",
       "                        <td id=\"T_19a7aa94_74ac_11eb_ad2f_5cc9d3aa8974row9_col4\" class=\"data row9 col4\" >0.4948</td>\n",
       "                        <td id=\"T_19a7aa94_74ac_11eb_ad2f_5cc9d3aa8974row9_col5\" class=\"data row9 col5\" >0.2269</td>\n",
       "            </tr>\n",
       "            <tr>\n",
       "                        <th id=\"T_19a7aa94_74ac_11eb_ad2f_5cc9d3aa8974level0_row10\" class=\"row_heading level0 row10\" >Mean</th>\n",
       "                        <td id=\"T_19a7aa94_74ac_11eb_ad2f_5cc9d3aa8974row10_col0\" class=\"data row10 col0\" >2341.2200</td>\n",
       "                        <td id=\"T_19a7aa94_74ac_11eb_ad2f_5cc9d3aa8974row10_col1\" class=\"data row10 col1\" >28886325.7837</td>\n",
       "                        <td id=\"T_19a7aa94_74ac_11eb_ad2f_5cc9d3aa8974row10_col2\" class=\"data row10 col2\" >5334.3440</td>\n",
       "                        <td id=\"T_19a7aa94_74ac_11eb_ad2f_5cc9d3aa8974row10_col3\" class=\"data row10 col3\" >0.7971</td>\n",
       "                        <td id=\"T_19a7aa94_74ac_11eb_ad2f_5cc9d3aa8974row10_col4\" class=\"data row10 col4\" >0.4490</td>\n",
       "                        <td id=\"T_19a7aa94_74ac_11eb_ad2f_5cc9d3aa8974row10_col5\" class=\"data row10 col5\" >0.2173</td>\n",
       "            </tr>\n",
       "            <tr>\n",
       "                        <th id=\"T_19a7aa94_74ac_11eb_ad2f_5cc9d3aa8974level0_row11\" class=\"row_heading level0 row11\" >SD</th>\n",
       "                        <td id=\"T_19a7aa94_74ac_11eb_ad2f_5cc9d3aa8974row11_col0\" class=\"data row11 col0\" >383.5158</td>\n",
       "                        <td id=\"T_19a7aa94_74ac_11eb_ad2f_5cc9d3aa8974row11_col1\" class=\"data row11 col1\" >6592005.2051</td>\n",
       "                        <td id=\"T_19a7aa94_74ac_11eb_ad2f_5cc9d3aa8974row11_col2\" class=\"data row11 col2\" >656.5819</td>\n",
       "                        <td id=\"T_19a7aa94_74ac_11eb_ad2f_5cc9d3aa8974row11_col3\" class=\"data row11 col3\" >0.0515</td>\n",
       "                        <td id=\"T_19a7aa94_74ac_11eb_ad2f_5cc9d3aa8974row11_col4\" class=\"data row11 col4\" >0.0905</td>\n",
       "                        <td id=\"T_19a7aa94_74ac_11eb_ad2f_5cc9d3aa8974row11_col5\" class=\"data row11 col5\" >0.0632</td>\n",
       "            </tr>\n",
       "    </tbody></table>"
      ],
      "text/plain": [
       "<pandas.io.formats.style.Styler at 0x1f4bff56730>"
      ]
     },
     "metadata": {},
     "output_type": "display_data"
    }
   ],
   "source": [
    "boosted_dt = ensemble_model(dt, method='Boosting')"
   ]
  },
  {
   "cell_type": "code",
   "execution_count": 45,
   "metadata": {},
   "outputs": [
    {
     "data": {
      "image/png": "[encoded data removed]",
      "text/plain": [
       "<Figure size 576x396 with 2 Axes>"
      ]
     },
     "metadata": {},
     "output_type": "display_data"
    }
   ],
   "source": [
    "plot_model(dt)"
   ]
  },
  {
   "cell_type": "markdown",
   "metadata": {},
   "source": [
    "- Aconteceu um overfit"
   ]
  },
  {
   "cell_type": "markdown",
   "metadata": {},
   "source": [
    "- Aprendeu normalmente para os dados de Train (treino)\n",
    "    - Aprendeu\n",
    "- Não teve capacidade de generalizar para os dados de teste nesta regressão\n",
    "    - Não consegue prever com novos dados"
   ]
  },
  {
   "cell_type": "code",
   "execution_count": 47,
   "metadata": {},
   "outputs": [
    {
     "data": {
      "image/png": "[encoded data removed]",
      "text/plain": [
       "<Figure size 576x396 with 1 Axes>"
      ]
     },
     "metadata": {},
     "output_type": "display_data"
    }
   ],
   "source": [
    "# Plottando os erros do modelo\n",
    "plot_model(dt,plot='error')"
   ]
  },
  {
   "cell_type": "code",
   "execution_count": 48,
   "metadata": {},
   "outputs": [
    {
     "data": {
      "image/png": "[encoded data removed]",
      "text/plain": [
       "<Figure size 800x500 with 1 Axes>"
      ]
     },
     "metadata": {},
     "output_type": "display_data"
    }
   ],
   "source": [
    "# Plottar o grau de relavância de cada feature com relação à saída\n",
    "plot_model(dt,plot='feature')"
   ]
  },
  {
   "cell_type": "code",
   "execution_count": 49,
   "metadata": {},
   "outputs": [
    {
     "data": {
      "application/vnd.jupyter.widget-view+json": {
       "model_id": "2a969e327f3948648d94a969329e0ef5",
       "version_major": 2,
       "version_minor": 0
      },
      "text/plain": [
       "interactive(children=(ToggleButtons(description='Plot Type:', icons=('',), options=(('Hyperparameters', 'param…"
      ]
     },
     "metadata": {},
     "output_type": "display_data"
    }
   ],
   "source": [
    "# Plotta todos os gráficos disponíveis no modelo\n",
    "evaluate_model(dt)"
   ]
  },
  {
   "cell_type": "code",
   "execution_count": 53,
   "metadata": {},
   "outputs": [
    {
     "data": {
      "image/png": "[encoded data removed]",
      "text/plain": [
       "<Figure size 576x511.2 with 2 Axes>"
      ]
     },
     "metadata": {},
     "output_type": "display_data"
    }
   ],
   "source": [
    "#!pip install shap\n",
    "\n",
    "# Interpretabilidade do modelo, ou seja, a melhor forma de apresentar (interpretar) os dados do modelo\n",
    "interpret_model(dt)"
   ]
  },
  {
   "cell_type": "markdown",
   "metadata": {},
   "source": [
    "- smoker_yes tem alta taxa no impacto no resultado do modelo\n",
    "- Se usar as 5 primeiras variáveis já daria um retorno bom\n",
    "- children_* não tem impacto"
   ]
  },
  {
   "cell_type": "code",
   "execution_count": 54,
   "metadata": {},
   "outputs": [
    {
     "data": {
      "image/png": "[encoded data removed]",
      "text/plain": [
       "<Figure size 540x360 with 2 Axes>"
      ]
     },
     "metadata": {},
     "output_type": "display_data"
    }
   ],
   "source": [
    "interpret_model(dt,plot='correlation')"
   ]
  },
  {
   "cell_type": "code",
   "execution_count": 55,
   "metadata": {},
   "outputs": [
    {
     "data": {
      "text/plain": [
       "GradientBoostingRegressor(alpha=0.9, ccp_alpha=0.0, criterion='friedman_mse',\n",
       "                          init=None, learning_rate=0.1, loss='ls', max_depth=3,\n",
       "                          max_features=None, max_leaf_nodes=None,\n",
       "                          min_impurity_decrease=0.0, min_impurity_split=None,\n",
       "                          min_samples_leaf=1, min_samples_split=2,\n",
       "                          min_weight_fraction_leaf=0.0, n_estimators=100,\n",
       "                          n_iter_no_change=None, presort='deprecated',\n",
       "                          random_state=123, subsample=1.0, tol=0.0001,\n",
       "                          validation_fraction=0.1, verbose=0, warm_start=False)"
      ]
     },
     "execution_count": 55,
     "metadata": {},
     "output_type": "execute_result"
    }
   ],
   "source": [
    "# Aprimorar o modelo pelo 'R2'\n",
    "best = automl(optimize='R2')\n",
    "best"
   ]
  },
  {
   "cell_type": "code",
   "execution_count": 57,
   "metadata": {},
   "outputs": [
    {
     "data": {
      "text/html": [
       "<style  type=\"text/css\" >\n",
       "</style><table id=\"T_f8db78e8_74ad_11eb_a7ad_5cc9d3aa8974\" ><thead>    <tr>        <th class=\"blank level0\" ></th>        <th class=\"col_heading level0 col0\" >Model</th>        <th class=\"col_heading level0 col1\" >MAE</th>        <th class=\"col_heading level0 col2\" >MSE</th>        <th class=\"col_heading level0 col3\" >RMSE</th>        <th class=\"col_heading level0 col4\" >R2</th>        <th class=\"col_heading level0 col5\" >RMSLE</th>        <th class=\"col_heading level0 col6\" >MAPE</th>    </tr></thead><tbody>\n",
       "                <tr>\n",
       "                        <th id=\"T_f8db78e8_74ad_11eb_a7ad_5cc9d3aa8974level0_row0\" class=\"row_heading level0 row0\" >0</th>\n",
       "                        <td id=\"T_f8db78e8_74ad_11eb_a7ad_5cc9d3aa8974row0_col0\" class=\"data row0 col0\" >Gradient Boosting Regressor</td>\n",
       "                        <td id=\"T_f8db78e8_74ad_11eb_a7ad_5cc9d3aa8974row0_col1\" class=\"data row0 col1\" >2386.2018</td>\n",
       "                        <td id=\"T_f8db78e8_74ad_11eb_a7ad_5cc9d3aa8974row0_col2\" class=\"data row0 col2\" >17296249.1379</td>\n",
       "                        <td id=\"T_f8db78e8_74ad_11eb_a7ad_5cc9d3aa8974row0_col3\" class=\"data row0 col3\" >4158.8759</td>\n",
       "                        <td id=\"T_f8db78e8_74ad_11eb_a7ad_5cc9d3aa8974row0_col4\" class=\"data row0 col4\" >0.8789</td>\n",
       "                        <td id=\"T_f8db78e8_74ad_11eb_a7ad_5cc9d3aa8974row0_col5\" class=\"data row0 col5\" >0.3985</td>\n",
       "                        <td id=\"T_f8db78e8_74ad_11eb_a7ad_5cc9d3aa8974row0_col6\" class=\"data row0 col6\" >0.2922</td>\n",
       "            </tr>\n",
       "    </tbody></table>"
      ],
      "text/plain": [
       "<pandas.io.formats.style.Styler at 0x1f4c1c9c6d0>"
      ]
     },
     "metadata": {},
     "output_type": "display_data"
    }
   ],
   "source": [
    "# Cria um modelo preditivo\n",
    "# Pega todas as variáveis de entrada, joga pro modelo e emite o resultado\n",
    "pred = predict_model(best)"
   ]
  },
  {
   "cell_type": "code",
   "execution_count": 58,
   "metadata": {},
   "outputs": [
    {
     "data": {
      "text/html": [
       "<div>\n",
       "<style scoped>\n",
       "    .dataframe tbody tr th:only-of-type {\n",
       "        vertical-align: middle;\n",
       "    }\n",
       "\n",
       "    .dataframe tbody tr th {\n",
       "        vertical-align: top;\n",
       "    }\n",
       "\n",
       "    .dataframe thead th {\n",
       "        text-align: right;\n",
       "    }\n",
       "</style>\n",
       "<table border=\"1\" class=\"dataframe\">\n",
       "  <thead>\n",
       "    <tr style=\"text-align: right;\">\n",
       "      <th></th>\n",
       "      <th>age</th>\n",
       "      <th>bmi</th>\n",
       "      <th>sex_female</th>\n",
       "      <th>children_0</th>\n",
       "      <th>children_1</th>\n",
       "      <th>children_2</th>\n",
       "      <th>children_3</th>\n",
       "      <th>children_4</th>\n",
       "      <th>children_5</th>\n",
       "      <th>smoker_yes</th>\n",
       "      <th>region_northeast</th>\n",
       "      <th>region_northwest</th>\n",
       "      <th>region_southeast</th>\n",
       "      <th>region_southwest</th>\n",
       "      <th>charges</th>\n",
       "      <th>Label</th>\n",
       "    </tr>\n",
       "  </thead>\n",
       "  <tbody>\n",
       "    <tr>\n",
       "      <th>0</th>\n",
       "      <td>49.0</td>\n",
       "      <td>42.680000</td>\n",
       "      <td>1.0</td>\n",
       "      <td>0.0</td>\n",
       "      <td>0.0</td>\n",
       "      <td>1.0</td>\n",
       "      <td>0.0</td>\n",
       "      <td>0.0</td>\n",
       "      <td>0.0</td>\n",
       "      <td>0.0</td>\n",
       "      <td>0.0</td>\n",
       "      <td>0.0</td>\n",
       "      <td>1.0</td>\n",
       "      <td>0.0</td>\n",
       "      <td>9800.888672</td>\n",
       "      <td>10621.483595</td>\n",
       "    </tr>\n",
       "    <tr>\n",
       "      <th>1</th>\n",
       "      <td>32.0</td>\n",
       "      <td>37.334999</td>\n",
       "      <td>0.0</td>\n",
       "      <td>0.0</td>\n",
       "      <td>1.0</td>\n",
       "      <td>0.0</td>\n",
       "      <td>0.0</td>\n",
       "      <td>0.0</td>\n",
       "      <td>0.0</td>\n",
       "      <td>0.0</td>\n",
       "      <td>1.0</td>\n",
       "      <td>0.0</td>\n",
       "      <td>0.0</td>\n",
       "      <td>0.0</td>\n",
       "      <td>4667.607422</td>\n",
       "      <td>7290.151941</td>\n",
       "    </tr>\n",
       "    <tr>\n",
       "      <th>2</th>\n",
       "      <td>27.0</td>\n",
       "      <td>31.400000</td>\n",
       "      <td>1.0</td>\n",
       "      <td>1.0</td>\n",
       "      <td>0.0</td>\n",
       "      <td>0.0</td>\n",
       "      <td>0.0</td>\n",
       "      <td>0.0</td>\n",
       "      <td>0.0</td>\n",
       "      <td>1.0</td>\n",
       "      <td>0.0</td>\n",
       "      <td>0.0</td>\n",
       "      <td>0.0</td>\n",
       "      <td>1.0</td>\n",
       "      <td>34838.871094</td>\n",
       "      <td>36012.959871</td>\n",
       "    </tr>\n",
       "    <tr>\n",
       "      <th>3</th>\n",
       "      <td>35.0</td>\n",
       "      <td>24.129999</td>\n",
       "      <td>0.0</td>\n",
       "      <td>0.0</td>\n",
       "      <td>1.0</td>\n",
       "      <td>0.0</td>\n",
       "      <td>0.0</td>\n",
       "      <td>0.0</td>\n",
       "      <td>0.0</td>\n",
       "      <td>0.0</td>\n",
       "      <td>0.0</td>\n",
       "      <td>1.0</td>\n",
       "      <td>0.0</td>\n",
       "      <td>0.0</td>\n",
       "      <td>5125.215820</td>\n",
       "      <td>7553.788882</td>\n",
       "    </tr>\n",
       "    <tr>\n",
       "      <th>4</th>\n",
       "      <td>60.0</td>\n",
       "      <td>25.740000</td>\n",
       "      <td>0.0</td>\n",
       "      <td>1.0</td>\n",
       "      <td>0.0</td>\n",
       "      <td>0.0</td>\n",
       "      <td>0.0</td>\n",
       "      <td>0.0</td>\n",
       "      <td>0.0</td>\n",
       "      <td>0.0</td>\n",
       "      <td>0.0</td>\n",
       "      <td>0.0</td>\n",
       "      <td>1.0</td>\n",
       "      <td>0.0</td>\n",
       "      <td>12142.578125</td>\n",
       "      <td>14904.032497</td>\n",
       "    </tr>\n",
       "  </tbody>\n",
       "</table>\n",
       "</div>"
      ],
      "text/plain": [
       "    age        bmi  sex_female  children_0  children_1  children_2  \\\n",
       "0  49.0  42.680000         1.0         0.0         0.0         1.0   \n",
       "1  32.0  37.334999         0.0         0.0         1.0         0.0   \n",
       "2  27.0  31.400000         1.0         1.0         0.0         0.0   \n",
       "3  35.0  24.129999         0.0         0.0         1.0         0.0   \n",
       "4  60.0  25.740000         0.0         1.0         0.0         0.0   \n",
       "\n",
       "   children_3  children_4  children_5  smoker_yes  region_northeast  \\\n",
       "0         0.0         0.0         0.0         0.0               0.0   \n",
       "1         0.0         0.0         0.0         0.0               1.0   \n",
       "2         0.0         0.0         0.0         1.0               0.0   \n",
       "3         0.0         0.0         0.0         0.0               0.0   \n",
       "4         0.0         0.0         0.0         0.0               0.0   \n",
       "\n",
       "   region_northwest  region_southeast  region_southwest       charges  \\\n",
       "0               0.0               1.0               0.0   9800.888672   \n",
       "1               0.0               0.0               0.0   4667.607422   \n",
       "2               0.0               0.0               1.0  34838.871094   \n",
       "3               1.0               0.0               0.0   5125.215820   \n",
       "4               0.0               1.0               0.0  12142.578125   \n",
       "\n",
       "          Label  \n",
       "0  10621.483595  \n",
       "1   7290.151941  \n",
       "2  36012.959871  \n",
       "3   7553.788882  \n",
       "4  14904.032497  "
      ]
     },
     "execution_count": 58,
     "metadata": {},
     "output_type": "execute_result"
    }
   ],
   "source": [
    "pred.head()"
   ]
  },
  {
   "cell_type": "markdown",
   "metadata": {},
   "source": [
    "## Regras de associação\n",
    "-----------------------------------------------------------"
   ]
  },
  {
   "cell_type": "code",
   "execution_count": 61,
   "metadata": {},
   "outputs": [
    {
     "data": {
      "text/html": [
       "<div>\n",
       "<style scoped>\n",
       "    .dataframe tbody tr th:only-of-type {\n",
       "        vertical-align: middle;\n",
       "    }\n",
       "\n",
       "    .dataframe tbody tr th {\n",
       "        vertical-align: top;\n",
       "    }\n",
       "\n",
       "    .dataframe thead th {\n",
       "        text-align: right;\n",
       "    }\n",
       "</style>\n",
       "<table border=\"1\" class=\"dataframe\">\n",
       "  <thead>\n",
       "    <tr style=\"text-align: right;\">\n",
       "      <th></th>\n",
       "      <th>InvoiceNo</th>\n",
       "      <th>StockCode</th>\n",
       "      <th>Description</th>\n",
       "      <th>Quantity</th>\n",
       "      <th>InvoiceDate</th>\n",
       "      <th>UnitPrice</th>\n",
       "      <th>CustomerID</th>\n",
       "      <th>Country</th>\n",
       "    </tr>\n",
       "  </thead>\n",
       "  <tbody>\n",
       "    <tr>\n",
       "      <th>0</th>\n",
       "      <td>536370</td>\n",
       "      <td>22728</td>\n",
       "      <td>ALARM CLOCK BAKELIKE PINK</td>\n",
       "      <td>24</td>\n",
       "      <td>12/1/2010 8:45</td>\n",
       "      <td>3.75</td>\n",
       "      <td>12583.0</td>\n",
       "      <td>France</td>\n",
       "    </tr>\n",
       "    <tr>\n",
       "      <th>1</th>\n",
       "      <td>536370</td>\n",
       "      <td>22727</td>\n",
       "      <td>ALARM CLOCK BAKELIKE RED</td>\n",
       "      <td>24</td>\n",
       "      <td>12/1/2010 8:45</td>\n",
       "      <td>3.75</td>\n",
       "      <td>12583.0</td>\n",
       "      <td>France</td>\n",
       "    </tr>\n",
       "    <tr>\n",
       "      <th>2</th>\n",
       "      <td>536370</td>\n",
       "      <td>22726</td>\n",
       "      <td>ALARM CLOCK BAKELIKE GREEN</td>\n",
       "      <td>12</td>\n",
       "      <td>12/1/2010 8:45</td>\n",
       "      <td>3.75</td>\n",
       "      <td>12583.0</td>\n",
       "      <td>France</td>\n",
       "    </tr>\n",
       "    <tr>\n",
       "      <th>3</th>\n",
       "      <td>536370</td>\n",
       "      <td>21724</td>\n",
       "      <td>PANDA AND BUNNIES STICKER SHEET</td>\n",
       "      <td>12</td>\n",
       "      <td>12/1/2010 8:45</td>\n",
       "      <td>0.85</td>\n",
       "      <td>12583.0</td>\n",
       "      <td>France</td>\n",
       "    </tr>\n",
       "    <tr>\n",
       "      <th>4</th>\n",
       "      <td>536370</td>\n",
       "      <td>21883</td>\n",
       "      <td>STARS GIFT TAPE</td>\n",
       "      <td>24</td>\n",
       "      <td>12/1/2010 8:45</td>\n",
       "      <td>0.65</td>\n",
       "      <td>12583.0</td>\n",
       "      <td>France</td>\n",
       "    </tr>\n",
       "  </tbody>\n",
       "</table>\n",
       "</div>"
      ],
      "text/plain": [
       "  InvoiceNo StockCode                      Description  Quantity  \\\n",
       "0    536370     22728        ALARM CLOCK BAKELIKE PINK        24   \n",
       "1    536370     22727        ALARM CLOCK BAKELIKE RED         24   \n",
       "2    536370     22726       ALARM CLOCK BAKELIKE GREEN        12   \n",
       "3    536370     21724  PANDA AND BUNNIES STICKER SHEET        12   \n",
       "4    536370     21883                 STARS GIFT TAPE         24   \n",
       "\n",
       "      InvoiceDate  UnitPrice  CustomerID Country  \n",
       "0  12/1/2010 8:45       3.75     12583.0  France  \n",
       "1  12/1/2010 8:45       3.75     12583.0  France  \n",
       "2  12/1/2010 8:45       3.75     12583.0  France  \n",
       "3  12/1/2010 8:45       0.85     12583.0  France  \n",
       "4  12/1/2010 8:45       0.65     12583.0  France  "
      ]
     },
     "metadata": {},
     "output_type": "display_data"
    }
   ],
   "source": [
    "data = get_data('france')"
   ]
  },
  {
   "cell_type": "code",
   "execution_count": 62,
   "metadata": {},
   "outputs": [],
   "source": [
    "from pycaret.arules import *"
   ]
  },
  {
   "cell_type": "code",
   "execution_count": 69,
   "metadata": {},
   "outputs": [
    {
     "data": {
      "text/html": [
       "<style  type=\"text/css\" >\n",
       "</style><table id=\"T_81b7dc36_74af_11eb_97e1_5cc9d3aa8974\" ><thead>    <tr>        <th class=\"col_heading level0 col0\" >Description</th>        <th class=\"col_heading level0 col1\" >Value</th>    </tr></thead><tbody>\n",
       "                <tr>\n",
       "                                <td id=\"T_81b7dc36_74af_11eb_97e1_5cc9d3aa8974row0_col0\" class=\"data row0 col0\" >session_id</td>\n",
       "                        <td id=\"T_81b7dc36_74af_11eb_97e1_5cc9d3aa8974row0_col1\" class=\"data row0 col1\" >6093</td>\n",
       "            </tr>\n",
       "            <tr>\n",
       "                                <td id=\"T_81b7dc36_74af_11eb_97e1_5cc9d3aa8974row1_col0\" class=\"data row1 col0\" ># Transactions</td>\n",
       "                        <td id=\"T_81b7dc36_74af_11eb_97e1_5cc9d3aa8974row1_col1\" class=\"data row1 col1\" >461</td>\n",
       "            </tr>\n",
       "            <tr>\n",
       "                                <td id=\"T_81b7dc36_74af_11eb_97e1_5cc9d3aa8974row2_col0\" class=\"data row2 col0\" ># Items</td>\n",
       "                        <td id=\"T_81b7dc36_74af_11eb_97e1_5cc9d3aa8974row2_col1\" class=\"data row2 col1\" >1565</td>\n",
       "            </tr>\n",
       "            <tr>\n",
       "                                <td id=\"T_81b7dc36_74af_11eb_97e1_5cc9d3aa8974row3_col0\" class=\"data row3 col0\" >Ignore Items</td>\n",
       "                        <td id=\"T_81b7dc36_74af_11eb_97e1_5cc9d3aa8974row3_col1\" class=\"data row3 col1\" >None</td>\n",
       "            </tr>\n",
       "    </tbody></table>"
      ],
      "text/plain": [
       "<pandas.io.formats.style.Styler at 0x1f4be2d8730>"
      ]
     },
     "metadata": {},
     "output_type": "display_data"
    }
   ],
   "source": [
    "# Criar associações a partir dos dados da amostra\n",
    "# Exemplo: \n",
    "### 90% de pessoas que compram fralda de madrugada, também compram um cerveja...\n",
    "### 10% de pessoas que compram camiseta, também leval um sapato...\n",
    "s = setup(data, 'InvoiceNo', item_id='Description')"
   ]
  },
  {
   "cell_type": "code",
   "execution_count": 64,
   "metadata": {},
   "outputs": [],
   "source": [
    "model = create_model()"
   ]
  },
  {
   "cell_type": "code",
   "execution_count": 65,
   "metadata": {},
   "outputs": [
    {
     "data": {
      "text/html": [
       "<div>\n",
       "<style scoped>\n",
       "    .dataframe tbody tr th:only-of-type {\n",
       "        vertical-align: middle;\n",
       "    }\n",
       "\n",
       "    .dataframe tbody tr th {\n",
       "        vertical-align: top;\n",
       "    }\n",
       "\n",
       "    .dataframe thead th {\n",
       "        text-align: right;\n",
       "    }\n",
       "</style>\n",
       "<table border=\"1\" class=\"dataframe\">\n",
       "  <thead>\n",
       "    <tr style=\"text-align: right;\">\n",
       "      <th></th>\n",
       "      <th>antecedents</th>\n",
       "      <th>consequents</th>\n",
       "      <th>antecedent support</th>\n",
       "      <th>consequent support</th>\n",
       "      <th>support</th>\n",
       "      <th>confidence</th>\n",
       "      <th>lift</th>\n",
       "      <th>leverage</th>\n",
       "      <th>conviction</th>\n",
       "    </tr>\n",
       "  </thead>\n",
       "  <tbody>\n",
       "    <tr>\n",
       "      <th>0</th>\n",
       "      <td>(JUMBO BAG WOODLAND ANIMALS)</td>\n",
       "      <td>(POSTAGE)</td>\n",
       "      <td>0.0651</td>\n",
       "      <td>0.6746</td>\n",
       "      <td>0.0651</td>\n",
       "      <td>1.0000</td>\n",
       "      <td>1.4823</td>\n",
       "      <td>0.0212</td>\n",
       "      <td>inf</td>\n",
       "    </tr>\n",
       "    <tr>\n",
       "      <th>1</th>\n",
       "      <td>(SET/6 RED SPOTTY PAPER PLATES, SET/20 RED RET...</td>\n",
       "      <td>(SET/6 RED SPOTTY PAPER CUPS)</td>\n",
       "      <td>0.0868</td>\n",
       "      <td>0.1171</td>\n",
       "      <td>0.0846</td>\n",
       "      <td>0.9750</td>\n",
       "      <td>8.3236</td>\n",
       "      <td>0.0744</td>\n",
       "      <td>35.3145</td>\n",
       "    </tr>\n",
       "    <tr>\n",
       "      <th>2</th>\n",
       "      <td>(SET/6 RED SPOTTY PAPER CUPS, SET/20 RED RETRO...</td>\n",
       "      <td>(SET/6 RED SPOTTY PAPER PLATES)</td>\n",
       "      <td>0.0868</td>\n",
       "      <td>0.1085</td>\n",
       "      <td>0.0846</td>\n",
       "      <td>0.9750</td>\n",
       "      <td>8.9895</td>\n",
       "      <td>0.0752</td>\n",
       "      <td>35.6616</td>\n",
       "    </tr>\n",
       "    <tr>\n",
       "      <th>3</th>\n",
       "      <td>(POSTAGE, SET/6 RED SPOTTY PAPER PLATES, SET/2...</td>\n",
       "      <td>(SET/6 RED SPOTTY PAPER CUPS)</td>\n",
       "      <td>0.0716</td>\n",
       "      <td>0.1171</td>\n",
       "      <td>0.0694</td>\n",
       "      <td>0.9697</td>\n",
       "      <td>8.2783</td>\n",
       "      <td>0.0610</td>\n",
       "      <td>29.1345</td>\n",
       "    </tr>\n",
       "    <tr>\n",
       "      <th>4</th>\n",
       "      <td>(SET/6 RED SPOTTY PAPER CUPS, POSTAGE, SET/20 ...</td>\n",
       "      <td>(SET/6 RED SPOTTY PAPER PLATES)</td>\n",
       "      <td>0.0716</td>\n",
       "      <td>0.1085</td>\n",
       "      <td>0.0694</td>\n",
       "      <td>0.9697</td>\n",
       "      <td>8.9406</td>\n",
       "      <td>0.0617</td>\n",
       "      <td>29.4208</td>\n",
       "    </tr>\n",
       "    <tr>\n",
       "      <th>...</th>\n",
       "      <td>...</td>\n",
       "      <td>...</td>\n",
       "      <td>...</td>\n",
       "      <td>...</td>\n",
       "      <td>...</td>\n",
       "      <td>...</td>\n",
       "      <td>...</td>\n",
       "      <td>...</td>\n",
       "      <td>...</td>\n",
       "    </tr>\n",
       "    <tr>\n",
       "      <th>136</th>\n",
       "      <td>(STRAWBERRY LUNCH BOX WITH CUTLERY)</td>\n",
       "      <td>(LUNCH BOX WITH CUTLERY RETROSPOT )</td>\n",
       "      <td>0.1041</td>\n",
       "      <td>0.1236</td>\n",
       "      <td>0.0542</td>\n",
       "      <td>0.5208</td>\n",
       "      <td>4.2124</td>\n",
       "      <td>0.0414</td>\n",
       "      <td>1.8289</td>\n",
       "    </tr>\n",
       "    <tr>\n",
       "      <th>137</th>\n",
       "      <td>(LUNCH BAG APPLE DESIGN)</td>\n",
       "      <td>(LUNCH BAG RED RETROSPOT)</td>\n",
       "      <td>0.1085</td>\n",
       "      <td>0.1323</td>\n",
       "      <td>0.0564</td>\n",
       "      <td>0.5200</td>\n",
       "      <td>3.9298</td>\n",
       "      <td>0.0420</td>\n",
       "      <td>1.8077</td>\n",
       "    </tr>\n",
       "    <tr>\n",
       "      <th>138</th>\n",
       "      <td>(LUNCH BAG APPLE DESIGN)</td>\n",
       "      <td>(LUNCH BAG SPACEBOY DESIGN )</td>\n",
       "      <td>0.1085</td>\n",
       "      <td>0.1041</td>\n",
       "      <td>0.0564</td>\n",
       "      <td>0.5200</td>\n",
       "      <td>4.9942</td>\n",
       "      <td>0.0451</td>\n",
       "      <td>1.8664</td>\n",
       "    </tr>\n",
       "    <tr>\n",
       "      <th>139</th>\n",
       "      <td>(POSTAGE, PLASTERS IN TIN CIRCUS PARADE )</td>\n",
       "      <td>(PLASTERS IN TIN SPACEBOY)</td>\n",
       "      <td>0.1258</td>\n",
       "      <td>0.1193</td>\n",
       "      <td>0.0629</td>\n",
       "      <td>0.5000</td>\n",
       "      <td>4.1909</td>\n",
       "      <td>0.0479</td>\n",
       "      <td>1.7614</td>\n",
       "    </tr>\n",
       "    <tr>\n",
       "      <th>140</th>\n",
       "      <td>(LUNCH BAG RED RETROSPOT, POSTAGE)</td>\n",
       "      <td>(LUNCH BAG APPLE DESIGN)</td>\n",
       "      <td>0.1041</td>\n",
       "      <td>0.1085</td>\n",
       "      <td>0.0521</td>\n",
       "      <td>0.5000</td>\n",
       "      <td>4.6100</td>\n",
       "      <td>0.0408</td>\n",
       "      <td>1.7831</td>\n",
       "    </tr>\n",
       "  </tbody>\n",
       "</table>\n",
       "<p>141 rows × 9 columns</p>\n",
       "</div>"
      ],
      "text/plain": [
       "                                           antecedents  \\\n",
       "0                         (JUMBO BAG WOODLAND ANIMALS)   \n",
       "1    (SET/6 RED SPOTTY PAPER PLATES, SET/20 RED RET...   \n",
       "2    (SET/6 RED SPOTTY PAPER CUPS, SET/20 RED RETRO...   \n",
       "3    (POSTAGE, SET/6 RED SPOTTY PAPER PLATES, SET/2...   \n",
       "4    (SET/6 RED SPOTTY PAPER CUPS, POSTAGE, SET/20 ...   \n",
       "..                                                 ...   \n",
       "136                (STRAWBERRY LUNCH BOX WITH CUTLERY)   \n",
       "137                           (LUNCH BAG APPLE DESIGN)   \n",
       "138                           (LUNCH BAG APPLE DESIGN)   \n",
       "139          (POSTAGE, PLASTERS IN TIN CIRCUS PARADE )   \n",
       "140                 (LUNCH BAG RED RETROSPOT, POSTAGE)   \n",
       "\n",
       "                             consequents  antecedent support  \\\n",
       "0                              (POSTAGE)              0.0651   \n",
       "1          (SET/6 RED SPOTTY PAPER CUPS)              0.0868   \n",
       "2        (SET/6 RED SPOTTY PAPER PLATES)              0.0868   \n",
       "3          (SET/6 RED SPOTTY PAPER CUPS)              0.0716   \n",
       "4        (SET/6 RED SPOTTY PAPER PLATES)              0.0716   \n",
       "..                                   ...                 ...   \n",
       "136  (LUNCH BOX WITH CUTLERY RETROSPOT )              0.1041   \n",
       "137            (LUNCH BAG RED RETROSPOT)              0.1085   \n",
       "138         (LUNCH BAG SPACEBOY DESIGN )              0.1085   \n",
       "139           (PLASTERS IN TIN SPACEBOY)              0.1258   \n",
       "140             (LUNCH BAG APPLE DESIGN)              0.1041   \n",
       "\n",
       "     consequent support  support  confidence    lift  leverage  conviction  \n",
       "0                0.6746   0.0651      1.0000  1.4823    0.0212         inf  \n",
       "1                0.1171   0.0846      0.9750  8.3236    0.0744     35.3145  \n",
       "2                0.1085   0.0846      0.9750  8.9895    0.0752     35.6616  \n",
       "3                0.1171   0.0694      0.9697  8.2783    0.0610     29.1345  \n",
       "4                0.1085   0.0694      0.9697  8.9406    0.0617     29.4208  \n",
       "..                  ...      ...         ...     ...       ...         ...  \n",
       "136              0.1236   0.0542      0.5208  4.2124    0.0414      1.8289  \n",
       "137              0.1323   0.0564      0.5200  3.9298    0.0420      1.8077  \n",
       "138              0.1041   0.0564      0.5200  4.9942    0.0451      1.8664  \n",
       "139              0.1193   0.0629      0.5000  4.1909    0.0479      1.7614  \n",
       "140              0.1085   0.0521      0.5000  4.6100    0.0408      1.7831  \n",
       "\n",
       "[141 rows x 9 columns]"
      ]
     },
     "execution_count": 65,
     "metadata": {},
     "output_type": "execute_result"
    }
   ],
   "source": [
    "model"
   ]
  },
  {
   "cell_type": "code",
   "execution_count": 66,
   "metadata": {},
   "outputs": [
    {
     "data": {
      "text/html": [
       "        <script type=\"text/javascript\">\n",
       "        window.PlotlyConfig = {MathJaxConfig: 'local'};\n",
       "        if (window.MathJax) {MathJax.Hub.Config({SVG: {font: \"STIX-Web\"}});}\n",
       "        if (typeof require !== 'undefined') {\n",
       "        require.undef(\"plotly\");\n",
       "        requirejs.config({\n",
       "            paths: {\n",
       "                'plotly': ['https://cdn.plot.ly/plotly-latest.min']\n",
       "            }\n",
       "        });\n",
       "        require(['plotly'], function(Plotly) {\n",
       "            window._Plotly = Plotly;\n",
       "        });\n",
       "        }\n",
       "        </script>\n",
       "        "
      ]
     },
     "metadata": {},
     "output_type": "display_data"
    },
    {
     "data": {
      "application/vnd.plotly.v1+json": {
       "config": {
        "plotlyServerURL": "https://plot.ly"
       },
       "data": [
        {
         "customdata": [
          [
           "JUMBO BAG WOODLAND ANIMALS",
           "POSTAGE"
          ],
          [
           "SET/6 RED SPOTTY PAPER PLATES",
           "SET/6 RED SPOTTY PAPER CUPS"
          ],
          [
           "SET/6 RED SPOTTY PAPER CUPS",
           "SET/6 RED SPOTTY PAPER PLATES"
          ],
          [
           "POSTAGE",
           "SET/6 RED SPOTTY PAPER CUPS"
          ],
          [
           "SET/6 RED SPOTTY PAPER CUPS",
           "SET/6 RED SPOTTY PAPER PLATES"
          ],
          [
           "SET OF 9 BLACK SKULL BALLOONS",
           "POSTAGE"
          ],
          [
           "PACK OF 6 SKULL PAPER CUPS",
           "POSTAGE"
          ],
          [
           "SET/6 RED SPOTTY PAPER PLATES",
           "SET/6 RED SPOTTY PAPER CUPS"
          ],
          [
           "POSTAGE",
           "SET/6 RED SPOTTY PAPER CUPS"
          ],
          [
           "TEA PARTY BIRTHDAY CARD",
           "POSTAGE"
          ],
          [
           "STRAWBERRY LUNCH BOX WITH CUTLERY",
           "POSTAGE"
          ],
          [
           "RED RETROSPOT PICNIC BAG",
           "POSTAGE"
          ],
          [
           "ASSORTED COLOUR MINI CASES",
           "POSTAGE"
          ],
          [
           "CHILDRENS CUTLERY SPACEBOY ",
           "CHILDRENS CUTLERY DOLLY GIRL "
          ],
          [
           "SET OF 2 TEA TOWELS APPLE AND PEARS",
           "POSTAGE"
          ],
          [
           "LUNCH BAG RED RETROSPOT",
           "POSTAGE"
          ],
          [
           "ALARM CLOCK BAKELIKE RED ",
           "POSTAGE"
          ],
          [
           "ROUND SNACK BOXES SET OF4 WOODLAND ",
           "POSTAGE"
          ],
          [
           "ALARM CLOCK BAKELIKE RED ",
           "POSTAGE"
          ],
          [
           "WOODLAND CHARLOTTE BAG",
           "POSTAGE"
          ],
          [
           "ALARM CLOCK BAKELIKE RED ",
           "POSTAGE"
          ],
          [
           "SET/6 RED SPOTTY PAPER CUPS",
           "SET/6 RED SPOTTY PAPER PLATES"
          ],
          [
           "ALARM CLOCK BAKELIKE PINK",
           "POSTAGE"
          ],
          [
           "PAPER BUNTING RETROSPOT",
           "POSTAGE"
          ],
          [
           "SET/6 RED SPOTTY PAPER CUPS",
           "SET/6 RED SPOTTY PAPER PLATES"
          ],
          [
           "RABBIT NIGHT LIGHT",
           "POSTAGE"
          ],
          [
           "CHILDRENS CUTLERY DOLLY GIRL ",
           "CHILDRENS CUTLERY SPACEBOY "
          ],
          [
           "ALARM CLOCK BAKELIKE PINK",
           "ALARM CLOCK BAKELIKE RED "
          ],
          [
           "ALARM CLOCK BAKELIKE RED ",
           "ALARM CLOCK BAKELIKE GREEN"
          ],
          [
           "RED TOADSTOOL LED NIGHT LIGHT",
           "POSTAGE"
          ],
          [
           "ROUND SNACK BOXES SET OF 4 FRUITS ",
           "POSTAGE"
          ],
          [
           "COFFEE MUG APPLES DESIGN",
           "POSTAGE"
          ],
          [
           "PLASTERS IN TIN CIRCUS PARADE ",
           "POSTAGE"
          ],
          [
           "SET/6 RED SPOTTY PAPER CUPS",
           "POSTAGE"
          ],
          [
           "LUNCH BAG WOODLAND",
           "POSTAGE"
          ],
          [
           "POSTAGE",
           "ALARM CLOCK BAKELIKE RED "
          ],
          [
           "ALARM CLOCK BAKELIKE GREEN",
           "POSTAGE"
          ],
          [
           "RED RETROSPOT CHARLOTTE BAG",
           "POSTAGE"
          ],
          [
           "JUMBO BAG RED RETROSPOT",
           "POSTAGE"
          ],
          [
           "SET/6 RED SPOTTY PAPER PLATES",
           "POSTAGE"
          ],
          [
           "ALARM CLOCK BAKELIKE RED ",
           "ALARM CLOCK BAKELIKE GREEN"
          ],
          [
           "SET/10 RED POLKADOT PARTY CANDLES",
           "POSTAGE"
          ],
          [
           "SET/6 RED SPOTTY PAPER CUPS",
           "POSTAGE"
          ],
          [
           "ALARM CLOCK BAKELIKE PINK",
           "POSTAGE"
          ],
          [
           "SET/20 RED RETROSPOT PAPER NAPKINS ",
           "POSTAGE"
          ],
          [
           "PACK OF 72 RETROSPOT CAKE CASES",
           "POSTAGE"
          ],
          [
           "SET/6 RED SPOTTY PAPER PLATES",
           "POSTAGE"
          ],
          [
           "SET/6 RED SPOTTY PAPER CUPS",
           "POSTAGE"
          ],
          [
           "PLASTERS IN TIN WOODLAND ANIMALS",
           "POSTAGE"
          ],
          [
           "ALARM CLOCK BAKELIKE RED ",
           "ALARM CLOCK BAKELIKE GREEN"
          ],
          [
           "SET/6 RED SPOTTY PAPER CUPS",
           "POSTAGE"
          ],
          [
           "LUNCH BAG APPLE DESIGN",
           "POSTAGE"
          ],
          [
           "PLASTERS IN TIN SPACEBOY",
           "POSTAGE"
          ],
          [
           "RED RETROSPOT MINI CASES",
           "POSTAGE"
          ],
          [
           "SET/6 RED SPOTTY PAPER CUPS",
           "SET/20 RED RETROSPOT PAPER NAPKINS "
          ],
          [
           "ALARM CLOCK BAKELIKE RED ",
           "ALARM CLOCK BAKELIKE PINK"
          ],
          [
           "PLASTERS IN TIN WOODLAND ANIMALS",
           "POSTAGE"
          ],
          [
           "PLASTERS IN TIN SPACEBOY",
           "POSTAGE"
          ],
          [
           "PLASTERS IN TIN SPACEBOY",
           "POSTAGE"
          ],
          [
           "SET/6 RED SPOTTY PAPER PLATES",
           "SET/6 RED SPOTTY PAPER CUPS"
          ],
          [
           "SET/6 RED SPOTTY PAPER CUPS",
           "POSTAGE"
          ],
          [
           "POSTAGE",
           "SET/20 RED RETROSPOT PAPER NAPKINS "
          ],
          [
           "SET/6 RED SPOTTY PAPER PLATES",
           "SET/20 RED RETROSPOT PAPER NAPKINS "
          ],
          [
           "SET/6 RED SPOTTY PAPER PLATES",
           "SET/6 RED SPOTTY PAPER CUPS"
          ],
          [
           "ALARM CLOCK BAKELIKE GREEN",
           "ALARM CLOCK BAKELIKE RED "
          ],
          [
           "LUNCH BOX WITH CUTLERY RETROSPOT ",
           "POSTAGE"
          ],
          [
           "LUNCH BAG RED RETROSPOT",
           "POSTAGE"
          ],
          [
           "POSTAGE",
           "SET/20 RED RETROSPOT PAPER NAPKINS "
          ],
          [
           "ALARM CLOCK BAKELIKE RED ",
           "ALARM CLOCK BAKELIKE PINK"
          ],
          [
           "PLASTERS IN TIN STRONGMAN",
           "POSTAGE"
          ],
          [
           "MINI PAINT SET VINTAGE ",
           "POSTAGE"
          ],
          [
           "SET/6 RED SPOTTY PAPER PLATES",
           "SET/6 RED SPOTTY PAPER CUPS"
          ],
          [
           "REGENCY CAKESTAND 3 TIER",
           "POSTAGE"
          ],
          [
           "SPACEBOY LUNCH BOX ",
           "POSTAGE"
          ],
          [
           "SET/20 RED RETROSPOT PAPER NAPKINS ",
           "SET/6 RED SPOTTY PAPER PLATES"
          ],
          [
           "SET/20 RED RETROSPOT PAPER NAPKINS ",
           "SET/6 RED SPOTTY PAPER CUPS"
          ],
          [
           "POSTAGE",
           "SET/6 RED SPOTTY PAPER PLATES"
          ],
          [
           "POSTAGE",
           "SET/6 RED SPOTTY PAPER CUPS"
          ],
          [
           "ALARM CLOCK BAKELIKE RED ",
           "ALARM CLOCK BAKELIKE PINK"
          ],
          [
           "POSTAGE",
           "SET/6 RED SPOTTY PAPER CUPS"
          ],
          [
           "ALARM CLOCK BAKELIKE RED ",
           "POSTAGE"
          ],
          [
           "PLASTERS IN TIN SPACEBOY",
           "PLASTERS IN TIN WOODLAND ANIMALS"
          ],
          [
           "SET/20 RED RETROSPOT PAPER NAPKINS ",
           "SET/6 RED SPOTTY PAPER CUPS"
          ],
          [
           "LUNCH BAG SPACEBOY DESIGN ",
           "POSTAGE"
          ],
          [
           "PLASTERS IN TIN SPACEBOY",
           "PLASTERS IN TIN WOODLAND ANIMALS"
          ],
          [
           "POSTAGE",
           "SET/6 RED SPOTTY PAPER CUPS"
          ],
          [
           "ALARM CLOCK BAKELIKE GREEN",
           "ALARM CLOCK BAKELIKE PINK"
          ],
          [
           "ALARM CLOCK BAKELIKE PINK",
           "ALARM CLOCK BAKELIKE RED "
          ],
          [
           "SET/6 RED SPOTTY PAPER CUPS",
           "POSTAGE"
          ],
          [
           "SET/6 RED SPOTTY PAPER CUPS",
           "SET/20 RED RETROSPOT PAPER NAPKINS "
          ],
          [
           "PLASTERS IN TIN SPACEBOY",
           "PLASTERS IN TIN WOODLAND ANIMALS"
          ],
          [
           "POSTAGE",
           "ALARM CLOCK BAKELIKE PINK"
          ],
          [
           "ALARM CLOCK BAKELIKE PINK",
           "ALARM CLOCK BAKELIKE GREEN"
          ],
          [
           "ALARM CLOCK BAKELIKE PINK",
           "ALARM CLOCK BAKELIKE RED "
          ],
          [
           "DOLLY GIRL LUNCH BOX",
           "POSTAGE"
          ],
          [
           "SET/6 RED SPOTTY PAPER CUPS",
           "SET/6 RED SPOTTY PAPER PLATES"
          ],
          [
           "ALARM CLOCK BAKELIKE GREEN",
           "ALARM CLOCK BAKELIKE RED "
          ],
          [
           "SET/6 RED SPOTTY PAPER CUPS",
           "SET/20 RED RETROSPOT PAPER NAPKINS "
          ],
          [
           "ALARM CLOCK BAKELIKE RED ",
           "ALARM CLOCK BAKELIKE PINK"
          ],
          [
           "DOLLY GIRL LUNCH BOX",
           "SPACEBOY LUNCH BOX "
          ],
          [
           "SET/6 RED SPOTTY PAPER CUPS",
           "SET/6 RED SPOTTY PAPER PLATES"
          ],
          [
           "ALARM CLOCK BAKELIKE PINK",
           "ALARM CLOCK BAKELIKE GREEN"
          ],
          [
           "ALARM CLOCK BAKELIKE RED ",
           "ALARM CLOCK BAKELIKE PINK"
          ],
          [
           "PLASTERS IN TIN WOODLAND ANIMALS",
           "PLASTERS IN TIN SPACEBOY"
          ],
          [
           "SET/6 RED SPOTTY PAPER CUPS",
           "POSTAGE"
          ],
          [
           "SET/6 RED SPOTTY PAPER PLATES",
           "POSTAGE"
          ],
          [
           "PLASTERS IN TIN SPACEBOY",
           "PLASTERS IN TIN CIRCUS PARADE "
          ],
          [
           "PLASTERS IN TIN SPACEBOY",
           "PLASTERS IN TIN CIRCUS PARADE "
          ],
          [
           "ALARM CLOCK BAKELIKE PINK",
           "ALARM CLOCK BAKELIKE RED "
          ],
          [
           "PLASTERS IN TIN SPACEBOY",
           "PLASTERS IN TIN CIRCUS PARADE "
          ],
          [
           "ALARM CLOCK BAKELIKE GREEN",
           "ALARM CLOCK BAKELIKE RED "
          ],
          [
           "SET/6 RED SPOTTY PAPER PLATES",
           "SET/6 RED SPOTTY PAPER CUPS"
          ],
          [
           "SET/20 RED RETROSPOT PAPER NAPKINS ",
           "SET/6 RED SPOTTY PAPER CUPS"
          ],
          [
           "SET/20 RED RETROSPOT PAPER NAPKINS ",
           "POSTAGE"
          ],
          [
           "ALARM CLOCK BAKELIKE PINK",
           "ALARM CLOCK BAKELIKE RED "
          ],
          [
           "SET/20 RED RETROSPOT PAPER NAPKINS ",
           "POSTAGE"
          ],
          [
           "ALARM CLOCK BAKELIKE GREEN",
           "ALARM CLOCK BAKELIKE PINK"
          ],
          [
           "PLASTERS IN TIN WOODLAND ANIMALS",
           "PLASTERS IN TIN SPACEBOY"
          ],
          [
           "SET/6 RED SPOTTY PAPER CUPS",
           "POSTAGE"
          ],
          [
           "PLASTERS IN TIN WOODLAND ANIMALS",
           "PLASTERS IN TIN SPACEBOY"
          ],
          [
           "PLASTERS IN TIN WOODLAND ANIMALS",
           "PLASTERS IN TIN CIRCUS PARADE "
          ],
          [
           "ALARM CLOCK BAKELIKE PINK",
           "POSTAGE"
          ],
          [
           "PLASTERS IN TIN SPACEBOY",
           "PLASTERS IN TIN WOODLAND ANIMALS"
          ],
          [
           "PLASTERS IN TIN WOODLAND ANIMALS",
           "PLASTERS IN TIN CIRCUS PARADE "
          ],
          [
           "SET/6 RED SPOTTY PAPER CUPS",
           "POSTAGE"
          ],
          [
           "PLASTERS IN TIN CIRCUS PARADE ",
           "PLASTERS IN TIN WOODLAND ANIMALS"
          ],
          [
           "LUNCH BAG APPLE DESIGN",
           "LUNCH BAG RED RETROSPOT"
          ],
          [
           "ROUND SNACK BOXES SET OF 4 FRUITS ",
           "ROUND SNACK BOXES SET OF4 WOODLAND "
          ],
          [
           "SPACEBOY LUNCH BOX ",
           "DOLLY GIRL LUNCH BOX"
          ],
          [
           "POSTAGE",
           "PLASTERS IN TIN WOODLAND ANIMALS"
          ],
          [
           "LUNCH BAG WOODLAND",
           "LUNCH BAG SPACEBOY DESIGN "
          ],
          [
           "LUNCH BAG SPACEBOY DESIGN ",
           "LUNCH BAG WOODLAND"
          ],
          [
           "LUNCH BAG SPACEBOY DESIGN ",
           "LUNCH BAG RED RETROSPOT"
          ],
          [
           "LUNCH BAG SPACEBOY DESIGN ",
           "LUNCH BAG APPLE DESIGN"
          ],
          [
           "PLASTERS IN TIN CIRCUS PARADE ",
           "PLASTERS IN TIN SPACEBOY"
          ],
          [
           "PLASTERS IN TIN SPACEBOY",
           "POSTAGE"
          ],
          [
           "STRAWBERRY LUNCH BOX WITH CUTLERY",
           "LUNCH BOX WITH CUTLERY RETROSPOT "
          ],
          [
           "LUNCH BAG APPLE DESIGN",
           "LUNCH BAG RED RETROSPOT"
          ],
          [
           "LUNCH BAG APPLE DESIGN",
           "LUNCH BAG SPACEBOY DESIGN "
          ],
          [
           "POSTAGE",
           "PLASTERS IN TIN SPACEBOY"
          ],
          [
           "LUNCH BAG RED RETROSPOT",
           "LUNCH BAG APPLE DESIGN"
          ]
         ],
         "hovertemplate": "support=%{x}<br>confidence=%{y}<br>antecedents_short=%{text}<br>antecedents=%{customdata[0]}<br>consequents=%{customdata[1]}<br>lift=%{marker.color}<extra></extra>",
         "legendgroup": "",
         "marker": {
          "color": [
           1.4823,
           8.3236,
           8.9895,
           8.2783,
           8.9406,
           1.4253,
           1.423,
           8.1956,
           8.1305,
           1.4022,
           1.3897,
           1.3801,
           1.3725,
           14.719,
           1.3725,
           1.3683,
           1.3621,
           1.3433,
           1.3389,
           1.329,
           1.329,
           8.1956,
           1.297,
           1.297,
           8.0174,
           1.2847,
           14.719,
           10.7409,
           10.1901,
           1.2764,
           1.2755,
           1.2706,
           1.2643,
           1.2627,
           1.2615,
           10.5717,
           1.2543,
           1.2483,
           1.2483,
           1.2451,
           9.9037,
           1.2353,
           1.2353,
           1.2267,
           1.2258,
           1.2229,
           1.2229,
           1.2229,
           1.2229,
           9.7345,
           1.2163,
           1.2155,
           1.2128,
           1.2128,
           7.2031,
           9.2944,
           1.1947,
           1.1941,
           1.1931,
           8.0174,
           8.781,
           7.0923,
           7.0923,
           8.0174,
           9.9037,
           1.1702,
           1.1664,
           6.9657,
           9.0331,
           1.1581,
           1.1569,
           8.9895,
           1.1529,
           1.1496,
           7.0923,
           6.567,
           7.0758,
           6.5517,
           8.8132,
           8.781,
           10.5717,
           5.1604,
           7.2031,
           1.1117,
           5.1292,
           7.1473,
           8.5699,
           9.2556,
           8.1305,
           6.567,
           5.0458,
           8.3818,
           8.5699,
           9.0331,
           1.0747,
           8.3236,
           9.7345,
           6.3599,
           9.2556,
           6.5857,
           8.0174,
           8.1055,
           10.7409,
           5.6577,
           7.1473,
           7.0758,
           4.4645,
           4.4374,
           8.8132,
           4.369,
           10.1901,
           8.9406,
           6.3599,
           6.9657,
           9.2944,
           7.0923,
           8.1055,
           5.1292,
           6.5517,
           5.1222,
           4.143,
           8.3818,
           5.1222,
           4.0474,
           8.2783,
           4.0474,
           4.4238,
           4.1879,
           6.5857,
           3.9148,
           5.3129,
           5.3129,
           4.0936,
           4.9942,
           4.4374,
           4.1909,
           4.2124,
           3.9298,
           4.9942,
           4.1909,
           4.61
          ],
          "coloraxis": "coloraxis",
          "opacity": 0.5,
          "symbol": "circle"
         },
         "mode": "markers+text",
         "name": "",
         "orientation": "v",
         "showlegend": false,
         "text": [
          "JUMBO BAG ",
          "SET/6 RED ",
          "SET/6 RED ",
          "POSTAGE",
          "SET/6 RED ",
          "SET OF 9 B",
          "PACK OF 6 ",
          "SET/6 RED ",
          "POSTAGE",
          "TEA PARTY ",
          "STRAWBERRY",
          "RED RETROS",
          "ASSORTED C",
          "CHILDRENS ",
          "SET OF 2 T",
          "LUNCH BAG ",
          "ALARM CLOC",
          "ROUND SNAC",
          "ALARM CLOC",
          "WOODLAND C",
          "ALARM CLOC",
          "SET/6 RED ",
          "ALARM CLOC",
          "PAPER BUNT",
          "SET/6 RED ",
          "RABBIT NIG",
          "CHILDRENS ",
          "ALARM CLOC",
          "ALARM CLOC",
          "RED TOADST",
          "ROUND SNAC",
          "COFFEE MUG",
          "PLASTERS I",
          "SET/6 RED ",
          "LUNCH BAG ",
          "POSTAGE",
          "ALARM CLOC",
          "RED RETROS",
          "JUMBO BAG ",
          "SET/6 RED ",
          "ALARM CLOC",
          "SET/10 RED",
          "SET/6 RED ",
          "ALARM CLOC",
          "SET/20 RED",
          "PACK OF 72",
          "SET/6 RED ",
          "SET/6 RED ",
          "PLASTERS I",
          "ALARM CLOC",
          "SET/6 RED ",
          "LUNCH BAG ",
          "PLASTERS I",
          "RED RETROS",
          "SET/6 RED ",
          "ALARM CLOC",
          "PLASTERS I",
          "PLASTERS I",
          "PLASTERS I",
          "SET/6 RED ",
          "SET/6 RED ",
          "POSTAGE",
          "SET/6 RED ",
          "SET/6 RED ",
          "ALARM CLOC",
          "LUNCH BOX ",
          "LUNCH BAG ",
          "POSTAGE",
          "ALARM CLOC",
          "PLASTERS I",
          "MINI PAINT",
          "SET/6 RED ",
          "REGENCY CA",
          "SPACEBOY L",
          "SET/20 RED",
          "SET/20 RED",
          "POSTAGE",
          "POSTAGE",
          "ALARM CLOC",
          "POSTAGE",
          "ALARM CLOC",
          "PLASTERS I",
          "SET/20 RED",
          "LUNCH BAG ",
          "PLASTERS I",
          "POSTAGE",
          "ALARM CLOC",
          "ALARM CLOC",
          "SET/6 RED ",
          "SET/6 RED ",
          "PLASTERS I",
          "POSTAGE",
          "ALARM CLOC",
          "ALARM CLOC",
          "DOLLY GIRL",
          "SET/6 RED ",
          "ALARM CLOC",
          "SET/6 RED ",
          "ALARM CLOC",
          "DOLLY GIRL",
          "SET/6 RED ",
          "ALARM CLOC",
          "ALARM CLOC",
          "PLASTERS I",
          "SET/6 RED ",
          "SET/6 RED ",
          "PLASTERS I",
          "PLASTERS I",
          "ALARM CLOC",
          "PLASTERS I",
          "ALARM CLOC",
          "SET/6 RED ",
          "SET/20 RED",
          "SET/20 RED",
          "ALARM CLOC",
          "SET/20 RED",
          "ALARM CLOC",
          "PLASTERS I",
          "SET/6 RED ",
          "PLASTERS I",
          "PLASTERS I",
          "ALARM CLOC",
          "PLASTERS I",
          "PLASTERS I",
          "SET/6 RED ",
          "PLASTERS I",
          "LUNCH BAG ",
          "ROUND SNAC",
          "SPACEBOY L",
          "POSTAGE",
          "LUNCH BAG ",
          "LUNCH BAG ",
          "LUNCH BAG ",
          "LUNCH BAG ",
          "PLASTERS I",
          "PLASTERS I",
          "STRAWBERRY",
          "LUNCH BAG ",
          "LUNCH BAG ",
          "POSTAGE",
          "LUNCH BAG "
         ],
         "textposition": "top center",
         "type": "scatter",
         "x": [
          0.0651,
          0.0846,
          0.0846,
          0.0694,
          0.0694,
          0.0542,
          0.0521,
          0.1041,
          0.0868,
          0.0759,
          0.0976,
          0.0586,
          0.0542,
          0.0542,
          0.0542,
          0.0521,
          0.0738,
          0.1258,
          0.0607,
          0.0564,
          0.0564,
          0.1041,
          0.0759,
          0.0607,
          0.0868,
          0.141,
          0.0542,
          0.0542,
          0.0542,
          0.1345,
          0.0803,
          0.0521,
          0.1258,
          0.0998,
          0.0868,
          0.0607,
          0.0716,
          0.0694,
          0.0694,
          0.0911,
          0.0672,
          0.0542,
          0.0868,
          0.0521,
          0.0933,
          0.0716,
          0.0716,
          0.0716,
          0.0716,
          0.0607,
          0.0694,
          0.0889,
          0.0976,
          0.0976,
          0.0846,
          0.0542,
          0.1171,
          0.0629,
          0.0716,
          0.0694,
          0.0694,
          0.0694,
          0.0868,
          0.0868,
          0.0672,
          0.0976,
          0.1041,
          0.0716,
          0.0629,
          0.0542,
          0.0694,
          0.0846,
          0.0911,
          0.0824,
          0.0868,
          0.0868,
          0.0716,
          0.0716,
          0.0564,
          0.0694,
          0.0607,
          0.0586,
          0.0846,
          0.0781,
          0.0889,
          0.0694,
          0.0629,
          0.0564,
          0.0868,
          0.0868,
          0.0716,
          0.0521,
          0.0629,
          0.0629,
          0.0629,
          0.0846,
          0.0607,
          0.0716,
          0.0564,
          0.0607,
          0.0694,
          0.0521,
          0.0542,
          0.0586,
          0.0694,
          0.0716,
          0.0586,
          0.0781,
          0.0564,
          0.0629,
          0.0542,
          0.0694,
          0.0716,
          0.0716,
          0.0542,
          0.0694,
          0.0521,
          0.0889,
          0.0716,
          0.0716,
          0.0716,
          0.0521,
          0.0716,
          0.0868,
          0.0694,
          0.0868,
          0.0521,
          0.0542,
          0.0607,
          0.0716,
          0.0564,
          0.0564,
          0.0564,
          0.0564,
          0.0781,
          0.0629,
          0.0542,
          0.0564,
          0.0564,
          0.0629,
          0.0521
         ],
         "xaxis": "x",
         "y": [
          1,
          0.975,
          0.975,
          0.9697,
          0.9697,
          0.9615,
          0.96,
          0.96,
          0.9524,
          0.9459,
          0.9375,
          0.931,
          0.9259,
          0.9259,
          0.9259,
          0.9231,
          0.9189,
          0.9063,
          0.9032,
          0.8966,
          0.8966,
          0.8889,
          0.875,
          0.875,
          0.8696,
          0.8667,
          0.8621,
          0.8621,
          0.8621,
          0.8611,
          0.8605,
          0.8571,
          0.8529,
          0.8519,
          0.8511,
          0.8485,
          0.8462,
          0.8421,
          0.8421,
          0.84,
          0.8378,
          0.8333,
          0.8333,
          0.8276,
          0.8269,
          0.825,
          0.825,
          0.825,
          0.825,
          0.8235,
          0.8205,
          0.82,
          0.8182,
          0.8182,
          0.8125,
          0.8065,
          0.806,
          0.8056,
          0.8049,
          0.8,
          0.8,
          0.8,
          0.8,
          0.8,
          0.7949,
          0.7895,
          0.7869,
          0.7857,
          0.7838,
          0.7812,
          0.7805,
          0.78,
          0.7778,
          0.7755,
          0.7692,
          0.7692,
          0.7674,
          0.7674,
          0.7647,
          0.7619,
          0.7568,
          0.75,
          0.75,
          0.75,
          0.7455,
          0.7442,
          0.7436,
          0.7429,
          0.7407,
          0.7407,
          0.7333,
          0.7273,
          0.725,
          0.725,
          0.725,
          0.7222,
          0.7179,
          0.7174,
          0.7027,
          0.7,
          0.6957,
          0.6857,
          0.6757,
          0.675,
          0.6667,
          0.66,
          0.6585,
          0.6545,
          0.65,
          0.6444,
          0.641,
          0.64,
          0.6346,
          0.6346,
          0.625,
          0.6154,
          0.6154,
          0.6119,
          0.6111,
          0.6111,
          0.6111,
          0.6,
          0.6,
          0.597,
          0.5926,
          0.5882,
          0.5854,
          0.5814,
          0.5714,
          0.569,
          0.5532,
          0.5417,
          0.5417,
          0.5417,
          0.5294,
          0.5273,
          0.5208,
          0.52,
          0.52,
          0.5,
          0.5
         ],
         "yaxis": "y"
        }
       ],
       "layout": {
        "coloraxis": {
         "colorbar": {
          "title": {
           "text": "lift"
          }
         },
         "colorscale": [
          [
           0,
           "#0d0887"
          ],
          [
           0.1111111111111111,
           "#46039f"
          ],
          [
           0.2222222222222222,
           "#7201a8"
          ],
          [
           0.3333333333333333,
           "#9c179e"
          ],
          [
           0.4444444444444444,
           "#bd3786"
          ],
          [
           0.5555555555555556,
           "#d8576b"
          ],
          [
           0.6666666666666666,
           "#ed7953"
          ],
          [
           0.7777777777777778,
           "#fb9f3a"
          ],
          [
           0.8888888888888888,
           "#fdca26"
          ],
          [
           1,
           "#f0f921"
          ]
         ]
        },
        "height": 800,
        "legend": {
         "tracegroupgap": 0
        },
        "margin": {
         "t": 60
        },
        "plot_bgcolor": "rgb(240,240,240)",
        "template": {
         "data": {
          "bar": [
           {
            "error_x": {
             "color": "#2a3f5f"
            },
            "error_y": {
             "color": "#2a3f5f"
            },
            "marker": {
             "line": {
              "color": "#E5ECF6",
              "width": 0.5
             }
            },
            "type": "bar"
           }
          ],
          "barpolar": [
           {
            "marker": {
             "line": {
              "color": "#E5ECF6",
              "width": 0.5
             }
            },
            "type": "barpolar"
           }
          ],
          "carpet": [
           {
            "aaxis": {
             "endlinecolor": "#2a3f5f",
             "gridcolor": "white",
             "linecolor": "white",
             "minorgridcolor": "white",
             "startlinecolor": "#2a3f5f"
            },
            "baxis": {
             "endlinecolor": "#2a3f5f",
             "gridcolor": "white",
             "linecolor": "white",
             "minorgridcolor": "white",
             "startlinecolor": "#2a3f5f"
            },
            "type": "carpet"
           }
          ],
          "choropleth": [
           {
            "colorbar": {
             "outlinewidth": 0,
             "ticks": ""
            },
            "type": "choropleth"
           }
          ],
          "contour": [
           {
            "colorbar": {
             "outlinewidth": 0,
             "ticks": ""
            },
            "colorscale": [
             [
              0,
              "#0d0887"
             ],
             [
              0.1111111111111111,
              "#46039f"
             ],
             [
              0.2222222222222222,
              "#7201a8"
             ],
             [
              0.3333333333333333,
              "#9c179e"
             ],
             [
              0.4444444444444444,
              "#bd3786"
             ],
             [
              0.5555555555555556,
              "#d8576b"
             ],
             [
              0.6666666666666666,
              "#ed7953"
             ],
             [
              0.7777777777777778,
              "#fb9f3a"
             ],
             [
              0.8888888888888888,
              "#fdca26"
             ],
             [
              1,
              "#f0f921"
             ]
            ],
            "type": "contour"
           }
          ],
          "contourcarpet": [
           {
            "colorbar": {
             "outlinewidth": 0,
             "ticks": ""
            },
            "type": "contourcarpet"
           }
          ],
          "heatmap": [
           {
            "colorbar": {
             "outlinewidth": 0,
             "ticks": ""
            },
            "colorscale": [
             [
              0,
              "#0d0887"
             ],
             [
              0.1111111111111111,
              "#46039f"
             ],
             [
              0.2222222222222222,
              "#7201a8"
             ],
             [
              0.3333333333333333,
              "#9c179e"
             ],
             [
              0.4444444444444444,
              "#bd3786"
             ],
             [
              0.5555555555555556,
              "#d8576b"
             ],
             [
              0.6666666666666666,
              "#ed7953"
             ],
             [
              0.7777777777777778,
              "#fb9f3a"
             ],
             [
              0.8888888888888888,
              "#fdca26"
             ],
             [
              1,
              "#f0f921"
             ]
            ],
            "type": "heatmap"
           }
          ],
          "heatmapgl": [
           {
            "colorbar": {
             "outlinewidth": 0,
             "ticks": ""
            },
            "colorscale": [
             [
              0,
              "#0d0887"
             ],
             [
              0.1111111111111111,
              "#46039f"
             ],
             [
              0.2222222222222222,
              "#7201a8"
             ],
             [
              0.3333333333333333,
              "#9c179e"
             ],
             [
              0.4444444444444444,
              "#bd3786"
             ],
             [
              0.5555555555555556,
              "#d8576b"
             ],
             [
              0.6666666666666666,
              "#ed7953"
             ],
             [
              0.7777777777777778,
              "#fb9f3a"
             ],
             [
              0.8888888888888888,
              "#fdca26"
             ],
             [
              1,
              "#f0f921"
             ]
            ],
            "type": "heatmapgl"
           }
          ],
          "histogram": [
           {
            "marker": {
             "colorbar": {
              "outlinewidth": 0,
              "ticks": ""
             }
            },
            "type": "histogram"
           }
          ],
          "histogram2d": [
           {
            "colorbar": {
             "outlinewidth": 0,
             "ticks": ""
            },
            "colorscale": [
             [
              0,
              "#0d0887"
             ],
             [
              0.1111111111111111,
              "#46039f"
             ],
             [
              0.2222222222222222,
              "#7201a8"
             ],
             [
              0.3333333333333333,
              "#9c179e"
             ],
             [
              0.4444444444444444,
              "#bd3786"
             ],
             [
              0.5555555555555556,
              "#d8576b"
             ],
             [
              0.6666666666666666,
              "#ed7953"
             ],
             [
              0.7777777777777778,
              "#fb9f3a"
             ],
             [
              0.8888888888888888,
              "#fdca26"
             ],
             [
              1,
              "#f0f921"
             ]
            ],
            "type": "histogram2d"
           }
          ],
          "histogram2dcontour": [
           {
            "colorbar": {
             "outlinewidth": 0,
             "ticks": ""
            },
            "colorscale": [
             [
              0,
              "#0d0887"
             ],
             [
              0.1111111111111111,
              "#46039f"
             ],
             [
              0.2222222222222222,
              "#7201a8"
             ],
             [
              0.3333333333333333,
              "#9c179e"
             ],
             [
              0.4444444444444444,
              "#bd3786"
             ],
             [
              0.5555555555555556,
              "#d8576b"
             ],
             [
              0.6666666666666666,
              "#ed7953"
             ],
             [
              0.7777777777777778,
              "#fb9f3a"
             ],
             [
              0.8888888888888888,
              "#fdca26"
             ],
             [
              1,
              "#f0f921"
             ]
            ],
            "type": "histogram2dcontour"
           }
          ],
          "mesh3d": [
           {
            "colorbar": {
             "outlinewidth": 0,
             "ticks": ""
            },
            "type": "mesh3d"
           }
          ],
          "parcoords": [
           {
            "line": {
             "colorbar": {
              "outlinewidth": 0,
              "ticks": ""
             }
            },
            "type": "parcoords"
           }
          ],
          "pie": [
           {
            "automargin": true,
            "type": "pie"
           }
          ],
          "scatter": [
           {
            "marker": {
             "colorbar": {
              "outlinewidth": 0,
              "ticks": ""
             }
            },
            "type": "scatter"
           }
          ],
          "scatter3d": [
           {
            "line": {
             "colorbar": {
              "outlinewidth": 0,
              "ticks": ""
             }
            },
            "marker": {
             "colorbar": {
              "outlinewidth": 0,
              "ticks": ""
             }
            },
            "type": "scatter3d"
           }
          ],
          "scattercarpet": [
           {
            "marker": {
             "colorbar": {
              "outlinewidth": 0,
              "ticks": ""
             }
            },
            "type": "scattercarpet"
           }
          ],
          "scattergeo": [
           {
            "marker": {
             "colorbar": {
              "outlinewidth": 0,
              "ticks": ""
             }
            },
            "type": "scattergeo"
           }
          ],
          "scattergl": [
           {
            "marker": {
             "colorbar": {
              "outlinewidth": 0,
              "ticks": ""
             }
            },
            "type": "scattergl"
           }
          ],
          "scattermapbox": [
           {
            "marker": {
             "colorbar": {
              "outlinewidth": 0,
              "ticks": ""
             }
            },
            "type": "scattermapbox"
           }
          ],
          "scatterpolar": [
           {
            "marker": {
             "colorbar": {
              "outlinewidth": 0,
              "ticks": ""
             }
            },
            "type": "scatterpolar"
           }
          ],
          "scatterpolargl": [
           {
            "marker": {
             "colorbar": {
              "outlinewidth": 0,
              "ticks": ""
             }
            },
            "type": "scatterpolargl"
           }
          ],
          "scatterternary": [
           {
            "marker": {
             "colorbar": {
              "outlinewidth": 0,
              "ticks": ""
             }
            },
            "type": "scatterternary"
           }
          ],
          "surface": [
           {
            "colorbar": {
             "outlinewidth": 0,
             "ticks": ""
            },
            "colorscale": [
             [
              0,
              "#0d0887"
             ],
             [
              0.1111111111111111,
              "#46039f"
             ],
             [
              0.2222222222222222,
              "#7201a8"
             ],
             [
              0.3333333333333333,
              "#9c179e"
             ],
             [
              0.4444444444444444,
              "#bd3786"
             ],
             [
              0.5555555555555556,
              "#d8576b"
             ],
             [
              0.6666666666666666,
              "#ed7953"
             ],
             [
              0.7777777777777778,
              "#fb9f3a"
             ],
             [
              0.8888888888888888,
              "#fdca26"
             ],
             [
              1,
              "#f0f921"
             ]
            ],
            "type": "surface"
           }
          ],
          "table": [
           {
            "cells": {
             "fill": {
              "color": "#EBF0F8"
             },
             "line": {
              "color": "white"
             }
            },
            "header": {
             "fill": {
              "color": "#C8D4E3"
             },
             "line": {
              "color": "white"
             }
            },
            "type": "table"
           }
          ]
         },
         "layout": {
          "annotationdefaults": {
           "arrowcolor": "#2a3f5f",
           "arrowhead": 0,
           "arrowwidth": 1
          },
          "autotypenumbers": "strict",
          "coloraxis": {
           "colorbar": {
            "outlinewidth": 0,
            "ticks": ""
           }
          },
          "colorscale": {
           "diverging": [
            [
             0,
             "#8e0152"
            ],
            [
             0.1,
             "#c51b7d"
            ],
            [
             0.2,
             "#de77ae"
            ],
            [
             0.3,
             "#f1b6da"
            ],
            [
             0.4,
             "#fde0ef"
            ],
            [
             0.5,
             "#f7f7f7"
            ],
            [
             0.6,
             "#e6f5d0"
            ],
            [
             0.7,
             "#b8e186"
            ],
            [
             0.8,
             "#7fbc41"
            ],
            [
             0.9,
             "#4d9221"
            ],
            [
             1,
             "#276419"
            ]
           ],
           "sequential": [
            [
             0,
             "#0d0887"
            ],
            [
             0.1111111111111111,
             "#46039f"
            ],
            [
             0.2222222222222222,
             "#7201a8"
            ],
            [
             0.3333333333333333,
             "#9c179e"
            ],
            [
             0.4444444444444444,
             "#bd3786"
            ],
            [
             0.5555555555555556,
             "#d8576b"
            ],
            [
             0.6666666666666666,
             "#ed7953"
            ],
            [
             0.7777777777777778,
             "#fb9f3a"
            ],
            [
             0.8888888888888888,
             "#fdca26"
            ],
            [
             1,
             "#f0f921"
            ]
           ],
           "sequentialminus": [
            [
             0,
             "#0d0887"
            ],
            [
             0.1111111111111111,
             "#46039f"
            ],
            [
             0.2222222222222222,
             "#7201a8"
            ],
            [
             0.3333333333333333,
             "#9c179e"
            ],
            [
             0.4444444444444444,
             "#bd3786"
            ],
            [
             0.5555555555555556,
             "#d8576b"
            ],
            [
             0.6666666666666666,
             "#ed7953"
            ],
            [
             0.7777777777777778,
             "#fb9f3a"
            ],
            [
             0.8888888888888888,
             "#fdca26"
            ],
            [
             1,
             "#f0f921"
            ]
           ]
          },
          "colorway": [
           "#636efa",
           "#EF553B",
           "#00cc96",
           "#ab63fa",
           "#FFA15A",
           "#19d3f3",
           "#FF6692",
           "#B6E880",
           "#FF97FF",
           "#FECB52"
          ],
          "font": {
           "color": "#2a3f5f"
          },
          "geo": {
           "bgcolor": "white",
           "lakecolor": "white",
           "landcolor": "#E5ECF6",
           "showlakes": true,
           "showland": true,
           "subunitcolor": "white"
          },
          "hoverlabel": {
           "align": "left"
          },
          "hovermode": "closest",
          "mapbox": {
           "style": "light"
          },
          "paper_bgcolor": "white",
          "plot_bgcolor": "#E5ECF6",
          "polar": {
           "angularaxis": {
            "gridcolor": "white",
            "linecolor": "white",
            "ticks": ""
           },
           "bgcolor": "#E5ECF6",
           "radialaxis": {
            "gridcolor": "white",
            "linecolor": "white",
            "ticks": ""
           }
          },
          "scene": {
           "xaxis": {
            "backgroundcolor": "#E5ECF6",
            "gridcolor": "white",
            "gridwidth": 2,
            "linecolor": "white",
            "showbackground": true,
            "ticks": "",
            "zerolinecolor": "white"
           },
           "yaxis": {
            "backgroundcolor": "#E5ECF6",
            "gridcolor": "white",
            "gridwidth": 2,
            "linecolor": "white",
            "showbackground": true,
            "ticks": "",
            "zerolinecolor": "white"
           },
           "zaxis": {
            "backgroundcolor": "#E5ECF6",
            "gridcolor": "white",
            "gridwidth": 2,
            "linecolor": "white",
            "showbackground": true,
            "ticks": "",
            "zerolinecolor": "white"
           }
          },
          "shapedefaults": {
           "line": {
            "color": "#2a3f5f"
           }
          },
          "ternary": {
           "aaxis": {
            "gridcolor": "white",
            "linecolor": "white",
            "ticks": ""
           },
           "baxis": {
            "gridcolor": "white",
            "linecolor": "white",
            "ticks": ""
           },
           "bgcolor": "#E5ECF6",
           "caxis": {
            "gridcolor": "white",
            "linecolor": "white",
            "ticks": ""
           }
          },
          "title": {
           "x": 0.05
          },
          "xaxis": {
           "automargin": true,
           "gridcolor": "white",
           "linecolor": "white",
           "ticks": "",
           "title": {
            "standoff": 15
           },
           "zerolinecolor": "white",
           "zerolinewidth": 2
          },
          "yaxis": {
           "automargin": true,
           "gridcolor": "white",
           "linecolor": "white",
           "ticks": "",
           "title": {
            "standoff": 15
           },
           "zerolinecolor": "white",
           "zerolinewidth": 2
          }
         }
        },
        "title": {
         "text": "2D Plot of Support, Confidence and Lift"
        },
        "xaxis": {
         "anchor": "y",
         "domain": [
          0,
          1
         ],
         "title": {
          "text": "support"
         },
         "type": "log"
        },
        "yaxis": {
         "anchor": "x",
         "domain": [
          0,
          1
         ],
         "title": {
          "text": "confidence"
         }
        }
       }
      },
      "text/html": [
       "<div>                            <div id=\"6b144e45-3778-4fba-bfab-f9eadd80dc4b\" class=\"plotly-graph-div\" style=\"height:800px; width:100%;\"></div>            <script type=\"text/javascript\">                require([\"plotly\"], function(Plotly) {                    window.PLOTLYENV=window.PLOTLYENV || {};                                    if (document.getElementById(\"6b144e45-3778-4fba-bfab-f9eadd80dc4b\")) {                    Plotly.newPlot(                        \"6b144e45-3778-4fba-bfab-f9eadd80dc4b\",                        [{\"customdata\": [[\"JUMBO BAG WOODLAND ANIMALS\", \"POSTAGE\"], [\"SET/6 RED SPOTTY PAPER PLATES\", \"SET/6 RED SPOTTY PAPER CUPS\"], [\"SET/6 RED SPOTTY PAPER CUPS\", \"SET/6 RED SPOTTY PAPER PLATES\"], [\"POSTAGE\", \"SET/6 RED SPOTTY PAPER CUPS\"], [\"SET/6 RED SPOTTY PAPER CUPS\", \"SET/6 RED SPOTTY PAPER PLATES\"], [\"SET OF 9 BLACK SKULL BALLOONS\", \"POSTAGE\"], [\"PACK OF 6 SKULL PAPER CUPS\", \"POSTAGE\"], [\"SET/6 RED SPOTTY PAPER PLATES\", \"SET/6 RED SPOTTY PAPER CUPS\"], [\"POSTAGE\", \"SET/6 RED SPOTTY PAPER CUPS\"], [\"TEA PARTY BIRTHDAY CARD\", \"POSTAGE\"], [\"STRAWBERRY LUNCH BOX WITH CUTLERY\", \"POSTAGE\"], [\"RED RETROSPOT PICNIC BAG\", \"POSTAGE\"], [\"ASSORTED COLOUR MINI CASES\", \"POSTAGE\"], [\"CHILDRENS CUTLERY SPACEBOY \", \"CHILDRENS CUTLERY DOLLY GIRL \"], [\"SET OF 2 TEA TOWELS APPLE AND PEARS\", \"POSTAGE\"], [\"LUNCH BAG RED RETROSPOT\", \"POSTAGE\"], [\"ALARM CLOCK BAKELIKE RED \", \"POSTAGE\"], [\"ROUND SNACK BOXES SET OF4 WOODLAND \", \"POSTAGE\"], [\"ALARM CLOCK BAKELIKE RED \", \"POSTAGE\"], [\"WOODLAND CHARLOTTE BAG\", \"POSTAGE\"], [\"ALARM CLOCK BAKELIKE RED \", \"POSTAGE\"], [\"SET/6 RED SPOTTY PAPER CUPS\", \"SET/6 RED SPOTTY PAPER PLATES\"], [\"ALARM CLOCK BAKELIKE PINK\", \"POSTAGE\"], [\"PAPER BUNTING RETROSPOT\", \"POSTAGE\"], [\"SET/6 RED SPOTTY PAPER CUPS\", \"SET/6 RED SPOTTY PAPER PLATES\"], [\"RABBIT NIGHT LIGHT\", \"POSTAGE\"], [\"CHILDRENS CUTLERY DOLLY GIRL \", \"CHILDRENS CUTLERY SPACEBOY \"], [\"ALARM CLOCK BAKELIKE PINK\", \"ALARM CLOCK BAKELIKE RED \"], [\"ALARM CLOCK BAKELIKE RED \", \"ALARM CLOCK BAKELIKE GREEN\"], [\"RED TOADSTOOL LED NIGHT LIGHT\", \"POSTAGE\"], [\"ROUND SNACK BOXES SET OF 4 FRUITS \", \"POSTAGE\"], [\"COFFEE MUG APPLES DESIGN\", \"POSTAGE\"], [\"PLASTERS IN TIN CIRCUS PARADE \", \"POSTAGE\"], [\"SET/6 RED SPOTTY PAPER CUPS\", \"POSTAGE\"], [\"LUNCH BAG WOODLAND\", \"POSTAGE\"], [\"POSTAGE\", \"ALARM CLOCK BAKELIKE RED \"], [\"ALARM CLOCK BAKELIKE GREEN\", \"POSTAGE\"], [\"RED RETROSPOT CHARLOTTE BAG\", \"POSTAGE\"], [\"JUMBO BAG RED RETROSPOT\", \"POSTAGE\"], [\"SET/6 RED SPOTTY PAPER PLATES\", \"POSTAGE\"], [\"ALARM CLOCK BAKELIKE RED \", \"ALARM CLOCK BAKELIKE GREEN\"], [\"SET/10 RED POLKADOT PARTY CANDLES\", \"POSTAGE\"], [\"SET/6 RED SPOTTY PAPER CUPS\", \"POSTAGE\"], [\"ALARM CLOCK BAKELIKE PINK\", \"POSTAGE\"], [\"SET/20 RED RETROSPOT PAPER NAPKINS \", \"POSTAGE\"], [\"PACK OF 72 RETROSPOT CAKE CASES\", \"POSTAGE\"], [\"SET/6 RED SPOTTY PAPER PLATES\", \"POSTAGE\"], [\"SET/6 RED SPOTTY PAPER CUPS\", \"POSTAGE\"], [\"PLASTERS IN TIN WOODLAND ANIMALS\", \"POSTAGE\"], [\"ALARM CLOCK BAKELIKE RED \", \"ALARM CLOCK BAKELIKE GREEN\"], [\"SET/6 RED SPOTTY PAPER CUPS\", \"POSTAGE\"], [\"LUNCH BAG APPLE DESIGN\", \"POSTAGE\"], [\"PLASTERS IN TIN SPACEBOY\", \"POSTAGE\"], [\"RED RETROSPOT MINI CASES\", \"POSTAGE\"], [\"SET/6 RED SPOTTY PAPER CUPS\", \"SET/20 RED RETROSPOT PAPER NAPKINS \"], [\"ALARM CLOCK BAKELIKE RED \", \"ALARM CLOCK BAKELIKE PINK\"], [\"PLASTERS IN TIN WOODLAND ANIMALS\", \"POSTAGE\"], [\"PLASTERS IN TIN SPACEBOY\", \"POSTAGE\"], [\"PLASTERS IN TIN SPACEBOY\", \"POSTAGE\"], [\"SET/6 RED SPOTTY PAPER PLATES\", \"SET/6 RED SPOTTY PAPER CUPS\"], [\"SET/6 RED SPOTTY PAPER CUPS\", \"POSTAGE\"], [\"POSTAGE\", \"SET/20 RED RETROSPOT PAPER NAPKINS \"], [\"SET/6 RED SPOTTY PAPER PLATES\", \"SET/20 RED RETROSPOT PAPER NAPKINS \"], [\"SET/6 RED SPOTTY PAPER PLATES\", \"SET/6 RED SPOTTY PAPER CUPS\"], [\"ALARM CLOCK BAKELIKE GREEN\", \"ALARM CLOCK BAKELIKE RED \"], [\"LUNCH BOX WITH CUTLERY RETROSPOT \", \"POSTAGE\"], [\"LUNCH BAG RED RETROSPOT\", \"POSTAGE\"], [\"POSTAGE\", \"SET/20 RED RETROSPOT PAPER NAPKINS \"], [\"ALARM CLOCK BAKELIKE RED \", \"ALARM CLOCK BAKELIKE PINK\"], [\"PLASTERS IN TIN STRONGMAN\", \"POSTAGE\"], [\"MINI PAINT SET VINTAGE \", \"POSTAGE\"], [\"SET/6 RED SPOTTY PAPER PLATES\", \"SET/6 RED SPOTTY PAPER CUPS\"], [\"REGENCY CAKESTAND 3 TIER\", \"POSTAGE\"], [\"SPACEBOY LUNCH BOX \", \"POSTAGE\"], [\"SET/20 RED RETROSPOT PAPER NAPKINS \", \"SET/6 RED SPOTTY PAPER PLATES\"], [\"SET/20 RED RETROSPOT PAPER NAPKINS \", \"SET/6 RED SPOTTY PAPER CUPS\"], [\"POSTAGE\", \"SET/6 RED SPOTTY PAPER PLATES\"], [\"POSTAGE\", \"SET/6 RED SPOTTY PAPER CUPS\"], [\"ALARM CLOCK BAKELIKE RED \", \"ALARM CLOCK BAKELIKE PINK\"], [\"POSTAGE\", \"SET/6 RED SPOTTY PAPER CUPS\"], [\"ALARM CLOCK BAKELIKE RED \", \"POSTAGE\"], [\"PLASTERS IN TIN SPACEBOY\", \"PLASTERS IN TIN WOODLAND ANIMALS\"], [\"SET/20 RED RETROSPOT PAPER NAPKINS \", \"SET/6 RED SPOTTY PAPER CUPS\"], [\"LUNCH BAG SPACEBOY DESIGN \", \"POSTAGE\"], [\"PLASTERS IN TIN SPACEBOY\", \"PLASTERS IN TIN WOODLAND ANIMALS\"], [\"POSTAGE\", \"SET/6 RED SPOTTY PAPER CUPS\"], [\"ALARM CLOCK BAKELIKE GREEN\", \"ALARM CLOCK BAKELIKE PINK\"], [\"ALARM CLOCK BAKELIKE PINK\", \"ALARM CLOCK BAKELIKE RED \"], [\"SET/6 RED SPOTTY PAPER CUPS\", \"POSTAGE\"], [\"SET/6 RED SPOTTY PAPER CUPS\", \"SET/20 RED RETROSPOT PAPER NAPKINS \"], [\"PLASTERS IN TIN SPACEBOY\", \"PLASTERS IN TIN WOODLAND ANIMALS\"], [\"POSTAGE\", \"ALARM CLOCK BAKELIKE PINK\"], [\"ALARM CLOCK BAKELIKE PINK\", \"ALARM CLOCK BAKELIKE GREEN\"], [\"ALARM CLOCK BAKELIKE PINK\", \"ALARM CLOCK BAKELIKE RED \"], [\"DOLLY GIRL LUNCH BOX\", \"POSTAGE\"], [\"SET/6 RED SPOTTY PAPER CUPS\", \"SET/6 RED SPOTTY PAPER PLATES\"], [\"ALARM CLOCK BAKELIKE GREEN\", \"ALARM CLOCK BAKELIKE RED \"], [\"SET/6 RED SPOTTY PAPER CUPS\", \"SET/20 RED RETROSPOT PAPER NAPKINS \"], [\"ALARM CLOCK BAKELIKE RED \", \"ALARM CLOCK BAKELIKE PINK\"], [\"DOLLY GIRL LUNCH BOX\", \"SPACEBOY LUNCH BOX \"], [\"SET/6 RED SPOTTY PAPER CUPS\", \"SET/6 RED SPOTTY PAPER PLATES\"], [\"ALARM CLOCK BAKELIKE PINK\", \"ALARM CLOCK BAKELIKE GREEN\"], [\"ALARM CLOCK BAKELIKE RED \", \"ALARM CLOCK BAKELIKE PINK\"], [\"PLASTERS IN TIN WOODLAND ANIMALS\", \"PLASTERS IN TIN SPACEBOY\"], [\"SET/6 RED SPOTTY PAPER CUPS\", \"POSTAGE\"], [\"SET/6 RED SPOTTY PAPER PLATES\", \"POSTAGE\"], [\"PLASTERS IN TIN SPACEBOY\", \"PLASTERS IN TIN CIRCUS PARADE \"], [\"PLASTERS IN TIN SPACEBOY\", \"PLASTERS IN TIN CIRCUS PARADE \"], [\"ALARM CLOCK BAKELIKE PINK\", \"ALARM CLOCK BAKELIKE RED \"], [\"PLASTERS IN TIN SPACEBOY\", \"PLASTERS IN TIN CIRCUS PARADE \"], [\"ALARM CLOCK BAKELIKE GREEN\", \"ALARM CLOCK BAKELIKE RED \"], [\"SET/6 RED SPOTTY PAPER PLATES\", \"SET/6 RED SPOTTY PAPER CUPS\"], [\"SET/20 RED RETROSPOT PAPER NAPKINS \", \"SET/6 RED SPOTTY PAPER CUPS\"], [\"SET/20 RED RETROSPOT PAPER NAPKINS \", \"POSTAGE\"], [\"ALARM CLOCK BAKELIKE PINK\", \"ALARM CLOCK BAKELIKE RED \"], [\"SET/20 RED RETROSPOT PAPER NAPKINS \", \"POSTAGE\"], [\"ALARM CLOCK BAKELIKE GREEN\", \"ALARM CLOCK BAKELIKE PINK\"], [\"PLASTERS IN TIN WOODLAND ANIMALS\", \"PLASTERS IN TIN SPACEBOY\"], [\"SET/6 RED SPOTTY PAPER CUPS\", \"POSTAGE\"], [\"PLASTERS IN TIN WOODLAND ANIMALS\", \"PLASTERS IN TIN SPACEBOY\"], [\"PLASTERS IN TIN WOODLAND ANIMALS\", \"PLASTERS IN TIN CIRCUS PARADE \"], [\"ALARM CLOCK BAKELIKE PINK\", \"POSTAGE\"], [\"PLASTERS IN TIN SPACEBOY\", \"PLASTERS IN TIN WOODLAND ANIMALS\"], [\"PLASTERS IN TIN WOODLAND ANIMALS\", \"PLASTERS IN TIN CIRCUS PARADE \"], [\"SET/6 RED SPOTTY PAPER CUPS\", \"POSTAGE\"], [\"PLASTERS IN TIN CIRCUS PARADE \", \"PLASTERS IN TIN WOODLAND ANIMALS\"], [\"LUNCH BAG APPLE DESIGN\", \"LUNCH BAG RED RETROSPOT\"], [\"ROUND SNACK BOXES SET OF 4 FRUITS \", \"ROUND SNACK BOXES SET OF4 WOODLAND \"], [\"SPACEBOY LUNCH BOX \", \"DOLLY GIRL LUNCH BOX\"], [\"POSTAGE\", \"PLASTERS IN TIN WOODLAND ANIMALS\"], [\"LUNCH BAG WOODLAND\", \"LUNCH BAG SPACEBOY DESIGN \"], [\"LUNCH BAG SPACEBOY DESIGN \", \"LUNCH BAG WOODLAND\"], [\"LUNCH BAG SPACEBOY DESIGN \", \"LUNCH BAG RED RETROSPOT\"], [\"LUNCH BAG SPACEBOY DESIGN \", \"LUNCH BAG APPLE DESIGN\"], [\"PLASTERS IN TIN CIRCUS PARADE \", \"PLASTERS IN TIN SPACEBOY\"], [\"PLASTERS IN TIN SPACEBOY\", \"POSTAGE\"], [\"STRAWBERRY LUNCH BOX WITH CUTLERY\", \"LUNCH BOX WITH CUTLERY RETROSPOT \"], [\"LUNCH BAG APPLE DESIGN\", \"LUNCH BAG RED RETROSPOT\"], [\"LUNCH BAG APPLE DESIGN\", \"LUNCH BAG SPACEBOY DESIGN \"], [\"POSTAGE\", \"PLASTERS IN TIN SPACEBOY\"], [\"LUNCH BAG RED RETROSPOT\", \"LUNCH BAG APPLE DESIGN\"]], \"hovertemplate\": \"support=%{x}<br>confidence=%{y}<br>antecedents_short=%{text}<br>antecedents=%{customdata[0]}<br>consequents=%{customdata[1]}<br>lift=%{marker.color}<extra></extra>\", \"legendgroup\": \"\", \"marker\": {\"color\": [1.4823, 8.3236, 8.9895, 8.2783, 8.9406, 1.4253, 1.423, 8.1956, 8.1305, 1.4022, 1.3897, 1.3801, 1.3725, 14.719, 1.3725, 1.3683, 1.3621, 1.3433, 1.3389, 1.329, 1.329, 8.1956, 1.297, 1.297, 8.0174, 1.2847, 14.719, 10.7409, 10.1901, 1.2764, 1.2755, 1.2706, 1.2643, 1.2627, 1.2615, 10.5717, 1.2543, 1.2483, 1.2483, 1.2451, 9.9037, 1.2353, 1.2353, 1.2267, 1.2258, 1.2229, 1.2229, 1.2229, 1.2229, 9.7345, 1.2163, 1.2155, 1.2128, 1.2128, 7.2031, 9.2944, 1.1947, 1.1941, 1.1931, 8.0174, 8.781, 7.0923, 7.0923, 8.0174, 9.9037, 1.1702, 1.1664, 6.9657, 9.0331, 1.1581, 1.1569, 8.9895, 1.1529, 1.1496, 7.0923, 6.567, 7.0758, 6.5517, 8.8132, 8.781, 10.5717, 5.1604, 7.2031, 1.1117, 5.1292, 7.1473, 8.5699, 9.2556, 8.1305, 6.567, 5.0458, 8.3818, 8.5699, 9.0331, 1.0747, 8.3236, 9.7345, 6.3599, 9.2556, 6.5857, 8.0174, 8.1055, 10.7409, 5.6577, 7.1473, 7.0758, 4.4645, 4.4374, 8.8132, 4.369, 10.1901, 8.9406, 6.3599, 6.9657, 9.2944, 7.0923, 8.1055, 5.1292, 6.5517, 5.1222, 4.143, 8.3818, 5.1222, 4.0474, 8.2783, 4.0474, 4.4238, 4.1879, 6.5857, 3.9148, 5.3129, 5.3129, 4.0936, 4.9942, 4.4374, 4.1909, 4.2124, 3.9298, 4.9942, 4.1909, 4.61], \"coloraxis\": \"coloraxis\", \"opacity\": 0.5, \"symbol\": \"circle\"}, \"mode\": \"markers+text\", \"name\": \"\", \"orientation\": \"v\", \"showlegend\": false, \"text\": [\"JUMBO BAG \", \"SET/6 RED \", \"SET/6 RED \", \"POSTAGE\", \"SET/6 RED \", \"SET OF 9 B\", \"PACK OF 6 \", \"SET/6 RED \", \"POSTAGE\", \"TEA PARTY \", \"STRAWBERRY\", \"RED RETROS\", \"ASSORTED C\", \"CHILDRENS \", \"SET OF 2 T\", \"LUNCH BAG \", \"ALARM CLOC\", \"ROUND SNAC\", \"ALARM CLOC\", \"WOODLAND C\", \"ALARM CLOC\", \"SET/6 RED \", \"ALARM CLOC\", \"PAPER BUNT\", \"SET/6 RED \", \"RABBIT NIG\", \"CHILDRENS \", \"ALARM CLOC\", \"ALARM CLOC\", \"RED TOADST\", \"ROUND SNAC\", \"COFFEE MUG\", \"PLASTERS I\", \"SET/6 RED \", \"LUNCH BAG \", \"POSTAGE\", \"ALARM CLOC\", \"RED RETROS\", \"JUMBO BAG \", \"SET/6 RED \", \"ALARM CLOC\", \"SET/10 RED\", \"SET/6 RED \", \"ALARM CLOC\", \"SET/20 RED\", \"PACK OF 72\", \"SET/6 RED \", \"SET/6 RED \", \"PLASTERS I\", \"ALARM CLOC\", \"SET/6 RED \", \"LUNCH BAG \", \"PLASTERS I\", \"RED RETROS\", \"SET/6 RED \", \"ALARM CLOC\", \"PLASTERS I\", \"PLASTERS I\", \"PLASTERS I\", \"SET/6 RED \", \"SET/6 RED \", \"POSTAGE\", \"SET/6 RED \", \"SET/6 RED \", \"ALARM CLOC\", \"LUNCH BOX \", \"LUNCH BAG \", \"POSTAGE\", \"ALARM CLOC\", \"PLASTERS I\", \"MINI PAINT\", \"SET/6 RED \", \"REGENCY CA\", \"SPACEBOY L\", \"SET/20 RED\", \"SET/20 RED\", \"POSTAGE\", \"POSTAGE\", \"ALARM CLOC\", \"POSTAGE\", \"ALARM CLOC\", \"PLASTERS I\", \"SET/20 RED\", \"LUNCH BAG \", \"PLASTERS I\", \"POSTAGE\", \"ALARM CLOC\", \"ALARM CLOC\", \"SET/6 RED \", \"SET/6 RED \", \"PLASTERS I\", \"POSTAGE\", \"ALARM CLOC\", \"ALARM CLOC\", \"DOLLY GIRL\", \"SET/6 RED \", \"ALARM CLOC\", \"SET/6 RED \", \"ALARM CLOC\", \"DOLLY GIRL\", \"SET/6 RED \", \"ALARM CLOC\", \"ALARM CLOC\", \"PLASTERS I\", \"SET/6 RED \", \"SET/6 RED \", \"PLASTERS I\", \"PLASTERS I\", \"ALARM CLOC\", \"PLASTERS I\", \"ALARM CLOC\", \"SET/6 RED \", \"SET/20 RED\", \"SET/20 RED\", \"ALARM CLOC\", \"SET/20 RED\", \"ALARM CLOC\", \"PLASTERS I\", \"SET/6 RED \", \"PLASTERS I\", \"PLASTERS I\", \"ALARM CLOC\", \"PLASTERS I\", \"PLASTERS I\", \"SET/6 RED \", \"PLASTERS I\", \"LUNCH BAG \", \"ROUND SNAC\", \"SPACEBOY L\", \"POSTAGE\", \"LUNCH BAG \", \"LUNCH BAG \", \"LUNCH BAG \", \"LUNCH BAG \", \"PLASTERS I\", \"PLASTERS I\", \"STRAWBERRY\", \"LUNCH BAG \", \"LUNCH BAG \", \"POSTAGE\", \"LUNCH BAG \"], \"textposition\": \"top center\", \"type\": \"scatter\", \"x\": [0.0651, 0.0846, 0.0846, 0.0694, 0.0694, 0.0542, 0.0521, 0.1041, 0.0868, 0.0759, 0.0976, 0.0586, 0.0542, 0.0542, 0.0542, 0.0521, 0.0738, 0.1258, 0.0607, 0.0564, 0.0564, 0.1041, 0.0759, 0.0607, 0.0868, 0.141, 0.0542, 0.0542, 0.0542, 0.1345, 0.0803, 0.0521, 0.1258, 0.0998, 0.0868, 0.0607, 0.0716, 0.0694, 0.0694, 0.0911, 0.0672, 0.0542, 0.0868, 0.0521, 0.0933, 0.0716, 0.0716, 0.0716, 0.0716, 0.0607, 0.0694, 0.0889, 0.0976, 0.0976, 0.0846, 0.0542, 0.1171, 0.0629, 0.0716, 0.0694, 0.0694, 0.0694, 0.0868, 0.0868, 0.0672, 0.0976, 0.1041, 0.0716, 0.0629, 0.0542, 0.0694, 0.0846, 0.0911, 0.0824, 0.0868, 0.0868, 0.0716, 0.0716, 0.0564, 0.0694, 0.0607, 0.0586, 0.0846, 0.0781, 0.0889, 0.0694, 0.0629, 0.0564, 0.0868, 0.0868, 0.0716, 0.0521, 0.0629, 0.0629, 0.0629, 0.0846, 0.0607, 0.0716, 0.0564, 0.0607, 0.0694, 0.0521, 0.0542, 0.0586, 0.0694, 0.0716, 0.0586, 0.0781, 0.0564, 0.0629, 0.0542, 0.0694, 0.0716, 0.0716, 0.0542, 0.0694, 0.0521, 0.0889, 0.0716, 0.0716, 0.0716, 0.0521, 0.0716, 0.0868, 0.0694, 0.0868, 0.0521, 0.0542, 0.0607, 0.0716, 0.0564, 0.0564, 0.0564, 0.0564, 0.0781, 0.0629, 0.0542, 0.0564, 0.0564, 0.0629, 0.0521], \"xaxis\": \"x\", \"y\": [1.0, 0.975, 0.975, 0.9697, 0.9697, 0.9615, 0.96, 0.96, 0.9524, 0.9459, 0.9375, 0.931, 0.9259, 0.9259, 0.9259, 0.9231, 0.9189, 0.9063, 0.9032, 0.8966, 0.8966, 0.8889, 0.875, 0.875, 0.8696, 0.8667, 0.8621, 0.8621, 0.8621, 0.8611, 0.8605, 0.8571, 0.8529, 0.8519, 0.8511, 0.8485, 0.8462, 0.8421, 0.8421, 0.84, 0.8378, 0.8333, 0.8333, 0.8276, 0.8269, 0.825, 0.825, 0.825, 0.825, 0.8235, 0.8205, 0.82, 0.8182, 0.8182, 0.8125, 0.8065, 0.806, 0.8056, 0.8049, 0.8, 0.8, 0.8, 0.8, 0.8, 0.7949, 0.7895, 0.7869, 0.7857, 0.7838, 0.7812, 0.7805, 0.78, 0.7778, 0.7755, 0.7692, 0.7692, 0.7674, 0.7674, 0.7647, 0.7619, 0.7568, 0.75, 0.75, 0.75, 0.7455, 0.7442, 0.7436, 0.7429, 0.7407, 0.7407, 0.7333, 0.7273, 0.725, 0.725, 0.725, 0.7222, 0.7179, 0.7174, 0.7027, 0.7, 0.6957, 0.6857, 0.6757, 0.675, 0.6667, 0.66, 0.6585, 0.6545, 0.65, 0.6444, 0.641, 0.64, 0.6346, 0.6346, 0.625, 0.6154, 0.6154, 0.6119, 0.6111, 0.6111, 0.6111, 0.6, 0.6, 0.597, 0.5926, 0.5882, 0.5854, 0.5814, 0.5714, 0.569, 0.5532, 0.5417, 0.5417, 0.5417, 0.5294, 0.5273, 0.5208, 0.52, 0.52, 0.5, 0.5], \"yaxis\": \"y\"}],                        {\"coloraxis\": {\"colorbar\": {\"title\": {\"text\": \"lift\"}}, \"colorscale\": [[0.0, \"#0d0887\"], [0.1111111111111111, \"#46039f\"], [0.2222222222222222, \"#7201a8\"], [0.3333333333333333, \"#9c179e\"], [0.4444444444444444, \"#bd3786\"], [0.5555555555555556, \"#d8576b\"], [0.6666666666666666, \"#ed7953\"], [0.7777777777777778, \"#fb9f3a\"], [0.8888888888888888, \"#fdca26\"], [1.0, \"#f0f921\"]]}, \"height\": 800, \"legend\": {\"tracegroupgap\": 0}, \"margin\": {\"t\": 60}, \"plot_bgcolor\": \"rgb(240,240,240)\", \"template\": {\"data\": {\"bar\": [{\"error_x\": {\"color\": \"#2a3f5f\"}, \"error_y\": {\"color\": \"#2a3f5f\"}, \"marker\": {\"line\": {\"color\": \"#E5ECF6\", \"width\": 0.5}}, \"type\": \"bar\"}], \"barpolar\": [{\"marker\": {\"line\": {\"color\": \"#E5ECF6\", \"width\": 0.5}}, \"type\": \"barpolar\"}], \"carpet\": [{\"aaxis\": {\"endlinecolor\": \"#2a3f5f\", \"gridcolor\": \"white\", \"linecolor\": \"white\", \"minorgridcolor\": \"white\", \"startlinecolor\": \"#2a3f5f\"}, \"baxis\": {\"endlinecolor\": \"#2a3f5f\", \"gridcolor\": \"white\", \"linecolor\": \"white\", \"minorgridcolor\": \"white\", \"startlinecolor\": \"#2a3f5f\"}, \"type\": \"carpet\"}], \"choropleth\": [{\"colorbar\": {\"outlinewidth\": 0, \"ticks\": \"\"}, \"type\": \"choropleth\"}], \"contour\": [{\"colorbar\": {\"outlinewidth\": 0, \"ticks\": \"\"}, \"colorscale\": [[0.0, \"#0d0887\"], [0.1111111111111111, \"#46039f\"], [0.2222222222222222, \"#7201a8\"], [0.3333333333333333, \"#9c179e\"], [0.4444444444444444, \"#bd3786\"], [0.5555555555555556, \"#d8576b\"], [0.6666666666666666, \"#ed7953\"], [0.7777777777777778, \"#fb9f3a\"], [0.8888888888888888, \"#fdca26\"], [1.0, \"#f0f921\"]], \"type\": \"contour\"}], \"contourcarpet\": [{\"colorbar\": {\"outlinewidth\": 0, \"ticks\": \"\"}, \"type\": \"contourcarpet\"}], \"heatmap\": [{\"colorbar\": {\"outlinewidth\": 0, \"ticks\": \"\"}, \"colorscale\": [[0.0, \"#0d0887\"], [0.1111111111111111, \"#46039f\"], [0.2222222222222222, \"#7201a8\"], [0.3333333333333333, \"#9c179e\"], [0.4444444444444444, \"#bd3786\"], [0.5555555555555556, \"#d8576b\"], [0.6666666666666666, \"#ed7953\"], [0.7777777777777778, \"#fb9f3a\"], [0.8888888888888888, \"#fdca26\"], [1.0, \"#f0f921\"]], \"type\": \"heatmap\"}], \"heatmapgl\": [{\"colorbar\": {\"outlinewidth\": 0, \"ticks\": \"\"}, \"colorscale\": [[0.0, \"#0d0887\"], [0.1111111111111111, \"#46039f\"], [0.2222222222222222, \"#7201a8\"], [0.3333333333333333, \"#9c179e\"], [0.4444444444444444, \"#bd3786\"], [0.5555555555555556, \"#d8576b\"], [0.6666666666666666, \"#ed7953\"], [0.7777777777777778, \"#fb9f3a\"], [0.8888888888888888, \"#fdca26\"], [1.0, \"#f0f921\"]], \"type\": \"heatmapgl\"}], \"histogram\": [{\"marker\": {\"colorbar\": {\"outlinewidth\": 0, \"ticks\": \"\"}}, \"type\": \"histogram\"}], \"histogram2d\": [{\"colorbar\": {\"outlinewidth\": 0, \"ticks\": \"\"}, \"colorscale\": [[0.0, \"#0d0887\"], [0.1111111111111111, \"#46039f\"], [0.2222222222222222, \"#7201a8\"], [0.3333333333333333, \"#9c179e\"], [0.4444444444444444, \"#bd3786\"], [0.5555555555555556, \"#d8576b\"], [0.6666666666666666, \"#ed7953\"], [0.7777777777777778, \"#fb9f3a\"], [0.8888888888888888, \"#fdca26\"], [1.0, \"#f0f921\"]], \"type\": \"histogram2d\"}], \"histogram2dcontour\": [{\"colorbar\": {\"outlinewidth\": 0, \"ticks\": \"\"}, \"colorscale\": [[0.0, \"#0d0887\"], [0.1111111111111111, \"#46039f\"], [0.2222222222222222, \"#7201a8\"], [0.3333333333333333, \"#9c179e\"], [0.4444444444444444, \"#bd3786\"], [0.5555555555555556, \"#d8576b\"], [0.6666666666666666, \"#ed7953\"], [0.7777777777777778, \"#fb9f3a\"], [0.8888888888888888, \"#fdca26\"], [1.0, \"#f0f921\"]], \"type\": \"histogram2dcontour\"}], \"mesh3d\": [{\"colorbar\": {\"outlinewidth\": 0, \"ticks\": \"\"}, \"type\": \"mesh3d\"}], \"parcoords\": [{\"line\": {\"colorbar\": {\"outlinewidth\": 0, \"ticks\": \"\"}}, \"type\": \"parcoords\"}], \"pie\": [{\"automargin\": true, \"type\": \"pie\"}], \"scatter\": [{\"marker\": {\"colorbar\": {\"outlinewidth\": 0, \"ticks\": \"\"}}, \"type\": \"scatter\"}], \"scatter3d\": [{\"line\": {\"colorbar\": {\"outlinewidth\": 0, \"ticks\": \"\"}}, \"marker\": {\"colorbar\": {\"outlinewidth\": 0, \"ticks\": \"\"}}, \"type\": \"scatter3d\"}], \"scattercarpet\": [{\"marker\": {\"colorbar\": {\"outlinewidth\": 0, \"ticks\": \"\"}}, \"type\": \"scattercarpet\"}], \"scattergeo\": [{\"marker\": {\"colorbar\": {\"outlinewidth\": 0, \"ticks\": \"\"}}, \"type\": \"scattergeo\"}], \"scattergl\": [{\"marker\": {\"colorbar\": {\"outlinewidth\": 0, \"ticks\": \"\"}}, \"type\": \"scattergl\"}], \"scattermapbox\": [{\"marker\": {\"colorbar\": {\"outlinewidth\": 0, \"ticks\": \"\"}}, \"type\": \"scattermapbox\"}], \"scatterpolar\": [{\"marker\": {\"colorbar\": {\"outlinewidth\": 0, \"ticks\": \"\"}}, \"type\": \"scatterpolar\"}], \"scatterpolargl\": [{\"marker\": {\"colorbar\": {\"outlinewidth\": 0, \"ticks\": \"\"}}, \"type\": \"scatterpolargl\"}], \"scatterternary\": [{\"marker\": {\"colorbar\": {\"outlinewidth\": 0, \"ticks\": \"\"}}, \"type\": \"scatterternary\"}], \"surface\": [{\"colorbar\": {\"outlinewidth\": 0, \"ticks\": \"\"}, \"colorscale\": [[0.0, \"#0d0887\"], [0.1111111111111111, \"#46039f\"], [0.2222222222222222, \"#7201a8\"], [0.3333333333333333, \"#9c179e\"], [0.4444444444444444, \"#bd3786\"], [0.5555555555555556, \"#d8576b\"], [0.6666666666666666, \"#ed7953\"], [0.7777777777777778, \"#fb9f3a\"], [0.8888888888888888, \"#fdca26\"], [1.0, \"#f0f921\"]], \"type\": \"surface\"}], \"table\": [{\"cells\": {\"fill\": {\"color\": \"#EBF0F8\"}, \"line\": {\"color\": \"white\"}}, \"header\": {\"fill\": {\"color\": \"#C8D4E3\"}, \"line\": {\"color\": \"white\"}}, \"type\": \"table\"}]}, \"layout\": {\"annotationdefaults\": {\"arrowcolor\": \"#2a3f5f\", \"arrowhead\": 0, \"arrowwidth\": 1}, \"autotypenumbers\": \"strict\", \"coloraxis\": {\"colorbar\": {\"outlinewidth\": 0, \"ticks\": \"\"}}, \"colorscale\": {\"diverging\": [[0, \"#8e0152\"], [0.1, \"#c51b7d\"], [0.2, \"#de77ae\"], [0.3, \"#f1b6da\"], [0.4, \"#fde0ef\"], [0.5, \"#f7f7f7\"], [0.6, \"#e6f5d0\"], [0.7, \"#b8e186\"], [0.8, \"#7fbc41\"], [0.9, \"#4d9221\"], [1, \"#276419\"]], \"sequential\": [[0.0, \"#0d0887\"], [0.1111111111111111, \"#46039f\"], [0.2222222222222222, \"#7201a8\"], [0.3333333333333333, \"#9c179e\"], [0.4444444444444444, \"#bd3786\"], [0.5555555555555556, \"#d8576b\"], [0.6666666666666666, \"#ed7953\"], [0.7777777777777778, \"#fb9f3a\"], [0.8888888888888888, \"#fdca26\"], [1.0, \"#f0f921\"]], \"sequentialminus\": [[0.0, \"#0d0887\"], [0.1111111111111111, \"#46039f\"], [0.2222222222222222, \"#7201a8\"], [0.3333333333333333, \"#9c179e\"], [0.4444444444444444, \"#bd3786\"], [0.5555555555555556, \"#d8576b\"], [0.6666666666666666, \"#ed7953\"], [0.7777777777777778, \"#fb9f3a\"], [0.8888888888888888, \"#fdca26\"], [1.0, \"#f0f921\"]]}, \"colorway\": [\"#636efa\", \"#EF553B\", \"#00cc96\", \"#ab63fa\", \"#FFA15A\", \"#19d3f3\", \"#FF6692\", \"#B6E880\", \"#FF97FF\", \"#FECB52\"], \"font\": {\"color\": \"#2a3f5f\"}, \"geo\": {\"bgcolor\": \"white\", \"lakecolor\": \"white\", \"landcolor\": \"#E5ECF6\", \"showlakes\": true, \"showland\": true, \"subunitcolor\": \"white\"}, \"hoverlabel\": {\"align\": \"left\"}, \"hovermode\": \"closest\", \"mapbox\": {\"style\": \"light\"}, \"paper_bgcolor\": \"white\", \"plot_bgcolor\": \"#E5ECF6\", \"polar\": {\"angularaxis\": {\"gridcolor\": \"white\", \"linecolor\": \"white\", \"ticks\": \"\"}, \"bgcolor\": \"#E5ECF6\", \"radialaxis\": {\"gridcolor\": \"white\", \"linecolor\": \"white\", \"ticks\": \"\"}}, \"scene\": {\"xaxis\": {\"backgroundcolor\": \"#E5ECF6\", \"gridcolor\": \"white\", \"gridwidth\": 2, \"linecolor\": \"white\", \"showbackground\": true, \"ticks\": \"\", \"zerolinecolor\": \"white\"}, \"yaxis\": {\"backgroundcolor\": \"#E5ECF6\", \"gridcolor\": \"white\", \"gridwidth\": 2, \"linecolor\": \"white\", \"showbackground\": true, \"ticks\": \"\", \"zerolinecolor\": \"white\"}, \"zaxis\": {\"backgroundcolor\": \"#E5ECF6\", \"gridcolor\": \"white\", \"gridwidth\": 2, \"linecolor\": \"white\", \"showbackground\": true, \"ticks\": \"\", \"zerolinecolor\": \"white\"}}, \"shapedefaults\": {\"line\": {\"color\": \"#2a3f5f\"}}, \"ternary\": {\"aaxis\": {\"gridcolor\": \"white\", \"linecolor\": \"white\", \"ticks\": \"\"}, \"baxis\": {\"gridcolor\": \"white\", \"linecolor\": \"white\", \"ticks\": \"\"}, \"bgcolor\": \"#E5ECF6\", \"caxis\": {\"gridcolor\": \"white\", \"linecolor\": \"white\", \"ticks\": \"\"}}, \"title\": {\"x\": 0.05}, \"xaxis\": {\"automargin\": true, \"gridcolor\": \"white\", \"linecolor\": \"white\", \"ticks\": \"\", \"title\": {\"standoff\": 15}, \"zerolinecolor\": \"white\", \"zerolinewidth\": 2}, \"yaxis\": {\"automargin\": true, \"gridcolor\": \"white\", \"linecolor\": \"white\", \"ticks\": \"\", \"title\": {\"standoff\": 15}, \"zerolinecolor\": \"white\", \"zerolinewidth\": 2}}}, \"title\": {\"text\": \"2D Plot of Support, Confidence and Lift\"}, \"xaxis\": {\"anchor\": \"y\", \"domain\": [0.0, 1.0], \"title\": {\"text\": \"support\"}, \"type\": \"log\"}, \"yaxis\": {\"anchor\": \"x\", \"domain\": [0.0, 1.0], \"title\": {\"text\": \"confidence\"}}},                        {\"responsive\": true}                    ).then(function(){\n",
       "                            \n",
       "var gd = document.getElementById('6b144e45-3778-4fba-bfab-f9eadd80dc4b');\n",
       "var x = new MutationObserver(function (mutations, observer) {{\n",
       "        var display = window.getComputedStyle(gd).display;\n",
       "        if (!display || display === 'none') {{\n",
       "            console.log([gd, 'removed!']);\n",
       "            Plotly.purge(gd);\n",
       "            observer.disconnect();\n",
       "        }}\n",
       "}});\n",
       "\n",
       "// Listen for the removal of the full notebook cells\n",
       "var notebookContainer = gd.closest('#notebook-container');\n",
       "if (notebookContainer) {{\n",
       "    x.observe(notebookContainer, {childList: true});\n",
       "}}\n",
       "\n",
       "// Listen for the clearing of the current output cell\n",
       "var outputEl = gd.closest('.output');\n",
       "if (outputEl) {{\n",
       "    x.observe(outputEl, {childList: true});\n",
       "}}\n",
       "\n",
       "                        })                };                });            </script>        </div>"
      ]
     },
     "metadata": {},
     "output_type": "display_data"
    }
   ],
   "source": [
    "plot_model(model)"
   ]
  },
  {
   "cell_type": "code",
   "execution_count": 67,
   "metadata": {},
   "outputs": [
    {
     "data": {
      "text/html": [
       "        <script type=\"text/javascript\">\n",
       "        window.PlotlyConfig = {MathJaxConfig: 'local'};\n",
       "        if (window.MathJax) {MathJax.Hub.Config({SVG: {font: \"STIX-Web\"}});}\n",
       "        if (typeof require !== 'undefined') {\n",
       "        require.undef(\"plotly\");\n",
       "        requirejs.config({\n",
       "            paths: {\n",
       "                'plotly': ['https://cdn.plot.ly/plotly-latest.min']\n",
       "            }\n",
       "        });\n",
       "        require(['plotly'], function(Plotly) {\n",
       "            window._Plotly = Plotly;\n",
       "        });\n",
       "        }\n",
       "        </script>\n",
       "        "
      ]
     },
     "metadata": {},
     "output_type": "display_data"
    },
    {
     "data": {
      "application/vnd.plotly.v1+json": {
       "config": {
        "plotlyServerURL": "https://plot.ly"
       },
       "data": [
        {
         "customdata": [
          [
           "JUMBO BAG WOODLAND ANIMALS",
           "POSTAGE"
          ],
          [
           "SET/6 RED SPOTTY PAPER PLATES",
           "SET/6 RED SPOTTY PAPER CUPS"
          ],
          [
           "SET/6 RED SPOTTY PAPER CUPS",
           "SET/6 RED SPOTTY PAPER PLATES"
          ],
          [
           "POSTAGE",
           "SET/6 RED SPOTTY PAPER CUPS"
          ],
          [
           "SET/6 RED SPOTTY PAPER CUPS",
           "SET/6 RED SPOTTY PAPER PLATES"
          ],
          [
           "SET OF 9 BLACK SKULL BALLOONS",
           "POSTAGE"
          ],
          [
           "PACK OF 6 SKULL PAPER CUPS",
           "POSTAGE"
          ],
          [
           "SET/6 RED SPOTTY PAPER PLATES",
           "SET/6 RED SPOTTY PAPER CUPS"
          ],
          [
           "POSTAGE",
           "SET/6 RED SPOTTY PAPER CUPS"
          ],
          [
           "TEA PARTY BIRTHDAY CARD",
           "POSTAGE"
          ],
          [
           "STRAWBERRY LUNCH BOX WITH CUTLERY",
           "POSTAGE"
          ],
          [
           "RED RETROSPOT PICNIC BAG",
           "POSTAGE"
          ],
          [
           "ASSORTED COLOUR MINI CASES",
           "POSTAGE"
          ],
          [
           "CHILDRENS CUTLERY SPACEBOY ",
           "CHILDRENS CUTLERY DOLLY GIRL "
          ],
          [
           "SET OF 2 TEA TOWELS APPLE AND PEARS",
           "POSTAGE"
          ],
          [
           "LUNCH BAG RED RETROSPOT",
           "POSTAGE"
          ],
          [
           "ALARM CLOCK BAKELIKE RED ",
           "POSTAGE"
          ],
          [
           "ROUND SNACK BOXES SET OF4 WOODLAND ",
           "POSTAGE"
          ],
          [
           "ALARM CLOCK BAKELIKE RED ",
           "POSTAGE"
          ],
          [
           "WOODLAND CHARLOTTE BAG",
           "POSTAGE"
          ],
          [
           "ALARM CLOCK BAKELIKE RED ",
           "POSTAGE"
          ],
          [
           "SET/6 RED SPOTTY PAPER CUPS",
           "SET/6 RED SPOTTY PAPER PLATES"
          ],
          [
           "ALARM CLOCK BAKELIKE PINK",
           "POSTAGE"
          ],
          [
           "PAPER BUNTING RETROSPOT",
           "POSTAGE"
          ],
          [
           "SET/6 RED SPOTTY PAPER CUPS",
           "SET/6 RED SPOTTY PAPER PLATES"
          ],
          [
           "RABBIT NIGHT LIGHT",
           "POSTAGE"
          ],
          [
           "CHILDRENS CUTLERY DOLLY GIRL ",
           "CHILDRENS CUTLERY SPACEBOY "
          ],
          [
           "ALARM CLOCK BAKELIKE PINK",
           "ALARM CLOCK BAKELIKE RED "
          ],
          [
           "ALARM CLOCK BAKELIKE RED ",
           "ALARM CLOCK BAKELIKE GREEN"
          ],
          [
           "RED TOADSTOOL LED NIGHT LIGHT",
           "POSTAGE"
          ],
          [
           "ROUND SNACK BOXES SET OF 4 FRUITS ",
           "POSTAGE"
          ],
          [
           "COFFEE MUG APPLES DESIGN",
           "POSTAGE"
          ],
          [
           "PLASTERS IN TIN CIRCUS PARADE ",
           "POSTAGE"
          ],
          [
           "SET/6 RED SPOTTY PAPER CUPS",
           "POSTAGE"
          ],
          [
           "LUNCH BAG WOODLAND",
           "POSTAGE"
          ],
          [
           "POSTAGE",
           "ALARM CLOCK BAKELIKE RED "
          ],
          [
           "ALARM CLOCK BAKELIKE GREEN",
           "POSTAGE"
          ],
          [
           "RED RETROSPOT CHARLOTTE BAG",
           "POSTAGE"
          ],
          [
           "JUMBO BAG RED RETROSPOT",
           "POSTAGE"
          ],
          [
           "SET/6 RED SPOTTY PAPER PLATES",
           "POSTAGE"
          ],
          [
           "ALARM CLOCK BAKELIKE RED ",
           "ALARM CLOCK BAKELIKE GREEN"
          ],
          [
           "SET/10 RED POLKADOT PARTY CANDLES",
           "POSTAGE"
          ],
          [
           "SET/6 RED SPOTTY PAPER CUPS",
           "POSTAGE"
          ],
          [
           "ALARM CLOCK BAKELIKE PINK",
           "POSTAGE"
          ],
          [
           "SET/20 RED RETROSPOT PAPER NAPKINS ",
           "POSTAGE"
          ],
          [
           "PACK OF 72 RETROSPOT CAKE CASES",
           "POSTAGE"
          ],
          [
           "SET/6 RED SPOTTY PAPER PLATES",
           "POSTAGE"
          ],
          [
           "SET/6 RED SPOTTY PAPER CUPS",
           "POSTAGE"
          ],
          [
           "PLASTERS IN TIN WOODLAND ANIMALS",
           "POSTAGE"
          ],
          [
           "ALARM CLOCK BAKELIKE RED ",
           "ALARM CLOCK BAKELIKE GREEN"
          ],
          [
           "SET/6 RED SPOTTY PAPER CUPS",
           "POSTAGE"
          ],
          [
           "LUNCH BAG APPLE DESIGN",
           "POSTAGE"
          ],
          [
           "PLASTERS IN TIN SPACEBOY",
           "POSTAGE"
          ],
          [
           "RED RETROSPOT MINI CASES",
           "POSTAGE"
          ],
          [
           "SET/6 RED SPOTTY PAPER CUPS",
           "SET/20 RED RETROSPOT PAPER NAPKINS "
          ],
          [
           "ALARM CLOCK BAKELIKE RED ",
           "ALARM CLOCK BAKELIKE PINK"
          ],
          [
           "PLASTERS IN TIN WOODLAND ANIMALS",
           "POSTAGE"
          ],
          [
           "PLASTERS IN TIN SPACEBOY",
           "POSTAGE"
          ],
          [
           "PLASTERS IN TIN SPACEBOY",
           "POSTAGE"
          ],
          [
           "SET/6 RED SPOTTY PAPER PLATES",
           "SET/6 RED SPOTTY PAPER CUPS"
          ],
          [
           "SET/6 RED SPOTTY PAPER CUPS",
           "POSTAGE"
          ],
          [
           "POSTAGE",
           "SET/20 RED RETROSPOT PAPER NAPKINS "
          ],
          [
           "SET/6 RED SPOTTY PAPER PLATES",
           "SET/20 RED RETROSPOT PAPER NAPKINS "
          ],
          [
           "SET/6 RED SPOTTY PAPER PLATES",
           "SET/6 RED SPOTTY PAPER CUPS"
          ],
          [
           "ALARM CLOCK BAKELIKE GREEN",
           "ALARM CLOCK BAKELIKE RED "
          ],
          [
           "LUNCH BOX WITH CUTLERY RETROSPOT ",
           "POSTAGE"
          ],
          [
           "LUNCH BAG RED RETROSPOT",
           "POSTAGE"
          ],
          [
           "POSTAGE",
           "SET/20 RED RETROSPOT PAPER NAPKINS "
          ],
          [
           "ALARM CLOCK BAKELIKE RED ",
           "ALARM CLOCK BAKELIKE PINK"
          ],
          [
           "PLASTERS IN TIN STRONGMAN",
           "POSTAGE"
          ],
          [
           "MINI PAINT SET VINTAGE ",
           "POSTAGE"
          ],
          [
           "SET/6 RED SPOTTY PAPER PLATES",
           "SET/6 RED SPOTTY PAPER CUPS"
          ],
          [
           "REGENCY CAKESTAND 3 TIER",
           "POSTAGE"
          ],
          [
           "SPACEBOY LUNCH BOX ",
           "POSTAGE"
          ],
          [
           "SET/20 RED RETROSPOT PAPER NAPKINS ",
           "SET/6 RED SPOTTY PAPER PLATES"
          ],
          [
           "SET/20 RED RETROSPOT PAPER NAPKINS ",
           "SET/6 RED SPOTTY PAPER CUPS"
          ],
          [
           "POSTAGE",
           "SET/6 RED SPOTTY PAPER PLATES"
          ],
          [
           "POSTAGE",
           "SET/6 RED SPOTTY PAPER CUPS"
          ],
          [
           "ALARM CLOCK BAKELIKE RED ",
           "ALARM CLOCK BAKELIKE PINK"
          ],
          [
           "POSTAGE",
           "SET/6 RED SPOTTY PAPER CUPS"
          ],
          [
           "ALARM CLOCK BAKELIKE RED ",
           "POSTAGE"
          ],
          [
           "PLASTERS IN TIN SPACEBOY",
           "PLASTERS IN TIN WOODLAND ANIMALS"
          ],
          [
           "SET/20 RED RETROSPOT PAPER NAPKINS ",
           "SET/6 RED SPOTTY PAPER CUPS"
          ],
          [
           "LUNCH BAG SPACEBOY DESIGN ",
           "POSTAGE"
          ],
          [
           "PLASTERS IN TIN SPACEBOY",
           "PLASTERS IN TIN WOODLAND ANIMALS"
          ],
          [
           "POSTAGE",
           "SET/6 RED SPOTTY PAPER CUPS"
          ],
          [
           "ALARM CLOCK BAKELIKE GREEN",
           "ALARM CLOCK BAKELIKE PINK"
          ],
          [
           "ALARM CLOCK BAKELIKE PINK",
           "ALARM CLOCK BAKELIKE RED "
          ],
          [
           "SET/6 RED SPOTTY PAPER CUPS",
           "POSTAGE"
          ],
          [
           "SET/6 RED SPOTTY PAPER CUPS",
           "SET/20 RED RETROSPOT PAPER NAPKINS "
          ],
          [
           "PLASTERS IN TIN SPACEBOY",
           "PLASTERS IN TIN WOODLAND ANIMALS"
          ],
          [
           "POSTAGE",
           "ALARM CLOCK BAKELIKE PINK"
          ],
          [
           "ALARM CLOCK BAKELIKE PINK",
           "ALARM CLOCK BAKELIKE GREEN"
          ],
          [
           "ALARM CLOCK BAKELIKE PINK",
           "ALARM CLOCK BAKELIKE RED "
          ],
          [
           "DOLLY GIRL LUNCH BOX",
           "POSTAGE"
          ],
          [
           "SET/6 RED SPOTTY PAPER CUPS",
           "SET/6 RED SPOTTY PAPER PLATES"
          ],
          [
           "ALARM CLOCK BAKELIKE GREEN",
           "ALARM CLOCK BAKELIKE RED "
          ],
          [
           "SET/6 RED SPOTTY PAPER CUPS",
           "SET/20 RED RETROSPOT PAPER NAPKINS "
          ],
          [
           "ALARM CLOCK BAKELIKE RED ",
           "ALARM CLOCK BAKELIKE PINK"
          ],
          [
           "DOLLY GIRL LUNCH BOX",
           "SPACEBOY LUNCH BOX "
          ],
          [
           "SET/6 RED SPOTTY PAPER CUPS",
           "SET/6 RED SPOTTY PAPER PLATES"
          ],
          [
           "ALARM CLOCK BAKELIKE PINK",
           "ALARM CLOCK BAKELIKE GREEN"
          ],
          [
           "ALARM CLOCK BAKELIKE RED ",
           "ALARM CLOCK BAKELIKE PINK"
          ],
          [
           "PLASTERS IN TIN WOODLAND ANIMALS",
           "PLASTERS IN TIN SPACEBOY"
          ],
          [
           "SET/6 RED SPOTTY PAPER CUPS",
           "POSTAGE"
          ],
          [
           "SET/6 RED SPOTTY PAPER PLATES",
           "POSTAGE"
          ],
          [
           "PLASTERS IN TIN SPACEBOY",
           "PLASTERS IN TIN CIRCUS PARADE "
          ],
          [
           "PLASTERS IN TIN SPACEBOY",
           "PLASTERS IN TIN CIRCUS PARADE "
          ],
          [
           "ALARM CLOCK BAKELIKE PINK",
           "ALARM CLOCK BAKELIKE RED "
          ],
          [
           "PLASTERS IN TIN SPACEBOY",
           "PLASTERS IN TIN CIRCUS PARADE "
          ],
          [
           "ALARM CLOCK BAKELIKE GREEN",
           "ALARM CLOCK BAKELIKE RED "
          ],
          [
           "SET/6 RED SPOTTY PAPER PLATES",
           "SET/6 RED SPOTTY PAPER CUPS"
          ],
          [
           "SET/20 RED RETROSPOT PAPER NAPKINS ",
           "SET/6 RED SPOTTY PAPER CUPS"
          ],
          [
           "SET/20 RED RETROSPOT PAPER NAPKINS ",
           "POSTAGE"
          ],
          [
           "ALARM CLOCK BAKELIKE PINK",
           "ALARM CLOCK BAKELIKE RED "
          ],
          [
           "SET/20 RED RETROSPOT PAPER NAPKINS ",
           "POSTAGE"
          ],
          [
           "ALARM CLOCK BAKELIKE GREEN",
           "ALARM CLOCK BAKELIKE PINK"
          ],
          [
           "PLASTERS IN TIN WOODLAND ANIMALS",
           "PLASTERS IN TIN SPACEBOY"
          ],
          [
           "SET/6 RED SPOTTY PAPER CUPS",
           "POSTAGE"
          ],
          [
           "PLASTERS IN TIN WOODLAND ANIMALS",
           "PLASTERS IN TIN SPACEBOY"
          ],
          [
           "PLASTERS IN TIN WOODLAND ANIMALS",
           "PLASTERS IN TIN CIRCUS PARADE "
          ],
          [
           "ALARM CLOCK BAKELIKE PINK",
           "POSTAGE"
          ],
          [
           "PLASTERS IN TIN SPACEBOY",
           "PLASTERS IN TIN WOODLAND ANIMALS"
          ],
          [
           "PLASTERS IN TIN WOODLAND ANIMALS",
           "PLASTERS IN TIN CIRCUS PARADE "
          ],
          [
           "SET/6 RED SPOTTY PAPER CUPS",
           "POSTAGE"
          ],
          [
           "PLASTERS IN TIN CIRCUS PARADE ",
           "PLASTERS IN TIN WOODLAND ANIMALS"
          ],
          [
           "LUNCH BAG APPLE DESIGN",
           "LUNCH BAG RED RETROSPOT"
          ],
          [
           "ROUND SNACK BOXES SET OF 4 FRUITS ",
           "ROUND SNACK BOXES SET OF4 WOODLAND "
          ],
          [
           "SPACEBOY LUNCH BOX ",
           "DOLLY GIRL LUNCH BOX"
          ],
          [
           "POSTAGE",
           "PLASTERS IN TIN WOODLAND ANIMALS"
          ],
          [
           "LUNCH BAG WOODLAND",
           "LUNCH BAG SPACEBOY DESIGN "
          ],
          [
           "LUNCH BAG SPACEBOY DESIGN ",
           "LUNCH BAG WOODLAND"
          ],
          [
           "LUNCH BAG SPACEBOY DESIGN ",
           "LUNCH BAG RED RETROSPOT"
          ],
          [
           "LUNCH BAG SPACEBOY DESIGN ",
           "LUNCH BAG APPLE DESIGN"
          ],
          [
           "PLASTERS IN TIN CIRCUS PARADE ",
           "PLASTERS IN TIN SPACEBOY"
          ],
          [
           "PLASTERS IN TIN SPACEBOY",
           "POSTAGE"
          ],
          [
           "STRAWBERRY LUNCH BOX WITH CUTLERY",
           "LUNCH BOX WITH CUTLERY RETROSPOT "
          ],
          [
           "LUNCH BAG APPLE DESIGN",
           "LUNCH BAG RED RETROSPOT"
          ],
          [
           "LUNCH BAG APPLE DESIGN",
           "LUNCH BAG SPACEBOY DESIGN "
          ],
          [
           "POSTAGE",
           "PLASTERS IN TIN SPACEBOY"
          ],
          [
           "LUNCH BAG RED RETROSPOT",
           "LUNCH BAG APPLE DESIGN"
          ]
         ],
         "hovertemplate": "support=%{x}<br>confidence=%{y}<br>lift=%{z}<br>antecedents=%{customdata[0]}<br>consequents=%{customdata[1]}<br>antecedent support=%{marker.color}<extra></extra>",
         "legendgroup": "",
         "marker": {
          "color": [
           0.0651,
           0.0868,
           0.0868,
           0.0716,
           0.0716,
           0.0564,
           0.0542,
           0.1085,
           0.0911,
           0.0803,
           0.1041,
           0.0629,
           0.0586,
           0.0586,
           0.0586,
           0.0564,
           0.0803,
           0.1388,
           0.0672,
           0.0629,
           0.0629,
           0.1171,
           0.0868,
           0.0694,
           0.0998,
           0.1627,
           0.0629,
           0.0629,
           0.0629,
           0.1562,
           0.0933,
           0.0607,
           0.1475,
           0.1171,
           0.102,
           0.0716,
           0.0846,
           0.0824,
           0.0824,
           0.1085,
           0.0803,
           0.0651,
           0.1041,
           0.0629,
           0.1128,
           0.0868,
           0.0868,
           0.0868,
           0.0868,
           0.0738,
           0.0846,
           0.1085,
           0.1193,
           0.1193,
           0.1041,
           0.0672,
           0.1453,
           0.0781,
           0.0889,
           0.0868,
           0.0868,
           0.0868,
           0.1085,
           0.1085,
           0.0846,
           0.1236,
           0.1323,
           0.0911,
           0.0803,
           0.0694,
           0.0889,
           0.1085,
           0.1171,
           0.1063,
           0.1128,
           0.1128,
           0.0933,
           0.0933,
           0.0738,
           0.0911,
           0.0803,
           0.0781,
           0.1128,
           0.1041,
           0.1193,
           0.0933,
           0.0846,
           0.0759,
           0.1171,
           0.1171,
           0.0976,
           0.0716,
           0.0868,
           0.0868,
           0.0868,
           0.1171,
           0.0846,
           0.0998,
           0.0803,
           0.0868,
           0.0998,
           0.0759,
           0.0803,
           0.0868,
           0.1041,
           0.1085,
           0.0889,
           0.1193,
           0.0868,
           0.0976,
           0.0846,
           0.1085,
           0.1128,
           0.1128,
           0.0868,
           0.1128,
           0.0846,
           0.1453,
           0.1171,
           0.1171,
           0.1171,
           0.0868,
           0.1193,
           0.1453,
           0.1171,
           0.1475,
           0.0889,
           0.0933,
           0.1063,
           0.1258,
           0.102,
           0.1041,
           0.1041,
           0.1041,
           0.1475,
           0.1193,
           0.1041,
           0.1085,
           0.1085,
           0.1258,
           0.1041
          ],
          "coloraxis": "coloraxis",
          "opacity": 0.7,
          "symbol": "circle"
         },
         "mode": "markers",
         "name": "",
         "scene": "scene",
         "showlegend": false,
         "type": "scatter3d",
         "x": [
          0.0651,
          0.0846,
          0.0846,
          0.0694,
          0.0694,
          0.0542,
          0.0521,
          0.1041,
          0.0868,
          0.0759,
          0.0976,
          0.0586,
          0.0542,
          0.0542,
          0.0542,
          0.0521,
          0.0738,
          0.1258,
          0.0607,
          0.0564,
          0.0564,
          0.1041,
          0.0759,
          0.0607,
          0.0868,
          0.141,
          0.0542,
          0.0542,
          0.0542,
          0.1345,
          0.0803,
          0.0521,
          0.1258,
          0.0998,
          0.0868,
          0.0607,
          0.0716,
          0.0694,
          0.0694,
          0.0911,
          0.0672,
          0.0542,
          0.0868,
          0.0521,
          0.0933,
          0.0716,
          0.0716,
          0.0716,
          0.0716,
          0.0607,
          0.0694,
          0.0889,
          0.0976,
          0.0976,
          0.0846,
          0.0542,
          0.1171,
          0.0629,
          0.0716,
          0.0694,
          0.0694,
          0.0694,
          0.0868,
          0.0868,
          0.0672,
          0.0976,
          0.1041,
          0.0716,
          0.0629,
          0.0542,
          0.0694,
          0.0846,
          0.0911,
          0.0824,
          0.0868,
          0.0868,
          0.0716,
          0.0716,
          0.0564,
          0.0694,
          0.0607,
          0.0586,
          0.0846,
          0.0781,
          0.0889,
          0.0694,
          0.0629,
          0.0564,
          0.0868,
          0.0868,
          0.0716,
          0.0521,
          0.0629,
          0.0629,
          0.0629,
          0.0846,
          0.0607,
          0.0716,
          0.0564,
          0.0607,
          0.0694,
          0.0521,
          0.0542,
          0.0586,
          0.0694,
          0.0716,
          0.0586,
          0.0781,
          0.0564,
          0.0629,
          0.0542,
          0.0694,
          0.0716,
          0.0716,
          0.0542,
          0.0694,
          0.0521,
          0.0889,
          0.0716,
          0.0716,
          0.0716,
          0.0521,
          0.0716,
          0.0868,
          0.0694,
          0.0868,
          0.0521,
          0.0542,
          0.0607,
          0.0716,
          0.0564,
          0.0564,
          0.0564,
          0.0564,
          0.0781,
          0.0629,
          0.0542,
          0.0564,
          0.0564,
          0.0629,
          0.0521
         ],
         "y": [
          1,
          0.975,
          0.975,
          0.9697,
          0.9697,
          0.9615,
          0.96,
          0.96,
          0.9524,
          0.9459,
          0.9375,
          0.931,
          0.9259,
          0.9259,
          0.9259,
          0.9231,
          0.9189,
          0.9063,
          0.9032,
          0.8966,
          0.8966,
          0.8889,
          0.875,
          0.875,
          0.8696,
          0.8667,
          0.8621,
          0.8621,
          0.8621,
          0.8611,
          0.8605,
          0.8571,
          0.8529,
          0.8519,
          0.8511,
          0.8485,
          0.8462,
          0.8421,
          0.8421,
          0.84,
          0.8378,
          0.8333,
          0.8333,
          0.8276,
          0.8269,
          0.825,
          0.825,
          0.825,
          0.825,
          0.8235,
          0.8205,
          0.82,
          0.8182,
          0.8182,
          0.8125,
          0.8065,
          0.806,
          0.8056,
          0.8049,
          0.8,
          0.8,
          0.8,
          0.8,
          0.8,
          0.7949,
          0.7895,
          0.7869,
          0.7857,
          0.7838,
          0.7812,
          0.7805,
          0.78,
          0.7778,
          0.7755,
          0.7692,
          0.7692,
          0.7674,
          0.7674,
          0.7647,
          0.7619,
          0.7568,
          0.75,
          0.75,
          0.75,
          0.7455,
          0.7442,
          0.7436,
          0.7429,
          0.7407,
          0.7407,
          0.7333,
          0.7273,
          0.725,
          0.725,
          0.725,
          0.7222,
          0.7179,
          0.7174,
          0.7027,
          0.7,
          0.6957,
          0.6857,
          0.6757,
          0.675,
          0.6667,
          0.66,
          0.6585,
          0.6545,
          0.65,
          0.6444,
          0.641,
          0.64,
          0.6346,
          0.6346,
          0.625,
          0.6154,
          0.6154,
          0.6119,
          0.6111,
          0.6111,
          0.6111,
          0.6,
          0.6,
          0.597,
          0.5926,
          0.5882,
          0.5854,
          0.5814,
          0.5714,
          0.569,
          0.5532,
          0.5417,
          0.5417,
          0.5417,
          0.5294,
          0.5273,
          0.5208,
          0.52,
          0.52,
          0.5,
          0.5
         ],
         "z": [
          1.4823,
          8.3236,
          8.9895,
          8.2783,
          8.9406,
          1.4253,
          1.423,
          8.1956,
          8.1305,
          1.4022,
          1.3897,
          1.3801,
          1.3725,
          14.719,
          1.3725,
          1.3683,
          1.3621,
          1.3433,
          1.3389,
          1.329,
          1.329,
          8.1956,
          1.297,
          1.297,
          8.0174,
          1.2847,
          14.719,
          10.7409,
          10.1901,
          1.2764,
          1.2755,
          1.2706,
          1.2643,
          1.2627,
          1.2615,
          10.5717,
          1.2543,
          1.2483,
          1.2483,
          1.2451,
          9.9037,
          1.2353,
          1.2353,
          1.2267,
          1.2258,
          1.2229,
          1.2229,
          1.2229,
          1.2229,
          9.7345,
          1.2163,
          1.2155,
          1.2128,
          1.2128,
          7.2031,
          9.2944,
          1.1947,
          1.1941,
          1.1931,
          8.0174,
          8.781,
          7.0923,
          7.0923,
          8.0174,
          9.9037,
          1.1702,
          1.1664,
          6.9657,
          9.0331,
          1.1581,
          1.1569,
          8.9895,
          1.1529,
          1.1496,
          7.0923,
          6.567,
          7.0758,
          6.5517,
          8.8132,
          8.781,
          10.5717,
          5.1604,
          7.2031,
          1.1117,
          5.1292,
          7.1473,
          8.5699,
          9.2556,
          8.1305,
          6.567,
          5.0458,
          8.3818,
          8.5699,
          9.0331,
          1.0747,
          8.3236,
          9.7345,
          6.3599,
          9.2556,
          6.5857,
          8.0174,
          8.1055,
          10.7409,
          5.6577,
          7.1473,
          7.0758,
          4.4645,
          4.4374,
          8.8132,
          4.369,
          10.1901,
          8.9406,
          6.3599,
          6.9657,
          9.2944,
          7.0923,
          8.1055,
          5.1292,
          6.5517,
          5.1222,
          4.143,
          8.3818,
          5.1222,
          4.0474,
          8.2783,
          4.0474,
          4.4238,
          4.1879,
          6.5857,
          3.9148,
          5.3129,
          5.3129,
          4.0936,
          4.9942,
          4.4374,
          4.1909,
          4.2124,
          3.9298,
          4.9942,
          4.1909,
          4.61
         ]
        }
       ],
       "layout": {
        "coloraxis": {
         "colorbar": {
          "title": {
           "text": "antecedent support"
          }
         },
         "colorscale": [
          [
           0,
           "#0d0887"
          ],
          [
           0.1111111111111111,
           "#46039f"
          ],
          [
           0.2222222222222222,
           "#7201a8"
          ],
          [
           0.3333333333333333,
           "#9c179e"
          ],
          [
           0.4444444444444444,
           "#bd3786"
          ],
          [
           0.5555555555555556,
           "#d8576b"
          ],
          [
           0.6666666666666666,
           "#ed7953"
          ],
          [
           0.7777777777777778,
           "#fb9f3a"
          ],
          [
           0.8888888888888888,
           "#fdca26"
          ],
          [
           1,
           "#f0f921"
          ]
         ]
        },
        "height": 800,
        "legend": {
         "tracegroupgap": 0
        },
        "scene": {
         "domain": {
          "x": [
           0,
           1
          ],
          "y": [
           0,
           1
          ]
         },
         "xaxis": {
          "title": {
           "text": "support"
          }
         },
         "yaxis": {
          "title": {
           "text": "confidence"
          }
         },
         "zaxis": {
          "title": {
           "text": "lift"
          }
         }
        },
        "template": {
         "data": {
          "bar": [
           {
            "error_x": {
             "color": "#2a3f5f"
            },
            "error_y": {
             "color": "#2a3f5f"
            },
            "marker": {
             "line": {
              "color": "#E5ECF6",
              "width": 0.5
             }
            },
            "type": "bar"
           }
          ],
          "barpolar": [
           {
            "marker": {
             "line": {
              "color": "#E5ECF6",
              "width": 0.5
             }
            },
            "type": "barpolar"
           }
          ],
          "carpet": [
           {
            "aaxis": {
             "endlinecolor": "#2a3f5f",
             "gridcolor": "white",
             "linecolor": "white",
             "minorgridcolor": "white",
             "startlinecolor": "#2a3f5f"
            },
            "baxis": {
             "endlinecolor": "#2a3f5f",
             "gridcolor": "white",
             "linecolor": "white",
             "minorgridcolor": "white",
             "startlinecolor": "#2a3f5f"
            },
            "type": "carpet"
           }
          ],
          "choropleth": [
           {
            "colorbar": {
             "outlinewidth": 0,
             "ticks": ""
            },
            "type": "choropleth"
           }
          ],
          "contour": [
           {
            "colorbar": {
             "outlinewidth": 0,
             "ticks": ""
            },
            "colorscale": [
             [
              0,
              "#0d0887"
             ],
             [
              0.1111111111111111,
              "#46039f"
             ],
             [
              0.2222222222222222,
              "#7201a8"
             ],
             [
              0.3333333333333333,
              "#9c179e"
             ],
             [
              0.4444444444444444,
              "#bd3786"
             ],
             [
              0.5555555555555556,
              "#d8576b"
             ],
             [
              0.6666666666666666,
              "#ed7953"
             ],
             [
              0.7777777777777778,
              "#fb9f3a"
             ],
             [
              0.8888888888888888,
              "#fdca26"
             ],
             [
              1,
              "#f0f921"
             ]
            ],
            "type": "contour"
           }
          ],
          "contourcarpet": [
           {
            "colorbar": {
             "outlinewidth": 0,
             "ticks": ""
            },
            "type": "contourcarpet"
           }
          ],
          "heatmap": [
           {
            "colorbar": {
             "outlinewidth": 0,
             "ticks": ""
            },
            "colorscale": [
             [
              0,
              "#0d0887"
             ],
             [
              0.1111111111111111,
              "#46039f"
             ],
             [
              0.2222222222222222,
              "#7201a8"
             ],
             [
              0.3333333333333333,
              "#9c179e"
             ],
             [
              0.4444444444444444,
              "#bd3786"
             ],
             [
              0.5555555555555556,
              "#d8576b"
             ],
             [
              0.6666666666666666,
              "#ed7953"
             ],
             [
              0.7777777777777778,
              "#fb9f3a"
             ],
             [
              0.8888888888888888,
              "#fdca26"
             ],
             [
              1,
              "#f0f921"
             ]
            ],
            "type": "heatmap"
           }
          ],
          "heatmapgl": [
           {
            "colorbar": {
             "outlinewidth": 0,
             "ticks": ""
            },
            "colorscale": [
             [
              0,
              "#0d0887"
             ],
             [
              0.1111111111111111,
              "#46039f"
             ],
             [
              0.2222222222222222,
              "#7201a8"
             ],
             [
              0.3333333333333333,
              "#9c179e"
             ],
             [
              0.4444444444444444,
              "#bd3786"
             ],
             [
              0.5555555555555556,
              "#d8576b"
             ],
             [
              0.6666666666666666,
              "#ed7953"
             ],
             [
              0.7777777777777778,
              "#fb9f3a"
             ],
             [
              0.8888888888888888,
              "#fdca26"
             ],
             [
              1,
              "#f0f921"
             ]
            ],
            "type": "heatmapgl"
           }
          ],
          "histogram": [
           {
            "marker": {
             "colorbar": {
              "outlinewidth": 0,
              "ticks": ""
             }
            },
            "type": "histogram"
           }
          ],
          "histogram2d": [
           {
            "colorbar": {
             "outlinewidth": 0,
             "ticks": ""
            },
            "colorscale": [
             [
              0,
              "#0d0887"
             ],
             [
              0.1111111111111111,
              "#46039f"
             ],
             [
              0.2222222222222222,
              "#7201a8"
             ],
             [
              0.3333333333333333,
              "#9c179e"
             ],
             [
              0.4444444444444444,
              "#bd3786"
             ],
             [
              0.5555555555555556,
              "#d8576b"
             ],
             [
              0.6666666666666666,
              "#ed7953"
             ],
             [
              0.7777777777777778,
              "#fb9f3a"
             ],
             [
              0.8888888888888888,
              "#fdca26"
             ],
             [
              1,
              "#f0f921"
             ]
            ],
            "type": "histogram2d"
           }
          ],
          "histogram2dcontour": [
           {
            "colorbar": {
             "outlinewidth": 0,
             "ticks": ""
            },
            "colorscale": [
             [
              0,
              "#0d0887"
             ],
             [
              0.1111111111111111,
              "#46039f"
             ],
             [
              0.2222222222222222,
              "#7201a8"
             ],
             [
              0.3333333333333333,
              "#9c179e"
             ],
             [
              0.4444444444444444,
              "#bd3786"
             ],
             [
              0.5555555555555556,
              "#d8576b"
             ],
             [
              0.6666666666666666,
              "#ed7953"
             ],
             [
              0.7777777777777778,
              "#fb9f3a"
             ],
             [
              0.8888888888888888,
              "#fdca26"
             ],
             [
              1,
              "#f0f921"
             ]
            ],
            "type": "histogram2dcontour"
           }
          ],
          "mesh3d": [
           {
            "colorbar": {
             "outlinewidth": 0,
             "ticks": ""
            },
            "type": "mesh3d"
           }
          ],
          "parcoords": [
           {
            "line": {
             "colorbar": {
              "outlinewidth": 0,
              "ticks": ""
             }
            },
            "type": "parcoords"
           }
          ],
          "pie": [
           {
            "automargin": true,
            "type": "pie"
           }
          ],
          "scatter": [
           {
            "marker": {
             "colorbar": {
              "outlinewidth": 0,
              "ticks": ""
             }
            },
            "type": "scatter"
           }
          ],
          "scatter3d": [
           {
            "line": {
             "colorbar": {
              "outlinewidth": 0,
              "ticks": ""
             }
            },
            "marker": {
             "colorbar": {
              "outlinewidth": 0,
              "ticks": ""
             }
            },
            "type": "scatter3d"
           }
          ],
          "scattercarpet": [
           {
            "marker": {
             "colorbar": {
              "outlinewidth": 0,
              "ticks": ""
             }
            },
            "type": "scattercarpet"
           }
          ],
          "scattergeo": [
           {
            "marker": {
             "colorbar": {
              "outlinewidth": 0,
              "ticks": ""
             }
            },
            "type": "scattergeo"
           }
          ],
          "scattergl": [
           {
            "marker": {
             "colorbar": {
              "outlinewidth": 0,
              "ticks": ""
             }
            },
            "type": "scattergl"
           }
          ],
          "scattermapbox": [
           {
            "marker": {
             "colorbar": {
              "outlinewidth": 0,
              "ticks": ""
             }
            },
            "type": "scattermapbox"
           }
          ],
          "scatterpolar": [
           {
            "marker": {
             "colorbar": {
              "outlinewidth": 0,
              "ticks": ""
             }
            },
            "type": "scatterpolar"
           }
          ],
          "scatterpolargl": [
           {
            "marker": {
             "colorbar": {
              "outlinewidth": 0,
              "ticks": ""
             }
            },
            "type": "scatterpolargl"
           }
          ],
          "scatterternary": [
           {
            "marker": {
             "colorbar": {
              "outlinewidth": 0,
              "ticks": ""
             }
            },
            "type": "scatterternary"
           }
          ],
          "surface": [
           {
            "colorbar": {
             "outlinewidth": 0,
             "ticks": ""
            },
            "colorscale": [
             [
              0,
              "#0d0887"
             ],
             [
              0.1111111111111111,
              "#46039f"
             ],
             [
              0.2222222222222222,
              "#7201a8"
             ],
             [
              0.3333333333333333,
              "#9c179e"
             ],
             [
              0.4444444444444444,
              "#bd3786"
             ],
             [
              0.5555555555555556,
              "#d8576b"
             ],
             [
              0.6666666666666666,
              "#ed7953"
             ],
             [
              0.7777777777777778,
              "#fb9f3a"
             ],
             [
              0.8888888888888888,
              "#fdca26"
             ],
             [
              1,
              "#f0f921"
             ]
            ],
            "type": "surface"
           }
          ],
          "table": [
           {
            "cells": {
             "fill": {
              "color": "#EBF0F8"
             },
             "line": {
              "color": "white"
             }
            },
            "header": {
             "fill": {
              "color": "#C8D4E3"
             },
             "line": {
              "color": "white"
             }
            },
            "type": "table"
           }
          ]
         },
         "layout": {
          "annotationdefaults": {
           "arrowcolor": "#2a3f5f",
           "arrowhead": 0,
           "arrowwidth": 1
          },
          "autotypenumbers": "strict",
          "coloraxis": {
           "colorbar": {
            "outlinewidth": 0,
            "ticks": ""
           }
          },
          "colorscale": {
           "diverging": [
            [
             0,
             "#8e0152"
            ],
            [
             0.1,
             "#c51b7d"
            ],
            [
             0.2,
             "#de77ae"
            ],
            [
             0.3,
             "#f1b6da"
            ],
            [
             0.4,
             "#fde0ef"
            ],
            [
             0.5,
             "#f7f7f7"
            ],
            [
             0.6,
             "#e6f5d0"
            ],
            [
             0.7,
             "#b8e186"
            ],
            [
             0.8,
             "#7fbc41"
            ],
            [
             0.9,
             "#4d9221"
            ],
            [
             1,
             "#276419"
            ]
           ],
           "sequential": [
            [
             0,
             "#0d0887"
            ],
            [
             0.1111111111111111,
             "#46039f"
            ],
            [
             0.2222222222222222,
             "#7201a8"
            ],
            [
             0.3333333333333333,
             "#9c179e"
            ],
            [
             0.4444444444444444,
             "#bd3786"
            ],
            [
             0.5555555555555556,
             "#d8576b"
            ],
            [
             0.6666666666666666,
             "#ed7953"
            ],
            [
             0.7777777777777778,
             "#fb9f3a"
            ],
            [
             0.8888888888888888,
             "#fdca26"
            ],
            [
             1,
             "#f0f921"
            ]
           ],
           "sequentialminus": [
            [
             0,
             "#0d0887"
            ],
            [
             0.1111111111111111,
             "#46039f"
            ],
            [
             0.2222222222222222,
             "#7201a8"
            ],
            [
             0.3333333333333333,
             "#9c179e"
            ],
            [
             0.4444444444444444,
             "#bd3786"
            ],
            [
             0.5555555555555556,
             "#d8576b"
            ],
            [
             0.6666666666666666,
             "#ed7953"
            ],
            [
             0.7777777777777778,
             "#fb9f3a"
            ],
            [
             0.8888888888888888,
             "#fdca26"
            ],
            [
             1,
             "#f0f921"
            ]
           ]
          },
          "colorway": [
           "#636efa",
           "#EF553B",
           "#00cc96",
           "#ab63fa",
           "#FFA15A",
           "#19d3f3",
           "#FF6692",
           "#B6E880",
           "#FF97FF",
           "#FECB52"
          ],
          "font": {
           "color": "#2a3f5f"
          },
          "geo": {
           "bgcolor": "white",
           "lakecolor": "white",
           "landcolor": "#E5ECF6",
           "showlakes": true,
           "showland": true,
           "subunitcolor": "white"
          },
          "hoverlabel": {
           "align": "left"
          },
          "hovermode": "closest",
          "mapbox": {
           "style": "light"
          },
          "paper_bgcolor": "white",
          "plot_bgcolor": "#E5ECF6",
          "polar": {
           "angularaxis": {
            "gridcolor": "white",
            "linecolor": "white",
            "ticks": ""
           },
           "bgcolor": "#E5ECF6",
           "radialaxis": {
            "gridcolor": "white",
            "linecolor": "white",
            "ticks": ""
           }
          },
          "scene": {
           "xaxis": {
            "backgroundcolor": "#E5ECF6",
            "gridcolor": "white",
            "gridwidth": 2,
            "linecolor": "white",
            "showbackground": true,
            "ticks": "",
            "zerolinecolor": "white"
           },
           "yaxis": {
            "backgroundcolor": "#E5ECF6",
            "gridcolor": "white",
            "gridwidth": 2,
            "linecolor": "white",
            "showbackground": true,
            "ticks": "",
            "zerolinecolor": "white"
           },
           "zaxis": {
            "backgroundcolor": "#E5ECF6",
            "gridcolor": "white",
            "gridwidth": 2,
            "linecolor": "white",
            "showbackground": true,
            "ticks": "",
            "zerolinecolor": "white"
           }
          },
          "shapedefaults": {
           "line": {
            "color": "#2a3f5f"
           }
          },
          "ternary": {
           "aaxis": {
            "gridcolor": "white",
            "linecolor": "white",
            "ticks": ""
           },
           "baxis": {
            "gridcolor": "white",
            "linecolor": "white",
            "ticks": ""
           },
           "bgcolor": "#E5ECF6",
           "caxis": {
            "gridcolor": "white",
            "linecolor": "white",
            "ticks": ""
           }
          },
          "title": {
           "x": 0.05
          },
          "xaxis": {
           "automargin": true,
           "gridcolor": "white",
           "linecolor": "white",
           "ticks": "",
           "title": {
            "standoff": 15
           },
           "zerolinecolor": "white",
           "zerolinewidth": 2
          },
          "yaxis": {
           "automargin": true,
           "gridcolor": "white",
           "linecolor": "white",
           "ticks": "",
           "title": {
            "standoff": 15
           },
           "zerolinecolor": "white",
           "zerolinewidth": 2
          }
         }
        },
        "title": {
         "text": "3d Plot for Rule Mining"
        },
        "width": 900
       }
      },
      "text/html": [
       "<div>                            <div id=\"ab8768aa-e7b2-45d8-986e-e0b63d86af54\" class=\"plotly-graph-div\" style=\"height:800px; width:900px;\"></div>            <script type=\"text/javascript\">                require([\"plotly\"], function(Plotly) {                    window.PLOTLYENV=window.PLOTLYENV || {};                                    if (document.getElementById(\"ab8768aa-e7b2-45d8-986e-e0b63d86af54\")) {                    Plotly.newPlot(                        \"ab8768aa-e7b2-45d8-986e-e0b63d86af54\",                        [{\"customdata\": [[\"JUMBO BAG WOODLAND ANIMALS\", \"POSTAGE\"], [\"SET/6 RED SPOTTY PAPER PLATES\", \"SET/6 RED SPOTTY PAPER CUPS\"], [\"SET/6 RED SPOTTY PAPER CUPS\", \"SET/6 RED SPOTTY PAPER PLATES\"], [\"POSTAGE\", \"SET/6 RED SPOTTY PAPER CUPS\"], [\"SET/6 RED SPOTTY PAPER CUPS\", \"SET/6 RED SPOTTY PAPER PLATES\"], [\"SET OF 9 BLACK SKULL BALLOONS\", \"POSTAGE\"], [\"PACK OF 6 SKULL PAPER CUPS\", \"POSTAGE\"], [\"SET/6 RED SPOTTY PAPER PLATES\", \"SET/6 RED SPOTTY PAPER CUPS\"], [\"POSTAGE\", \"SET/6 RED SPOTTY PAPER CUPS\"], [\"TEA PARTY BIRTHDAY CARD\", \"POSTAGE\"], [\"STRAWBERRY LUNCH BOX WITH CUTLERY\", \"POSTAGE\"], [\"RED RETROSPOT PICNIC BAG\", \"POSTAGE\"], [\"ASSORTED COLOUR MINI CASES\", \"POSTAGE\"], [\"CHILDRENS CUTLERY SPACEBOY \", \"CHILDRENS CUTLERY DOLLY GIRL \"], [\"SET OF 2 TEA TOWELS APPLE AND PEARS\", \"POSTAGE\"], [\"LUNCH BAG RED RETROSPOT\", \"POSTAGE\"], [\"ALARM CLOCK BAKELIKE RED \", \"POSTAGE\"], [\"ROUND SNACK BOXES SET OF4 WOODLAND \", \"POSTAGE\"], [\"ALARM CLOCK BAKELIKE RED \", \"POSTAGE\"], [\"WOODLAND CHARLOTTE BAG\", \"POSTAGE\"], [\"ALARM CLOCK BAKELIKE RED \", \"POSTAGE\"], [\"SET/6 RED SPOTTY PAPER CUPS\", \"SET/6 RED SPOTTY PAPER PLATES\"], [\"ALARM CLOCK BAKELIKE PINK\", \"POSTAGE\"], [\"PAPER BUNTING RETROSPOT\", \"POSTAGE\"], [\"SET/6 RED SPOTTY PAPER CUPS\", \"SET/6 RED SPOTTY PAPER PLATES\"], [\"RABBIT NIGHT LIGHT\", \"POSTAGE\"], [\"CHILDRENS CUTLERY DOLLY GIRL \", \"CHILDRENS CUTLERY SPACEBOY \"], [\"ALARM CLOCK BAKELIKE PINK\", \"ALARM CLOCK BAKELIKE RED \"], [\"ALARM CLOCK BAKELIKE RED \", \"ALARM CLOCK BAKELIKE GREEN\"], [\"RED TOADSTOOL LED NIGHT LIGHT\", \"POSTAGE\"], [\"ROUND SNACK BOXES SET OF 4 FRUITS \", \"POSTAGE\"], [\"COFFEE MUG APPLES DESIGN\", \"POSTAGE\"], [\"PLASTERS IN TIN CIRCUS PARADE \", \"POSTAGE\"], [\"SET/6 RED SPOTTY PAPER CUPS\", \"POSTAGE\"], [\"LUNCH BAG WOODLAND\", \"POSTAGE\"], [\"POSTAGE\", \"ALARM CLOCK BAKELIKE RED \"], [\"ALARM CLOCK BAKELIKE GREEN\", \"POSTAGE\"], [\"RED RETROSPOT CHARLOTTE BAG\", \"POSTAGE\"], [\"JUMBO BAG RED RETROSPOT\", \"POSTAGE\"], [\"SET/6 RED SPOTTY PAPER PLATES\", \"POSTAGE\"], [\"ALARM CLOCK BAKELIKE RED \", \"ALARM CLOCK BAKELIKE GREEN\"], [\"SET/10 RED POLKADOT PARTY CANDLES\", \"POSTAGE\"], [\"SET/6 RED SPOTTY PAPER CUPS\", \"POSTAGE\"], [\"ALARM CLOCK BAKELIKE PINK\", \"POSTAGE\"], [\"SET/20 RED RETROSPOT PAPER NAPKINS \", \"POSTAGE\"], [\"PACK OF 72 RETROSPOT CAKE CASES\", \"POSTAGE\"], [\"SET/6 RED SPOTTY PAPER PLATES\", \"POSTAGE\"], [\"SET/6 RED SPOTTY PAPER CUPS\", \"POSTAGE\"], [\"PLASTERS IN TIN WOODLAND ANIMALS\", \"POSTAGE\"], [\"ALARM CLOCK BAKELIKE RED \", \"ALARM CLOCK BAKELIKE GREEN\"], [\"SET/6 RED SPOTTY PAPER CUPS\", \"POSTAGE\"], [\"LUNCH BAG APPLE DESIGN\", \"POSTAGE\"], [\"PLASTERS IN TIN SPACEBOY\", \"POSTAGE\"], [\"RED RETROSPOT MINI CASES\", \"POSTAGE\"], [\"SET/6 RED SPOTTY PAPER CUPS\", \"SET/20 RED RETROSPOT PAPER NAPKINS \"], [\"ALARM CLOCK BAKELIKE RED \", \"ALARM CLOCK BAKELIKE PINK\"], [\"PLASTERS IN TIN WOODLAND ANIMALS\", \"POSTAGE\"], [\"PLASTERS IN TIN SPACEBOY\", \"POSTAGE\"], [\"PLASTERS IN TIN SPACEBOY\", \"POSTAGE\"], [\"SET/6 RED SPOTTY PAPER PLATES\", \"SET/6 RED SPOTTY PAPER CUPS\"], [\"SET/6 RED SPOTTY PAPER CUPS\", \"POSTAGE\"], [\"POSTAGE\", \"SET/20 RED RETROSPOT PAPER NAPKINS \"], [\"SET/6 RED SPOTTY PAPER PLATES\", \"SET/20 RED RETROSPOT PAPER NAPKINS \"], [\"SET/6 RED SPOTTY PAPER PLATES\", \"SET/6 RED SPOTTY PAPER CUPS\"], [\"ALARM CLOCK BAKELIKE GREEN\", \"ALARM CLOCK BAKELIKE RED \"], [\"LUNCH BOX WITH CUTLERY RETROSPOT \", \"POSTAGE\"], [\"LUNCH BAG RED RETROSPOT\", \"POSTAGE\"], [\"POSTAGE\", \"SET/20 RED RETROSPOT PAPER NAPKINS \"], [\"ALARM CLOCK BAKELIKE RED \", \"ALARM CLOCK BAKELIKE PINK\"], [\"PLASTERS IN TIN STRONGMAN\", \"POSTAGE\"], [\"MINI PAINT SET VINTAGE \", \"POSTAGE\"], [\"SET/6 RED SPOTTY PAPER PLATES\", \"SET/6 RED SPOTTY PAPER CUPS\"], [\"REGENCY CAKESTAND 3 TIER\", \"POSTAGE\"], [\"SPACEBOY LUNCH BOX \", \"POSTAGE\"], [\"SET/20 RED RETROSPOT PAPER NAPKINS \", \"SET/6 RED SPOTTY PAPER PLATES\"], [\"SET/20 RED RETROSPOT PAPER NAPKINS \", \"SET/6 RED SPOTTY PAPER CUPS\"], [\"POSTAGE\", \"SET/6 RED SPOTTY PAPER PLATES\"], [\"POSTAGE\", \"SET/6 RED SPOTTY PAPER CUPS\"], [\"ALARM CLOCK BAKELIKE RED \", \"ALARM CLOCK BAKELIKE PINK\"], [\"POSTAGE\", \"SET/6 RED SPOTTY PAPER CUPS\"], [\"ALARM CLOCK BAKELIKE RED \", \"POSTAGE\"], [\"PLASTERS IN TIN SPACEBOY\", \"PLASTERS IN TIN WOODLAND ANIMALS\"], [\"SET/20 RED RETROSPOT PAPER NAPKINS \", \"SET/6 RED SPOTTY PAPER CUPS\"], [\"LUNCH BAG SPACEBOY DESIGN \", \"POSTAGE\"], [\"PLASTERS IN TIN SPACEBOY\", \"PLASTERS IN TIN WOODLAND ANIMALS\"], [\"POSTAGE\", \"SET/6 RED SPOTTY PAPER CUPS\"], [\"ALARM CLOCK BAKELIKE GREEN\", \"ALARM CLOCK BAKELIKE PINK\"], [\"ALARM CLOCK BAKELIKE PINK\", \"ALARM CLOCK BAKELIKE RED \"], [\"SET/6 RED SPOTTY PAPER CUPS\", \"POSTAGE\"], [\"SET/6 RED SPOTTY PAPER CUPS\", \"SET/20 RED RETROSPOT PAPER NAPKINS \"], [\"PLASTERS IN TIN SPACEBOY\", \"PLASTERS IN TIN WOODLAND ANIMALS\"], [\"POSTAGE\", \"ALARM CLOCK BAKELIKE PINK\"], [\"ALARM CLOCK BAKELIKE PINK\", \"ALARM CLOCK BAKELIKE GREEN\"], [\"ALARM CLOCK BAKELIKE PINK\", \"ALARM CLOCK BAKELIKE RED \"], [\"DOLLY GIRL LUNCH BOX\", \"POSTAGE\"], [\"SET/6 RED SPOTTY PAPER CUPS\", \"SET/6 RED SPOTTY PAPER PLATES\"], [\"ALARM CLOCK BAKELIKE GREEN\", \"ALARM CLOCK BAKELIKE RED \"], [\"SET/6 RED SPOTTY PAPER CUPS\", \"SET/20 RED RETROSPOT PAPER NAPKINS \"], [\"ALARM CLOCK BAKELIKE RED \", \"ALARM CLOCK BAKELIKE PINK\"], [\"DOLLY GIRL LUNCH BOX\", \"SPACEBOY LUNCH BOX \"], [\"SET/6 RED SPOTTY PAPER CUPS\", \"SET/6 RED SPOTTY PAPER PLATES\"], [\"ALARM CLOCK BAKELIKE PINK\", \"ALARM CLOCK BAKELIKE GREEN\"], [\"ALARM CLOCK BAKELIKE RED \", \"ALARM CLOCK BAKELIKE PINK\"], [\"PLASTERS IN TIN WOODLAND ANIMALS\", \"PLASTERS IN TIN SPACEBOY\"], [\"SET/6 RED SPOTTY PAPER CUPS\", \"POSTAGE\"], [\"SET/6 RED SPOTTY PAPER PLATES\", \"POSTAGE\"], [\"PLASTERS IN TIN SPACEBOY\", \"PLASTERS IN TIN CIRCUS PARADE \"], [\"PLASTERS IN TIN SPACEBOY\", \"PLASTERS IN TIN CIRCUS PARADE \"], [\"ALARM CLOCK BAKELIKE PINK\", \"ALARM CLOCK BAKELIKE RED \"], [\"PLASTERS IN TIN SPACEBOY\", \"PLASTERS IN TIN CIRCUS PARADE \"], [\"ALARM CLOCK BAKELIKE GREEN\", \"ALARM CLOCK BAKELIKE RED \"], [\"SET/6 RED SPOTTY PAPER PLATES\", \"SET/6 RED SPOTTY PAPER CUPS\"], [\"SET/20 RED RETROSPOT PAPER NAPKINS \", \"SET/6 RED SPOTTY PAPER CUPS\"], [\"SET/20 RED RETROSPOT PAPER NAPKINS \", \"POSTAGE\"], [\"ALARM CLOCK BAKELIKE PINK\", \"ALARM CLOCK BAKELIKE RED \"], [\"SET/20 RED RETROSPOT PAPER NAPKINS \", \"POSTAGE\"], [\"ALARM CLOCK BAKELIKE GREEN\", \"ALARM CLOCK BAKELIKE PINK\"], [\"PLASTERS IN TIN WOODLAND ANIMALS\", \"PLASTERS IN TIN SPACEBOY\"], [\"SET/6 RED SPOTTY PAPER CUPS\", \"POSTAGE\"], [\"PLASTERS IN TIN WOODLAND ANIMALS\", \"PLASTERS IN TIN SPACEBOY\"], [\"PLASTERS IN TIN WOODLAND ANIMALS\", \"PLASTERS IN TIN CIRCUS PARADE \"], [\"ALARM CLOCK BAKELIKE PINK\", \"POSTAGE\"], [\"PLASTERS IN TIN SPACEBOY\", \"PLASTERS IN TIN WOODLAND ANIMALS\"], [\"PLASTERS IN TIN WOODLAND ANIMALS\", \"PLASTERS IN TIN CIRCUS PARADE \"], [\"SET/6 RED SPOTTY PAPER CUPS\", \"POSTAGE\"], [\"PLASTERS IN TIN CIRCUS PARADE \", \"PLASTERS IN TIN WOODLAND ANIMALS\"], [\"LUNCH BAG APPLE DESIGN\", \"LUNCH BAG RED RETROSPOT\"], [\"ROUND SNACK BOXES SET OF 4 FRUITS \", \"ROUND SNACK BOXES SET OF4 WOODLAND \"], [\"SPACEBOY LUNCH BOX \", \"DOLLY GIRL LUNCH BOX\"], [\"POSTAGE\", \"PLASTERS IN TIN WOODLAND ANIMALS\"], [\"LUNCH BAG WOODLAND\", \"LUNCH BAG SPACEBOY DESIGN \"], [\"LUNCH BAG SPACEBOY DESIGN \", \"LUNCH BAG WOODLAND\"], [\"LUNCH BAG SPACEBOY DESIGN \", \"LUNCH BAG RED RETROSPOT\"], [\"LUNCH BAG SPACEBOY DESIGN \", \"LUNCH BAG APPLE DESIGN\"], [\"PLASTERS IN TIN CIRCUS PARADE \", \"PLASTERS IN TIN SPACEBOY\"], [\"PLASTERS IN TIN SPACEBOY\", \"POSTAGE\"], [\"STRAWBERRY LUNCH BOX WITH CUTLERY\", \"LUNCH BOX WITH CUTLERY RETROSPOT \"], [\"LUNCH BAG APPLE DESIGN\", \"LUNCH BAG RED RETROSPOT\"], [\"LUNCH BAG APPLE DESIGN\", \"LUNCH BAG SPACEBOY DESIGN \"], [\"POSTAGE\", \"PLASTERS IN TIN SPACEBOY\"], [\"LUNCH BAG RED RETROSPOT\", \"LUNCH BAG APPLE DESIGN\"]], \"hovertemplate\": \"support=%{x}<br>confidence=%{y}<br>lift=%{z}<br>antecedents=%{customdata[0]}<br>consequents=%{customdata[1]}<br>antecedent support=%{marker.color}<extra></extra>\", \"legendgroup\": \"\", \"marker\": {\"color\": [0.0651, 0.0868, 0.0868, 0.0716, 0.0716, 0.0564, 0.0542, 0.1085, 0.0911, 0.0803, 0.1041, 0.0629, 0.0586, 0.0586, 0.0586, 0.0564, 0.0803, 0.1388, 0.0672, 0.0629, 0.0629, 0.1171, 0.0868, 0.0694, 0.0998, 0.1627, 0.0629, 0.0629, 0.0629, 0.1562, 0.0933, 0.0607, 0.1475, 0.1171, 0.102, 0.0716, 0.0846, 0.0824, 0.0824, 0.1085, 0.0803, 0.0651, 0.1041, 0.0629, 0.1128, 0.0868, 0.0868, 0.0868, 0.0868, 0.0738, 0.0846, 0.1085, 0.1193, 0.1193, 0.1041, 0.0672, 0.1453, 0.0781, 0.0889, 0.0868, 0.0868, 0.0868, 0.1085, 0.1085, 0.0846, 0.1236, 0.1323, 0.0911, 0.0803, 0.0694, 0.0889, 0.1085, 0.1171, 0.1063, 0.1128, 0.1128, 0.0933, 0.0933, 0.0738, 0.0911, 0.0803, 0.0781, 0.1128, 0.1041, 0.1193, 0.0933, 0.0846, 0.0759, 0.1171, 0.1171, 0.0976, 0.0716, 0.0868, 0.0868, 0.0868, 0.1171, 0.0846, 0.0998, 0.0803, 0.0868, 0.0998, 0.0759, 0.0803, 0.0868, 0.1041, 0.1085, 0.0889, 0.1193, 0.0868, 0.0976, 0.0846, 0.1085, 0.1128, 0.1128, 0.0868, 0.1128, 0.0846, 0.1453, 0.1171, 0.1171, 0.1171, 0.0868, 0.1193, 0.1453, 0.1171, 0.1475, 0.0889, 0.0933, 0.1063, 0.1258, 0.102, 0.1041, 0.1041, 0.1041, 0.1475, 0.1193, 0.1041, 0.1085, 0.1085, 0.1258, 0.1041], \"coloraxis\": \"coloraxis\", \"opacity\": 0.7, \"symbol\": \"circle\"}, \"mode\": \"markers\", \"name\": \"\", \"scene\": \"scene\", \"showlegend\": false, \"type\": \"scatter3d\", \"x\": [0.0651, 0.0846, 0.0846, 0.0694, 0.0694, 0.0542, 0.0521, 0.1041, 0.0868, 0.0759, 0.0976, 0.0586, 0.0542, 0.0542, 0.0542, 0.0521, 0.0738, 0.1258, 0.0607, 0.0564, 0.0564, 0.1041, 0.0759, 0.0607, 0.0868, 0.141, 0.0542, 0.0542, 0.0542, 0.1345, 0.0803, 0.0521, 0.1258, 0.0998, 0.0868, 0.0607, 0.0716, 0.0694, 0.0694, 0.0911, 0.0672, 0.0542, 0.0868, 0.0521, 0.0933, 0.0716, 0.0716, 0.0716, 0.0716, 0.0607, 0.0694, 0.0889, 0.0976, 0.0976, 0.0846, 0.0542, 0.1171, 0.0629, 0.0716, 0.0694, 0.0694, 0.0694, 0.0868, 0.0868, 0.0672, 0.0976, 0.1041, 0.0716, 0.0629, 0.0542, 0.0694, 0.0846, 0.0911, 0.0824, 0.0868, 0.0868, 0.0716, 0.0716, 0.0564, 0.0694, 0.0607, 0.0586, 0.0846, 0.0781, 0.0889, 0.0694, 0.0629, 0.0564, 0.0868, 0.0868, 0.0716, 0.0521, 0.0629, 0.0629, 0.0629, 0.0846, 0.0607, 0.0716, 0.0564, 0.0607, 0.0694, 0.0521, 0.0542, 0.0586, 0.0694, 0.0716, 0.0586, 0.0781, 0.0564, 0.0629, 0.0542, 0.0694, 0.0716, 0.0716, 0.0542, 0.0694, 0.0521, 0.0889, 0.0716, 0.0716, 0.0716, 0.0521, 0.0716, 0.0868, 0.0694, 0.0868, 0.0521, 0.0542, 0.0607, 0.0716, 0.0564, 0.0564, 0.0564, 0.0564, 0.0781, 0.0629, 0.0542, 0.0564, 0.0564, 0.0629, 0.0521], \"y\": [1.0, 0.975, 0.975, 0.9697, 0.9697, 0.9615, 0.96, 0.96, 0.9524, 0.9459, 0.9375, 0.931, 0.9259, 0.9259, 0.9259, 0.9231, 0.9189, 0.9063, 0.9032, 0.8966, 0.8966, 0.8889, 0.875, 0.875, 0.8696, 0.8667, 0.8621, 0.8621, 0.8621, 0.8611, 0.8605, 0.8571, 0.8529, 0.8519, 0.8511, 0.8485, 0.8462, 0.8421, 0.8421, 0.84, 0.8378, 0.8333, 0.8333, 0.8276, 0.8269, 0.825, 0.825, 0.825, 0.825, 0.8235, 0.8205, 0.82, 0.8182, 0.8182, 0.8125, 0.8065, 0.806, 0.8056, 0.8049, 0.8, 0.8, 0.8, 0.8, 0.8, 0.7949, 0.7895, 0.7869, 0.7857, 0.7838, 0.7812, 0.7805, 0.78, 0.7778, 0.7755, 0.7692, 0.7692, 0.7674, 0.7674, 0.7647, 0.7619, 0.7568, 0.75, 0.75, 0.75, 0.7455, 0.7442, 0.7436, 0.7429, 0.7407, 0.7407, 0.7333, 0.7273, 0.725, 0.725, 0.725, 0.7222, 0.7179, 0.7174, 0.7027, 0.7, 0.6957, 0.6857, 0.6757, 0.675, 0.6667, 0.66, 0.6585, 0.6545, 0.65, 0.6444, 0.641, 0.64, 0.6346, 0.6346, 0.625, 0.6154, 0.6154, 0.6119, 0.6111, 0.6111, 0.6111, 0.6, 0.6, 0.597, 0.5926, 0.5882, 0.5854, 0.5814, 0.5714, 0.569, 0.5532, 0.5417, 0.5417, 0.5417, 0.5294, 0.5273, 0.5208, 0.52, 0.52, 0.5, 0.5], \"z\": [1.4823, 8.3236, 8.9895, 8.2783, 8.9406, 1.4253, 1.423, 8.1956, 8.1305, 1.4022, 1.3897, 1.3801, 1.3725, 14.719, 1.3725, 1.3683, 1.3621, 1.3433, 1.3389, 1.329, 1.329, 8.1956, 1.297, 1.297, 8.0174, 1.2847, 14.719, 10.7409, 10.1901, 1.2764, 1.2755, 1.2706, 1.2643, 1.2627, 1.2615, 10.5717, 1.2543, 1.2483, 1.2483, 1.2451, 9.9037, 1.2353, 1.2353, 1.2267, 1.2258, 1.2229, 1.2229, 1.2229, 1.2229, 9.7345, 1.2163, 1.2155, 1.2128, 1.2128, 7.2031, 9.2944, 1.1947, 1.1941, 1.1931, 8.0174, 8.781, 7.0923, 7.0923, 8.0174, 9.9037, 1.1702, 1.1664, 6.9657, 9.0331, 1.1581, 1.1569, 8.9895, 1.1529, 1.1496, 7.0923, 6.567, 7.0758, 6.5517, 8.8132, 8.781, 10.5717, 5.1604, 7.2031, 1.1117, 5.1292, 7.1473, 8.5699, 9.2556, 8.1305, 6.567, 5.0458, 8.3818, 8.5699, 9.0331, 1.0747, 8.3236, 9.7345, 6.3599, 9.2556, 6.5857, 8.0174, 8.1055, 10.7409, 5.6577, 7.1473, 7.0758, 4.4645, 4.4374, 8.8132, 4.369, 10.1901, 8.9406, 6.3599, 6.9657, 9.2944, 7.0923, 8.1055, 5.1292, 6.5517, 5.1222, 4.143, 8.3818, 5.1222, 4.0474, 8.2783, 4.0474, 4.4238, 4.1879, 6.5857, 3.9148, 5.3129, 5.3129, 4.0936, 4.9942, 4.4374, 4.1909, 4.2124, 3.9298, 4.9942, 4.1909, 4.61]}],                        {\"coloraxis\": {\"colorbar\": {\"title\": {\"text\": \"antecedent support\"}}, \"colorscale\": [[0.0, \"#0d0887\"], [0.1111111111111111, \"#46039f\"], [0.2222222222222222, \"#7201a8\"], [0.3333333333333333, \"#9c179e\"], [0.4444444444444444, \"#bd3786\"], [0.5555555555555556, \"#d8576b\"], [0.6666666666666666, \"#ed7953\"], [0.7777777777777778, \"#fb9f3a\"], [0.8888888888888888, \"#fdca26\"], [1.0, \"#f0f921\"]]}, \"height\": 800, \"legend\": {\"tracegroupgap\": 0}, \"scene\": {\"domain\": {\"x\": [0.0, 1.0], \"y\": [0.0, 1.0]}, \"xaxis\": {\"title\": {\"text\": \"support\"}}, \"yaxis\": {\"title\": {\"text\": \"confidence\"}}, \"zaxis\": {\"title\": {\"text\": \"lift\"}}}, \"template\": {\"data\": {\"bar\": [{\"error_x\": {\"color\": \"#2a3f5f\"}, \"error_y\": {\"color\": \"#2a3f5f\"}, \"marker\": {\"line\": {\"color\": \"#E5ECF6\", \"width\": 0.5}}, \"type\": \"bar\"}], \"barpolar\": [{\"marker\": {\"line\": {\"color\": \"#E5ECF6\", \"width\": 0.5}}, \"type\": \"barpolar\"}], \"carpet\": [{\"aaxis\": {\"endlinecolor\": \"#2a3f5f\", \"gridcolor\": \"white\", \"linecolor\": \"white\", \"minorgridcolor\": \"white\", \"startlinecolor\": \"#2a3f5f\"}, \"baxis\": {\"endlinecolor\": \"#2a3f5f\", \"gridcolor\": \"white\", \"linecolor\": \"white\", \"minorgridcolor\": \"white\", \"startlinecolor\": \"#2a3f5f\"}, \"type\": \"carpet\"}], \"choropleth\": [{\"colorbar\": {\"outlinewidth\": 0, \"ticks\": \"\"}, \"type\": \"choropleth\"}], \"contour\": [{\"colorbar\": {\"outlinewidth\": 0, \"ticks\": \"\"}, \"colorscale\": [[0.0, \"#0d0887\"], [0.1111111111111111, \"#46039f\"], [0.2222222222222222, \"#7201a8\"], [0.3333333333333333, \"#9c179e\"], [0.4444444444444444, \"#bd3786\"], [0.5555555555555556, \"#d8576b\"], [0.6666666666666666, \"#ed7953\"], [0.7777777777777778, \"#fb9f3a\"], [0.8888888888888888, \"#fdca26\"], [1.0, \"#f0f921\"]], \"type\": \"contour\"}], \"contourcarpet\": [{\"colorbar\": {\"outlinewidth\": 0, \"ticks\": \"\"}, \"type\": \"contourcarpet\"}], \"heatmap\": [{\"colorbar\": {\"outlinewidth\": 0, \"ticks\": \"\"}, \"colorscale\": [[0.0, \"#0d0887\"], [0.1111111111111111, \"#46039f\"], [0.2222222222222222, \"#7201a8\"], [0.3333333333333333, \"#9c179e\"], [0.4444444444444444, \"#bd3786\"], [0.5555555555555556, \"#d8576b\"], [0.6666666666666666, \"#ed7953\"], [0.7777777777777778, \"#fb9f3a\"], [0.8888888888888888, \"#fdca26\"], [1.0, \"#f0f921\"]], \"type\": \"heatmap\"}], \"heatmapgl\": [{\"colorbar\": {\"outlinewidth\": 0, \"ticks\": \"\"}, \"colorscale\": [[0.0, \"#0d0887\"], [0.1111111111111111, \"#46039f\"], [0.2222222222222222, \"#7201a8\"], [0.3333333333333333, \"#9c179e\"], [0.4444444444444444, \"#bd3786\"], [0.5555555555555556, \"#d8576b\"], [0.6666666666666666, \"#ed7953\"], [0.7777777777777778, \"#fb9f3a\"], [0.8888888888888888, \"#fdca26\"], [1.0, \"#f0f921\"]], \"type\": \"heatmapgl\"}], \"histogram\": [{\"marker\": {\"colorbar\": {\"outlinewidth\": 0, \"ticks\": \"\"}}, \"type\": \"histogram\"}], \"histogram2d\": [{\"colorbar\": {\"outlinewidth\": 0, \"ticks\": \"\"}, \"colorscale\": [[0.0, \"#0d0887\"], [0.1111111111111111, \"#46039f\"], [0.2222222222222222, \"#7201a8\"], [0.3333333333333333, \"#9c179e\"], [0.4444444444444444, \"#bd3786\"], [0.5555555555555556, \"#d8576b\"], [0.6666666666666666, \"#ed7953\"], [0.7777777777777778, \"#fb9f3a\"], [0.8888888888888888, \"#fdca26\"], [1.0, \"#f0f921\"]], \"type\": \"histogram2d\"}], \"histogram2dcontour\": [{\"colorbar\": {\"outlinewidth\": 0, \"ticks\": \"\"}, \"colorscale\": [[0.0, \"#0d0887\"], [0.1111111111111111, \"#46039f\"], [0.2222222222222222, \"#7201a8\"], [0.3333333333333333, \"#9c179e\"], [0.4444444444444444, \"#bd3786\"], [0.5555555555555556, \"#d8576b\"], [0.6666666666666666, \"#ed7953\"], [0.7777777777777778, \"#fb9f3a\"], [0.8888888888888888, \"#fdca26\"], [1.0, \"#f0f921\"]], \"type\": \"histogram2dcontour\"}], \"mesh3d\": [{\"colorbar\": {\"outlinewidth\": 0, \"ticks\": \"\"}, \"type\": \"mesh3d\"}], \"parcoords\": [{\"line\": {\"colorbar\": {\"outlinewidth\": 0, \"ticks\": \"\"}}, \"type\": \"parcoords\"}], \"pie\": [{\"automargin\": true, \"type\": \"pie\"}], \"scatter\": [{\"marker\": {\"colorbar\": {\"outlinewidth\": 0, \"ticks\": \"\"}}, \"type\": \"scatter\"}], \"scatter3d\": [{\"line\": {\"colorbar\": {\"outlinewidth\": 0, \"ticks\": \"\"}}, \"marker\": {\"colorbar\": {\"outlinewidth\": 0, \"ticks\": \"\"}}, \"type\": \"scatter3d\"}], \"scattercarpet\": [{\"marker\": {\"colorbar\": {\"outlinewidth\": 0, \"ticks\": \"\"}}, \"type\": \"scattercarpet\"}], \"scattergeo\": [{\"marker\": {\"colorbar\": {\"outlinewidth\": 0, \"ticks\": \"\"}}, \"type\": \"scattergeo\"}], \"scattergl\": [{\"marker\": {\"colorbar\": {\"outlinewidth\": 0, \"ticks\": \"\"}}, \"type\": \"scattergl\"}], \"scattermapbox\": [{\"marker\": {\"colorbar\": {\"outlinewidth\": 0, \"ticks\": \"\"}}, \"type\": \"scattermapbox\"}], \"scatterpolar\": [{\"marker\": {\"colorbar\": {\"outlinewidth\": 0, \"ticks\": \"\"}}, \"type\": \"scatterpolar\"}], \"scatterpolargl\": [{\"marker\": {\"colorbar\": {\"outlinewidth\": 0, \"ticks\": \"\"}}, \"type\": \"scatterpolargl\"}], \"scatterternary\": [{\"marker\": {\"colorbar\": {\"outlinewidth\": 0, \"ticks\": \"\"}}, \"type\": \"scatterternary\"}], \"surface\": [{\"colorbar\": {\"outlinewidth\": 0, \"ticks\": \"\"}, \"colorscale\": [[0.0, \"#0d0887\"], [0.1111111111111111, \"#46039f\"], [0.2222222222222222, \"#7201a8\"], [0.3333333333333333, \"#9c179e\"], [0.4444444444444444, \"#bd3786\"], [0.5555555555555556, \"#d8576b\"], [0.6666666666666666, \"#ed7953\"], [0.7777777777777778, \"#fb9f3a\"], [0.8888888888888888, \"#fdca26\"], [1.0, \"#f0f921\"]], \"type\": \"surface\"}], \"table\": [{\"cells\": {\"fill\": {\"color\": \"#EBF0F8\"}, \"line\": {\"color\": \"white\"}}, \"header\": {\"fill\": {\"color\": \"#C8D4E3\"}, \"line\": {\"color\": \"white\"}}, \"type\": \"table\"}]}, \"layout\": {\"annotationdefaults\": {\"arrowcolor\": \"#2a3f5f\", \"arrowhead\": 0, \"arrowwidth\": 1}, \"autotypenumbers\": \"strict\", \"coloraxis\": {\"colorbar\": {\"outlinewidth\": 0, \"ticks\": \"\"}}, \"colorscale\": {\"diverging\": [[0, \"#8e0152\"], [0.1, \"#c51b7d\"], [0.2, \"#de77ae\"], [0.3, \"#f1b6da\"], [0.4, \"#fde0ef\"], [0.5, \"#f7f7f7\"], [0.6, \"#e6f5d0\"], [0.7, \"#b8e186\"], [0.8, \"#7fbc41\"], [0.9, \"#4d9221\"], [1, \"#276419\"]], \"sequential\": [[0.0, \"#0d0887\"], [0.1111111111111111, \"#46039f\"], [0.2222222222222222, \"#7201a8\"], [0.3333333333333333, \"#9c179e\"], [0.4444444444444444, \"#bd3786\"], [0.5555555555555556, \"#d8576b\"], [0.6666666666666666, \"#ed7953\"], [0.7777777777777778, \"#fb9f3a\"], [0.8888888888888888, \"#fdca26\"], [1.0, \"#f0f921\"]], \"sequentialminus\": [[0.0, \"#0d0887\"], [0.1111111111111111, \"#46039f\"], [0.2222222222222222, \"#7201a8\"], [0.3333333333333333, \"#9c179e\"], [0.4444444444444444, \"#bd3786\"], [0.5555555555555556, \"#d8576b\"], [0.6666666666666666, \"#ed7953\"], [0.7777777777777778, \"#fb9f3a\"], [0.8888888888888888, \"#fdca26\"], [1.0, \"#f0f921\"]]}, \"colorway\": [\"#636efa\", \"#EF553B\", \"#00cc96\", \"#ab63fa\", \"#FFA15A\", \"#19d3f3\", \"#FF6692\", \"#B6E880\", \"#FF97FF\", \"#FECB52\"], \"font\": {\"color\": \"#2a3f5f\"}, \"geo\": {\"bgcolor\": \"white\", \"lakecolor\": \"white\", \"landcolor\": \"#E5ECF6\", \"showlakes\": true, \"showland\": true, \"subunitcolor\": \"white\"}, \"hoverlabel\": {\"align\": \"left\"}, \"hovermode\": \"closest\", \"mapbox\": {\"style\": \"light\"}, \"paper_bgcolor\": \"white\", \"plot_bgcolor\": \"#E5ECF6\", \"polar\": {\"angularaxis\": {\"gridcolor\": \"white\", \"linecolor\": \"white\", \"ticks\": \"\"}, \"bgcolor\": \"#E5ECF6\", \"radialaxis\": {\"gridcolor\": \"white\", \"linecolor\": \"white\", \"ticks\": \"\"}}, \"scene\": {\"xaxis\": {\"backgroundcolor\": \"#E5ECF6\", \"gridcolor\": \"white\", \"gridwidth\": 2, \"linecolor\": \"white\", \"showbackground\": true, \"ticks\": \"\", \"zerolinecolor\": \"white\"}, \"yaxis\": {\"backgroundcolor\": \"#E5ECF6\", \"gridcolor\": \"white\", \"gridwidth\": 2, \"linecolor\": \"white\", \"showbackground\": true, \"ticks\": \"\", \"zerolinecolor\": \"white\"}, \"zaxis\": {\"backgroundcolor\": \"#E5ECF6\", \"gridcolor\": \"white\", \"gridwidth\": 2, \"linecolor\": \"white\", \"showbackground\": true, \"ticks\": \"\", \"zerolinecolor\": \"white\"}}, \"shapedefaults\": {\"line\": {\"color\": \"#2a3f5f\"}}, \"ternary\": {\"aaxis\": {\"gridcolor\": \"white\", \"linecolor\": \"white\", \"ticks\": \"\"}, \"baxis\": {\"gridcolor\": \"white\", \"linecolor\": \"white\", \"ticks\": \"\"}, \"bgcolor\": \"#E5ECF6\", \"caxis\": {\"gridcolor\": \"white\", \"linecolor\": \"white\", \"ticks\": \"\"}}, \"title\": {\"x\": 0.05}, \"xaxis\": {\"automargin\": true, \"gridcolor\": \"white\", \"linecolor\": \"white\", \"ticks\": \"\", \"title\": {\"standoff\": 15}, \"zerolinecolor\": \"white\", \"zerolinewidth\": 2}, \"yaxis\": {\"automargin\": true, \"gridcolor\": \"white\", \"linecolor\": \"white\", \"ticks\": \"\", \"title\": {\"standoff\": 15}, \"zerolinecolor\": \"white\", \"zerolinewidth\": 2}}}, \"title\": {\"text\": \"3d Plot for Rule Mining\"}, \"width\": 900},                        {\"responsive\": true}                    ).then(function(){\n",
       "                            \n",
       "var gd = document.getElementById('ab8768aa-e7b2-45d8-986e-e0b63d86af54');\n",
       "var x = new MutationObserver(function (mutations, observer) {{\n",
       "        var display = window.getComputedStyle(gd).display;\n",
       "        if (!display || display === 'none') {{\n",
       "            console.log([gd, 'removed!']);\n",
       "            Plotly.purge(gd);\n",
       "            observer.disconnect();\n",
       "        }}\n",
       "}});\n",
       "\n",
       "// Listen for the removal of the full notebook cells\n",
       "var notebookContainer = gd.closest('#notebook-container');\n",
       "if (notebookContainer) {{\n",
       "    x.observe(notebookContainer, {childList: true});\n",
       "}}\n",
       "\n",
       "// Listen for the clearing of the current output cell\n",
       "var outputEl = gd.closest('.output');\n",
       "if (outputEl) {{\n",
       "    x.observe(outputEl, {childList: true});\n",
       "}}\n",
       "\n",
       "                        })                };                });            </script>        </div>"
      ]
     },
     "metadata": {},
     "output_type": "display_data"
    }
   ],
   "source": [
    "plot_model(model, plot='3d')"
   ]
  },
  {
   "cell_type": "code",
   "execution_count": 68,
   "metadata": {},
   "outputs": [
    {
     "data": {
      "text/html": [
       "<div>\n",
       "<style scoped>\n",
       "    .dataframe tbody tr th:only-of-type {\n",
       "        vertical-align: middle;\n",
       "    }\n",
       "\n",
       "    .dataframe tbody tr th {\n",
       "        vertical-align: top;\n",
       "    }\n",
       "\n",
       "    .dataframe thead th {\n",
       "        text-align: right;\n",
       "    }\n",
       "</style>\n",
       "<table border=\"1\" class=\"dataframe\">\n",
       "  <thead>\n",
       "    <tr style=\"text-align: right;\">\n",
       "      <th></th>\n",
       "      <th>Dataset</th>\n",
       "      <th>Data Types</th>\n",
       "      <th>Default Task</th>\n",
       "      <th>Target Variable 1</th>\n",
       "      <th>Target Variable 2</th>\n",
       "      <th># Instances</th>\n",
       "      <th># Attributes</th>\n",
       "      <th>Missing Values</th>\n",
       "    </tr>\n",
       "  </thead>\n",
       "  <tbody>\n",
       "    <tr>\n",
       "      <th>0</th>\n",
       "      <td>anomaly</td>\n",
       "      <td>Multivariate</td>\n",
       "      <td>Anomaly Detection</td>\n",
       "      <td>None</td>\n",
       "      <td>None</td>\n",
       "      <td>1000</td>\n",
       "      <td>10</td>\n",
       "      <td>N</td>\n",
       "    </tr>\n",
       "    <tr>\n",
       "      <th>1</th>\n",
       "      <td>france</td>\n",
       "      <td>Multivariate</td>\n",
       "      <td>Association Rule Mining</td>\n",
       "      <td>InvoiceNo</td>\n",
       "      <td>Description</td>\n",
       "      <td>8557</td>\n",
       "      <td>8</td>\n",
       "      <td>N</td>\n",
       "    </tr>\n",
       "    <tr>\n",
       "      <th>2</th>\n",
       "      <td>germany</td>\n",
       "      <td>Multivariate</td>\n",
       "      <td>Association Rule Mining</td>\n",
       "      <td>InvoiceNo</td>\n",
       "      <td>Description</td>\n",
       "      <td>9495</td>\n",
       "      <td>8</td>\n",
       "      <td>N</td>\n",
       "    </tr>\n",
       "    <tr>\n",
       "      <th>3</th>\n",
       "      <td>bank</td>\n",
       "      <td>Multivariate</td>\n",
       "      <td>Classification (Binary)</td>\n",
       "      <td>deposit</td>\n",
       "      <td>None</td>\n",
       "      <td>45211</td>\n",
       "      <td>17</td>\n",
       "      <td>N</td>\n",
       "    </tr>\n",
       "    <tr>\n",
       "      <th>4</th>\n",
       "      <td>blood</td>\n",
       "      <td>Multivariate</td>\n",
       "      <td>Classification (Binary)</td>\n",
       "      <td>Class</td>\n",
       "      <td>None</td>\n",
       "      <td>748</td>\n",
       "      <td>5</td>\n",
       "      <td>N</td>\n",
       "    </tr>\n",
       "    <tr>\n",
       "      <th>5</th>\n",
       "      <td>cancer</td>\n",
       "      <td>Multivariate</td>\n",
       "      <td>Classification (Binary)</td>\n",
       "      <td>Class</td>\n",
       "      <td>None</td>\n",
       "      <td>683</td>\n",
       "      <td>10</td>\n",
       "      <td>N</td>\n",
       "    </tr>\n",
       "    <tr>\n",
       "      <th>6</th>\n",
       "      <td>credit</td>\n",
       "      <td>Multivariate</td>\n",
       "      <td>Classification (Binary)</td>\n",
       "      <td>default</td>\n",
       "      <td>None</td>\n",
       "      <td>24000</td>\n",
       "      <td>24</td>\n",
       "      <td>N</td>\n",
       "    </tr>\n",
       "    <tr>\n",
       "      <th>7</th>\n",
       "      <td>diabetes</td>\n",
       "      <td>Multivariate</td>\n",
       "      <td>Classification (Binary)</td>\n",
       "      <td>Class variable</td>\n",
       "      <td>None</td>\n",
       "      <td>768</td>\n",
       "      <td>9</td>\n",
       "      <td>N</td>\n",
       "    </tr>\n",
       "    <tr>\n",
       "      <th>8</th>\n",
       "      <td>electrical_grid</td>\n",
       "      <td>Multivariate</td>\n",
       "      <td>Classification (Binary)</td>\n",
       "      <td>stabf</td>\n",
       "      <td>None</td>\n",
       "      <td>10000</td>\n",
       "      <td>14</td>\n",
       "      <td>N</td>\n",
       "    </tr>\n",
       "    <tr>\n",
       "      <th>9</th>\n",
       "      <td>employee</td>\n",
       "      <td>Multivariate</td>\n",
       "      <td>Classification (Binary)</td>\n",
       "      <td>left</td>\n",
       "      <td>None</td>\n",
       "      <td>14999</td>\n",
       "      <td>10</td>\n",
       "      <td>N</td>\n",
       "    </tr>\n",
       "    <tr>\n",
       "      <th>10</th>\n",
       "      <td>heart</td>\n",
       "      <td>Multivariate</td>\n",
       "      <td>Classification (Binary)</td>\n",
       "      <td>DEATH</td>\n",
       "      <td>None</td>\n",
       "      <td>200</td>\n",
       "      <td>16</td>\n",
       "      <td>N</td>\n",
       "    </tr>\n",
       "    <tr>\n",
       "      <th>11</th>\n",
       "      <td>heart_disease</td>\n",
       "      <td>Multivariate</td>\n",
       "      <td>Classification (Binary)</td>\n",
       "      <td>Disease</td>\n",
       "      <td>None</td>\n",
       "      <td>270</td>\n",
       "      <td>14</td>\n",
       "      <td>N</td>\n",
       "    </tr>\n",
       "    <tr>\n",
       "      <th>12</th>\n",
       "      <td>hepatitis</td>\n",
       "      <td>Multivariate</td>\n",
       "      <td>Classification (Binary)</td>\n",
       "      <td>Class</td>\n",
       "      <td>None</td>\n",
       "      <td>154</td>\n",
       "      <td>32</td>\n",
       "      <td>Y</td>\n",
       "    </tr>\n",
       "    <tr>\n",
       "      <th>13</th>\n",
       "      <td>income</td>\n",
       "      <td>Multivariate</td>\n",
       "      <td>Classification (Binary)</td>\n",
       "      <td>income &gt;50K</td>\n",
       "      <td>None</td>\n",
       "      <td>32561</td>\n",
       "      <td>14</td>\n",
       "      <td>Y</td>\n",
       "    </tr>\n",
       "    <tr>\n",
       "      <th>14</th>\n",
       "      <td>juice</td>\n",
       "      <td>Multivariate</td>\n",
       "      <td>Classification (Binary)</td>\n",
       "      <td>Purchase</td>\n",
       "      <td>None</td>\n",
       "      <td>1070</td>\n",
       "      <td>15</td>\n",
       "      <td>N</td>\n",
       "    </tr>\n",
       "    <tr>\n",
       "      <th>15</th>\n",
       "      <td>nba</td>\n",
       "      <td>Multivariate</td>\n",
       "      <td>Classification (Binary)</td>\n",
       "      <td>TARGET_5Yrs</td>\n",
       "      <td>None</td>\n",
       "      <td>1340</td>\n",
       "      <td>21</td>\n",
       "      <td>N</td>\n",
       "    </tr>\n",
       "    <tr>\n",
       "      <th>16</th>\n",
       "      <td>wine</td>\n",
       "      <td>Multivariate</td>\n",
       "      <td>Classification (Binary)</td>\n",
       "      <td>type</td>\n",
       "      <td>None</td>\n",
       "      <td>6498</td>\n",
       "      <td>13</td>\n",
       "      <td>N</td>\n",
       "    </tr>\n",
       "    <tr>\n",
       "      <th>17</th>\n",
       "      <td>telescope</td>\n",
       "      <td>Multivariate</td>\n",
       "      <td>Classification (Binary)</td>\n",
       "      <td>Class</td>\n",
       "      <td>None</td>\n",
       "      <td>19020</td>\n",
       "      <td>11</td>\n",
       "      <td>N</td>\n",
       "    </tr>\n",
       "    <tr>\n",
       "      <th>18</th>\n",
       "      <td>titanic</td>\n",
       "      <td>Multivariate</td>\n",
       "      <td>Classification (Binary)</td>\n",
       "      <td>Survived</td>\n",
       "      <td>None</td>\n",
       "      <td>891</td>\n",
       "      <td>11</td>\n",
       "      <td>Y</td>\n",
       "    </tr>\n",
       "    <tr>\n",
       "      <th>19</th>\n",
       "      <td>us_presidential_election_results</td>\n",
       "      <td>Multivariate</td>\n",
       "      <td>Classification (Binary)</td>\n",
       "      <td>party_winner</td>\n",
       "      <td>None</td>\n",
       "      <td>497</td>\n",
       "      <td>7</td>\n",
       "      <td>N</td>\n",
       "    </tr>\n",
       "    <tr>\n",
       "      <th>20</th>\n",
       "      <td>glass</td>\n",
       "      <td>Multivariate</td>\n",
       "      <td>Classification (Multiclass)</td>\n",
       "      <td>Type</td>\n",
       "      <td>None</td>\n",
       "      <td>214</td>\n",
       "      <td>10</td>\n",
       "      <td>N</td>\n",
       "    </tr>\n",
       "    <tr>\n",
       "      <th>21</th>\n",
       "      <td>iris</td>\n",
       "      <td>Multivariate</td>\n",
       "      <td>Classification (Multiclass)</td>\n",
       "      <td>species</td>\n",
       "      <td>None</td>\n",
       "      <td>150</td>\n",
       "      <td>5</td>\n",
       "      <td>N</td>\n",
       "    </tr>\n",
       "    <tr>\n",
       "      <th>22</th>\n",
       "      <td>poker</td>\n",
       "      <td>Multivariate</td>\n",
       "      <td>Classification (Multiclass)</td>\n",
       "      <td>CLASS</td>\n",
       "      <td>None</td>\n",
       "      <td>100000</td>\n",
       "      <td>11</td>\n",
       "      <td>N</td>\n",
       "    </tr>\n",
       "    <tr>\n",
       "      <th>23</th>\n",
       "      <td>questions</td>\n",
       "      <td>Multivariate</td>\n",
       "      <td>Classification (Multiclass)</td>\n",
       "      <td>Next_Question</td>\n",
       "      <td>None</td>\n",
       "      <td>499</td>\n",
       "      <td>4</td>\n",
       "      <td>N</td>\n",
       "    </tr>\n",
       "    <tr>\n",
       "      <th>24</th>\n",
       "      <td>satellite</td>\n",
       "      <td>Multivariate</td>\n",
       "      <td>Classification (Multiclass)</td>\n",
       "      <td>Class</td>\n",
       "      <td>None</td>\n",
       "      <td>6435</td>\n",
       "      <td>37</td>\n",
       "      <td>N</td>\n",
       "    </tr>\n",
       "    <tr>\n",
       "      <th>25</th>\n",
       "      <td>CTG</td>\n",
       "      <td>Multivariate</td>\n",
       "      <td>Classification (Multiclass)</td>\n",
       "      <td>NSP</td>\n",
       "      <td>None</td>\n",
       "      <td>2129</td>\n",
       "      <td>40</td>\n",
       "      <td>Y</td>\n",
       "    </tr>\n",
       "    <tr>\n",
       "      <th>26</th>\n",
       "      <td>asia_gdp</td>\n",
       "      <td>Multivariate</td>\n",
       "      <td>Clustering</td>\n",
       "      <td>None</td>\n",
       "      <td>None</td>\n",
       "      <td>40</td>\n",
       "      <td>11</td>\n",
       "      <td>N</td>\n",
       "    </tr>\n",
       "    <tr>\n",
       "      <th>27</th>\n",
       "      <td>elections</td>\n",
       "      <td>Multivariate</td>\n",
       "      <td>Clustering</td>\n",
       "      <td>None</td>\n",
       "      <td>None</td>\n",
       "      <td>3195</td>\n",
       "      <td>54</td>\n",
       "      <td>Y</td>\n",
       "    </tr>\n",
       "    <tr>\n",
       "      <th>28</th>\n",
       "      <td>facebook</td>\n",
       "      <td>Multivariate</td>\n",
       "      <td>Clustering</td>\n",
       "      <td>None</td>\n",
       "      <td>None</td>\n",
       "      <td>7050</td>\n",
       "      <td>12</td>\n",
       "      <td>N</td>\n",
       "    </tr>\n",
       "    <tr>\n",
       "      <th>29</th>\n",
       "      <td>ipl</td>\n",
       "      <td>Multivariate</td>\n",
       "      <td>Clustering</td>\n",
       "      <td>None</td>\n",
       "      <td>None</td>\n",
       "      <td>153</td>\n",
       "      <td>25</td>\n",
       "      <td>N</td>\n",
       "    </tr>\n",
       "    <tr>\n",
       "      <th>30</th>\n",
       "      <td>jewellery</td>\n",
       "      <td>Multivariate</td>\n",
       "      <td>Clustering</td>\n",
       "      <td>None</td>\n",
       "      <td>None</td>\n",
       "      <td>505</td>\n",
       "      <td>4</td>\n",
       "      <td>N</td>\n",
       "    </tr>\n",
       "    <tr>\n",
       "      <th>31</th>\n",
       "      <td>mice</td>\n",
       "      <td>Multivariate</td>\n",
       "      <td>Clustering</td>\n",
       "      <td>None</td>\n",
       "      <td>None</td>\n",
       "      <td>1080</td>\n",
       "      <td>82</td>\n",
       "      <td>Y</td>\n",
       "    </tr>\n",
       "    <tr>\n",
       "      <th>32</th>\n",
       "      <td>migration</td>\n",
       "      <td>Multivariate</td>\n",
       "      <td>Clustering</td>\n",
       "      <td>None</td>\n",
       "      <td>None</td>\n",
       "      <td>233</td>\n",
       "      <td>12</td>\n",
       "      <td>N</td>\n",
       "    </tr>\n",
       "    <tr>\n",
       "      <th>33</th>\n",
       "      <td>perfume</td>\n",
       "      <td>Multivariate</td>\n",
       "      <td>Clustering</td>\n",
       "      <td>None</td>\n",
       "      <td>None</td>\n",
       "      <td>20</td>\n",
       "      <td>29</td>\n",
       "      <td>N</td>\n",
       "    </tr>\n",
       "    <tr>\n",
       "      <th>34</th>\n",
       "      <td>pokemon</td>\n",
       "      <td>Multivariate</td>\n",
       "      <td>Clustering</td>\n",
       "      <td>None</td>\n",
       "      <td>None</td>\n",
       "      <td>800</td>\n",
       "      <td>13</td>\n",
       "      <td>Y</td>\n",
       "    </tr>\n",
       "    <tr>\n",
       "      <th>35</th>\n",
       "      <td>population</td>\n",
       "      <td>Multivariate</td>\n",
       "      <td>Clustering</td>\n",
       "      <td>None</td>\n",
       "      <td>None</td>\n",
       "      <td>255</td>\n",
       "      <td>56</td>\n",
       "      <td>Y</td>\n",
       "    </tr>\n",
       "    <tr>\n",
       "      <th>36</th>\n",
       "      <td>public_health</td>\n",
       "      <td>Multivariate</td>\n",
       "      <td>Clustering</td>\n",
       "      <td>None</td>\n",
       "      <td>None</td>\n",
       "      <td>224</td>\n",
       "      <td>21</td>\n",
       "      <td>N</td>\n",
       "    </tr>\n",
       "    <tr>\n",
       "      <th>37</th>\n",
       "      <td>seeds</td>\n",
       "      <td>Multivariate</td>\n",
       "      <td>Clustering</td>\n",
       "      <td>None</td>\n",
       "      <td>None</td>\n",
       "      <td>210</td>\n",
       "      <td>7</td>\n",
       "      <td>N</td>\n",
       "    </tr>\n",
       "    <tr>\n",
       "      <th>38</th>\n",
       "      <td>wholesale</td>\n",
       "      <td>Multivariate</td>\n",
       "      <td>Clustering</td>\n",
       "      <td>None</td>\n",
       "      <td>None</td>\n",
       "      <td>440</td>\n",
       "      <td>8</td>\n",
       "      <td>N</td>\n",
       "    </tr>\n",
       "    <tr>\n",
       "      <th>39</th>\n",
       "      <td>tweets</td>\n",
       "      <td>Text</td>\n",
       "      <td>NLP</td>\n",
       "      <td>tweet</td>\n",
       "      <td>None</td>\n",
       "      <td>8594</td>\n",
       "      <td>2</td>\n",
       "      <td>N</td>\n",
       "    </tr>\n",
       "    <tr>\n",
       "      <th>40</th>\n",
       "      <td>amazon</td>\n",
       "      <td>Text</td>\n",
       "      <td>NLP / Classification</td>\n",
       "      <td>reviewText</td>\n",
       "      <td>None</td>\n",
       "      <td>20000</td>\n",
       "      <td>2</td>\n",
       "      <td>N</td>\n",
       "    </tr>\n",
       "    <tr>\n",
       "      <th>41</th>\n",
       "      <td>kiva</td>\n",
       "      <td>Text</td>\n",
       "      <td>NLP / Classification</td>\n",
       "      <td>en</td>\n",
       "      <td>None</td>\n",
       "      <td>6818</td>\n",
       "      <td>7</td>\n",
       "      <td>N</td>\n",
       "    </tr>\n",
       "    <tr>\n",
       "      <th>42</th>\n",
       "      <td>spx</td>\n",
       "      <td>Text</td>\n",
       "      <td>NLP / Regression</td>\n",
       "      <td>text</td>\n",
       "      <td>None</td>\n",
       "      <td>874</td>\n",
       "      <td>4</td>\n",
       "      <td>N</td>\n",
       "    </tr>\n",
       "    <tr>\n",
       "      <th>43</th>\n",
       "      <td>wikipedia</td>\n",
       "      <td>Text</td>\n",
       "      <td>NLP / Classification</td>\n",
       "      <td>Text</td>\n",
       "      <td>None</td>\n",
       "      <td>500</td>\n",
       "      <td>3</td>\n",
       "      <td>N</td>\n",
       "    </tr>\n",
       "    <tr>\n",
       "      <th>44</th>\n",
       "      <td>automobile</td>\n",
       "      <td>Multivariate</td>\n",
       "      <td>Regression</td>\n",
       "      <td>price</td>\n",
       "      <td>None</td>\n",
       "      <td>202</td>\n",
       "      <td>26</td>\n",
       "      <td>Y</td>\n",
       "    </tr>\n",
       "    <tr>\n",
       "      <th>45</th>\n",
       "      <td>bike</td>\n",
       "      <td>Multivariate</td>\n",
       "      <td>Regression</td>\n",
       "      <td>cnt</td>\n",
       "      <td>None</td>\n",
       "      <td>17379</td>\n",
       "      <td>15</td>\n",
       "      <td>N</td>\n",
       "    </tr>\n",
       "    <tr>\n",
       "      <th>46</th>\n",
       "      <td>boston</td>\n",
       "      <td>Multivariate</td>\n",
       "      <td>Regression</td>\n",
       "      <td>medv</td>\n",
       "      <td>None</td>\n",
       "      <td>506</td>\n",
       "      <td>14</td>\n",
       "      <td>N</td>\n",
       "    </tr>\n",
       "    <tr>\n",
       "      <th>47</th>\n",
       "      <td>concrete</td>\n",
       "      <td>Multivariate</td>\n",
       "      <td>Regression</td>\n",
       "      <td>strength</td>\n",
       "      <td>None</td>\n",
       "      <td>1030</td>\n",
       "      <td>9</td>\n",
       "      <td>N</td>\n",
       "    </tr>\n",
       "    <tr>\n",
       "      <th>48</th>\n",
       "      <td>diamond</td>\n",
       "      <td>Multivariate</td>\n",
       "      <td>Regression</td>\n",
       "      <td>Price</td>\n",
       "      <td>None</td>\n",
       "      <td>6000</td>\n",
       "      <td>8</td>\n",
       "      <td>N</td>\n",
       "    </tr>\n",
       "    <tr>\n",
       "      <th>49</th>\n",
       "      <td>energy</td>\n",
       "      <td>Multivariate</td>\n",
       "      <td>Regression</td>\n",
       "      <td>Heating Load</td>\n",
       "      <td>Cooling Load</td>\n",
       "      <td>768</td>\n",
       "      <td>10</td>\n",
       "      <td>N</td>\n",
       "    </tr>\n",
       "    <tr>\n",
       "      <th>50</th>\n",
       "      <td>forest</td>\n",
       "      <td>Multivariate</td>\n",
       "      <td>Regression</td>\n",
       "      <td>area</td>\n",
       "      <td>None</td>\n",
       "      <td>517</td>\n",
       "      <td>13</td>\n",
       "      <td>N</td>\n",
       "    </tr>\n",
       "    <tr>\n",
       "      <th>51</th>\n",
       "      <td>gold</td>\n",
       "      <td>Multivariate</td>\n",
       "      <td>Regression</td>\n",
       "      <td>Gold_T+22</td>\n",
       "      <td>None</td>\n",
       "      <td>2558</td>\n",
       "      <td>121</td>\n",
       "      <td>N</td>\n",
       "    </tr>\n",
       "    <tr>\n",
       "      <th>52</th>\n",
       "      <td>house</td>\n",
       "      <td>Multivariate</td>\n",
       "      <td>Regression</td>\n",
       "      <td>SalePrice</td>\n",
       "      <td>None</td>\n",
       "      <td>1461</td>\n",
       "      <td>81</td>\n",
       "      <td>Y</td>\n",
       "    </tr>\n",
       "    <tr>\n",
       "      <th>53</th>\n",
       "      <td>insurance</td>\n",
       "      <td>Multivariate</td>\n",
       "      <td>Regression</td>\n",
       "      <td>charges</td>\n",
       "      <td>None</td>\n",
       "      <td>1338</td>\n",
       "      <td>7</td>\n",
       "      <td>N</td>\n",
       "    </tr>\n",
       "    <tr>\n",
       "      <th>54</th>\n",
       "      <td>parkinsons</td>\n",
       "      <td>Multivariate</td>\n",
       "      <td>Regression</td>\n",
       "      <td>PPE</td>\n",
       "      <td>None</td>\n",
       "      <td>5875</td>\n",
       "      <td>22</td>\n",
       "      <td>N</td>\n",
       "    </tr>\n",
       "    <tr>\n",
       "      <th>55</th>\n",
       "      <td>traffic</td>\n",
       "      <td>Multivariate</td>\n",
       "      <td>Regression</td>\n",
       "      <td>traffic_volume</td>\n",
       "      <td>None</td>\n",
       "      <td>48204</td>\n",
       "      <td>8</td>\n",
       "      <td>N</td>\n",
       "    </tr>\n",
       "  </tbody>\n",
       "</table>\n",
       "</div>"
      ],
      "text/plain": [
       "                             Dataset    Data Types  \\\n",
       "0                            anomaly  Multivariate   \n",
       "1                             france  Multivariate   \n",
       "2                            germany  Multivariate   \n",
       "3                               bank  Multivariate   \n",
       "4                              blood  Multivariate   \n",
       "5                             cancer  Multivariate   \n",
       "6                             credit  Multivariate   \n",
       "7                           diabetes  Multivariate   \n",
       "8                    electrical_grid  Multivariate   \n",
       "9                           employee  Multivariate   \n",
       "10                             heart  Multivariate   \n",
       "11                     heart_disease  Multivariate   \n",
       "12                         hepatitis  Multivariate   \n",
       "13                            income  Multivariate   \n",
       "14                             juice  Multivariate   \n",
       "15                               nba  Multivariate   \n",
       "16                              wine  Multivariate   \n",
       "17                         telescope  Multivariate   \n",
       "18                           titanic  Multivariate   \n",
       "19  us_presidential_election_results  Multivariate   \n",
       "20                             glass  Multivariate   \n",
       "21                              iris  Multivariate   \n",
       "22                             poker  Multivariate   \n",
       "23                         questions  Multivariate   \n",
       "24                         satellite  Multivariate   \n",
       "25                               CTG  Multivariate   \n",
       "26                          asia_gdp  Multivariate   \n",
       "27                         elections  Multivariate   \n",
       "28                          facebook  Multivariate   \n",
       "29                               ipl  Multivariate   \n",
       "30                         jewellery  Multivariate   \n",
       "31                              mice  Multivariate   \n",
       "32                         migration  Multivariate   \n",
       "33                           perfume  Multivariate   \n",
       "34                           pokemon  Multivariate   \n",
       "35                        population  Multivariate   \n",
       "36                     public_health  Multivariate   \n",
       "37                             seeds  Multivariate   \n",
       "38                         wholesale  Multivariate   \n",
       "39                            tweets          Text   \n",
       "40                            amazon          Text   \n",
       "41                              kiva          Text   \n",
       "42                               spx          Text   \n",
       "43                         wikipedia          Text   \n",
       "44                        automobile  Multivariate   \n",
       "45                              bike  Multivariate   \n",
       "46                            boston  Multivariate   \n",
       "47                          concrete  Multivariate   \n",
       "48                           diamond  Multivariate   \n",
       "49                            energy  Multivariate   \n",
       "50                            forest  Multivariate   \n",
       "51                              gold  Multivariate   \n",
       "52                             house  Multivariate   \n",
       "53                         insurance  Multivariate   \n",
       "54                        parkinsons  Multivariate   \n",
       "55                           traffic  Multivariate   \n",
       "\n",
       "                   Default Task Target Variable 1 Target Variable 2  \\\n",
       "0             Anomaly Detection              None              None   \n",
       "1       Association Rule Mining         InvoiceNo       Description   \n",
       "2       Association Rule Mining         InvoiceNo       Description   \n",
       "3       Classification (Binary)           deposit              None   \n",
       "4       Classification (Binary)             Class              None   \n",
       "5       Classification (Binary)             Class              None   \n",
       "6       Classification (Binary)           default              None   \n",
       "7       Classification (Binary)    Class variable              None   \n",
       "8       Classification (Binary)             stabf              None   \n",
       "9       Classification (Binary)              left              None   \n",
       "10      Classification (Binary)             DEATH              None   \n",
       "11      Classification (Binary)           Disease              None   \n",
       "12      Classification (Binary)             Class              None   \n",
       "13      Classification (Binary)       income >50K              None   \n",
       "14      Classification (Binary)          Purchase              None   \n",
       "15      Classification (Binary)       TARGET_5Yrs              None   \n",
       "16      Classification (Binary)              type              None   \n",
       "17      Classification (Binary)             Class              None   \n",
       "18      Classification (Binary)          Survived              None   \n",
       "19      Classification (Binary)      party_winner              None   \n",
       "20  Classification (Multiclass)              Type              None   \n",
       "21  Classification (Multiclass)           species              None   \n",
       "22  Classification (Multiclass)             CLASS              None   \n",
       "23  Classification (Multiclass)     Next_Question              None   \n",
       "24  Classification (Multiclass)             Class              None   \n",
       "25  Classification (Multiclass)               NSP              None   \n",
       "26                   Clustering              None              None   \n",
       "27                   Clustering              None              None   \n",
       "28                   Clustering              None              None   \n",
       "29                   Clustering              None              None   \n",
       "30                   Clustering              None              None   \n",
       "31                   Clustering              None              None   \n",
       "32                   Clustering              None              None   \n",
       "33                   Clustering              None              None   \n",
       "34                   Clustering              None              None   \n",
       "35                   Clustering              None              None   \n",
       "36                   Clustering              None              None   \n",
       "37                   Clustering              None              None   \n",
       "38                   Clustering              None              None   \n",
       "39                          NLP             tweet              None   \n",
       "40         NLP / Classification        reviewText              None   \n",
       "41         NLP / Classification                en              None   \n",
       "42             NLP / Regression              text              None   \n",
       "43         NLP / Classification              Text              None   \n",
       "44                   Regression             price              None   \n",
       "45                   Regression               cnt              None   \n",
       "46                   Regression              medv              None   \n",
       "47                   Regression          strength              None   \n",
       "48                   Regression             Price              None   \n",
       "49                   Regression      Heating Load      Cooling Load   \n",
       "50                   Regression              area              None   \n",
       "51                   Regression         Gold_T+22              None   \n",
       "52                   Regression         SalePrice              None   \n",
       "53                   Regression           charges              None   \n",
       "54                   Regression               PPE              None   \n",
       "55                   Regression    traffic_volume              None   \n",
       "\n",
       "    # Instances  # Attributes Missing Values  \n",
       "0          1000            10              N  \n",
       "1          8557             8              N  \n",
       "2          9495             8              N  \n",
       "3         45211            17              N  \n",
       "4           748             5              N  \n",
       "5           683            10              N  \n",
       "6         24000            24              N  \n",
       "7           768             9              N  \n",
       "8         10000            14              N  \n",
       "9         14999            10              N  \n",
       "10          200            16              N  \n",
       "11          270            14              N  \n",
       "12          154            32              Y  \n",
       "13        32561            14              Y  \n",
       "14         1070            15              N  \n",
       "15         1340            21              N  \n",
       "16         6498            13              N  \n",
       "17        19020            11              N  \n",
       "18          891            11              Y  \n",
       "19          497             7              N  \n",
       "20          214            10              N  \n",
       "21          150             5              N  \n",
       "22       100000            11              N  \n",
       "23          499             4              N  \n",
       "24         6435            37              N  \n",
       "25         2129            40              Y  \n",
       "26           40            11              N  \n",
       "27         3195            54              Y  \n",
       "28         7050            12              N  \n",
       "29          153            25              N  \n",
       "30          505             4              N  \n",
       "31         1080            82              Y  \n",
       "32          233            12              N  \n",
       "33           20            29              N  \n",
       "34          800            13              Y  \n",
       "35          255            56              Y  \n",
       "36          224            21              N  \n",
       "37          210             7              N  \n",
       "38          440             8              N  \n",
       "39         8594             2              N  \n",
       "40        20000             2              N  \n",
       "41         6818             7              N  \n",
       "42          874             4              N  \n",
       "43          500             3              N  \n",
       "44          202            26              Y  \n",
       "45        17379            15              N  \n",
       "46          506            14              N  \n",
       "47         1030             9              N  \n",
       "48         6000             8              N  \n",
       "49          768            10              N  \n",
       "50          517            13              N  \n",
       "51         2558           121              N  \n",
       "52         1461            81              Y  \n",
       "53         1338             7              N  \n",
       "54         5875            22              N  \n",
       "55        48204             8              N  "
      ]
     },
     "metadata": {},
     "output_type": "display_data"
    },
    {
     "data": {
      "text/html": [
       "<div>\n",
       "<style scoped>\n",
       "    .dataframe tbody tr th:only-of-type {\n",
       "        vertical-align: middle;\n",
       "    }\n",
       "\n",
       "    .dataframe tbody tr th {\n",
       "        vertical-align: top;\n",
       "    }\n",
       "\n",
       "    .dataframe thead th {\n",
       "        text-align: right;\n",
       "    }\n",
       "</style>\n",
       "<table border=\"1\" class=\"dataframe\">\n",
       "  <thead>\n",
       "    <tr style=\"text-align: right;\">\n",
       "      <th></th>\n",
       "      <th>Dataset</th>\n",
       "      <th>Data Types</th>\n",
       "      <th>Default Task</th>\n",
       "      <th>Target Variable 1</th>\n",
       "      <th>Target Variable 2</th>\n",
       "      <th># Instances</th>\n",
       "      <th># Attributes</th>\n",
       "      <th>Missing Values</th>\n",
       "    </tr>\n",
       "  </thead>\n",
       "  <tbody>\n",
       "    <tr>\n",
       "      <th>0</th>\n",
       "      <td>anomaly</td>\n",
       "      <td>Multivariate</td>\n",
       "      <td>Anomaly Detection</td>\n",
       "      <td>None</td>\n",
       "      <td>None</td>\n",
       "      <td>1000</td>\n",
       "      <td>10</td>\n",
       "      <td>N</td>\n",
       "    </tr>\n",
       "    <tr>\n",
       "      <th>1</th>\n",
       "      <td>france</td>\n",
       "      <td>Multivariate</td>\n",
       "      <td>Association Rule Mining</td>\n",
       "      <td>InvoiceNo</td>\n",
       "      <td>Description</td>\n",
       "      <td>8557</td>\n",
       "      <td>8</td>\n",
       "      <td>N</td>\n",
       "    </tr>\n",
       "    <tr>\n",
       "      <th>2</th>\n",
       "      <td>germany</td>\n",
       "      <td>Multivariate</td>\n",
       "      <td>Association Rule Mining</td>\n",
       "      <td>InvoiceNo</td>\n",
       "      <td>Description</td>\n",
       "      <td>9495</td>\n",
       "      <td>8</td>\n",
       "      <td>N</td>\n",
       "    </tr>\n",
       "    <tr>\n",
       "      <th>3</th>\n",
       "      <td>bank</td>\n",
       "      <td>Multivariate</td>\n",
       "      <td>Classification (Binary)</td>\n",
       "      <td>deposit</td>\n",
       "      <td>None</td>\n",
       "      <td>45211</td>\n",
       "      <td>17</td>\n",
       "      <td>N</td>\n",
       "    </tr>\n",
       "    <tr>\n",
       "      <th>4</th>\n",
       "      <td>blood</td>\n",
       "      <td>Multivariate</td>\n",
       "      <td>Classification (Binary)</td>\n",
       "      <td>Class</td>\n",
       "      <td>None</td>\n",
       "      <td>748</td>\n",
       "      <td>5</td>\n",
       "      <td>N</td>\n",
       "    </tr>\n",
       "    <tr>\n",
       "      <th>5</th>\n",
       "      <td>cancer</td>\n",
       "      <td>Multivariate</td>\n",
       "      <td>Classification (Binary)</td>\n",
       "      <td>Class</td>\n",
       "      <td>None</td>\n",
       "      <td>683</td>\n",
       "      <td>10</td>\n",
       "      <td>N</td>\n",
       "    </tr>\n",
       "    <tr>\n",
       "      <th>6</th>\n",
       "      <td>credit</td>\n",
       "      <td>Multivariate</td>\n",
       "      <td>Classification (Binary)</td>\n",
       "      <td>default</td>\n",
       "      <td>None</td>\n",
       "      <td>24000</td>\n",
       "      <td>24</td>\n",
       "      <td>N</td>\n",
       "    </tr>\n",
       "    <tr>\n",
       "      <th>7</th>\n",
       "      <td>diabetes</td>\n",
       "      <td>Multivariate</td>\n",
       "      <td>Classification (Binary)</td>\n",
       "      <td>Class variable</td>\n",
       "      <td>None</td>\n",
       "      <td>768</td>\n",
       "      <td>9</td>\n",
       "      <td>N</td>\n",
       "    </tr>\n",
       "    <tr>\n",
       "      <th>8</th>\n",
       "      <td>electrical_grid</td>\n",
       "      <td>Multivariate</td>\n",
       "      <td>Classification (Binary)</td>\n",
       "      <td>stabf</td>\n",
       "      <td>None</td>\n",
       "      <td>10000</td>\n",
       "      <td>14</td>\n",
       "      <td>N</td>\n",
       "    </tr>\n",
       "    <tr>\n",
       "      <th>9</th>\n",
       "      <td>employee</td>\n",
       "      <td>Multivariate</td>\n",
       "      <td>Classification (Binary)</td>\n",
       "      <td>left</td>\n",
       "      <td>None</td>\n",
       "      <td>14999</td>\n",
       "      <td>10</td>\n",
       "      <td>N</td>\n",
       "    </tr>\n",
       "    <tr>\n",
       "      <th>10</th>\n",
       "      <td>heart</td>\n",
       "      <td>Multivariate</td>\n",
       "      <td>Classification (Binary)</td>\n",
       "      <td>DEATH</td>\n",
       "      <td>None</td>\n",
       "      <td>200</td>\n",
       "      <td>16</td>\n",
       "      <td>N</td>\n",
       "    </tr>\n",
       "    <tr>\n",
       "      <th>11</th>\n",
       "      <td>heart_disease</td>\n",
       "      <td>Multivariate</td>\n",
       "      <td>Classification (Binary)</td>\n",
       "      <td>Disease</td>\n",
       "      <td>None</td>\n",
       "      <td>270</td>\n",
       "      <td>14</td>\n",
       "      <td>N</td>\n",
       "    </tr>\n",
       "    <tr>\n",
       "      <th>12</th>\n",
       "      <td>hepatitis</td>\n",
       "      <td>Multivariate</td>\n",
       "      <td>Classification (Binary)</td>\n",
       "      <td>Class</td>\n",
       "      <td>None</td>\n",
       "      <td>154</td>\n",
       "      <td>32</td>\n",
       "      <td>Y</td>\n",
       "    </tr>\n",
       "    <tr>\n",
       "      <th>13</th>\n",
       "      <td>income</td>\n",
       "      <td>Multivariate</td>\n",
       "      <td>Classification (Binary)</td>\n",
       "      <td>income &gt;50K</td>\n",
       "      <td>None</td>\n",
       "      <td>32561</td>\n",
       "      <td>14</td>\n",
       "      <td>Y</td>\n",
       "    </tr>\n",
       "    <tr>\n",
       "      <th>14</th>\n",
       "      <td>juice</td>\n",
       "      <td>Multivariate</td>\n",
       "      <td>Classification (Binary)</td>\n",
       "      <td>Purchase</td>\n",
       "      <td>None</td>\n",
       "      <td>1070</td>\n",
       "      <td>15</td>\n",
       "      <td>N</td>\n",
       "    </tr>\n",
       "    <tr>\n",
       "      <th>15</th>\n",
       "      <td>nba</td>\n",
       "      <td>Multivariate</td>\n",
       "      <td>Classification (Binary)</td>\n",
       "      <td>TARGET_5Yrs</td>\n",
       "      <td>None</td>\n",
       "      <td>1340</td>\n",
       "      <td>21</td>\n",
       "      <td>N</td>\n",
       "    </tr>\n",
       "    <tr>\n",
       "      <th>16</th>\n",
       "      <td>wine</td>\n",
       "      <td>Multivariate</td>\n",
       "      <td>Classification (Binary)</td>\n",
       "      <td>type</td>\n",
       "      <td>None</td>\n",
       "      <td>6498</td>\n",
       "      <td>13</td>\n",
       "      <td>N</td>\n",
       "    </tr>\n",
       "    <tr>\n",
       "      <th>17</th>\n",
       "      <td>telescope</td>\n",
       "      <td>Multivariate</td>\n",
       "      <td>Classification (Binary)</td>\n",
       "      <td>Class</td>\n",
       "      <td>None</td>\n",
       "      <td>19020</td>\n",
       "      <td>11</td>\n",
       "      <td>N</td>\n",
       "    </tr>\n",
       "    <tr>\n",
       "      <th>18</th>\n",
       "      <td>titanic</td>\n",
       "      <td>Multivariate</td>\n",
       "      <td>Classification (Binary)</td>\n",
       "      <td>Survived</td>\n",
       "      <td>None</td>\n",
       "      <td>891</td>\n",
       "      <td>11</td>\n",
       "      <td>Y</td>\n",
       "    </tr>\n",
       "    <tr>\n",
       "      <th>19</th>\n",
       "      <td>us_presidential_election_results</td>\n",
       "      <td>Multivariate</td>\n",
       "      <td>Classification (Binary)</td>\n",
       "      <td>party_winner</td>\n",
       "      <td>None</td>\n",
       "      <td>497</td>\n",
       "      <td>7</td>\n",
       "      <td>N</td>\n",
       "    </tr>\n",
       "    <tr>\n",
       "      <th>20</th>\n",
       "      <td>glass</td>\n",
       "      <td>Multivariate</td>\n",
       "      <td>Classification (Multiclass)</td>\n",
       "      <td>Type</td>\n",
       "      <td>None</td>\n",
       "      <td>214</td>\n",
       "      <td>10</td>\n",
       "      <td>N</td>\n",
       "    </tr>\n",
       "    <tr>\n",
       "      <th>21</th>\n",
       "      <td>iris</td>\n",
       "      <td>Multivariate</td>\n",
       "      <td>Classification (Multiclass)</td>\n",
       "      <td>species</td>\n",
       "      <td>None</td>\n",
       "      <td>150</td>\n",
       "      <td>5</td>\n",
       "      <td>N</td>\n",
       "    </tr>\n",
       "    <tr>\n",
       "      <th>22</th>\n",
       "      <td>poker</td>\n",
       "      <td>Multivariate</td>\n",
       "      <td>Classification (Multiclass)</td>\n",
       "      <td>CLASS</td>\n",
       "      <td>None</td>\n",
       "      <td>100000</td>\n",
       "      <td>11</td>\n",
       "      <td>N</td>\n",
       "    </tr>\n",
       "    <tr>\n",
       "      <th>23</th>\n",
       "      <td>questions</td>\n",
       "      <td>Multivariate</td>\n",
       "      <td>Classification (Multiclass)</td>\n",
       "      <td>Next_Question</td>\n",
       "      <td>None</td>\n",
       "      <td>499</td>\n",
       "      <td>4</td>\n",
       "      <td>N</td>\n",
       "    </tr>\n",
       "    <tr>\n",
       "      <th>24</th>\n",
       "      <td>satellite</td>\n",
       "      <td>Multivariate</td>\n",
       "      <td>Classification (Multiclass)</td>\n",
       "      <td>Class</td>\n",
       "      <td>None</td>\n",
       "      <td>6435</td>\n",
       "      <td>37</td>\n",
       "      <td>N</td>\n",
       "    </tr>\n",
       "    <tr>\n",
       "      <th>25</th>\n",
       "      <td>CTG</td>\n",
       "      <td>Multivariate</td>\n",
       "      <td>Classification (Multiclass)</td>\n",
       "      <td>NSP</td>\n",
       "      <td>None</td>\n",
       "      <td>2129</td>\n",
       "      <td>40</td>\n",
       "      <td>Y</td>\n",
       "    </tr>\n",
       "    <tr>\n",
       "      <th>26</th>\n",
       "      <td>asia_gdp</td>\n",
       "      <td>Multivariate</td>\n",
       "      <td>Clustering</td>\n",
       "      <td>None</td>\n",
       "      <td>None</td>\n",
       "      <td>40</td>\n",
       "      <td>11</td>\n",
       "      <td>N</td>\n",
       "    </tr>\n",
       "    <tr>\n",
       "      <th>27</th>\n",
       "      <td>elections</td>\n",
       "      <td>Multivariate</td>\n",
       "      <td>Clustering</td>\n",
       "      <td>None</td>\n",
       "      <td>None</td>\n",
       "      <td>3195</td>\n",
       "      <td>54</td>\n",
       "      <td>Y</td>\n",
       "    </tr>\n",
       "    <tr>\n",
       "      <th>28</th>\n",
       "      <td>facebook</td>\n",
       "      <td>Multivariate</td>\n",
       "      <td>Clustering</td>\n",
       "      <td>None</td>\n",
       "      <td>None</td>\n",
       "      <td>7050</td>\n",
       "      <td>12</td>\n",
       "      <td>N</td>\n",
       "    </tr>\n",
       "    <tr>\n",
       "      <th>29</th>\n",
       "      <td>ipl</td>\n",
       "      <td>Multivariate</td>\n",
       "      <td>Clustering</td>\n",
       "      <td>None</td>\n",
       "      <td>None</td>\n",
       "      <td>153</td>\n",
       "      <td>25</td>\n",
       "      <td>N</td>\n",
       "    </tr>\n",
       "    <tr>\n",
       "      <th>30</th>\n",
       "      <td>jewellery</td>\n",
       "      <td>Multivariate</td>\n",
       "      <td>Clustering</td>\n",
       "      <td>None</td>\n",
       "      <td>None</td>\n",
       "      <td>505</td>\n",
       "      <td>4</td>\n",
       "      <td>N</td>\n",
       "    </tr>\n",
       "    <tr>\n",
       "      <th>31</th>\n",
       "      <td>mice</td>\n",
       "      <td>Multivariate</td>\n",
       "      <td>Clustering</td>\n",
       "      <td>None</td>\n",
       "      <td>None</td>\n",
       "      <td>1080</td>\n",
       "      <td>82</td>\n",
       "      <td>Y</td>\n",
       "    </tr>\n",
       "    <tr>\n",
       "      <th>32</th>\n",
       "      <td>migration</td>\n",
       "      <td>Multivariate</td>\n",
       "      <td>Clustering</td>\n",
       "      <td>None</td>\n",
       "      <td>None</td>\n",
       "      <td>233</td>\n",
       "      <td>12</td>\n",
       "      <td>N</td>\n",
       "    </tr>\n",
       "    <tr>\n",
       "      <th>33</th>\n",
       "      <td>perfume</td>\n",
       "      <td>Multivariate</td>\n",
       "      <td>Clustering</td>\n",
       "      <td>None</td>\n",
       "      <td>None</td>\n",
       "      <td>20</td>\n",
       "      <td>29</td>\n",
       "      <td>N</td>\n",
       "    </tr>\n",
       "    <tr>\n",
       "      <th>34</th>\n",
       "      <td>pokemon</td>\n",
       "      <td>Multivariate</td>\n",
       "      <td>Clustering</td>\n",
       "      <td>None</td>\n",
       "      <td>None</td>\n",
       "      <td>800</td>\n",
       "      <td>13</td>\n",
       "      <td>Y</td>\n",
       "    </tr>\n",
       "    <tr>\n",
       "      <th>35</th>\n",
       "      <td>population</td>\n",
       "      <td>Multivariate</td>\n",
       "      <td>Clustering</td>\n",
       "      <td>None</td>\n",
       "      <td>None</td>\n",
       "      <td>255</td>\n",
       "      <td>56</td>\n",
       "      <td>Y</td>\n",
       "    </tr>\n",
       "    <tr>\n",
       "      <th>36</th>\n",
       "      <td>public_health</td>\n",
       "      <td>Multivariate</td>\n",
       "      <td>Clustering</td>\n",
       "      <td>None</td>\n",
       "      <td>None</td>\n",
       "      <td>224</td>\n",
       "      <td>21</td>\n",
       "      <td>N</td>\n",
       "    </tr>\n",
       "    <tr>\n",
       "      <th>37</th>\n",
       "      <td>seeds</td>\n",
       "      <td>Multivariate</td>\n",
       "      <td>Clustering</td>\n",
       "      <td>None</td>\n",
       "      <td>None</td>\n",
       "      <td>210</td>\n",
       "      <td>7</td>\n",
       "      <td>N</td>\n",
       "    </tr>\n",
       "    <tr>\n",
       "      <th>38</th>\n",
       "      <td>wholesale</td>\n",
       "      <td>Multivariate</td>\n",
       "      <td>Clustering</td>\n",
       "      <td>None</td>\n",
       "      <td>None</td>\n",
       "      <td>440</td>\n",
       "      <td>8</td>\n",
       "      <td>N</td>\n",
       "    </tr>\n",
       "    <tr>\n",
       "      <th>39</th>\n",
       "      <td>tweets</td>\n",
       "      <td>Text</td>\n",
       "      <td>NLP</td>\n",
       "      <td>tweet</td>\n",
       "      <td>None</td>\n",
       "      <td>8594</td>\n",
       "      <td>2</td>\n",
       "      <td>N</td>\n",
       "    </tr>\n",
       "    <tr>\n",
       "      <th>40</th>\n",
       "      <td>amazon</td>\n",
       "      <td>Text</td>\n",
       "      <td>NLP / Classification</td>\n",
       "      <td>reviewText</td>\n",
       "      <td>None</td>\n",
       "      <td>20000</td>\n",
       "      <td>2</td>\n",
       "      <td>N</td>\n",
       "    </tr>\n",
       "    <tr>\n",
       "      <th>41</th>\n",
       "      <td>kiva</td>\n",
       "      <td>Text</td>\n",
       "      <td>NLP / Classification</td>\n",
       "      <td>en</td>\n",
       "      <td>None</td>\n",
       "      <td>6818</td>\n",
       "      <td>7</td>\n",
       "      <td>N</td>\n",
       "    </tr>\n",
       "    <tr>\n",
       "      <th>42</th>\n",
       "      <td>spx</td>\n",
       "      <td>Text</td>\n",
       "      <td>NLP / Regression</td>\n",
       "      <td>text</td>\n",
       "      <td>None</td>\n",
       "      <td>874</td>\n",
       "      <td>4</td>\n",
       "      <td>N</td>\n",
       "    </tr>\n",
       "    <tr>\n",
       "      <th>43</th>\n",
       "      <td>wikipedia</td>\n",
       "      <td>Text</td>\n",
       "      <td>NLP / Classification</td>\n",
       "      <td>Text</td>\n",
       "      <td>None</td>\n",
       "      <td>500</td>\n",
       "      <td>3</td>\n",
       "      <td>N</td>\n",
       "    </tr>\n",
       "    <tr>\n",
       "      <th>44</th>\n",
       "      <td>automobile</td>\n",
       "      <td>Multivariate</td>\n",
       "      <td>Regression</td>\n",
       "      <td>price</td>\n",
       "      <td>None</td>\n",
       "      <td>202</td>\n",
       "      <td>26</td>\n",
       "      <td>Y</td>\n",
       "    </tr>\n",
       "    <tr>\n",
       "      <th>45</th>\n",
       "      <td>bike</td>\n",
       "      <td>Multivariate</td>\n",
       "      <td>Regression</td>\n",
       "      <td>cnt</td>\n",
       "      <td>None</td>\n",
       "      <td>17379</td>\n",
       "      <td>15</td>\n",
       "      <td>N</td>\n",
       "    </tr>\n",
       "    <tr>\n",
       "      <th>46</th>\n",
       "      <td>boston</td>\n",
       "      <td>Multivariate</td>\n",
       "      <td>Regression</td>\n",
       "      <td>medv</td>\n",
       "      <td>None</td>\n",
       "      <td>506</td>\n",
       "      <td>14</td>\n",
       "      <td>N</td>\n",
       "    </tr>\n",
       "    <tr>\n",
       "      <th>47</th>\n",
       "      <td>concrete</td>\n",
       "      <td>Multivariate</td>\n",
       "      <td>Regression</td>\n",
       "      <td>strength</td>\n",
       "      <td>None</td>\n",
       "      <td>1030</td>\n",
       "      <td>9</td>\n",
       "      <td>N</td>\n",
       "    </tr>\n",
       "    <tr>\n",
       "      <th>48</th>\n",
       "      <td>diamond</td>\n",
       "      <td>Multivariate</td>\n",
       "      <td>Regression</td>\n",
       "      <td>Price</td>\n",
       "      <td>None</td>\n",
       "      <td>6000</td>\n",
       "      <td>8</td>\n",
       "      <td>N</td>\n",
       "    </tr>\n",
       "    <tr>\n",
       "      <th>49</th>\n",
       "      <td>energy</td>\n",
       "      <td>Multivariate</td>\n",
       "      <td>Regression</td>\n",
       "      <td>Heating Load</td>\n",
       "      <td>Cooling Load</td>\n",
       "      <td>768</td>\n",
       "      <td>10</td>\n",
       "      <td>N</td>\n",
       "    </tr>\n",
       "    <tr>\n",
       "      <th>50</th>\n",
       "      <td>forest</td>\n",
       "      <td>Multivariate</td>\n",
       "      <td>Regression</td>\n",
       "      <td>area</td>\n",
       "      <td>None</td>\n",
       "      <td>517</td>\n",
       "      <td>13</td>\n",
       "      <td>N</td>\n",
       "    </tr>\n",
       "    <tr>\n",
       "      <th>51</th>\n",
       "      <td>gold</td>\n",
       "      <td>Multivariate</td>\n",
       "      <td>Regression</td>\n",
       "      <td>Gold_T+22</td>\n",
       "      <td>None</td>\n",
       "      <td>2558</td>\n",
       "      <td>121</td>\n",
       "      <td>N</td>\n",
       "    </tr>\n",
       "    <tr>\n",
       "      <th>52</th>\n",
       "      <td>house</td>\n",
       "      <td>Multivariate</td>\n",
       "      <td>Regression</td>\n",
       "      <td>SalePrice</td>\n",
       "      <td>None</td>\n",
       "      <td>1461</td>\n",
       "      <td>81</td>\n",
       "      <td>Y</td>\n",
       "    </tr>\n",
       "    <tr>\n",
       "      <th>53</th>\n",
       "      <td>insurance</td>\n",
       "      <td>Multivariate</td>\n",
       "      <td>Regression</td>\n",
       "      <td>charges</td>\n",
       "      <td>None</td>\n",
       "      <td>1338</td>\n",
       "      <td>7</td>\n",
       "      <td>N</td>\n",
       "    </tr>\n",
       "    <tr>\n",
       "      <th>54</th>\n",
       "      <td>parkinsons</td>\n",
       "      <td>Multivariate</td>\n",
       "      <td>Regression</td>\n",
       "      <td>PPE</td>\n",
       "      <td>None</td>\n",
       "      <td>5875</td>\n",
       "      <td>22</td>\n",
       "      <td>N</td>\n",
       "    </tr>\n",
       "    <tr>\n",
       "      <th>55</th>\n",
       "      <td>traffic</td>\n",
       "      <td>Multivariate</td>\n",
       "      <td>Regression</td>\n",
       "      <td>traffic_volume</td>\n",
       "      <td>None</td>\n",
       "      <td>48204</td>\n",
       "      <td>8</td>\n",
       "      <td>N</td>\n",
       "    </tr>\n",
       "  </tbody>\n",
       "</table>\n",
       "</div>"
      ],
      "text/plain": [
       "                             Dataset    Data Types  \\\n",
       "0                            anomaly  Multivariate   \n",
       "1                             france  Multivariate   \n",
       "2                            germany  Multivariate   \n",
       "3                               bank  Multivariate   \n",
       "4                              blood  Multivariate   \n",
       "5                             cancer  Multivariate   \n",
       "6                             credit  Multivariate   \n",
       "7                           diabetes  Multivariate   \n",
       "8                    electrical_grid  Multivariate   \n",
       "9                           employee  Multivariate   \n",
       "10                             heart  Multivariate   \n",
       "11                     heart_disease  Multivariate   \n",
       "12                         hepatitis  Multivariate   \n",
       "13                            income  Multivariate   \n",
       "14                             juice  Multivariate   \n",
       "15                               nba  Multivariate   \n",
       "16                              wine  Multivariate   \n",
       "17                         telescope  Multivariate   \n",
       "18                           titanic  Multivariate   \n",
       "19  us_presidential_election_results  Multivariate   \n",
       "20                             glass  Multivariate   \n",
       "21                              iris  Multivariate   \n",
       "22                             poker  Multivariate   \n",
       "23                         questions  Multivariate   \n",
       "24                         satellite  Multivariate   \n",
       "25                               CTG  Multivariate   \n",
       "26                          asia_gdp  Multivariate   \n",
       "27                         elections  Multivariate   \n",
       "28                          facebook  Multivariate   \n",
       "29                               ipl  Multivariate   \n",
       "30                         jewellery  Multivariate   \n",
       "31                              mice  Multivariate   \n",
       "32                         migration  Multivariate   \n",
       "33                           perfume  Multivariate   \n",
       "34                           pokemon  Multivariate   \n",
       "35                        population  Multivariate   \n",
       "36                     public_health  Multivariate   \n",
       "37                             seeds  Multivariate   \n",
       "38                         wholesale  Multivariate   \n",
       "39                            tweets          Text   \n",
       "40                            amazon          Text   \n",
       "41                              kiva          Text   \n",
       "42                               spx          Text   \n",
       "43                         wikipedia          Text   \n",
       "44                        automobile  Multivariate   \n",
       "45                              bike  Multivariate   \n",
       "46                            boston  Multivariate   \n",
       "47                          concrete  Multivariate   \n",
       "48                           diamond  Multivariate   \n",
       "49                            energy  Multivariate   \n",
       "50                            forest  Multivariate   \n",
       "51                              gold  Multivariate   \n",
       "52                             house  Multivariate   \n",
       "53                         insurance  Multivariate   \n",
       "54                        parkinsons  Multivariate   \n",
       "55                           traffic  Multivariate   \n",
       "\n",
       "                   Default Task Target Variable 1 Target Variable 2  \\\n",
       "0             Anomaly Detection              None              None   \n",
       "1       Association Rule Mining         InvoiceNo       Description   \n",
       "2       Association Rule Mining         InvoiceNo       Description   \n",
       "3       Classification (Binary)           deposit              None   \n",
       "4       Classification (Binary)             Class              None   \n",
       "5       Classification (Binary)             Class              None   \n",
       "6       Classification (Binary)           default              None   \n",
       "7       Classification (Binary)    Class variable              None   \n",
       "8       Classification (Binary)             stabf              None   \n",
       "9       Classification (Binary)              left              None   \n",
       "10      Classification (Binary)             DEATH              None   \n",
       "11      Classification (Binary)           Disease              None   \n",
       "12      Classification (Binary)             Class              None   \n",
       "13      Classification (Binary)       income >50K              None   \n",
       "14      Classification (Binary)          Purchase              None   \n",
       "15      Classification (Binary)       TARGET_5Yrs              None   \n",
       "16      Classification (Binary)              type              None   \n",
       "17      Classification (Binary)             Class              None   \n",
       "18      Classification (Binary)          Survived              None   \n",
       "19      Classification (Binary)      party_winner              None   \n",
       "20  Classification (Multiclass)              Type              None   \n",
       "21  Classification (Multiclass)           species              None   \n",
       "22  Classification (Multiclass)             CLASS              None   \n",
       "23  Classification (Multiclass)     Next_Question              None   \n",
       "24  Classification (Multiclass)             Class              None   \n",
       "25  Classification (Multiclass)               NSP              None   \n",
       "26                   Clustering              None              None   \n",
       "27                   Clustering              None              None   \n",
       "28                   Clustering              None              None   \n",
       "29                   Clustering              None              None   \n",
       "30                   Clustering              None              None   \n",
       "31                   Clustering              None              None   \n",
       "32                   Clustering              None              None   \n",
       "33                   Clustering              None              None   \n",
       "34                   Clustering              None              None   \n",
       "35                   Clustering              None              None   \n",
       "36                   Clustering              None              None   \n",
       "37                   Clustering              None              None   \n",
       "38                   Clustering              None              None   \n",
       "39                          NLP             tweet              None   \n",
       "40         NLP / Classification        reviewText              None   \n",
       "41         NLP / Classification                en              None   \n",
       "42             NLP / Regression              text              None   \n",
       "43         NLP / Classification              Text              None   \n",
       "44                   Regression             price              None   \n",
       "45                   Regression               cnt              None   \n",
       "46                   Regression              medv              None   \n",
       "47                   Regression          strength              None   \n",
       "48                   Regression             Price              None   \n",
       "49                   Regression      Heating Load      Cooling Load   \n",
       "50                   Regression              area              None   \n",
       "51                   Regression         Gold_T+22              None   \n",
       "52                   Regression         SalePrice              None   \n",
       "53                   Regression           charges              None   \n",
       "54                   Regression               PPE              None   \n",
       "55                   Regression    traffic_volume              None   \n",
       "\n",
       "    # Instances  # Attributes Missing Values  \n",
       "0          1000            10              N  \n",
       "1          8557             8              N  \n",
       "2          9495             8              N  \n",
       "3         45211            17              N  \n",
       "4           748             5              N  \n",
       "5           683            10              N  \n",
       "6         24000            24              N  \n",
       "7           768             9              N  \n",
       "8         10000            14              N  \n",
       "9         14999            10              N  \n",
       "10          200            16              N  \n",
       "11          270            14              N  \n",
       "12          154            32              Y  \n",
       "13        32561            14              Y  \n",
       "14         1070            15              N  \n",
       "15         1340            21              N  \n",
       "16         6498            13              N  \n",
       "17        19020            11              N  \n",
       "18          891            11              Y  \n",
       "19          497             7              N  \n",
       "20          214            10              N  \n",
       "21          150             5              N  \n",
       "22       100000            11              N  \n",
       "23          499             4              N  \n",
       "24         6435            37              N  \n",
       "25         2129            40              Y  \n",
       "26           40            11              N  \n",
       "27         3195            54              Y  \n",
       "28         7050            12              N  \n",
       "29          153            25              N  \n",
       "30          505             4              N  \n",
       "31         1080            82              Y  \n",
       "32          233            12              N  \n",
       "33           20            29              N  \n",
       "34          800            13              Y  \n",
       "35          255            56              Y  \n",
       "36          224            21              N  \n",
       "37          210             7              N  \n",
       "38          440             8              N  \n",
       "39         8594             2              N  \n",
       "40        20000             2              N  \n",
       "41         6818             7              N  \n",
       "42          874             4              N  \n",
       "43          500             3              N  \n",
       "44          202            26              Y  \n",
       "45        17379            15              N  \n",
       "46          506            14              N  \n",
       "47         1030             9              N  \n",
       "48         6000             8              N  \n",
       "49          768            10              N  \n",
       "50          517            13              N  \n",
       "51         2558           121              N  \n",
       "52         1461            81              Y  \n",
       "53         1338             7              N  \n",
       "54         5875            22              N  \n",
       "55        48204             8              N  "
      ]
     },
     "execution_count": 68,
     "metadata": {},
     "output_type": "execute_result"
    }
   ],
   "source": [
    "get_data('index')"
   ]
  },
  {
   "cell_type": "code",
   "execution_count": null,
   "metadata": {},
   "outputs": [],
   "source": []
  }
 ],
 "metadata": {
  "kernelspec": {
   "display_name": "Python 3",
   "language": "python",
   "name": "python3"
  },
  "language_info": {
   "codemirror_mode": {
    "name": "ipython",
    "version": 3
   },
   "file_extension": ".py",
   "mimetype": "text/x-python",
   "name": "python",
   "nbconvert_exporter": "python",
   "pygments_lexer": "ipython3",
   "version": "3.8.5"
  }
 },
 "nbformat": 4,
 "nbformat_minor": 2
}
