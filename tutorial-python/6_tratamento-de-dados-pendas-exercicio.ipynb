{
 "cells": [
  {
   "cell_type": "markdown",
   "metadata": {},
   "source": [
    "# Atividade - Tratamento de Dados - Pandas"
   ]
  },
  {
   "cell_type": "markdown",
   "metadata": {
    "_cell_guid": "f7c99334-f7cd-44b3-b67e-32eee2614ac0",
    "_uuid": "38231546d84e8b22dfc2f50d2aa0518632f3ccc1"
   },
   "source": [
    "import os\n",
    "import numpy as np\n",
    "import pandas as pd\n",
    "import re\n",
    "import matplotlib.pyplot as plt\n",
    "import seaborn as sns\n",
    "\n",
    "sns.set()\n",
    "%matplotlib inline"
   ]
  },
  {
   "cell_type": "markdown",
   "metadata": {
    "_cell_guid": "2d51ff53-5878-4219-95f8-3ad6dfb3204c",
    "_uuid": "89645b028f8f9dce3da4cf762a6aca1fc76a9d11",
    "colab_type": "text",
    "id": "1aDBgkUvgeTL"
   },
   "source": [
    "## Step 1\n",
    "\n",
    "* Carregue para um DataFrame a lista de municípios de fronteira do Brasil utilizando o arquivo \"arq_municipios_fronteiricos.csv\"."
   ]
  },
  {
   "cell_type": "code",
   "execution_count": 2,
   "metadata": {
    "_cell_guid": "799da926-ebee-4380-97ac-b2adf0174bf4",
    "_uuid": "85541dbdb4a55fced05df65129b8c11c842d9732"
   },
   "outputs": [
    {
     "data": {
      "text/html": [
       "<div>\n",
       "<style scoped>\n",
       "    .dataframe tbody tr th:only-of-type {\n",
       "        vertical-align: middle;\n",
       "    }\n",
       "\n",
       "    .dataframe tbody tr th {\n",
       "        vertical-align: top;\n",
       "    }\n",
       "\n",
       "    .dataframe thead th {\n",
       "        text-align: right;\n",
       "    }\n",
       "</style>\n",
       "<table border=\"1\" class=\"dataframe\">\n",
       "  <thead>\n",
       "    <tr style=\"text-align: right;\">\n",
       "      <th></th>\n",
       "      <th>Município</th>\n",
       "      <th>Estado</th>\n",
       "      <th>Área territorial</th>\n",
       "      <th>População (IBGE/2007)</th>\n",
       "      <th>Densidade demográfica (hab/km2)</th>\n",
       "      <th>PIB (IBGE/2005</th>\n",
       "      <th>PIB per capita (R$)</th>\n",
       "      <th>IDH/2000</th>\n",
       "    </tr>\n",
       "  </thead>\n",
       "  <tbody>\n",
       "    <tr>\n",
       "      <th>0</th>\n",
       "      <td>1 – Aceguá</td>\n",
       "      <td>Rio Grande do Sul</td>\n",
       "      <td>1.550</td>\n",
       "      <td>4.138</td>\n",
       "      <td>2,66</td>\n",
       "      <td>71.638.000</td>\n",
       "      <td>17.266</td>\n",
       "      <td>ni</td>\n",
       "    </tr>\n",
       "    <tr>\n",
       "      <th>1</th>\n",
       "      <td>2 – Acrelândia</td>\n",
       "      <td>Acre</td>\n",
       "      <td>1.575</td>\n",
       "      <td>11.520</td>\n",
       "      <td>7,31</td>\n",
       "      <td>114.350.000</td>\n",
       "      <td>9.986</td>\n",
       "      <td>0,680</td>\n",
       "    </tr>\n",
       "    <tr>\n",
       "      <th>2</th>\n",
       "      <td>3 – Alecrim</td>\n",
       "      <td>Rio Grande do Sul</td>\n",
       "      <td>315.000</td>\n",
       "      <td>7.357</td>\n",
       "      <td>23,35</td>\n",
       "      <td>44.373.000</td>\n",
       "      <td>5.944</td>\n",
       "      <td>0,743</td>\n",
       "    </tr>\n",
       "    <tr>\n",
       "      <th>3</th>\n",
       "      <td>4 – Almeirim</td>\n",
       "      <td>Pará</td>\n",
       "      <td>72.960</td>\n",
       "      <td>30.903</td>\n",
       "      <td>0,42</td>\n",
       "      <td>462.258.000</td>\n",
       "      <td>13.485</td>\n",
       "      <td>0,745</td>\n",
       "    </tr>\n",
       "    <tr>\n",
       "      <th>4</th>\n",
       "      <td>5 – Alta Floresta d'Oeste</td>\n",
       "      <td>Rondônia</td>\n",
       "      <td>7.067</td>\n",
       "      <td>23.857</td>\n",
       "      <td>3,37</td>\n",
       "      <td>186.812.000</td>\n",
       "      <td>6.525</td>\n",
       "      <td>0,715</td>\n",
       "    </tr>\n",
       "  </tbody>\n",
       "</table>\n",
       "</div>"
      ],
      "text/plain": [
       "                   Município             Estado  Área territorial  \\\n",
       "0                 1 – Aceguá  Rio Grande do Sul             1.550   \n",
       "1             2 – Acrelândia               Acre             1.575   \n",
       "2                3 – Alecrim  Rio Grande do Sul           315.000   \n",
       "3               4 – Almeirim               Pará            72.960   \n",
       "4  5 – Alta Floresta d'Oeste           Rondônia             7.067   \n",
       "\n",
       "   População (IBGE/2007) Densidade demográfica (hab/km2) PIB (IBGE/2005  \\\n",
       "0                  4.138                            2,66     71.638.000   \n",
       "1                 11.520                            7,31    114.350.000   \n",
       "2                  7.357                           23,35     44.373.000   \n",
       "3                 30.903                            0,42    462.258.000   \n",
       "4                 23.857                            3,37    186.812.000   \n",
       "\n",
       "  PIB per capita (R$) IDH/2000  \n",
       "0              17.266       ni  \n",
       "1               9.986    0,680  \n",
       "2               5.944    0,743  \n",
       "3              13.485    0,745  \n",
       "4               6.525    0,715  "
      ]
     },
     "execution_count": 2,
     "metadata": {},
     "output_type": "execute_result"
    }
   ],
   "source": [
    "# Variavel contendo o nome do arquivo\n",
    "arquivo = 'arquivos/arq_municipios_fronteiricos.csv'\n",
    "\n",
    "# Complete o código abaixo para realizar a leitura do arquivo\n",
    "# o arquivo utiliza tabulação como separador\n",
    "# dentro de strings a tabulação é representada como ,\n",
    "df = pd.read_csv(arquivo, sep = ',') \n",
    "\n",
    "\n",
    "# Visualize as 5 primeiras linhas do DataFrame\n",
    "df.head(5)"
   ]
  },
  {
   "cell_type": "code",
   "execution_count": 3,
   "metadata": {},
   "outputs": [
    {
     "data": {
      "text/plain": [
       "array(['Rio Grande do Sul', 'Acre', 'Pará', 'Rondônia', 'Roraima',\n",
       "       'Mato Grosso do Sul', 'Amazonas', 'Santa Catarina', 'Paraná',\n",
       "       'Mato Grosso', 'Amapá', 'Santa Cataria'], dtype=object)"
      ]
     },
     "execution_count": 3,
     "metadata": {},
     "output_type": "execute_result"
    }
   ],
   "source": [
    "df.Estado.unique()"
   ]
  },
  {
   "cell_type": "markdown",
   "metadata": {
    "_cell_guid": "1e543d62-44ef-4892-bd70-483a0410ef0a",
    "_uuid": "744de4cebf9449bf883b23b266f3622f322563f0"
   },
   "source": [
    "* Realize um tratamento na coluna Município para remover os números e hífens.\n",
    "    * primeiro crie uma função recebe uma string com o nome do município, realiza a remoção dos números e hifens e retorna a nova string tratada\n",
    "    * faça os testes com a sua função até que o resultado esteja satisfatório\n",
    "    * passe a sua função como parâmetro para o método apply do DataFrame"
   ]
  },
  {
   "cell_type": "code",
   "execution_count": 4,
   "metadata": {
    "_cell_guid": "4a02f93c-b631-4bb7-a09e-77097d0446e0",
    "_uuid": "3e41cad4af777ad8f1f780a71b7cc11659f0517d"
   },
   "outputs": [],
   "source": [
    "# função que irá realizar o tratamento para um município\n",
    "def tratar_nome_municipio(nome_municipio):\n",
    "    #realize a limpeza\n",
    "    nome_municipio_tratado = re.sub(r'([\\d]* [–-] )(.*)', r'\\2', nome_municipio)    \n",
    "    return nome_municipio_tratado"
   ]
  },
  {
   "cell_type": "code",
   "execution_count": 5,
   "metadata": {},
   "outputs": [
    {
     "data": {
      "text/plain": [
       "'Aceguá'"
      ]
     },
     "execution_count": 5,
     "metadata": {},
     "output_type": "execute_result"
    }
   ],
   "source": [
    "tratar_nome_municipio('1 – Aceguá')"
   ]
  },
  {
   "cell_type": "code",
   "execution_count": 6,
   "metadata": {
    "_cell_guid": "0d781861-d7e8-4ccf-a451-e7e7bc6a204a",
    "_uuid": "47ff7af351c00c9ac7e6014c528eeb26e5637cec"
   },
   "outputs": [],
   "source": [
    "# aplique a função utilizando o método apply\n",
    "municipios_tratados = df['Município'].apply(tratar_nome_municipio)\n",
    "df['Município'] = municipios_tratados"
   ]
  },
  {
   "cell_type": "code",
   "execution_count": 7,
   "metadata": {
    "_cell_guid": "79dba42c-e744-45ba-9112-228aa25fff90",
    "_uuid": "78577d4f5103312b16569a6f800fc37a37f4d1d0"
   },
   "outputs": [
    {
     "data": {
      "text/html": [
       "<div>\n",
       "<style scoped>\n",
       "    .dataframe tbody tr th:only-of-type {\n",
       "        vertical-align: middle;\n",
       "    }\n",
       "\n",
       "    .dataframe tbody tr th {\n",
       "        vertical-align: top;\n",
       "    }\n",
       "\n",
       "    .dataframe thead th {\n",
       "        text-align: right;\n",
       "    }\n",
       "</style>\n",
       "<table border=\"1\" class=\"dataframe\">\n",
       "  <thead>\n",
       "    <tr style=\"text-align: right;\">\n",
       "      <th></th>\n",
       "      <th>Município</th>\n",
       "      <th>Estado</th>\n",
       "      <th>Área territorial</th>\n",
       "      <th>População (IBGE/2007)</th>\n",
       "      <th>Densidade demográfica (hab/km2)</th>\n",
       "      <th>PIB (IBGE/2005</th>\n",
       "      <th>PIB per capita (R$)</th>\n",
       "      <th>IDH/2000</th>\n",
       "    </tr>\n",
       "  </thead>\n",
       "  <tbody>\n",
       "    <tr>\n",
       "      <th>0</th>\n",
       "      <td>Aceguá</td>\n",
       "      <td>Rio Grande do Sul</td>\n",
       "      <td>1.550</td>\n",
       "      <td>4.138</td>\n",
       "      <td>2,66</td>\n",
       "      <td>71.638.000</td>\n",
       "      <td>17.266</td>\n",
       "      <td>ni</td>\n",
       "    </tr>\n",
       "    <tr>\n",
       "      <th>1</th>\n",
       "      <td>Acrelândia</td>\n",
       "      <td>Acre</td>\n",
       "      <td>1.575</td>\n",
       "      <td>11.520</td>\n",
       "      <td>7,31</td>\n",
       "      <td>114.350.000</td>\n",
       "      <td>9.986</td>\n",
       "      <td>0,680</td>\n",
       "    </tr>\n",
       "    <tr>\n",
       "      <th>2</th>\n",
       "      <td>Alecrim</td>\n",
       "      <td>Rio Grande do Sul</td>\n",
       "      <td>315.000</td>\n",
       "      <td>7.357</td>\n",
       "      <td>23,35</td>\n",
       "      <td>44.373.000</td>\n",
       "      <td>5.944</td>\n",
       "      <td>0,743</td>\n",
       "    </tr>\n",
       "    <tr>\n",
       "      <th>3</th>\n",
       "      <td>Almeirim</td>\n",
       "      <td>Pará</td>\n",
       "      <td>72.960</td>\n",
       "      <td>30.903</td>\n",
       "      <td>0,42</td>\n",
       "      <td>462.258.000</td>\n",
       "      <td>13.485</td>\n",
       "      <td>0,745</td>\n",
       "    </tr>\n",
       "    <tr>\n",
       "      <th>4</th>\n",
       "      <td>Alta Floresta d'Oeste</td>\n",
       "      <td>Rondônia</td>\n",
       "      <td>7.067</td>\n",
       "      <td>23.857</td>\n",
       "      <td>3,37</td>\n",
       "      <td>186.812.000</td>\n",
       "      <td>6.525</td>\n",
       "      <td>0,715</td>\n",
       "    </tr>\n",
       "    <tr>\n",
       "      <th>5</th>\n",
       "      <td>Alto Alegre</td>\n",
       "      <td>Roraima</td>\n",
       "      <td>25.567</td>\n",
       "      <td>14.386</td>\n",
       "      <td>0,56</td>\n",
       "      <td>115.786.000</td>\n",
       "      <td>5.239</td>\n",
       "      <td>0,662</td>\n",
       "    </tr>\n",
       "    <tr>\n",
       "      <th>6</th>\n",
       "      <td>Alto Alegre dos Parecis</td>\n",
       "      <td>Rondônia</td>\n",
       "      <td>3.959</td>\n",
       "      <td>11.615</td>\n",
       "      <td>2,93</td>\n",
       "      <td>90.226.000</td>\n",
       "      <td>6.001</td>\n",
       "      <td>ni</td>\n",
       "    </tr>\n",
       "    <tr>\n",
       "      <th>7</th>\n",
       "      <td>Amajari</td>\n",
       "      <td>Roraima</td>\n",
       "      <td>28.472</td>\n",
       "      <td>7.586</td>\n",
       "      <td>0,26</td>\n",
       "      <td>31.897</td>\n",
       "      <td>5.240.000</td>\n",
       "      <td>0,654</td>\n",
       "    </tr>\n",
       "    <tr>\n",
       "      <th>8</th>\n",
       "      <td>Antônio João</td>\n",
       "      <td>Mato Grosso do Sul</td>\n",
       "      <td>1.144</td>\n",
       "      <td>8.350</td>\n",
       "      <td>7,29</td>\n",
       "      <td>39.989.000</td>\n",
       "      <td>5.067</td>\n",
       "      <td>0,702</td>\n",
       "    </tr>\n",
       "    <tr>\n",
       "      <th>9</th>\n",
       "      <td>Aral Moreira</td>\n",
       "      <td>Mato Grosso do Sul</td>\n",
       "      <td>1.656</td>\n",
       "      <td>9.236</td>\n",
       "      <td>5,57</td>\n",
       "      <td>105.697.000</td>\n",
       "      <td>13 132</td>\n",
       "      <td>0,723</td>\n",
       "    </tr>\n",
       "    <tr>\n",
       "      <th>10</th>\n",
       "      <td>Assis Brasil</td>\n",
       "      <td>Acre</td>\n",
       "      <td>2.876</td>\n",
       "      <td>5.351</td>\n",
       "      <td>1,86</td>\n",
       "      <td>30.298.000</td>\n",
       "      <td>5.984</td>\n",
       "      <td>0,670</td>\n",
       "    </tr>\n",
       "    <tr>\n",
       "      <th>11</th>\n",
       "      <td>Atalaia do Norte</td>\n",
       "      <td>Amazonas</td>\n",
       "      <td>76.355</td>\n",
       "      <td>13.682</td>\n",
       "      <td>0,17</td>\n",
       "      <td>29.028.000</td>\n",
       "      <td>2 570</td>\n",
       "      <td>ni</td>\n",
       "    </tr>\n",
       "    <tr>\n",
       "      <th>12</th>\n",
       "      <td>Bagé</td>\n",
       "      <td>Rio Grande do Sul</td>\n",
       "      <td>4.096</td>\n",
       "      <td>112.550</td>\n",
       "      <td>27,47</td>\n",
       "      <td>906.488.000</td>\n",
       "      <td>7.473</td>\n",
       "      <td>0,802</td>\n",
       "    </tr>\n",
       "    <tr>\n",
       "      <th>13</th>\n",
       "      <td>Bandeirante</td>\n",
       "      <td>Santa Catarina</td>\n",
       "      <td>146.000</td>\n",
       "      <td>3.028</td>\n",
       "      <td>20,73</td>\n",
       "      <td>21 423.000</td>\n",
       "      <td>7 546</td>\n",
       "      <td>0,765</td>\n",
       "    </tr>\n",
       "    <tr>\n",
       "      <th>14</th>\n",
       "      <td>Barcelos</td>\n",
       "      <td>Amazonas</td>\n",
       "      <td>122.476</td>\n",
       "      <td>24.567</td>\n",
       "      <td>0,20</td>\n",
       "      <td>72.004.000</td>\n",
       "      <td>2.238</td>\n",
       "      <td>ni</td>\n",
       "    </tr>\n",
       "    <tr>\n",
       "      <th>15</th>\n",
       "      <td>Barra do Quaraí</td>\n",
       "      <td>Rio Grande do Sul</td>\n",
       "      <td>1.056</td>\n",
       "      <td>3.776</td>\n",
       "      <td>3,57</td>\n",
       "      <td>61.540.000</td>\n",
       "      <td>14 429</td>\n",
       "      <td>0,777</td>\n",
       "    </tr>\n",
       "    <tr>\n",
       "      <th>16</th>\n",
       "      <td>Barracão</td>\n",
       "      <td>Paraná</td>\n",
       "      <td>164.000</td>\n",
       "      <td>9.027</td>\n",
       "      <td>55,04</td>\n",
       "      <td>60.601.000</td>\n",
       "      <td>6.718</td>\n",
       "      <td>0,764</td>\n",
       "    </tr>\n",
       "    <tr>\n",
       "      <th>17</th>\n",
       "      <td>Bela Vista</td>\n",
       "      <td>Mato Grosso do Sul</td>\n",
       "      <td>4.896</td>\n",
       "      <td>22.868</td>\n",
       "      <td>4,67</td>\n",
       "      <td>132.870.000</td>\n",
       "      <td>5.676</td>\n",
       "      <td>0,755</td>\n",
       "    </tr>\n",
       "    <tr>\n",
       "      <th>18</th>\n",
       "      <td>Belmonte</td>\n",
       "      <td>Santa Catarina</td>\n",
       "      <td>94.000</td>\n",
       "      <td>2.681</td>\n",
       "      <td>28,52</td>\n",
       "      <td>21.670.000</td>\n",
       "      <td>9.954</td>\n",
       "      <td>0,759</td>\n",
       "    </tr>\n",
       "    <tr>\n",
       "      <th>19</th>\n",
       "      <td>Benjamin Constant</td>\n",
       "      <td>Amazonas</td>\n",
       "      <td>8.793</td>\n",
       "      <td>9.268</td>\n",
       "      <td>3,32</td>\n",
       "      <td>82.120.000</td>\n",
       "      <td>3.135</td>\n",
       "      <td>ni</td>\n",
       "    </tr>\n",
       "  </tbody>\n",
       "</table>\n",
       "</div>"
      ],
      "text/plain": [
       "                  Município              Estado  Área territorial  \\\n",
       "0                    Aceguá   Rio Grande do Sul             1.550   \n",
       "1                Acrelândia                Acre             1.575   \n",
       "2                   Alecrim   Rio Grande do Sul           315.000   \n",
       "3                  Almeirim                Pará            72.960   \n",
       "4     Alta Floresta d'Oeste            Rondônia             7.067   \n",
       "5               Alto Alegre             Roraima            25.567   \n",
       "6   Alto Alegre dos Parecis            Rondônia             3.959   \n",
       "7                   Amajari             Roraima            28.472   \n",
       "8              Antônio João  Mato Grosso do Sul             1.144   \n",
       "9              Aral Moreira  Mato Grosso do Sul             1.656   \n",
       "10             Assis Brasil                Acre             2.876   \n",
       "11         Atalaia do Norte            Amazonas            76.355   \n",
       "12                     Bagé   Rio Grande do Sul             4.096   \n",
       "13              Bandeirante      Santa Catarina           146.000   \n",
       "14                 Barcelos            Amazonas           122.476   \n",
       "15          Barra do Quaraí   Rio Grande do Sul             1.056   \n",
       "16                 Barracão              Paraná           164.000   \n",
       "17               Bela Vista  Mato Grosso do Sul             4.896   \n",
       "18                 Belmonte      Santa Catarina            94.000   \n",
       "19        Benjamin Constant            Amazonas             8.793   \n",
       "\n",
       "    População (IBGE/2007) Densidade demográfica (hab/km2) PIB (IBGE/2005  \\\n",
       "0                   4.138                            2,66     71.638.000   \n",
       "1                  11.520                            7,31    114.350.000   \n",
       "2                   7.357                           23,35     44.373.000   \n",
       "3                  30.903                            0,42    462.258.000   \n",
       "4                  23.857                            3,37    186.812.000   \n",
       "5                  14.386                            0,56    115.786.000   \n",
       "6                  11.615                            2,93     90.226.000   \n",
       "7                   7.586                            0,26         31.897   \n",
       "8                   8.350                            7,29     39.989.000   \n",
       "9                   9.236                            5,57    105.697.000   \n",
       "10                  5.351                            1,86     30.298.000   \n",
       "11                 13.682                            0,17     29.028.000   \n",
       "12                112.550                           27,47    906.488.000   \n",
       "13                  3.028                           20,73     21 423.000   \n",
       "14                 24.567                            0,20     72.004.000   \n",
       "15                  3.776                            3,57     61.540.000   \n",
       "16                  9.027                           55,04     60.601.000   \n",
       "17                 22.868                            4,67    132.870.000   \n",
       "18                  2.681                           28,52     21.670.000   \n",
       "19                  9.268                            3,32     82.120.000   \n",
       "\n",
       "   PIB per capita (R$) IDH/2000  \n",
       "0               17.266       ni  \n",
       "1                9.986    0,680  \n",
       "2                5.944    0,743  \n",
       "3               13.485    0,745  \n",
       "4                6.525    0,715  \n",
       "5                5.239    0,662  \n",
       "6                6.001       ni  \n",
       "7            5.240.000    0,654  \n",
       "8                5.067    0,702  \n",
       "9               13 132    0,723  \n",
       "10               5.984    0,670  \n",
       "11               2 570       ni  \n",
       "12               7.473    0,802  \n",
       "13               7 546    0,765  \n",
       "14               2.238       ni  \n",
       "15              14 429    0,777  \n",
       "16               6.718    0,764  \n",
       "17               5.676    0,755  \n",
       "18               9.954    0,759  \n",
       "19               3.135       ni  "
      ]
     },
     "execution_count": 7,
     "metadata": {},
     "output_type": "execute_result"
    }
   ],
   "source": [
    "# exiba todos os dados e verifique se o resultado está correto\n",
    "df.head(20)"
   ]
  },
  {
   "cell_type": "markdown",
   "metadata": {
    "_cell_guid": "bd5ea865-0511-43e5-bff2-581a99a4d316",
    "_uuid": "56a460c7c3c496c677ff505a576b465e2d20a65d"
   },
   "source": [
    "Algumas linhas ainda possuem hífen e números?"
   ]
  },
  {
   "cell_type": "code",
   "execution_count": 8,
   "metadata": {
    "_cell_guid": "58c54230-7bee-4dc6-931c-0e140b0f4a25",
    "_uuid": "198d9ade7917ed29fc2db6ac2cf2880cc07ca0ba"
   },
   "outputs": [
    {
     "name": "stdout",
     "output_type": "stream",
     "text": [
      "0x2d\n",
      "0x2013\n"
     ]
    },
    {
     "data": {
      "text/plain": [
       "False"
      ]
     },
     "execution_count": 8,
     "metadata": {},
     "output_type": "execute_result"
    }
   ],
   "source": [
    "# problemas com caracteres são comuns\n",
    "print(hex(ord('-'))) # código UTF8 do caracter (hexadecimal)\n",
    "print(hex(ord('–'))) # código UTF8 do caracter (hexadecimal)\n",
    "'-' == '–'"
   ]
  },
  {
   "cell_type": "markdown",
   "metadata": {
    "_cell_guid": "fe3928d4-a8c8-41c9-be48-ea4042ee093d",
    "_uuid": "df20b4d97eb0f1c9507e40ae70712b7ed5d77b0f"
   },
   "source": [
    "* HYPHEN-MINUS: __&#x2D;__\n",
    "    * https://www.fileformat.info/info/unicode/char/2d/index.htm\n",
    "* EN DASH: __&#x2013;__\n",
    "    * https://www.fileformat.info/info/unicode/char/2013/index.htm"
   ]
  },
  {
   "cell_type": "code",
   "execution_count": 9,
   "metadata": {
    "_cell_guid": "c76f3bfc-164d-4f73-b23a-9b5375b673ee",
    "_uuid": "5bec3c2d1b5e12dd082e4ab5b9ae42036181515a"
   },
   "outputs": [
    {
     "data": {
      "text/html": [
       "<div>\n",
       "<style scoped>\n",
       "    .dataframe tbody tr th:only-of-type {\n",
       "        vertical-align: middle;\n",
       "    }\n",
       "\n",
       "    .dataframe tbody tr th {\n",
       "        vertical-align: top;\n",
       "    }\n",
       "\n",
       "    .dataframe thead th {\n",
       "        text-align: right;\n",
       "    }\n",
       "</style>\n",
       "<table border=\"1\" class=\"dataframe\">\n",
       "  <thead>\n",
       "    <tr style=\"text-align: right;\">\n",
       "      <th></th>\n",
       "      <th>Município</th>\n",
       "      <th>Estado</th>\n",
       "      <th>Área territorial</th>\n",
       "      <th>População (IBGE/2007)</th>\n",
       "      <th>Densidade demográfica (hab/km2)</th>\n",
       "      <th>PIB (IBGE/2005</th>\n",
       "      <th>PIB per capita (R$)</th>\n",
       "      <th>IDH/2000</th>\n",
       "    </tr>\n",
       "  </thead>\n",
       "  <tbody>\n",
       "    <tr>\n",
       "      <th>0</th>\n",
       "      <td>Aceguá</td>\n",
       "      <td>Rio Grande do Sul</td>\n",
       "      <td>1.550</td>\n",
       "      <td>4.138</td>\n",
       "      <td>2,66</td>\n",
       "      <td>71.638.000</td>\n",
       "      <td>17.266</td>\n",
       "      <td>ni</td>\n",
       "    </tr>\n",
       "    <tr>\n",
       "      <th>1</th>\n",
       "      <td>Acrelândia</td>\n",
       "      <td>Acre</td>\n",
       "      <td>1.575</td>\n",
       "      <td>11.520</td>\n",
       "      <td>7,31</td>\n",
       "      <td>114.350.000</td>\n",
       "      <td>9.986</td>\n",
       "      <td>0,680</td>\n",
       "    </tr>\n",
       "    <tr>\n",
       "      <th>2</th>\n",
       "      <td>Alecrim</td>\n",
       "      <td>Rio Grande do Sul</td>\n",
       "      <td>315.000</td>\n",
       "      <td>7.357</td>\n",
       "      <td>23,35</td>\n",
       "      <td>44.373.000</td>\n",
       "      <td>5.944</td>\n",
       "      <td>0,743</td>\n",
       "    </tr>\n",
       "    <tr>\n",
       "      <th>3</th>\n",
       "      <td>Almeirim</td>\n",
       "      <td>Pará</td>\n",
       "      <td>72.960</td>\n",
       "      <td>30.903</td>\n",
       "      <td>0,42</td>\n",
       "      <td>462.258.000</td>\n",
       "      <td>13.485</td>\n",
       "      <td>0,745</td>\n",
       "    </tr>\n",
       "    <tr>\n",
       "      <th>4</th>\n",
       "      <td>Alta Floresta d'Oeste</td>\n",
       "      <td>Rondônia</td>\n",
       "      <td>7.067</td>\n",
       "      <td>23.857</td>\n",
       "      <td>3,37</td>\n",
       "      <td>186.812.000</td>\n",
       "      <td>6.525</td>\n",
       "      <td>0,715</td>\n",
       "    </tr>\n",
       "    <tr>\n",
       "      <th>...</th>\n",
       "      <td>...</td>\n",
       "      <td>...</td>\n",
       "      <td>...</td>\n",
       "      <td>...</td>\n",
       "      <td>...</td>\n",
       "      <td>...</td>\n",
       "      <td>...</td>\n",
       "      <td>...</td>\n",
       "    </tr>\n",
       "    <tr>\n",
       "      <th>117</th>\n",
       "      <td>Tunápolis</td>\n",
       "      <td>Santa Cataria</td>\n",
       "      <td>133.000</td>\n",
       "      <td>4.650</td>\n",
       "      <td>34,96</td>\n",
       "      <td>40.845.000</td>\n",
       "      <td>9.420</td>\n",
       "      <td>0,821</td>\n",
       "    </tr>\n",
       "    <tr>\n",
       "      <th>118</th>\n",
       "      <td>Uiramutã</td>\n",
       "      <td>Roraima</td>\n",
       "      <td>8.066</td>\n",
       "      <td>7.403</td>\n",
       "      <td>0,91</td>\n",
       "      <td>27.251.000</td>\n",
       "      <td>4.238</td>\n",
       "      <td>0,542</td>\n",
       "    </tr>\n",
       "    <tr>\n",
       "      <th>119</th>\n",
       "      <td>Uruguaiana</td>\n",
       "      <td>Rio Grande do Sul</td>\n",
       "      <td>5.716</td>\n",
       "      <td>123.743</td>\n",
       "      <td>21,64</td>\n",
       "      <td>1.187.038.000</td>\n",
       "      <td>8.798</td>\n",
       "      <td>0,788</td>\n",
       "    </tr>\n",
       "    <tr>\n",
       "      <th>120</th>\n",
       "      <td>Vila Bela da Santíssima Trindade</td>\n",
       "      <td>Mato Grosso</td>\n",
       "      <td>13.631</td>\n",
       "      <td>13.886</td>\n",
       "      <td>1,01</td>\n",
       "      <td>116.908.000</td>\n",
       "      <td>8.047</td>\n",
       "      <td>0,715</td>\n",
       "    </tr>\n",
       "    <tr>\n",
       "      <th>121</th>\n",
       "      <td>Xapuri</td>\n",
       "      <td>Acre</td>\n",
       "      <td>5.251</td>\n",
       "      <td>14.314</td>\n",
       "      <td>2,72</td>\n",
       "      <td>82.377.000</td>\n",
       "      <td>6.016</td>\n",
       "      <td>0,669</td>\n",
       "    </tr>\n",
       "  </tbody>\n",
       "</table>\n",
       "<p>122 rows × 8 columns</p>\n",
       "</div>"
      ],
      "text/plain": [
       "                            Município             Estado  Área territorial  \\\n",
       "0                              Aceguá  Rio Grande do Sul             1.550   \n",
       "1                          Acrelândia               Acre             1.575   \n",
       "2                             Alecrim  Rio Grande do Sul           315.000   \n",
       "3                            Almeirim               Pará            72.960   \n",
       "4               Alta Floresta d'Oeste           Rondônia             7.067   \n",
       "..                                ...                ...               ...   \n",
       "117                         Tunápolis      Santa Cataria           133.000   \n",
       "118                          Uiramutã            Roraima             8.066   \n",
       "119                        Uruguaiana  Rio Grande do Sul             5.716   \n",
       "120  Vila Bela da Santíssima Trindade        Mato Grosso            13.631   \n",
       "121                            Xapuri               Acre             5.251   \n",
       "\n",
       "     População (IBGE/2007) Densidade demográfica (hab/km2) PIB (IBGE/2005  \\\n",
       "0                    4.138                            2,66     71.638.000   \n",
       "1                   11.520                            7,31    114.350.000   \n",
       "2                    7.357                           23,35     44.373.000   \n",
       "3                   30.903                            0,42    462.258.000   \n",
       "4                   23.857                            3,37    186.812.000   \n",
       "..                     ...                             ...            ...   \n",
       "117                  4.650                           34,96     40.845.000   \n",
       "118                  7.403                            0,91     27.251.000   \n",
       "119                123.743                           21,64  1.187.038.000   \n",
       "120                 13.886                            1,01    116.908.000   \n",
       "121                 14.314                            2,72     82.377.000   \n",
       "\n",
       "    PIB per capita (R$) IDH/2000  \n",
       "0                17.266       ni  \n",
       "1                 9.986    0,680  \n",
       "2                 5.944    0,743  \n",
       "3                13.485    0,745  \n",
       "4                 6.525    0,715  \n",
       "..                  ...      ...  \n",
       "117               9.420    0,821  \n",
       "118               4.238    0,542  \n",
       "119               8.798    0,788  \n",
       "120               8.047    0,715  \n",
       "121               6.016    0,669  \n",
       "\n",
       "[122 rows x 8 columns]"
      ]
     },
     "execution_count": 9,
     "metadata": {},
     "output_type": "execute_result"
    }
   ],
   "source": [
    "# com todos os municípios devidamente tratados\n",
    "# sobrescreva a coluna Município com os novos valores\n",
    "\n",
    "# exiba as informações\n",
    "df"
   ]
  },
  {
   "cell_type": "code",
   "execution_count": 10,
   "metadata": {},
   "outputs": [
    {
     "data": {
      "text/plain": [
       "18"
      ]
     },
     "execution_count": 10,
     "metadata": {},
     "output_type": "execute_result"
    }
   ],
   "source": [
    "df[df['IDH/2000'] == 'ni']['IDH/2000'].count()"
   ]
  },
  {
   "cell_type": "markdown",
   "metadata": {
    "_cell_guid": "d4771e57-0194-4d10-a9f3-45dae3713707",
    "_uuid": "9479278402daffba56507bf107311a09ac42a6e1"
   },
   "source": [
    "## EX02\n",
    "\n",
    "Ainda utilizando o DataFrame carregado no exercício anterior, verifique os tipos de dados das colunas do dataframe. Todos os dados numéricos deverão ser transformados para tipos numéricos.\n",
    "\n",
    "* utilize o método info() do DataFrame para saber detalhes dos tipos de dados das colunas\n",
    "* verifique se os números possuem os símbolos de decimal e separadores de milhar compatíveis com a linguagem. Se necessário, fazer as substituições pertinentes."
   ]
  },
  {
   "cell_type": "code",
   "execution_count": 11,
   "metadata": {
    "_cell_guid": "6c2403b5-6b38-48eb-a8d3-e127968db9fb",
    "_uuid": "729bdd9f49676ec2d24e228f75745ae0c5d98978"
   },
   "outputs": [
    {
     "name": "stdout",
     "output_type": "stream",
     "text": [
      "<class 'pandas.core.frame.DataFrame'>\n",
      "RangeIndex: 122 entries, 0 to 121\n",
      "Data columns (total 8 columns):\n",
      " #   Column                           Non-Null Count  Dtype  \n",
      "---  ------                           --------------  -----  \n",
      " 0   Município                        122 non-null    object \n",
      " 1   Estado                           122 non-null    object \n",
      " 2   Área territorial                 122 non-null    float64\n",
      " 3   População (IBGE/2007)            122 non-null    float64\n",
      " 4   Densidade demográfica (hab/km2)  122 non-null    object \n",
      " 5   PIB (IBGE/2005                   122 non-null    object \n",
      " 6   PIB per capita (R$)              122 non-null    object \n",
      " 7   IDH/2000                         122 non-null    object \n",
      "dtypes: float64(2), object(6)\n",
      "memory usage: 7.8+ KB\n"
     ]
    }
   ],
   "source": [
    "# verifique os tipos das colunas do DataFrame. Utilize o método info(): df_muni_front\n",
    "#df.dtypes\n",
    "df.info()"
   ]
  },
  {
   "cell_type": "code",
   "execution_count": 12,
   "metadata": {
    "_cell_guid": "1e00d75e-052b-400f-9d09-40947a35a378",
    "_uuid": "0cf7c5097d2016c7a06b1965878db559e063d278"
   },
   "outputs": [],
   "source": [
    "# faça a conversão do campo 'Área territorial'\n",
    "def converter_para_float(texto):\n",
    "    # faça as operações necessárias e \n",
    "    # devolva um objeto do tipo float\n",
    "    # ou np.NaN (tipo Not a Number do numpy)\n",
    "    t = texto.replace(' ','').replace('.','').replace(',','.');\n",
    "    return float(t)\n",
    "\n",
    "# aplique a função de conversão utilizando o método apply na coluna 'Área territorial'\n",
    "#area_territorial = converter_para_float(df['Área territorial'])\n",
    "# exiba alguns valores da com valores convertidos\n",
    "for var in ['Densidade demográfica (hab/km2)', 'PIB (IBGE/2005', 'PIB per capita (R$)']:\n",
    "    df[var] = df[var].apply(converter_para_float) "
   ]
  },
  {
   "cell_type": "code",
   "execution_count": 13,
   "metadata": {
    "_cell_guid": "994af11a-8e0b-4c64-97ca-7d94e7015c9e",
    "_uuid": "7ba77abc56ca9b80da57a2e921e2d999e29ef058"
   },
   "outputs": [
    {
     "name": "stdout",
     "output_type": "stream",
     "text": [
      "<class 'pandas.core.frame.DataFrame'>\n",
      "RangeIndex: 122 entries, 0 to 121\n",
      "Data columns (total 8 columns):\n",
      " #   Column                           Non-Null Count  Dtype  \n",
      "---  ------                           --------------  -----  \n",
      " 0   Município                        122 non-null    object \n",
      " 1   Estado                           122 non-null    object \n",
      " 2   Área territorial                 122 non-null    float64\n",
      " 3   População (IBGE/2007)            122 non-null    float64\n",
      " 4   Densidade demográfica (hab/km2)  122 non-null    float64\n",
      " 5   PIB (IBGE/2005                   122 non-null    float64\n",
      " 6   PIB per capita (R$)              122 non-null    float64\n",
      " 7   IDH/2000                         122 non-null    object \n",
      "dtypes: float64(5), object(3)\n",
      "memory usage: 7.8+ KB\n"
     ]
    }
   ],
   "source": [
    "# imprima novamente as informações das colunas e verifique os tipos\n",
    "df.info()   "
   ]
  },
  {
   "cell_type": "code",
   "execution_count": 14,
   "metadata": {
    "_cell_guid": "010de7c2-bc87-464a-9d54-61b039e8fa23",
    "_uuid": "2711b7f94452d33e854b834c7a637babb5c77131"
   },
   "outputs": [
    {
     "data": {
      "text/html": [
       "<div>\n",
       "<style scoped>\n",
       "    .dataframe tbody tr th:only-of-type {\n",
       "        vertical-align: middle;\n",
       "    }\n",
       "\n",
       "    .dataframe tbody tr th {\n",
       "        vertical-align: top;\n",
       "    }\n",
       "\n",
       "    .dataframe thead th {\n",
       "        text-align: right;\n",
       "    }\n",
       "</style>\n",
       "<table border=\"1\" class=\"dataframe\">\n",
       "  <thead>\n",
       "    <tr style=\"text-align: right;\">\n",
       "      <th></th>\n",
       "      <th>Município</th>\n",
       "      <th>Estado</th>\n",
       "      <th>Área territorial</th>\n",
       "      <th>População (IBGE/2007)</th>\n",
       "      <th>Densidade demográfica (hab/km2)</th>\n",
       "      <th>PIB (IBGE/2005</th>\n",
       "      <th>PIB per capita (R$)</th>\n",
       "      <th>IDH/2000</th>\n",
       "    </tr>\n",
       "  </thead>\n",
       "  <tbody>\n",
       "    <tr>\n",
       "      <th>0</th>\n",
       "      <td>Aceguá</td>\n",
       "      <td>Rio Grande do Sul</td>\n",
       "      <td>1.550</td>\n",
       "      <td>4.138</td>\n",
       "      <td>2.66</td>\n",
       "      <td>7.163800e+07</td>\n",
       "      <td>17266.0</td>\n",
       "      <td>ni</td>\n",
       "    </tr>\n",
       "    <tr>\n",
       "      <th>1</th>\n",
       "      <td>Acrelândia</td>\n",
       "      <td>Acre</td>\n",
       "      <td>1.575</td>\n",
       "      <td>11.520</td>\n",
       "      <td>7.31</td>\n",
       "      <td>1.143500e+08</td>\n",
       "      <td>9986.0</td>\n",
       "      <td>0,680</td>\n",
       "    </tr>\n",
       "    <tr>\n",
       "      <th>2</th>\n",
       "      <td>Alecrim</td>\n",
       "      <td>Rio Grande do Sul</td>\n",
       "      <td>315.000</td>\n",
       "      <td>7.357</td>\n",
       "      <td>23.35</td>\n",
       "      <td>4.437300e+07</td>\n",
       "      <td>5944.0</td>\n",
       "      <td>0,743</td>\n",
       "    </tr>\n",
       "    <tr>\n",
       "      <th>3</th>\n",
       "      <td>Almeirim</td>\n",
       "      <td>Pará</td>\n",
       "      <td>72.960</td>\n",
       "      <td>30.903</td>\n",
       "      <td>0.42</td>\n",
       "      <td>4.622580e+08</td>\n",
       "      <td>13485.0</td>\n",
       "      <td>0,745</td>\n",
       "    </tr>\n",
       "    <tr>\n",
       "      <th>4</th>\n",
       "      <td>Alta Floresta d'Oeste</td>\n",
       "      <td>Rondônia</td>\n",
       "      <td>7.067</td>\n",
       "      <td>23.857</td>\n",
       "      <td>3.37</td>\n",
       "      <td>1.868120e+08</td>\n",
       "      <td>6525.0</td>\n",
       "      <td>0,715</td>\n",
       "    </tr>\n",
       "    <tr>\n",
       "      <th>...</th>\n",
       "      <td>...</td>\n",
       "      <td>...</td>\n",
       "      <td>...</td>\n",
       "      <td>...</td>\n",
       "      <td>...</td>\n",
       "      <td>...</td>\n",
       "      <td>...</td>\n",
       "      <td>...</td>\n",
       "    </tr>\n",
       "    <tr>\n",
       "      <th>117</th>\n",
       "      <td>Tunápolis</td>\n",
       "      <td>Santa Cataria</td>\n",
       "      <td>133.000</td>\n",
       "      <td>4.650</td>\n",
       "      <td>34.96</td>\n",
       "      <td>4.084500e+07</td>\n",
       "      <td>9420.0</td>\n",
       "      <td>0,821</td>\n",
       "    </tr>\n",
       "    <tr>\n",
       "      <th>118</th>\n",
       "      <td>Uiramutã</td>\n",
       "      <td>Roraima</td>\n",
       "      <td>8.066</td>\n",
       "      <td>7.403</td>\n",
       "      <td>0.91</td>\n",
       "      <td>2.725100e+07</td>\n",
       "      <td>4238.0</td>\n",
       "      <td>0,542</td>\n",
       "    </tr>\n",
       "    <tr>\n",
       "      <th>119</th>\n",
       "      <td>Uruguaiana</td>\n",
       "      <td>Rio Grande do Sul</td>\n",
       "      <td>5.716</td>\n",
       "      <td>123.743</td>\n",
       "      <td>21.64</td>\n",
       "      <td>1.187038e+09</td>\n",
       "      <td>8798.0</td>\n",
       "      <td>0,788</td>\n",
       "    </tr>\n",
       "    <tr>\n",
       "      <th>120</th>\n",
       "      <td>Vila Bela da Santíssima Trindade</td>\n",
       "      <td>Mato Grosso</td>\n",
       "      <td>13.631</td>\n",
       "      <td>13.886</td>\n",
       "      <td>1.01</td>\n",
       "      <td>1.169080e+08</td>\n",
       "      <td>8047.0</td>\n",
       "      <td>0,715</td>\n",
       "    </tr>\n",
       "    <tr>\n",
       "      <th>121</th>\n",
       "      <td>Xapuri</td>\n",
       "      <td>Acre</td>\n",
       "      <td>5.251</td>\n",
       "      <td>14.314</td>\n",
       "      <td>2.72</td>\n",
       "      <td>8.237700e+07</td>\n",
       "      <td>6016.0</td>\n",
       "      <td>0,669</td>\n",
       "    </tr>\n",
       "  </tbody>\n",
       "</table>\n",
       "<p>122 rows × 8 columns</p>\n",
       "</div>"
      ],
      "text/plain": [
       "                            Município             Estado  Área territorial  \\\n",
       "0                              Aceguá  Rio Grande do Sul             1.550   \n",
       "1                          Acrelândia               Acre             1.575   \n",
       "2                             Alecrim  Rio Grande do Sul           315.000   \n",
       "3                            Almeirim               Pará            72.960   \n",
       "4               Alta Floresta d'Oeste           Rondônia             7.067   \n",
       "..                                ...                ...               ...   \n",
       "117                         Tunápolis      Santa Cataria           133.000   \n",
       "118                          Uiramutã            Roraima             8.066   \n",
       "119                        Uruguaiana  Rio Grande do Sul             5.716   \n",
       "120  Vila Bela da Santíssima Trindade        Mato Grosso            13.631   \n",
       "121                            Xapuri               Acre             5.251   \n",
       "\n",
       "     População (IBGE/2007)  Densidade demográfica (hab/km2)  PIB (IBGE/2005  \\\n",
       "0                    4.138                             2.66    7.163800e+07   \n",
       "1                   11.520                             7.31    1.143500e+08   \n",
       "2                    7.357                            23.35    4.437300e+07   \n",
       "3                   30.903                             0.42    4.622580e+08   \n",
       "4                   23.857                             3.37    1.868120e+08   \n",
       "..                     ...                              ...             ...   \n",
       "117                  4.650                            34.96    4.084500e+07   \n",
       "118                  7.403                             0.91    2.725100e+07   \n",
       "119                123.743                            21.64    1.187038e+09   \n",
       "120                 13.886                             1.01    1.169080e+08   \n",
       "121                 14.314                             2.72    8.237700e+07   \n",
       "\n",
       "     PIB per capita (R$) IDH/2000  \n",
       "0                17266.0       ni  \n",
       "1                 9986.0    0,680  \n",
       "2                 5944.0    0,743  \n",
       "3                13485.0    0,745  \n",
       "4                 6525.0    0,715  \n",
       "..                   ...      ...  \n",
       "117               9420.0    0,821  \n",
       "118               4238.0    0,542  \n",
       "119               8798.0    0,788  \n",
       "120               8047.0    0,715  \n",
       "121               6016.0    0,669  \n",
       "\n",
       "[122 rows x 8 columns]"
      ]
     },
     "execution_count": 14,
     "metadata": {},
     "output_type": "execute_result"
    }
   ],
   "source": [
    "# imprima novamente as primeiras linhas do DataFrame\n",
    "df"
   ]
  },
  {
   "cell_type": "markdown",
   "metadata": {
    "_cell_guid": "0b51b658-ce93-499d-b10f-5f1a25d26011",
    "_uuid": "615a6f315a68fbca217556d6e75dddd22a5ffd4e"
   },
   "source": [
    "## EX03\n",
    "\n"
   ]
  },
  {
   "cell_type": "markdown",
   "metadata": {
    "_cell_guid": "374c37b5-4aa2-4bfa-8be6-669eab27d1a3",
    "_uuid": "b9ac21083f6a4ea233083db91a3842367b80f14b"
   },
   "source": [
    "Crie uma coluna com a sigla dos estados.\n",
    "\n",
    "* crie um set à partir da coluna Estados. Atribua a uma variável chamada __nomes_estados__."
   ]
  },
  {
   "cell_type": "code",
   "execution_count": 15,
   "metadata": {
    "_cell_guid": "46a2d3c6-62e4-4683-8072-06fc077dfc10",
    "_uuid": "d7c65fa4c8e4a6510d4279cb5a2b4f28926fc1e1"
   },
   "outputs": [
    {
     "data": {
      "text/plain": [
       "{'Acre',\n",
       " 'Amapá',\n",
       " 'Amazonas',\n",
       " 'Mato Grosso',\n",
       " 'Mato Grosso do Sul',\n",
       " 'Paraná',\n",
       " 'Pará',\n",
       " 'Rio Grande do Sul',\n",
       " 'Rondônia',\n",
       " 'Roraima',\n",
       " 'Santa Cataria',\n",
       " 'Santa Catarina'}"
      ]
     },
     "execution_count": 15,
     "metadata": {},
     "output_type": "execute_result"
    }
   ],
   "source": [
    "# crie o set e verifique o seu conteúdo\n",
    "nomes_estados = set(df['Estado'])\n",
    "#nomes_estados = df['Estado'].unique()\n",
    "\n",
    "# exiba o set gerado\n",
    "nomes_estados"
   ]
  },
  {
   "cell_type": "markdown",
   "metadata": {
    "_cell_guid": "31d26e63-3b8b-4d9b-a872-a3601460c563",
    "_uuid": "44e194136d9c6c8db59c88d7e45af5ce180f6d4e",
    "collapsed": true
   },
   "source": [
    "Você identificou um problema no nome dos estados?\n",
    "Vamos corrigir no final.\n",
    "\n",
    "* crie um dicionário onde o nome completo do estado é a chave e a sigla é o valor: __dic_nomes_siglas__"
   ]
  },
  {
   "cell_type": "code",
   "execution_count": 16,
   "metadata": {
    "_cell_guid": "56d8cadb-4ddb-45be-a6f9-3b0bdc371109",
    "_uuid": "1f371e8ecfa75658283be041b7bc6bd3d6fdc979"
   },
   "outputs": [
    {
     "data": {
      "text/plain": [
       "{'Acre': 'AC',\n",
       " 'Amapá': 'AP',\n",
       " 'Amazonas': 'AM',\n",
       " 'Mato Grosso': 'MT',\n",
       " 'Mato Grosso do Sul': 'MS',\n",
       " 'Paraná': 'PR',\n",
       " 'Pará': 'PA',\n",
       " 'Rio Grande do Sul': 'RS',\n",
       " 'Rondônia': 'RO',\n",
       " 'Roraima': 'RR',\n",
       " 'Santa Cataria': 'SC',\n",
       " 'Santa Catarina': 'SC'}"
      ]
     },
     "execution_count": 16,
     "metadata": {},
     "output_type": "execute_result"
    }
   ],
   "source": [
    "# crie o dicionário\n",
    "dic_nomes_siglas = {\n",
    "    'Acre': 'AC',\n",
    "    'Amapá': 'AP',\n",
    "    'Amazonas': 'AM',\n",
    "    'Mato Grosso': 'MT',\n",
    "    'Mato Grosso do Sul': 'MS',\n",
    "    'Paraná': 'PR',\n",
    "    'Pará': 'PA',\n",
    "    'Rio Grande do Sul': 'RS',\n",
    "    'Rondônia': 'RO',\n",
    "    'Roraima': 'RR',\n",
    "    'Santa Cataria': 'SC',\n",
    "    'Santa Catarina': 'SC'\n",
    "}\n",
    "\n",
    "dic_nomes_siglas"
   ]
  },
  {
   "cell_type": "markdown",
   "metadata": {
    "_cell_guid": "b1aa234c-0638-4691-8257-03714dbf0dc9",
    "_uuid": "08005d6e6fd93135b1c6b0c0845b12c27fabb0a2",
    "collapsed": true
   },
   "source": [
    "* utilize a função map do DataFrame para criar uma nova coluna de siglas à partir dos nomes dos estados. Passe o dicionário criado para a função map. Atribua a Série criada à variável __coluna_siglas_uf__."
   ]
  },
  {
   "cell_type": "code",
   "execution_count": 17,
   "metadata": {
    "_cell_guid": "e5072af4-feb7-49c8-9fe4-5ce9a0828d08",
    "_uuid": "8ab2f735220d0ddf9c9160d4b40bc232a3496987"
   },
   "outputs": [
    {
     "data": {
      "text/plain": [
       "0    RS\n",
       "1    AC\n",
       "2    RS\n",
       "3    PA\n",
       "4    RO\n",
       "5    RR\n",
       "6    RO\n",
       "7    RR\n",
       "8    MS\n",
       "9    MS\n",
       "Name: Estado, dtype: object"
      ]
     },
     "execution_count": 17,
     "metadata": {},
     "output_type": "execute_result"
    }
   ],
   "source": [
    "# faça o mapeamento dos valores e atribua a : coluna_siglas_uf\n",
    "coluna_siglas_uf = df['Estado'].map(dic_nomes_siglas)\n",
    "\n",
    "# verifique os 10 primeiros itens criados\n",
    "coluna_siglas_uf.head(10)"
   ]
  },
  {
   "cell_type": "code",
   "execution_count": 18,
   "metadata": {
    "_cell_guid": "c6ceb8d9-6ddc-48fa-94a9-12ce7d002e77",
    "_uuid": "7a7bcb0b314237a97edd5a5d754cfb26ed51b129"
   },
   "outputs": [
    {
     "data": {
      "text/html": [
       "<div>\n",
       "<style scoped>\n",
       "    .dataframe tbody tr th:only-of-type {\n",
       "        vertical-align: middle;\n",
       "    }\n",
       "\n",
       "    .dataframe tbody tr th {\n",
       "        vertical-align: top;\n",
       "    }\n",
       "\n",
       "    .dataframe thead th {\n",
       "        text-align: right;\n",
       "    }\n",
       "</style>\n",
       "<table border=\"1\" class=\"dataframe\">\n",
       "  <thead>\n",
       "    <tr style=\"text-align: right;\">\n",
       "      <th></th>\n",
       "      <th>Município</th>\n",
       "      <th>Estado</th>\n",
       "      <th>Área territorial</th>\n",
       "      <th>População (IBGE/2007)</th>\n",
       "      <th>Densidade demográfica (hab/km2)</th>\n",
       "      <th>PIB (IBGE/2005</th>\n",
       "      <th>PIB per capita (R$)</th>\n",
       "      <th>IDH/2000</th>\n",
       "      <th>Sigla</th>\n",
       "    </tr>\n",
       "  </thead>\n",
       "  <tbody>\n",
       "    <tr>\n",
       "      <th>0</th>\n",
       "      <td>Aceguá</td>\n",
       "      <td>Rio Grande do Sul</td>\n",
       "      <td>1.550</td>\n",
       "      <td>4.138</td>\n",
       "      <td>2.66</td>\n",
       "      <td>71638000.0</td>\n",
       "      <td>17266.0</td>\n",
       "      <td>ni</td>\n",
       "      <td>RS</td>\n",
       "    </tr>\n",
       "    <tr>\n",
       "      <th>1</th>\n",
       "      <td>Acrelândia</td>\n",
       "      <td>Acre</td>\n",
       "      <td>1.575</td>\n",
       "      <td>11.520</td>\n",
       "      <td>7.31</td>\n",
       "      <td>114350000.0</td>\n",
       "      <td>9986.0</td>\n",
       "      <td>0,680</td>\n",
       "      <td>AC</td>\n",
       "    </tr>\n",
       "    <tr>\n",
       "      <th>2</th>\n",
       "      <td>Alecrim</td>\n",
       "      <td>Rio Grande do Sul</td>\n",
       "      <td>315.000</td>\n",
       "      <td>7.357</td>\n",
       "      <td>23.35</td>\n",
       "      <td>44373000.0</td>\n",
       "      <td>5944.0</td>\n",
       "      <td>0,743</td>\n",
       "      <td>RS</td>\n",
       "    </tr>\n",
       "    <tr>\n",
       "      <th>3</th>\n",
       "      <td>Almeirim</td>\n",
       "      <td>Pará</td>\n",
       "      <td>72.960</td>\n",
       "      <td>30.903</td>\n",
       "      <td>0.42</td>\n",
       "      <td>462258000.0</td>\n",
       "      <td>13485.0</td>\n",
       "      <td>0,745</td>\n",
       "      <td>PA</td>\n",
       "    </tr>\n",
       "    <tr>\n",
       "      <th>4</th>\n",
       "      <td>Alta Floresta d'Oeste</td>\n",
       "      <td>Rondônia</td>\n",
       "      <td>7.067</td>\n",
       "      <td>23.857</td>\n",
       "      <td>3.37</td>\n",
       "      <td>186812000.0</td>\n",
       "      <td>6525.0</td>\n",
       "      <td>0,715</td>\n",
       "      <td>RO</td>\n",
       "    </tr>\n",
       "  </tbody>\n",
       "</table>\n",
       "</div>"
      ],
      "text/plain": [
       "               Município             Estado  Área territorial  \\\n",
       "0                 Aceguá  Rio Grande do Sul             1.550   \n",
       "1             Acrelândia               Acre             1.575   \n",
       "2                Alecrim  Rio Grande do Sul           315.000   \n",
       "3               Almeirim               Pará            72.960   \n",
       "4  Alta Floresta d'Oeste           Rondônia             7.067   \n",
       "\n",
       "   População (IBGE/2007)  Densidade demográfica (hab/km2)  PIB (IBGE/2005  \\\n",
       "0                  4.138                             2.66      71638000.0   \n",
       "1                 11.520                             7.31     114350000.0   \n",
       "2                  7.357                            23.35      44373000.0   \n",
       "3                 30.903                             0.42     462258000.0   \n",
       "4                 23.857                             3.37     186812000.0   \n",
       "\n",
       "   PIB per capita (R$) IDH/2000 Sigla  \n",
       "0              17266.0       ni    RS  \n",
       "1               9986.0    0,680    AC  \n",
       "2               5944.0    0,743    RS  \n",
       "3              13485.0    0,745    PA  \n",
       "4               6525.0    0,715    RO  "
      ]
     },
     "execution_count": 18,
     "metadata": {},
     "output_type": "execute_result"
    }
   ],
   "source": [
    "# crie a coluna sigla\n",
    "df['Sigla'] = coluna_siglas_uf\n",
    "# verifique as informações do dataframe\n",
    "df.head()"
   ]
  },
  {
   "cell_type": "code",
   "execution_count": 19,
   "metadata": {
    "_cell_guid": "4d0418af-8a8d-401c-bf20-34e41cacfb51",
    "_uuid": "044423509d996588bc1b3834f750535f17f232eb"
   },
   "outputs": [
    {
     "data": {
      "text/html": [
       "<div>\n",
       "<style scoped>\n",
       "    .dataframe tbody tr th:only-of-type {\n",
       "        vertical-align: middle;\n",
       "    }\n",
       "\n",
       "    .dataframe tbody tr th {\n",
       "        vertical-align: top;\n",
       "    }\n",
       "\n",
       "    .dataframe thead th {\n",
       "        text-align: right;\n",
       "    }\n",
       "</style>\n",
       "<table border=\"1\" class=\"dataframe\">\n",
       "  <thead>\n",
       "    <tr style=\"text-align: right;\">\n",
       "      <th></th>\n",
       "      <th>Município</th>\n",
       "      <th>Estado</th>\n",
       "      <th>Área territorial</th>\n",
       "      <th>População (IBGE/2007)</th>\n",
       "      <th>Densidade demográfica (hab/km2)</th>\n",
       "      <th>PIB (IBGE/2005</th>\n",
       "      <th>PIB per capita (R$)</th>\n",
       "      <th>IDH/2000</th>\n",
       "      <th>Sigla</th>\n",
       "    </tr>\n",
       "  </thead>\n",
       "  <tbody>\n",
       "    <tr>\n",
       "      <th>117</th>\n",
       "      <td>Tunápolis</td>\n",
       "      <td>Santa Cataria</td>\n",
       "      <td>133.0</td>\n",
       "      <td>4.65</td>\n",
       "      <td>34.96</td>\n",
       "      <td>40845000.0</td>\n",
       "      <td>9420.0</td>\n",
       "      <td>0,821</td>\n",
       "      <td>SC</td>\n",
       "    </tr>\n",
       "  </tbody>\n",
       "</table>\n",
       "</div>"
      ],
      "text/plain": [
       "     Município         Estado  Área territorial  População (IBGE/2007)  \\\n",
       "117  Tunápolis  Santa Cataria             133.0                   4.65   \n",
       "\n",
       "     Densidade demográfica (hab/km2)  PIB (IBGE/2005  PIB per capita (R$)  \\\n",
       "117                            34.96      40845000.0               9420.0   \n",
       "\n",
       "    IDH/2000 Sigla  \n",
       "117    0,821    SC  "
      ]
     },
     "execution_count": 19,
     "metadata": {},
     "output_type": "execute_result"
    }
   ],
   "source": [
    "# verifique quantos registros possuem o nome do estado de Santa Catarina escrito errado \"Santa Cataria\"\n",
    "df[df['Estado'] == 'Santa Cataria']"
   ]
  },
  {
   "cell_type": "code",
   "execution_count": 20,
   "metadata": {
    "_cell_guid": "a1ccabd9-c5ff-4eb9-bf7c-bda1aa0529ea",
    "_uuid": "7696445696d7e9eb78eb1c6bdd8a1a13f02349f2"
   },
   "outputs": [],
   "source": [
    "# faça a correção dos registros que possuem o nome do estado de Santa Catarina escrito errado\n",
    "df.loc[df['Estado'] == 'Santa Cataria', 'Estado'] = 'Santa Catarina'"
   ]
  },
  {
   "cell_type": "code",
   "execution_count": 21,
   "metadata": {
    "_cell_guid": "e8fa02e3-b8cd-4359-bbe7-3e6f8b4fb357",
    "_uuid": "5a65cf270a1ddc18bbaf6621165451a053ee40b5"
   },
   "outputs": [
    {
     "data": {
      "text/html": [
       "<div>\n",
       "<style scoped>\n",
       "    .dataframe tbody tr th:only-of-type {\n",
       "        vertical-align: middle;\n",
       "    }\n",
       "\n",
       "    .dataframe tbody tr th {\n",
       "        vertical-align: top;\n",
       "    }\n",
       "\n",
       "    .dataframe thead th {\n",
       "        text-align: right;\n",
       "    }\n",
       "</style>\n",
       "<table border=\"1\" class=\"dataframe\">\n",
       "  <thead>\n",
       "    <tr style=\"text-align: right;\">\n",
       "      <th></th>\n",
       "      <th>Município</th>\n",
       "      <th>Estado</th>\n",
       "      <th>Área territorial</th>\n",
       "      <th>População (IBGE/2007)</th>\n",
       "      <th>Densidade demográfica (hab/km2)</th>\n",
       "      <th>PIB (IBGE/2005</th>\n",
       "      <th>PIB per capita (R$)</th>\n",
       "      <th>IDH/2000</th>\n",
       "      <th>Sigla</th>\n",
       "    </tr>\n",
       "  </thead>\n",
       "  <tbody>\n",
       "  </tbody>\n",
       "</table>\n",
       "</div>"
      ],
      "text/plain": [
       "Empty DataFrame\n",
       "Columns: [Município, Estado, Área territorial, População (IBGE/2007), Densidade demográfica (hab/km2), PIB (IBGE/2005, PIB per capita (R$), IDH/2000, Sigla]\n",
       "Index: []"
      ]
     },
     "execution_count": 21,
     "metadata": {},
     "output_type": "execute_result"
    }
   ],
   "source": [
    "# verifique, novamente, quantos registros possuem o nome do estado de Santa Catarina escrito errado\n",
    "df[df['Estado'] == 'Santa Cataria']"
   ]
  },
  {
   "cell_type": "markdown",
   "metadata": {
    "_cell_guid": "d7e95bee-f6b4-4fdf-b081-d2f88deee639",
    "_uuid": "6993c3a51684954096c1c576e691ab765ca92789"
   },
   "source": [
    "## EX04\n",
    "\n",
    "Identifique quais municípios possuem 2 ou mais desvios na coluna PIB."
   ]
  },
  {
   "cell_type": "code",
   "execution_count": 22,
   "metadata": {
    "_cell_guid": "f3156174-f3e0-437b-a067-c1a84232e3e8",
    "_uuid": "d7b583789ae6ce38f10b63a94ef06491cab6c654"
   },
   "outputs": [
    {
     "name": "stderr",
     "output_type": "stream",
     "text": [
      "C:\\Users\\rober\\anaconda3\\lib\\site-packages\\seaborn\\distributions.py:2551: FutureWarning: `distplot` is a deprecated function and will be removed in a future version. Please adapt your code to use either `displot` (a figure-level function with similar flexibility) or `histplot` (an axes-level function for histograms).\n",
      "  warnings.warn(msg, FutureWarning)\n"
     ]
    },
    {
     "data": {
      "image/png": "[encoded data removed]",
      "text/plain": [
       "<Figure size 1080x432 with 1 Axes>"
      ]
     },
     "metadata": {
      "needs_background": "light"
     },
     "output_type": "display_data"
    }
   ],
   "source": [
    "# Normalize a coluna PIB em quantidade de desvios padrão\n",
    "## x = ( valor - média da coluna ) / desvio padrão da coluna \n",
    "## Usaremos a função lambda\n",
    "### (df['PIB (IBGE/2005'] - df['PIB (IBGE/2005'].mean())/df['PIB (IBGE/2005'].std()\n",
    "#### Se x == 0: média\n",
    "#### Se x < 0 : à esq da média (desvio negativo)\n",
    "#### Se x > 0 : à dir da média (desvio positivo)\n",
    "pib_desvios = df['PIB (IBGE/2005'].apply(lambda x: (x - df['PIB (IBGE/2005'].mean())/df['PIB (IBGE/2005'].std())\n",
    "# exiba um histograma para as informações de PIB normalizado\n",
    "plt.figure(figsize=(15,6))\n",
    "sns.distplot(pib_desvios.dropna(), bins=50)\n",
    "plt.xlabel('PIB (Quanidade de Desvios)')\n",
    "plt.ylabel('Frequência')\n",
    "\n",
    "plt.show()"
   ]
  },
  {
   "cell_type": "markdown",
   "metadata": {},
   "source": [
    "- Quais PIBs estão elevados? À direita da média?"
   ]
  },
  {
   "cell_type": "code",
   "execution_count": 23,
   "metadata": {
    "_cell_guid": "79a7e0cb-04c6-4b5b-aedd-19c850fc242b",
    "_uuid": "2d706dc1346c0cb8671844ce9881b7fa032cfd07",
    "scrolled": true
   },
   "outputs": [
    {
     "data": {
      "text/html": [
       "<div>\n",
       "<style scoped>\n",
       "    .dataframe tbody tr th:only-of-type {\n",
       "        vertical-align: middle;\n",
       "    }\n",
       "\n",
       "    .dataframe tbody tr th {\n",
       "        vertical-align: top;\n",
       "    }\n",
       "\n",
       "    .dataframe thead th {\n",
       "        text-align: right;\n",
       "    }\n",
       "</style>\n",
       "<table border=\"1\" class=\"dataframe\">\n",
       "  <thead>\n",
       "    <tr style=\"text-align: right;\">\n",
       "      <th></th>\n",
       "      <th>Município</th>\n",
       "      <th>Estado</th>\n",
       "      <th>Área territorial</th>\n",
       "      <th>População (IBGE/2007)</th>\n",
       "      <th>Densidade demográfica (hab/km2)</th>\n",
       "      <th>PIB (IBGE/2005</th>\n",
       "      <th>PIB per capita (R$)</th>\n",
       "      <th>IDH/2000</th>\n",
       "      <th>Sigla</th>\n",
       "      <th>pib_desvios</th>\n",
       "    </tr>\n",
       "  </thead>\n",
       "  <tbody>\n",
       "    <tr>\n",
       "      <th>33</th>\n",
       "      <td>Corumbá</td>\n",
       "      <td>Mato Grosso do Sul</td>\n",
       "      <td>65.304</td>\n",
       "      <td>114.279</td>\n",
       "      <td>1.74</td>\n",
       "      <td>1.557253e+09</td>\n",
       "      <td>13234.0</td>\n",
       "      <td>0,771</td>\n",
       "      <td>MS</td>\n",
       "      <td>2.323594</td>\n",
       "    </tr>\n",
       "    <tr>\n",
       "      <th>45</th>\n",
       "      <td>Foz do Iguaçu</td>\n",
       "      <td>Paraná</td>\n",
       "      <td>618.000</td>\n",
       "      <td>311.336</td>\n",
       "      <td>503.70</td>\n",
       "      <td>4.853331e+09</td>\n",
       "      <td>16102.0</td>\n",
       "      <td>0,802</td>\n",
       "      <td>PR</td>\n",
       "      <td>8.051502</td>\n",
       "    </tr>\n",
       "    <tr>\n",
       "      <th>89</th>\n",
       "      <td>Porto Velho</td>\n",
       "      <td>Rondônia</td>\n",
       "      <td>34.082</td>\n",
       "      <td>369.345</td>\n",
       "      <td>10.83</td>\n",
       "      <td>3.656512e+09</td>\n",
       "      <td>9779.0</td>\n",
       "      <td>0,763</td>\n",
       "      <td>RO</td>\n",
       "      <td>5.971676</td>\n",
       "    </tr>\n",
       "  </tbody>\n",
       "</table>\n",
       "</div>"
      ],
      "text/plain": [
       "        Município              Estado  Área territorial  \\\n",
       "33        Corumbá  Mato Grosso do Sul            65.304   \n",
       "45  Foz do Iguaçu              Paraná           618.000   \n",
       "89    Porto Velho            Rondônia            34.082   \n",
       "\n",
       "    População (IBGE/2007)  Densidade demográfica (hab/km2)  PIB (IBGE/2005  \\\n",
       "33                114.279                             1.74    1.557253e+09   \n",
       "45                311.336                           503.70    4.853331e+09   \n",
       "89                369.345                            10.83    3.656512e+09   \n",
       "\n",
       "    PIB per capita (R$) IDH/2000 Sigla  pib_desvios  \n",
       "33              13234.0    0,771    MS     2.323594  \n",
       "45              16102.0    0,802    PR     8.051502  \n",
       "89               9779.0    0,763    RO     5.971676  "
      ]
     },
     "execution_count": 23,
     "metadata": {},
     "output_type": "execute_result"
    }
   ],
   "source": [
    "# quais cidades possuem mais de 2 desvios \n",
    "df['pib_desvios'] = pib_desvios\n",
    "\n",
    "df[df['pib_desvios'] > 2] # PIBs mais elevados da base de dados"
   ]
  },
  {
   "cell_type": "markdown",
   "metadata": {
    "_cell_guid": "bd332a8f-cf37-4b1f-b5c2-774a712ab72e",
    "_uuid": "597da108f425bece84a79ebe54bc89b9ab082f51"
   },
   "source": [
    "## EX05\n",
    "\n",
    "Perguntas rápidas."
   ]
  },
  {
   "cell_type": "code",
   "execution_count": 31,
   "metadata": {
    "_cell_guid": "131f6daa-ef23-49bd-900e-06e41c4e8abb",
    "_uuid": "04e27776a37ab7dc430a914e1072b2b718b1082c"
   },
   "outputs": [
    {
     "data": {
      "text/plain": [
       "18"
      ]
     },
     "execution_count": 31,
     "metadata": {},
     "output_type": "execute_result"
    }
   ],
   "source": [
    "# Quantos registros possuem NaN na coluna IDH/2000?\n",
    "len(df.loc[df['IDH/2000'] == 'ni'])\n",
    "#df[df['IDH/2000'] == 'ni']['IDH/2000'].count()"
   ]
  },
  {
   "cell_type": "code",
   "execution_count": 28,
   "metadata": {
    "_cell_guid": "c5725eab-eafa-475d-8ad3-d5406946593a",
    "_uuid": "9b199fdf9def43a7393e130e88b7f9eb7ac64fe8"
   },
   "outputs": [
    {
     "data": {
      "text/plain": [
       "Rio Grande do Sul     29\n",
       "Acre                  17\n",
       "Paraná                17\n",
       "Mato Grosso do Sul    12\n",
       "Santa Catarina        10\n",
       "Rondônia               9\n",
       "Amazonas               9\n",
       "Roraima                9\n",
       "Mato Grosso            5\n",
       "Pará                   3\n",
       "Amapá                  2\n",
       "Name: Estado, dtype: int64"
      ]
     },
     "execution_count": 28,
     "metadata": {},
     "output_type": "execute_result"
    }
   ],
   "source": [
    "# Quantas cidades por estado?\n",
    "df.Estado.value_counts()"
   ]
  },
  {
   "cell_type": "code",
   "execution_count": 32,
   "metadata": {
    "_cell_guid": "cbca5114-87a7-4fd5-ae14-2f25bbc8fbf2",
    "_uuid": "6fc6b93e528d3ac71e6229c61de29d72d21eaeba"
   },
   "outputs": [
    {
     "ename": "NameError",
     "evalue": "name 'by' is not defined",
     "output_type": "error",
     "traceback": [
      "\u001b[1;31m---------------------------------------------------------------------------\u001b[0m",
      "\u001b[1;31mNameError\u001b[0m                                 Traceback (most recent call last)",
      "\u001b[1;32m<ipython-input-32-296c2e35ec21>\u001b[0m in \u001b[0;36m<module>\u001b[1;34m\u001b[0m\n\u001b[0;32m      1\u001b[0m \u001b[1;31m# Faça a ordenação do DataFrame pelo nome do município\u001b[0m\u001b[1;33m\u001b[0m\u001b[1;33m\u001b[0m\u001b[1;33m\u001b[0m\u001b[0m\n\u001b[1;32m----> 2\u001b[1;33m \u001b[0mdf\u001b[0m\u001b[1;33m.\u001b[0m\u001b[0msort_values\u001b[0m\u001b[1;33m(\u001b[0m\u001b[0mby\u001b[0m\u001b[1;33m[\u001b[0m\u001b[1;34m'Municipio'\u001b[0m\u001b[1;33m]\u001b[0m\u001b[1;33m)\u001b[0m\u001b[1;33m\u001b[0m\u001b[1;33m\u001b[0m\u001b[0m\n\u001b[0m\u001b[0;32m      3\u001b[0m \u001b[1;33m\u001b[0m\u001b[0m\n\u001b[0;32m      4\u001b[0m \u001b[1;31m# A ordenação está correta?\u001b[0m\u001b[1;33m\u001b[0m\u001b[1;33m\u001b[0m\u001b[1;33m\u001b[0m\u001b[0m\n\u001b[0;32m      5\u001b[0m \u001b[1;31m#Não. A cidade de Óbidos, acentuada, ficou incorretame\u001b[0m\u001b[1;33m\u001b[0m\u001b[1;33m\u001b[0m\u001b[1;33m\u001b[0m\u001b[0m\n",
      "\u001b[1;31mNameError\u001b[0m: name 'by' is not defined"
     ]
    }
   ],
   "source": [
    "# Faça a ordenação do DataFrame pelo nome do município\n",
    "df.sort_values(by['Municipio'])\n",
    "\n",
    "# A ordenação está correta?\n",
    "#Não. A cidade de Óbidos, acentuada, ficou incorretame"
   ]
  },
  {
   "cell_type": "markdown",
   "metadata": {
    "_cell_guid": "e8774dac-5cb3-429f-9907-cb832867c55a",
    "_uuid": "42a183745072f47eb2e9290a478706bf403d9057"
   },
   "source": []
  }
 ],
 "metadata": {
  "accelerator": "GPU",
  "colab": {
   "collapsed_sections": [],
   "default_view": {},
   "name": "aula_03_01_python_basico.ipynb",
   "private_outputs": true,
   "provenance": [],
   "version": "0.3.2",
   "views": {}
  },
  "kernelspec": {
   "display_name": "Python 3",
   "language": "python",
   "name": "python3"
  },
  "language_info": {
   "codemirror_mode": {
    "name": "ipython",
    "version": 3
   },
   "file_extension": ".py",
   "mimetype": "text/x-python",
   "name": "python",
   "nbconvert_exporter": "python",
   "pygments_lexer": "ipython3",
   "version": "3.8.5"
  }
 },
 "nbformat": 4,
 "nbformat_minor": 1
}
